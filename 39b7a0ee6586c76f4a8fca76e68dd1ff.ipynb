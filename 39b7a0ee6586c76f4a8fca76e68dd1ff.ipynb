{
 "cells": [
  {
   "cell_type": "markdown",
   "metadata": {
    "deletable": false,
    "editable": false,
    "nbgrader": {
     "cell_type": "markdown",
     "checksum": "ac8aee11a3d67476b416e9ab4e4fb07e",
     "grade": false,
     "grade_id": "cell-f4ccfb3ce6b69253",
     "locked": true,
     "schema_version": 3,
     "solution": false,
     "task": false
    }
   },
   "source": [
    "# Tutorial 4: Effective Data Visualization \n",
    "\n",
    "### Lecture and Tutorial Learning Goals:\n",
    "\n",
    "Expand your data visualization knowledge and tool set beyond what we have seen and practiced so far. We will move beyond scatter plots and learn other effective ways to visualize data, as well as some general rules of thumb to follow when creating visualizations. All visualization tasks this week will be applied to real world data sets.\n",
    "\n",
    "After completing this week's lecture and tutorial work, you will be able to:\n",
    "\n",
    "- Describe when to use the following kinds of visualizations:\n",
    "    - scatter plots\n",
    "    - line plots\n",
    "    - bar plots\n",
    "- Given a dataset and a question, select from the above plot types to create a visualization that best answers the question\n",
    "- Given a visualization and a question, evaluate the effectiveness of the visualization and suggest improvements to better answer the question\n",
    "- Identify rules of thumb for creating effective visualizations\n",
    "- Define the two key aspects of altair objects:\n",
    "    - mark objects\n",
    "    - encodings\n",
    "- Use the `altair` library in Python to create and refine the above visualizations using:\n",
    "    - mark objects: `mark_point`, `mark_line`, `mark_bar`\n",
    "    - encodings : `x`, `y`, `color`, `shape`\n",
    "    - subplots: `facet`\n",
    "- Describe the difference in raster and vector output formats\n",
    "- Use `save` to save visualizations in `png` and `svg` formats\n",
    "\n",
    "This tutorial covers parts of [Chapter 4](https://python.datasciencebook.ca/viz.html) of the online textbook. You should read this chapter before attempting the worksheet.\n",
    "Any place you see `___`, you must fill in the function, variable, or data to complete the code. Substitute the `raise NotImplementedError` with your completed code and answers then proceed to run the cell!"
   ]
  },
  {
   "cell_type": "code",
   "execution_count": 1,
   "metadata": {
    "deletable": false,
    "editable": false,
    "nbgrader": {
     "cell_type": "code",
     "checksum": "23c70f444dd8804da08fbd3ad7e96639",
     "grade": false,
     "grade_id": "cell-483076aac3dc5fa7",
     "locked": true,
     "schema_version": 3,
     "solution": false,
     "task": false
    }
   },
   "outputs": [
    {
     "data": {
      "text/plain": [
       "DataTransformerRegistry.enable('vegafusion')"
      ]
     },
     "execution_count": 1,
     "metadata": {},
     "output_type": "execute_result"
    }
   ],
   "source": [
    "### Run this cell before continuing.\n",
    "import altair as alt\n",
    "import pandas as pd\n",
    "\n",
    "# Simplify working with large datasets in Altair\n",
    "alt.data_transformers.enable('vegafusion')"
   ]
  },
  {
   "cell_type": "markdown",
   "metadata": {
    "deletable": false,
    "editable": false,
    "nbgrader": {
     "cell_type": "markdown",
     "checksum": "008c2c5b93152a4143d9101af2c0adb4",
     "grade": false,
     "grade_id": "cell-d0104ab32afbab28",
     "locked": true,
     "schema_version": 3,
     "solution": false
    }
   },
   "source": [
    "**Question 0.1** \n",
    "<br> {points: 1}\n",
    "\n",
    "Match the following definitions with the corresponding encoding mapping or function used in Python:\n",
    "\n",
    "*Definitions*\n",
    "\n",
    "A. Creates multiple subplots (or \"facets\") according to a categorical variable in the data. \n",
    "\n",
    "B. Connects data points with a line which facilitates seeing trends over time.\n",
    "\n",
    "C. Colors graphical marks based on a particular variable in the data.\n",
    "\n",
    "D. This encoding varies data points by shape based on a variable in the data.\n",
    "\n",
    "E. Labels the y-axis. \n",
    "\n",
    "\n",
    "*Encodings and Functions*\n",
    "\n",
    "1. `color`\n",
    "2. `facet()`\n",
    "3. `mark_line()`\n",
    "4. `alt.Y().title(\"...\")`\n",
    "5. `shape`\n",
    "\n",
    "_For every description, create an object using the letter associated with the definition and assign it to the corresponding number from the list above. For example: `B = 1`_"
   ]
  },
  {
   "cell_type": "code",
   "execution_count": 2,
   "metadata": {
    "deletable": false,
    "nbgrader": {
     "cell_type": "code",
     "checksum": "66df83b9a94a2c87a321bf0bd3642c85",
     "grade": false,
     "grade_id": "cell-b22b3db664eb1abc",
     "locked": false,
     "schema_version": 3,
     "solution": true
    }
   },
   "outputs": [],
   "source": [
    "A=2\n",
    "B=3\n",
    "C=1\n",
    "D=5\n",
    "E=4\n"
   ]
  },
  {
   "cell_type": "code",
   "execution_count": 3,
   "metadata": {
    "deletable": false,
    "editable": false,
    "nbgrader": {
     "cell_type": "code",
     "checksum": "c24deb50b514e86e8fdf43e12627fbf2",
     "grade": true,
     "grade_id": "cell-471b37b1ecc45a3a",
     "locked": true,
     "points": 1,
     "schema_version": 3,
     "solution": false
    }
   },
   "outputs": [
    {
     "name": "stdout",
     "output_type": "stream",
     "text": [
      "Success!\n"
     ]
    }
   ],
   "source": [
    "from hashlib import sha1\n",
    "assert sha1(str(type(A)).encode(\"utf-8\")+b\"2fff8\").hexdigest() == \"3cf2797019a970975c0b9e78a8b07304d2a281fa\", \"type of A is not int. Please make sure it is int and not np.int64, etc. You can cast your value into an int using int()\"\n",
    "assert sha1(str(A).encode(\"utf-8\")+b\"2fff8\").hexdigest() == \"1ef96ff0480bd7ebc7252d1480959e4e8eda19e2\", \"value of A is not correct\"\n",
    "\n",
    "assert sha1(str(type(B)).encode(\"utf-8\")+b\"2fff9\").hexdigest() == \"c3fcdddf7b45274a27b7725a453ef3555d31a101\", \"type of B is not int. Please make sure it is int and not np.int64, etc. You can cast your value into an int using int()\"\n",
    "assert sha1(str(B).encode(\"utf-8\")+b\"2fff9\").hexdigest() == \"850b95741634320cfdc1cbc7b5e757a3b03e059c\", \"value of B is not correct\"\n",
    "\n",
    "assert sha1(str(type(C)).encode(\"utf-8\")+b\"2fffa\").hexdigest() == \"0f070d036896abeed24a95c2b15672a48bf7aa84\", \"type of C is not int. Please make sure it is int and not np.int64, etc. You can cast your value into an int using int()\"\n",
    "assert sha1(str(C).encode(\"utf-8\")+b\"2fffa\").hexdigest() == \"91f5c9f56d2ab4c91977c4db1ff6680228e07dbb\", \"value of C is not correct\"\n",
    "\n",
    "assert sha1(str(type(D)).encode(\"utf-8\")+b\"2fffb\").hexdigest() == \"3bed34b3560b6acf2e5b8819ae4645ad1975c4ab\", \"type of D is not int. Please make sure it is int and not np.int64, etc. You can cast your value into an int using int()\"\n",
    "assert sha1(str(D).encode(\"utf-8\")+b\"2fffb\").hexdigest() == \"021e49701a21de802937a347d5222ad0b28fab80\", \"value of D is not correct\"\n",
    "\n",
    "assert sha1(str(type(E)).encode(\"utf-8\")+b\"2fffc\").hexdigest() == \"5e7bdd36d327347b9eb0eb91f87b26bc6335c7eb\", \"type of E is not int. Please make sure it is int and not np.int64, etc. You can cast your value into an int using int()\"\n",
    "assert sha1(str(E).encode(\"utf-8\")+b\"2fffc\").hexdigest() == \"12d2115885fb3d25cf657a2008ec5df67aed749f\", \"value of E is not correct\"\n",
    "\n",
    "print('Success!')"
   ]
  },
  {
   "cell_type": "markdown",
   "metadata": {
    "deletable": false,
    "editable": false,
    "nbgrader": {
     "cell_type": "markdown",
     "checksum": "4240e4674c57aca003052d6ca7cbfcaa",
     "grade": false,
     "grade_id": "cell-7b8ea6ab55690b06",
     "locked": true,
     "schema_version": 3,
     "solution": false,
     "task": false
    }
   },
   "source": [
    "**Question 0.2** True or False:\n",
    "<br> {points: 1}\n",
    "\n",
    "We should save a plot as an `.svg` file if we want to be able to rescale it without losing quality.\n",
    "\n",
    "*Assign your answer to an object called `answer0_2`. Make sure your answer is either `True` or `False`.*"
   ]
  },
  {
   "cell_type": "code",
   "execution_count": 4,
   "metadata": {
    "deletable": false,
    "nbgrader": {
     "cell_type": "code",
     "checksum": "a4a72e07404123a05f2bd30510b4ef8c",
     "grade": false,
     "grade_id": "cell-8608b643ace9768c",
     "locked": false,
     "schema_version": 3,
     "solution": true,
     "task": false
    }
   },
   "outputs": [],
   "source": [
    "# your code here\n",
    "answer0_2=True"
   ]
  },
  {
   "cell_type": "code",
   "execution_count": 5,
   "metadata": {
    "deletable": false,
    "editable": false,
    "nbgrader": {
     "cell_type": "code",
     "checksum": "960e20b469b1255b435ecccd860904d1",
     "grade": true,
     "grade_id": "cell-dd04803a3b061830",
     "locked": true,
     "points": 1,
     "schema_version": 3,
     "solution": false,
     "task": false
    }
   },
   "outputs": [
    {
     "name": "stdout",
     "output_type": "stream",
     "text": [
      "Success!\n"
     ]
    }
   ],
   "source": [
    "from hashlib import sha1\n",
    "assert sha1(str(type(answer0_2)).encode(\"utf-8\")+b\"b9cdb\").hexdigest() == \"c1a14e26e0620ad97d9304575779d7160f258ef4\", \"type of answer0_2 is not bool. answer0_2 should be a bool\"\n",
    "assert sha1(str(answer0_2).encode(\"utf-8\")+b\"b9cdb\").hexdigest() == \"4fdc4832d144addb42fef1704c9dbccbe858e7ae\", \"boolean value of answer0_2 is not correct\"\n",
    "\n",
    "print('Success!')"
   ]
  },
  {
   "cell_type": "markdown",
   "metadata": {
    "deletable": false,
    "editable": false,
    "nbgrader": {
     "cell_type": "markdown",
     "checksum": "579d71c7c2f2db49357980fca0fd72aa",
     "grade": false,
     "grade_id": "cell-b38e048867240520",
     "locked": true,
     "schema_version": 3,
     "solution": false,
     "task": false
    }
   },
   "source": [
    "## 1. Data on Personal Medical Costs \n",
    "\n",
    "As we saw in the worksheet, data scientists work in all types of organizations and with all kinds of problems. One of these types of organizations are companies in the private sector that work with health data. Today we will be looking at data on personal medical costs. There are varying factors that affect health and consequently medical costs. Our goal for today is to determine how variables are related to the medical costs billed by health insurance companies. \n",
    "\n",
    "\n",
    "To analyze this, we will be looking at a dataset that includes the following columns:\n",
    "\n",
    "* `age`: age of primary beneficiary\n",
    "* `sex`: insurance contractor gender: female, male\n",
    "* `bmi`: body mass index, providing an understanding of body, weights that are relatively high or low relative to height, objective index of body weight (kg/$m^{2}$) using the ratio of height to weight, ideally 18.5 to 24.9\n",
    "* `children`: number of children covered by health insurance / number of dependents\n",
    "* `smoker`: smoking\n",
    "* `region`: the beneficiary's residential area in the US: northeast, southeast, southwest, northwest.\n",
    "* `charges`: individual medical costs billed by health insurance\n",
    "\n",
    "*This dataset, was taken from the [collection of Data Sets](https://github.com/stedy/Machine-Learning-with-R-datasets) created and curated for the [Machine Learning with R](https://www.packtpub.com/big-data-and-business-intelligence/machine-learning-r) book by Brett Lantz.*"
   ]
  },
  {
   "cell_type": "markdown",
   "metadata": {
    "deletable": false,
    "editable": false,
    "nbgrader": {
     "cell_type": "markdown",
     "checksum": "6ad9715d8961dac0770f6fd55f0fe141",
     "grade": false,
     "grade_id": "cell-c5c6d19c1567adf8",
     "locked": true,
     "schema_version": 3,
     "solution": false
    }
   },
   "source": [
    "**Question 1.1** Yes or No: \n",
    "<br> {points: 1}\n",
    "\n",
    "Based on the information given in the cell above, do you think the column `charges` includes quantitative/numerical data? \n",
    "\n",
    "*Assign your answer to an object called `answer1_1`. Make sure your answer is written in lowercase and is surrounded by quotation marks (e.g. `\"yes\"` or `\"no\"`).*"
   ]
  },
  {
   "cell_type": "code",
   "execution_count": 6,
   "metadata": {
    "deletable": false,
    "nbgrader": {
     "cell_type": "code",
     "checksum": "58b85af8c197667fb60613c43be41907",
     "grade": false,
     "grade_id": "cell-8da0d830fc8f8b0c",
     "locked": false,
     "schema_version": 3,
     "solution": true
    }
   },
   "outputs": [],
   "source": [
    "# your code here\n",
    "answer1_1='yes'"
   ]
  },
  {
   "cell_type": "code",
   "execution_count": 7,
   "metadata": {
    "deletable": false,
    "editable": false,
    "nbgrader": {
     "cell_type": "code",
     "checksum": "0abce67b55108187aa6c34611560ec8c",
     "grade": true,
     "grade_id": "cell-37a00841b56391ad",
     "locked": true,
     "points": 1,
     "schema_version": 3,
     "solution": false
    }
   },
   "outputs": [
    {
     "name": "stdout",
     "output_type": "stream",
     "text": [
      "Success!\n"
     ]
    }
   ],
   "source": [
    "from hashlib import sha1\n",
    "assert sha1(str(type(answer1_1)).encode(\"utf-8\")+b\"678f2\").hexdigest() == \"4959f65d861fe73fc28048598b050dd992dace50\", \"type of answer1_1 is not str. answer1_1 should be an str\"\n",
    "assert sha1(str(len(answer1_1)).encode(\"utf-8\")+b\"678f2\").hexdigest() == \"e6d6de58a5553dab314352e9039d6369703bf71d\", \"length of answer1_1 is not correct\"\n",
    "assert sha1(str(answer1_1.lower()).encode(\"utf-8\")+b\"678f2\").hexdigest() == \"fef55431241493e87811c5ab7d723fb48efe52e2\", \"value of answer1_1 is not correct\"\n",
    "assert sha1(str(answer1_1).encode(\"utf-8\")+b\"678f2\").hexdigest() == \"fef55431241493e87811c5ab7d723fb48efe52e2\", \"correct string value of answer1_1 but incorrect case of letters\"\n",
    "\n",
    "print('Success!')"
   ]
  },
  {
   "cell_type": "markdown",
   "metadata": {
    "deletable": false,
    "editable": false,
    "nbgrader": {
     "cell_type": "markdown",
     "checksum": "36137bffb0c9d1f4b6ca76b8ef09cb86",
     "grade": false,
     "grade_id": "cell-4325b0202bdfb877",
     "locked": true,
     "schema_version": 3,
     "solution": false
    }
   },
   "source": [
    "**Question 1.2** Multiple Choice:\n",
    "<br> {points: 1}\n",
    "\n",
    "Assuming overplotting is not an issue, which plot would be the most effective to compare the relationship of `age` and `charges`?\n",
    "\n",
    "A. Scatterplot \n",
    "\n",
    "B. Stacked Bar Plot \n",
    "\n",
    "C. Bar Plot \n",
    "\n",
    "*Assign your answer to an object called `answer1_2`. Make sure your answer is an uppercase letter and is surrounded by quotation marks (e.g. `\"F\"`).*"
   ]
  },
  {
   "cell_type": "code",
   "execution_count": 8,
   "metadata": {
    "deletable": false,
    "nbgrader": {
     "cell_type": "code",
     "checksum": "6eff534fb24cb70fe4edc042a41d3da1",
     "grade": false,
     "grade_id": "cell-776947ebfdd46a40",
     "locked": false,
     "schema_version": 3,
     "solution": true
    }
   },
   "outputs": [],
   "source": [
    "# scatter plots visualize the relationship between two quantitative variables\n",
    "answer1_2=\"A\""
   ]
  },
  {
   "cell_type": "code",
   "execution_count": 9,
   "metadata": {
    "deletable": false,
    "editable": false,
    "nbgrader": {
     "cell_type": "code",
     "checksum": "3e218acdad0274f4189e2891252dbb8e",
     "grade": true,
     "grade_id": "cell-d344b7c03dae8345",
     "locked": true,
     "points": 1,
     "schema_version": 3,
     "solution": false
    }
   },
   "outputs": [
    {
     "name": "stdout",
     "output_type": "stream",
     "text": [
      "Success!\n"
     ]
    }
   ],
   "source": [
    "from hashlib import sha1\n",
    "assert sha1(str(type(answer1_2)).encode(\"utf-8\")+b\"b01e4\").hexdigest() == \"3c9412f874ef42c2aa7fc1cfe82e83b791289e6d\", \"type of answer1_2 is not str. answer1_2 should be an str\"\n",
    "assert sha1(str(len(answer1_2)).encode(\"utf-8\")+b\"b01e4\").hexdigest() == \"cfb76c7e547605333d2af0aac4faea9a8f49ef06\", \"length of answer1_2 is not correct\"\n",
    "assert sha1(str(answer1_2.lower()).encode(\"utf-8\")+b\"b01e4\").hexdigest() == \"bd10f1af1d3d8938a93a8c525d3cc6ed24cf5184\", \"value of answer1_2 is not correct\"\n",
    "assert sha1(str(answer1_2).encode(\"utf-8\")+b\"b01e4\").hexdigest() == \"3e950333ccfb4011b417123c70daadf45728bb03\", \"correct string value of answer1_2 but incorrect case of letters\"\n",
    "\n",
    "print('Success!')"
   ]
  },
  {
   "cell_type": "markdown",
   "metadata": {
    "deletable": false,
    "editable": false,
    "nbgrader": {
     "cell_type": "markdown",
     "checksum": "b2d679fac78186cd8470312464230f75",
     "grade": false,
     "grade_id": "cell-ab7e6749d3d47397",
     "locked": true,
     "schema_version": 3,
     "solution": false
    }
   },
   "source": [
    "**Question 1.3**\n",
    "<br> {points: 1}\n",
    "\n",
    "Read the `insurance.csv` file in the `data` folder. \n",
    "\n",
    "*Assign your answer to an object called `insurance`.*"
   ]
  },
  {
   "cell_type": "code",
   "execution_count": 10,
   "metadata": {
    "deletable": false,
    "nbgrader": {
     "cell_type": "code",
     "checksum": "c40332d0db2098cedd6ce8bd0f2cf2c6",
     "grade": false,
     "grade_id": "cell-ace20e7d125da6cc",
     "locked": false,
     "schema_version": 3,
     "solution": true
    }
   },
   "outputs": [
    {
     "data": {
      "text/html": [
       "<div>\n",
       "<style scoped>\n",
       "    .dataframe tbody tr th:only-of-type {\n",
       "        vertical-align: middle;\n",
       "    }\n",
       "\n",
       "    .dataframe tbody tr th {\n",
       "        vertical-align: top;\n",
       "    }\n",
       "\n",
       "    .dataframe thead th {\n",
       "        text-align: right;\n",
       "    }\n",
       "</style>\n",
       "<table border=\"1\" class=\"dataframe\">\n",
       "  <thead>\n",
       "    <tr style=\"text-align: right;\">\n",
       "      <th></th>\n",
       "      <th>age</th>\n",
       "      <th>sex</th>\n",
       "      <th>bmi</th>\n",
       "      <th>children</th>\n",
       "      <th>smoker</th>\n",
       "      <th>region</th>\n",
       "      <th>charges</th>\n",
       "    </tr>\n",
       "  </thead>\n",
       "  <tbody>\n",
       "    <tr>\n",
       "      <th>0</th>\n",
       "      <td>19</td>\n",
       "      <td>female</td>\n",
       "      <td>27.900</td>\n",
       "      <td>0</td>\n",
       "      <td>yes</td>\n",
       "      <td>southwest</td>\n",
       "      <td>16884.92400</td>\n",
       "    </tr>\n",
       "    <tr>\n",
       "      <th>1</th>\n",
       "      <td>18</td>\n",
       "      <td>male</td>\n",
       "      <td>33.770</td>\n",
       "      <td>1</td>\n",
       "      <td>no</td>\n",
       "      <td>southeast</td>\n",
       "      <td>1725.55230</td>\n",
       "    </tr>\n",
       "    <tr>\n",
       "      <th>2</th>\n",
       "      <td>28</td>\n",
       "      <td>male</td>\n",
       "      <td>33.000</td>\n",
       "      <td>3</td>\n",
       "      <td>no</td>\n",
       "      <td>southeast</td>\n",
       "      <td>4449.46200</td>\n",
       "    </tr>\n",
       "    <tr>\n",
       "      <th>3</th>\n",
       "      <td>33</td>\n",
       "      <td>male</td>\n",
       "      <td>22.705</td>\n",
       "      <td>0</td>\n",
       "      <td>no</td>\n",
       "      <td>northwest</td>\n",
       "      <td>21984.47061</td>\n",
       "    </tr>\n",
       "    <tr>\n",
       "      <th>4</th>\n",
       "      <td>32</td>\n",
       "      <td>male</td>\n",
       "      <td>28.880</td>\n",
       "      <td>0</td>\n",
       "      <td>no</td>\n",
       "      <td>northwest</td>\n",
       "      <td>3866.85520</td>\n",
       "    </tr>\n",
       "    <tr>\n",
       "      <th>5</th>\n",
       "      <td>31</td>\n",
       "      <td>female</td>\n",
       "      <td>25.740</td>\n",
       "      <td>0</td>\n",
       "      <td>no</td>\n",
       "      <td>southeast</td>\n",
       "      <td>3756.62160</td>\n",
       "    </tr>\n",
       "    <tr>\n",
       "      <th>6</th>\n",
       "      <td>46</td>\n",
       "      <td>female</td>\n",
       "      <td>33.440</td>\n",
       "      <td>1</td>\n",
       "      <td>no</td>\n",
       "      <td>southeast</td>\n",
       "      <td>8240.58960</td>\n",
       "    </tr>\n",
       "    <tr>\n",
       "      <th>7</th>\n",
       "      <td>37</td>\n",
       "      <td>female</td>\n",
       "      <td>27.740</td>\n",
       "      <td>3</td>\n",
       "      <td>no</td>\n",
       "      <td>northwest</td>\n",
       "      <td>7281.50560</td>\n",
       "    </tr>\n",
       "    <tr>\n",
       "      <th>8</th>\n",
       "      <td>37</td>\n",
       "      <td>male</td>\n",
       "      <td>29.830</td>\n",
       "      <td>2</td>\n",
       "      <td>no</td>\n",
       "      <td>northeast</td>\n",
       "      <td>6406.41070</td>\n",
       "    </tr>\n",
       "    <tr>\n",
       "      <th>9</th>\n",
       "      <td>60</td>\n",
       "      <td>female</td>\n",
       "      <td>25.840</td>\n",
       "      <td>0</td>\n",
       "      <td>no</td>\n",
       "      <td>northwest</td>\n",
       "      <td>28923.13692</td>\n",
       "    </tr>\n",
       "    <tr>\n",
       "      <th>10</th>\n",
       "      <td>25</td>\n",
       "      <td>male</td>\n",
       "      <td>26.220</td>\n",
       "      <td>0</td>\n",
       "      <td>no</td>\n",
       "      <td>northeast</td>\n",
       "      <td>2721.32080</td>\n",
       "    </tr>\n",
       "    <tr>\n",
       "      <th>11</th>\n",
       "      <td>62</td>\n",
       "      <td>female</td>\n",
       "      <td>26.290</td>\n",
       "      <td>0</td>\n",
       "      <td>yes</td>\n",
       "      <td>southeast</td>\n",
       "      <td>27808.72510</td>\n",
       "    </tr>\n",
       "    <tr>\n",
       "      <th>12</th>\n",
       "      <td>23</td>\n",
       "      <td>male</td>\n",
       "      <td>34.400</td>\n",
       "      <td>0</td>\n",
       "      <td>no</td>\n",
       "      <td>southwest</td>\n",
       "      <td>1826.84300</td>\n",
       "    </tr>\n",
       "    <tr>\n",
       "      <th>13</th>\n",
       "      <td>56</td>\n",
       "      <td>female</td>\n",
       "      <td>39.820</td>\n",
       "      <td>0</td>\n",
       "      <td>no</td>\n",
       "      <td>southeast</td>\n",
       "      <td>11090.71780</td>\n",
       "    </tr>\n",
       "    <tr>\n",
       "      <th>14</th>\n",
       "      <td>27</td>\n",
       "      <td>male</td>\n",
       "      <td>42.130</td>\n",
       "      <td>0</td>\n",
       "      <td>yes</td>\n",
       "      <td>southeast</td>\n",
       "      <td>39611.75770</td>\n",
       "    </tr>\n",
       "    <tr>\n",
       "      <th>15</th>\n",
       "      <td>19</td>\n",
       "      <td>male</td>\n",
       "      <td>24.600</td>\n",
       "      <td>1</td>\n",
       "      <td>no</td>\n",
       "      <td>southwest</td>\n",
       "      <td>1837.23700</td>\n",
       "    </tr>\n",
       "    <tr>\n",
       "      <th>16</th>\n",
       "      <td>52</td>\n",
       "      <td>female</td>\n",
       "      <td>30.780</td>\n",
       "      <td>1</td>\n",
       "      <td>no</td>\n",
       "      <td>northeast</td>\n",
       "      <td>10797.33620</td>\n",
       "    </tr>\n",
       "    <tr>\n",
       "      <th>17</th>\n",
       "      <td>23</td>\n",
       "      <td>male</td>\n",
       "      <td>23.845</td>\n",
       "      <td>0</td>\n",
       "      <td>no</td>\n",
       "      <td>northeast</td>\n",
       "      <td>2395.17155</td>\n",
       "    </tr>\n",
       "    <tr>\n",
       "      <th>18</th>\n",
       "      <td>56</td>\n",
       "      <td>male</td>\n",
       "      <td>40.300</td>\n",
       "      <td>0</td>\n",
       "      <td>no</td>\n",
       "      <td>southwest</td>\n",
       "      <td>10602.38500</td>\n",
       "    </tr>\n",
       "    <tr>\n",
       "      <th>19</th>\n",
       "      <td>30</td>\n",
       "      <td>male</td>\n",
       "      <td>35.300</td>\n",
       "      <td>0</td>\n",
       "      <td>yes</td>\n",
       "      <td>southwest</td>\n",
       "      <td>36837.46700</td>\n",
       "    </tr>\n",
       "  </tbody>\n",
       "</table>\n",
       "</div>"
      ],
      "text/plain": [
       "    age     sex     bmi  children smoker     region      charges\n",
       "0    19  female  27.900         0    yes  southwest  16884.92400\n",
       "1    18    male  33.770         1     no  southeast   1725.55230\n",
       "2    28    male  33.000         3     no  southeast   4449.46200\n",
       "3    33    male  22.705         0     no  northwest  21984.47061\n",
       "4    32    male  28.880         0     no  northwest   3866.85520\n",
       "5    31  female  25.740         0     no  southeast   3756.62160\n",
       "6    46  female  33.440         1     no  southeast   8240.58960\n",
       "7    37  female  27.740         3     no  northwest   7281.50560\n",
       "8    37    male  29.830         2     no  northeast   6406.41070\n",
       "9    60  female  25.840         0     no  northwest  28923.13692\n",
       "10   25    male  26.220         0     no  northeast   2721.32080\n",
       "11   62  female  26.290         0    yes  southeast  27808.72510\n",
       "12   23    male  34.400         0     no  southwest   1826.84300\n",
       "13   56  female  39.820         0     no  southeast  11090.71780\n",
       "14   27    male  42.130         0    yes  southeast  39611.75770\n",
       "15   19    male  24.600         1     no  southwest   1837.23700\n",
       "16   52  female  30.780         1     no  northeast  10797.33620\n",
       "17   23    male  23.845         0     no  northeast   2395.17155\n",
       "18   56    male  40.300         0     no  southwest  10602.38500\n",
       "19   30    male  35.300         0    yes  southwest  36837.46700"
      ]
     },
     "execution_count": 10,
     "metadata": {},
     "output_type": "execute_result"
    }
   ],
   "source": [
    "# your code here\n",
    "import pandas as pd\n",
    "insurance=pd.read_csv(\"data/insurance.csv\")\n",
    "insurance\n",
    "#see the first 20 instances\n",
    "insurance.head(20)"
   ]
  },
  {
   "cell_type": "code",
   "execution_count": 11,
   "metadata": {
    "deletable": false,
    "editable": false,
    "nbgrader": {
     "cell_type": "code",
     "checksum": "55072590929c64ac6e4ee502e9e9cb17",
     "grade": true,
     "grade_id": "cell-662935f6d4ccb428",
     "locked": true,
     "points": 1,
     "schema_version": 3,
     "solution": false
    }
   },
   "outputs": [
    {
     "name": "stdout",
     "output_type": "stream",
     "text": [
      "Success!\n"
     ]
    }
   ],
   "source": [
    "from hashlib import sha1\n",
    "assert sha1(str(type(insurance is None)).encode(\"utf-8\")+b\"eaa92\").hexdigest() == \"a46bef20ff661b158c859b94b242bca573ec682b\", \"type of insurance is None is not bool. insurance is None should be a bool\"\n",
    "assert sha1(str(insurance is None).encode(\"utf-8\")+b\"eaa92\").hexdigest() == \"972b6069c86580fbdab49b0ea7de0db003f4d366\", \"boolean value of insurance is None is not correct\"\n",
    "\n",
    "assert sha1(str(type(insurance)).encode(\"utf-8\")+b\"eaa93\").hexdigest() == \"664ae69e7045a753c12a60b9e51bddf6ec16fc24\", \"type of type(insurance) is not correct\"\n",
    "\n",
    "assert sha1(str(type(insurance.shape)).encode(\"utf-8\")+b\"eaa94\").hexdigest() == \"1759998d95f71f1d3a8a5dfd1ffe605cd2cac10c\", \"type of insurance.shape is not tuple. insurance.shape should be a tuple\"\n",
    "assert sha1(str(len(insurance.shape)).encode(\"utf-8\")+b\"eaa94\").hexdigest() == \"386d1a62add2a10e46d65bfec4e4e5ef92252695\", \"length of insurance.shape is not correct\"\n",
    "assert sha1(str(sorted(map(str, insurance.shape))).encode(\"utf-8\")+b\"eaa94\").hexdigest() == \"891e50106b98456481fb4abae73fbc96b6832755\", \"values of insurance.shape are not correct\"\n",
    "assert sha1(str(insurance.shape).encode(\"utf-8\")+b\"eaa94\").hexdigest() == \"c14fb1b524d89f85e0d6a03a423569b726c075a4\", \"order of elements of insurance.shape is not correct\"\n",
    "\n",
    "assert sha1(str(type(round(sum(insurance.age), 2))).encode(\"utf-8\")+b\"eaa95\").hexdigest() == \"cfa6511142ce53277e326f529badbc4cd7a54df5\", \"type of round(sum(insurance.age), 2) is not int. Please make sure it is int and not np.int64, etc. You can cast your value into an int using int()\"\n",
    "assert sha1(str(round(sum(insurance.age), 2)).encode(\"utf-8\")+b\"eaa95\").hexdigest() == \"ec04bc8e7210856a9edc5596d6e71d4beb99fb60\", \"value of round(sum(insurance.age), 2) is not correct\"\n",
    "\n",
    "assert sha1(str(type(len(insurance.region.unique()))).encode(\"utf-8\")+b\"eaa96\").hexdigest() == \"33e908f193cf0a8b4a0cc2ef375bcebb381d1ad6\", \"type of len(insurance.region.unique()) is not int. Please make sure it is int and not np.int64, etc. You can cast your value into an int using int()\"\n",
    "assert sha1(str(len(insurance.region.unique())).encode(\"utf-8\")+b\"eaa96\").hexdigest() == \"63bd292673c1eef97acd9b1311d8ee1ff7a05985\", \"value of len(insurance.region.unique()) is not correct\"\n",
    "\n",
    "print('Success!')"
   ]
  },
  {
   "cell_type": "markdown",
   "metadata": {
    "deletable": false,
    "editable": false,
    "nbgrader": {
     "cell_type": "markdown",
     "checksum": "036066f2f490244427fddb8dddeb8565",
     "grade": false,
     "grade_id": "cell-8c60df934c35dd9a",
     "locked": true,
     "schema_version": 3,
     "solution": false
    }
   },
   "source": [
    "**Question 1.4** \n",
    "<br> {points: 3}\n",
    "\n",
    "Looking over the excerpt of loaded data shown above, what initial observations can you make about the relationship between medical charges and age? How about medical charges and BMI? Finally, what about medical charges and smoking? \n",
    "\n",
    "Also, comment on whether our observations might change if we visualize the data? And/or whether visualizing the data might allow us to more easily make observations about the relationships in the data as opposed to trying to make them directly from the data table?\n",
    "\n",
    "Answer in the cell below."
   ]
  },
  {
   "cell_type": "markdown",
   "metadata": {
    "deletable": false,
    "nbgrader": {
     "cell_type": "markdown",
     "checksum": "461e90160ad679e460221e1c3128100f",
     "grade": true,
     "grade_id": "cell-62d184813aadd4b3",
     "locked": false,
     "points": 3,
     "schema_version": 3,
     "solution": true
    }
   },
   "source": [
    "1. Medical charges seem to trend upward with age. Older women's medical costs approach $30,000, while younger people's medical charges are generally lower.\n",
    "2. People with higher BMIs sometimes have higher medical charges, but this trend is less pronounced.\n",
    "3. Smokers have significantly higher medical charges.\n",
    "4. If the data are visualized, we can observe the relationship and trend between different variables more clearly, and may also find some anomalies that do not fit the pattern. For identifying complex relationships, visualization is more intuitive than direct observation from data tables."
   ]
  },
  {
   "cell_type": "markdown",
   "metadata": {
    "deletable": false,
    "editable": false,
    "nbgrader": {
     "cell_type": "markdown",
     "checksum": "c7511fe4d832ad9f233619307f5a3dba",
     "grade": false,
     "grade_id": "cell-865d9fd68151c0a0",
     "locked": true,
     "schema_version": 3,
     "solution": false
    }
   },
   "source": [
    "**Question 1.5**\n",
    "<br> {points: 1}\n",
    "\n",
    "According to the National Heart, Lung and Blood Institute of the US: \"The higher your BMI, the higher your risk for certain diseases such as heart disease, high blood pressure, type 2 diabetes, gallstones, breathing problems, and certain cancers\". \n",
    "\n",
    "Based on this information, we can hypothesize that individuals with a higher BMI are likely to have more medical costs. Let's use our data and see if this holds true. Create a scatter plot of `charges` (y-axis) versus `bmi` (x-axis).\n",
    "\n",
    "In the scaffolding we provide below, ensure that you set `opacity` to 0.4. `opacity` sets the transparency of points on a scatter plot, and increasing transparency (reducing opacity) one strategy to deal with over-plotting issues.\n",
    "\n",
    "*Assign your answer to an object called `bmi_plot`. Make sure to label your axes appropriately.*"
   ]
  },
  {
   "cell_type": "code",
   "execution_count": 14,
   "metadata": {
    "deletable": false,
    "nbgrader": {
     "cell_type": "code",
     "checksum": "502ddda848451cd6ca63e0fd7cdcb532",
     "grade": false,
     "grade_id": "cell-fa480888e071a7ee",
     "locked": false,
     "schema_version": 3,
     "solution": true
    }
   },
   "outputs": [
    {
     "name": "stdout",
     "output_type": "stream",
     "text": [
      "\u001b[33mWARNING: Retrying (Retry(total=4, connect=None, read=None, redirect=None, status=None)) after connection broken by 'SSLError(SSLCertVerificationError(1, '[SSL: CERTIFICATE_VERIFY_FAILED] certificate verify failed: unable to get local issuer certificate (_ssl.c:1006)'))': /simple/vegafusion/\u001b[0m\u001b[33m\n",
      "\u001b[0m\u001b[33mWARNING: Retrying (Retry(total=3, connect=None, read=None, redirect=None, status=None)) after connection broken by 'SSLError(SSLCertVerificationError(1, '[SSL: CERTIFICATE_VERIFY_FAILED] certificate verify failed: unable to get local issuer certificate (_ssl.c:1006)'))': /simple/vegafusion/\u001b[0m\u001b[33m\n",
      "\u001b[0m\u001b[33mWARNING: Retrying (Retry(total=2, connect=None, read=None, redirect=None, status=None)) after connection broken by 'SSLError(SSLCertVerificationError(1, '[SSL: CERTIFICATE_VERIFY_FAILED] certificate verify failed: unable to get local issuer certificate (_ssl.c:1006)'))': /simple/vegafusion/\u001b[0m\u001b[33m\n",
      "\u001b[0m\u001b[33mWARNING: Retrying (Retry(total=1, connect=None, read=None, redirect=None, status=None)) after connection broken by 'SSLError(SSLCertVerificationError(1, '[SSL: CERTIFICATE_VERIFY_FAILED] certificate verify failed: unable to get local issuer certificate (_ssl.c:1006)'))': /simple/vegafusion/\u001b[0m\u001b[33m\n",
      "\u001b[0m\u001b[33mWARNING: Retrying (Retry(total=0, connect=None, read=None, redirect=None, status=None)) after connection broken by 'SSLError(SSLCertVerificationError(1, '[SSL: CERTIFICATE_VERIFY_FAILED] certificate verify failed: unable to get local issuer certificate (_ssl.c:1006)'))': /simple/vegafusion/\u001b[0m\u001b[33m\n",
      "\u001b[0mCould not fetch URL https://pypi.org/simple/vegafusion/: There was a problem confirming the ssl certificate: HTTPSConnectionPool(host='pypi.org', port=443): Max retries exceeded with url: /simple/vegafusion/ (Caused by SSLError(SSLCertVerificationError(1, '[SSL: CERTIFICATE_VERIFY_FAILED] certificate verify failed: unable to get local issuer certificate (_ssl.c:1006)'))) - skipping\n",
      "\u001b[31mERROR: Could not find a version that satisfies the requirement vegafusion (from versions: none)\u001b[0m\u001b[31m\n",
      "\u001b[0m\u001b[31mERROR: No matching distribution found for vegafusion\u001b[0m\u001b[31m\n",
      "\u001b[0mNote: you may need to restart the kernel to use updated packages.\n"
     ]
    },
    {
     "ename": "ImportError",
     "evalue": "The \"vegafusion\" data transformer and chart.transformed_data feature requires\nversion 1.5.0 or greater of the 'vegafusion-python-embed' and 'vegafusion' packages.\nThese can be installed with pip using:\n    pip install \"vegafusion[embed]>=1.5.0\"\nOr with conda using:\n    conda install -c conda-forge \"vegafusion-python-embed>=1.5.0\" \"vegafusion>=1.5.0\"\n\nImportError: vegafusion",
     "output_type": "error",
     "traceback": [
      "\u001b[0;31m---------------------------------------------------------------------------\u001b[0m",
      "\u001b[0;31mStopIteration\u001b[0m                             Traceback (most recent call last)",
      "File \u001b[0;32m/Library/Frameworks/Python.framework/Versions/3.11/lib/python3.11/importlib/metadata/__init__.py:563\u001b[0m, in \u001b[0;36mDistribution.from_name\u001b[0;34m(cls, name)\u001b[0m\n\u001b[1;32m    562\u001b[0m \u001b[38;5;28;01mtry\u001b[39;00m:\n\u001b[0;32m--> 563\u001b[0m     \u001b[38;5;28;01mreturn\u001b[39;00m \u001b[38;5;28;43mnext\u001b[39;49m\u001b[43m(\u001b[49m\u001b[38;5;28;43mcls\u001b[39;49m\u001b[38;5;241;43m.\u001b[39;49m\u001b[43mdiscover\u001b[49m\u001b[43m(\u001b[49m\u001b[43mname\u001b[49m\u001b[38;5;241;43m=\u001b[39;49m\u001b[43mname\u001b[49m\u001b[43m)\u001b[49m\u001b[43m)\u001b[49m\n\u001b[1;32m    564\u001b[0m \u001b[38;5;28;01mexcept\u001b[39;00m \u001b[38;5;167;01mStopIteration\u001b[39;00m:\n",
      "\u001b[0;31mStopIteration\u001b[0m: ",
      "\nDuring handling of the above exception, another exception occurred:\n",
      "\u001b[0;31mPackageNotFoundError\u001b[0m                      Traceback (most recent call last)",
      "File \u001b[0;32m/Library/Frameworks/Python.framework/Versions/3.11/lib/python3.11/site-packages/altair/utils/_importers.py:15\u001b[0m, in \u001b[0;36mimport_vegafusion\u001b[0;34m()\u001b[0m\n\u001b[1;32m     14\u001b[0m \u001b[38;5;28;01mtry\u001b[39;00m:\n\u001b[0;32m---> 15\u001b[0m     version \u001b[38;5;241m=\u001b[39m \u001b[43mimportlib_version\u001b[49m\u001b[43m(\u001b[49m\u001b[38;5;124;43m\"\u001b[39;49m\u001b[38;5;124;43mvegafusion\u001b[39;49m\u001b[38;5;124;43m\"\u001b[39;49m\u001b[43m)\u001b[49m\n\u001b[1;32m     16\u001b[0m     embed_version \u001b[38;5;241m=\u001b[39m importlib_version(\u001b[38;5;124m\"\u001b[39m\u001b[38;5;124mvegafusion-python-embed\u001b[39m\u001b[38;5;124m\"\u001b[39m)\n",
      "File \u001b[0;32m/Library/Frameworks/Python.framework/Versions/3.11/lib/python3.11/importlib/metadata/__init__.py:1009\u001b[0m, in \u001b[0;36mversion\u001b[0;34m(distribution_name)\u001b[0m\n\u001b[1;32m   1003\u001b[0m \u001b[38;5;250m\u001b[39m\u001b[38;5;124;03m\"\"\"Get the version string for the named package.\u001b[39;00m\n\u001b[1;32m   1004\u001b[0m \n\u001b[1;32m   1005\u001b[0m \u001b[38;5;124;03m:param distribution_name: The name of the distribution package to query.\u001b[39;00m\n\u001b[1;32m   1006\u001b[0m \u001b[38;5;124;03m:return: The version string for the package as defined in the package's\u001b[39;00m\n\u001b[1;32m   1007\u001b[0m \u001b[38;5;124;03m    \"Version\" metadata key.\u001b[39;00m\n\u001b[1;32m   1008\u001b[0m \u001b[38;5;124;03m\"\"\"\u001b[39;00m\n\u001b[0;32m-> 1009\u001b[0m \u001b[38;5;28;01mreturn\u001b[39;00m \u001b[43mdistribution\u001b[49m\u001b[43m(\u001b[49m\u001b[43mdistribution_name\u001b[49m\u001b[43m)\u001b[49m\u001b[38;5;241m.\u001b[39mversion\n",
      "File \u001b[0;32m/Library/Frameworks/Python.framework/Versions/3.11/lib/python3.11/importlib/metadata/__init__.py:982\u001b[0m, in \u001b[0;36mdistribution\u001b[0;34m(distribution_name)\u001b[0m\n\u001b[1;32m    977\u001b[0m \u001b[38;5;250m\u001b[39m\u001b[38;5;124;03m\"\"\"Get the ``Distribution`` instance for the named package.\u001b[39;00m\n\u001b[1;32m    978\u001b[0m \n\u001b[1;32m    979\u001b[0m \u001b[38;5;124;03m:param distribution_name: The name of the distribution package as a string.\u001b[39;00m\n\u001b[1;32m    980\u001b[0m \u001b[38;5;124;03m:return: A ``Distribution`` instance (or subclass thereof).\u001b[39;00m\n\u001b[1;32m    981\u001b[0m \u001b[38;5;124;03m\"\"\"\u001b[39;00m\n\u001b[0;32m--> 982\u001b[0m \u001b[38;5;28;01mreturn\u001b[39;00m \u001b[43mDistribution\u001b[49m\u001b[38;5;241;43m.\u001b[39;49m\u001b[43mfrom_name\u001b[49m\u001b[43m(\u001b[49m\u001b[43mdistribution_name\u001b[49m\u001b[43m)\u001b[49m\n",
      "File \u001b[0;32m/Library/Frameworks/Python.framework/Versions/3.11/lib/python3.11/importlib/metadata/__init__.py:565\u001b[0m, in \u001b[0;36mDistribution.from_name\u001b[0;34m(cls, name)\u001b[0m\n\u001b[1;32m    564\u001b[0m \u001b[38;5;28;01mexcept\u001b[39;00m \u001b[38;5;167;01mStopIteration\u001b[39;00m:\n\u001b[0;32m--> 565\u001b[0m     \u001b[38;5;28;01mraise\u001b[39;00m PackageNotFoundError(name)\n",
      "\u001b[0;31mPackageNotFoundError\u001b[0m: No package metadata was found for vegafusion",
      "\nThe above exception was the direct cause of the following exception:\n",
      "\u001b[0;31mImportError\u001b[0m                               Traceback (most recent call last)",
      "File \u001b[0;32m/Library/Frameworks/Python.framework/Versions/3.11/lib/python3.11/site-packages/IPython/core/formatters.py:974\u001b[0m, in \u001b[0;36mMimeBundleFormatter.__call__\u001b[0;34m(self, obj, include, exclude)\u001b[0m\n\u001b[1;32m    971\u001b[0m     method \u001b[38;5;241m=\u001b[39m get_real_method(obj, \u001b[38;5;28mself\u001b[39m\u001b[38;5;241m.\u001b[39mprint_method)\n\u001b[1;32m    973\u001b[0m     \u001b[38;5;28;01mif\u001b[39;00m method \u001b[38;5;129;01mis\u001b[39;00m \u001b[38;5;129;01mnot\u001b[39;00m \u001b[38;5;28;01mNone\u001b[39;00m:\n\u001b[0;32m--> 974\u001b[0m         \u001b[38;5;28;01mreturn\u001b[39;00m \u001b[43mmethod\u001b[49m\u001b[43m(\u001b[49m\u001b[43minclude\u001b[49m\u001b[38;5;241;43m=\u001b[39;49m\u001b[43minclude\u001b[49m\u001b[43m,\u001b[49m\u001b[43m \u001b[49m\u001b[43mexclude\u001b[49m\u001b[38;5;241;43m=\u001b[39;49m\u001b[43mexclude\u001b[49m\u001b[43m)\u001b[49m\n\u001b[1;32m    975\u001b[0m     \u001b[38;5;28;01mreturn\u001b[39;00m \u001b[38;5;28;01mNone\u001b[39;00m\n\u001b[1;32m    976\u001b[0m \u001b[38;5;28;01melse\u001b[39;00m:\n",
      "File \u001b[0;32m/Library/Frameworks/Python.framework/Versions/3.11/lib/python3.11/site-packages/altair/vegalite/v5/api.py:3417\u001b[0m, in \u001b[0;36mTopLevelMixin._repr_mimebundle_\u001b[0;34m(self, *args, **kwds)\u001b[0m\n\u001b[1;32m   3415\u001b[0m \u001b[38;5;28;01melse\u001b[39;00m:\n\u001b[1;32m   3416\u001b[0m     \u001b[38;5;28;01mif\u001b[39;00m renderer \u001b[38;5;241m:=\u001b[39m renderers\u001b[38;5;241m.\u001b[39mget():\n\u001b[0;32m-> 3417\u001b[0m         \u001b[38;5;28;01mreturn\u001b[39;00m \u001b[43mrenderer\u001b[49m\u001b[43m(\u001b[49m\u001b[43mdct\u001b[49m\u001b[43m)\u001b[49m\n",
      "File \u001b[0;32m/Library/Frameworks/Python.framework/Versions/3.11/lib/python3.11/site-packages/altair/utils/display.py:225\u001b[0m, in \u001b[0;36mHTMLRenderer.__call__\u001b[0;34m(self, spec, **metadata)\u001b[0m\n\u001b[1;32m    223\u001b[0m kwargs \u001b[38;5;241m=\u001b[39m \u001b[38;5;28mself\u001b[39m\u001b[38;5;241m.\u001b[39mkwargs\u001b[38;5;241m.\u001b[39mcopy()\n\u001b[1;32m    224\u001b[0m kwargs\u001b[38;5;241m.\u001b[39mupdate(\u001b[38;5;241m*\u001b[39m\u001b[38;5;241m*\u001b[39mmetadata, output_div\u001b[38;5;241m=\u001b[39m\u001b[38;5;28mself\u001b[39m\u001b[38;5;241m.\u001b[39moutput_div)\n\u001b[0;32m--> 225\u001b[0m \u001b[38;5;28;01mreturn\u001b[39;00m \u001b[43mspec_to_mimebundle\u001b[49m\u001b[43m(\u001b[49m\u001b[43mspec\u001b[49m\u001b[43m,\u001b[49m\u001b[43m \u001b[49m\u001b[38;5;28;43mformat\u001b[39;49m\u001b[38;5;241;43m=\u001b[39;49m\u001b[38;5;124;43m\"\u001b[39;49m\u001b[38;5;124;43mhtml\u001b[39;49m\u001b[38;5;124;43m\"\u001b[39;49m\u001b[43m,\u001b[49m\u001b[43m \u001b[49m\u001b[38;5;241;43m*\u001b[39;49m\u001b[38;5;241;43m*\u001b[39;49m\u001b[43mkwargs\u001b[49m\u001b[43m)\u001b[49m\n",
      "File \u001b[0;32m/Library/Frameworks/Python.framework/Versions/3.11/lib/python3.11/site-packages/altair/utils/mimebundle.py:122\u001b[0m, in \u001b[0;36mspec_to_mimebundle\u001b[0;34m(spec, format, mode, vega_version, vegaembed_version, vegalite_version, embed_options, engine, **kwargs)\u001b[0m\n\u001b[1;32m    120\u001b[0m internal_mode: Literal[\u001b[38;5;124m\"\u001b[39m\u001b[38;5;124mvega-lite\u001b[39m\u001b[38;5;124m\"\u001b[39m, \u001b[38;5;124m\"\u001b[39m\u001b[38;5;124mvega\u001b[39m\u001b[38;5;124m\"\u001b[39m] \u001b[38;5;241m=\u001b[39m mode\n\u001b[1;32m    121\u001b[0m \u001b[38;5;28;01mif\u001b[39;00m using_vegafusion():\n\u001b[0;32m--> 122\u001b[0m     spec \u001b[38;5;241m=\u001b[39m \u001b[43mcompile_with_vegafusion\u001b[49m\u001b[43m(\u001b[49m\u001b[43mspec\u001b[49m\u001b[43m)\u001b[49m\n\u001b[1;32m    123\u001b[0m     internal_mode \u001b[38;5;241m=\u001b[39m \u001b[38;5;124m\"\u001b[39m\u001b[38;5;124mvega\u001b[39m\u001b[38;5;124m\"\u001b[39m\n\u001b[1;32m    125\u001b[0m \u001b[38;5;66;03m# Default to the embed options set by alt.renderers.set_embed_options\u001b[39;00m\n",
      "File \u001b[0;32m/Library/Frameworks/Python.framework/Versions/3.11/lib/python3.11/site-packages/altair/utils/_vegafusion_data.py:235\u001b[0m, in \u001b[0;36mcompile_with_vegafusion\u001b[0;34m(vegalite_spec)\u001b[0m\n\u001b[1;32m    232\u001b[0m \u001b[38;5;66;03m# Local import to avoid circular ImportError\u001b[39;00m\n\u001b[1;32m    233\u001b[0m \u001b[38;5;28;01mfrom\u001b[39;00m \u001b[38;5;21;01maltair\u001b[39;00m \u001b[38;5;28;01mimport\u001b[39;00m data_transformers, vegalite_compilers\n\u001b[0;32m--> 235\u001b[0m vf \u001b[38;5;241m=\u001b[39m \u001b[43mimport_vegafusion\u001b[49m\u001b[43m(\u001b[49m\u001b[43m)\u001b[49m\n\u001b[1;32m    237\u001b[0m \u001b[38;5;66;03m# Compile Vega-Lite spec to Vega\u001b[39;00m\n\u001b[1;32m    238\u001b[0m compiler \u001b[38;5;241m=\u001b[39m vegalite_compilers\u001b[38;5;241m.\u001b[39mget()\n",
      "File \u001b[0;32m/Library/Frameworks/Python.framework/Versions/3.11/lib/python3.11/site-packages/altair/utils/_importers.py:40\u001b[0m, in \u001b[0;36mimport_vegafusion\u001b[0;34m()\u001b[0m\n\u001b[1;32m     29\u001b[0m \u001b[38;5;28;01mexcept\u001b[39;00m \u001b[38;5;167;01mImportError\u001b[39;00m \u001b[38;5;28;01mas\u001b[39;00m err:\n\u001b[1;32m     30\u001b[0m     msg \u001b[38;5;241m=\u001b[39m (\n\u001b[1;32m     31\u001b[0m         \u001b[38;5;124m'\u001b[39m\u001b[38;5;124mThe \u001b[39m\u001b[38;5;124m\"\u001b[39m\u001b[38;5;124mvegafusion\u001b[39m\u001b[38;5;124m\"\u001b[39m\u001b[38;5;124m data transformer and chart.transformed_data feature requires\u001b[39m\u001b[38;5;130;01m\\n\u001b[39;00m\u001b[38;5;124m'\u001b[39m\n\u001b[1;32m     32\u001b[0m         \u001b[38;5;124mf\u001b[39m\u001b[38;5;124m\"\u001b[39m\u001b[38;5;124mversion \u001b[39m\u001b[38;5;132;01m{\u001b[39;00mmin_version\u001b[38;5;132;01m}\u001b[39;00m\u001b[38;5;124m or greater of the \u001b[39m\u001b[38;5;124m'\u001b[39m\u001b[38;5;124mvegafusion-python-embed\u001b[39m\u001b[38;5;124m'\u001b[39m\u001b[38;5;124m and \u001b[39m\u001b[38;5;124m'\u001b[39m\u001b[38;5;124mvegafusion\u001b[39m\u001b[38;5;124m'\u001b[39m\u001b[38;5;124m packages.\u001b[39m\u001b[38;5;130;01m\\n\u001b[39;00m\u001b[38;5;124m\"\u001b[39m\n\u001b[0;32m   (...)\u001b[0m\n\u001b[1;32m     38\u001b[0m         \u001b[38;5;124mf\u001b[39m\u001b[38;5;124m\"\u001b[39m\u001b[38;5;124mImportError: \u001b[39m\u001b[38;5;132;01m{\u001b[39;00merr\u001b[38;5;241m.\u001b[39margs[\u001b[38;5;241m0\u001b[39m]\u001b[38;5;132;01m}\u001b[39;00m\u001b[38;5;124m\"\u001b[39m\n\u001b[1;32m     39\u001b[0m     )\n\u001b[0;32m---> 40\u001b[0m     \u001b[38;5;28;01mraise\u001b[39;00m \u001b[38;5;167;01mImportError\u001b[39;00m(msg) \u001b[38;5;28;01mfrom\u001b[39;00m \u001b[38;5;21;01merr\u001b[39;00m\n",
      "\u001b[0;31mImportError\u001b[0m: The \"vegafusion\" data transformer and chart.transformed_data feature requires\nversion 1.5.0 or greater of the 'vegafusion-python-embed' and 'vegafusion' packages.\nThese can be installed with pip using:\n    pip install \"vegafusion[embed]>=1.5.0\"\nOr with conda using:\n    conda install -c conda-forge \"vegafusion-python-embed>=1.5.0\" \"vegafusion>=1.5.0\"\n\nImportError: vegafusion"
     ]
    },
    {
     "data": {
      "text/plain": [
       "alt.Chart(...)"
      ]
     },
     "execution_count": 14,
     "metadata": {},
     "output_type": "execute_result"
    }
   ],
   "source": [
    "# ___ = alt.Chart(\n",
    "#     insurance,\n",
    "#     title=___  # Set the title for the entire plot\n",
    "# ).mark_point(opacity=___).encode(\n",
    "#     x=alt.X(___)\n",
    "#         .___(___)\n",
    "#         .scale(zero=False),\n",
    "#     y=alt.Y(___).___(___)\n",
    "# )\n",
    "\n",
    "%pip install vegafusion\n",
    "# your code here\n",
    "bmi_plot = alt.Chart(\n",
    "    insurance,  \n",
    "    title='Charges vs BMI' \n",
    ").mark_point(opacity=0.4).encode(\n",
    "    x=alt.X('bmi', title='BMI'), \n",
    "    y=alt.Y('charges', title='Charges')  \n",
    ")\n",
    "\n",
    "bmi_plot\n",
    "\n"
   ]
  },
  {
   "cell_type": "code",
   "execution_count": null,
   "metadata": {
    "deletable": false,
    "editable": false,
    "nbgrader": {
     "cell_type": "code",
     "checksum": "88894aea20718f40011143494bbd2fc7",
     "grade": true,
     "grade_id": "cell-b6e79c0645925ade",
     "locked": true,
     "points": 1,
     "schema_version": 3,
     "solution": false
    }
   },
   "outputs": [],
   "source": [
    "from hashlib import sha1\n",
    "assert sha1(str(type(bmi_plot is None)).encode(\"utf-8\")+b\"472ae\").hexdigest() == \"1193d6e28acd3d7bdd9fb79cf436b3202175c987\", \"type of bmi_plot is None is not bool. bmi_plot is None should be a bool\"\n",
    "assert sha1(str(bmi_plot is None).encode(\"utf-8\")+b\"472ae\").hexdigest() == \"bb865e5e89d954ce2bce84d8ca122a2500e2100f\", \"boolean value of bmi_plot is None is not correct\"\n",
    "\n",
    "assert sha1(str(type(bmi_plot.encoding.x['shorthand'])).encode(\"utf-8\")+b\"472af\").hexdigest() == \"033c9c378005e993b94d4b4d5ff83eaf5f0fb7b3\", \"type of bmi_plot.encoding.x['shorthand'] is not str. bmi_plot.encoding.x['shorthand'] should be an str\"\n",
    "assert sha1(str(len(bmi_plot.encoding.x['shorthand'])).encode(\"utf-8\")+b\"472af\").hexdigest() == \"4d5afa3748afb4c7d576a3bf25c6c8cd435e30a6\", \"length of bmi_plot.encoding.x['shorthand'] is not correct\"\n",
    "assert sha1(str(bmi_plot.encoding.x['shorthand'].lower()).encode(\"utf-8\")+b\"472af\").hexdigest() == \"ec9ee9185d778042fb3d534ffde57d6edd72909c\", \"value of bmi_plot.encoding.x['shorthand'] is not correct\"\n",
    "assert sha1(str(bmi_plot.encoding.x['shorthand']).encode(\"utf-8\")+b\"472af\").hexdigest() == \"ec9ee9185d778042fb3d534ffde57d6edd72909c\", \"correct string value of bmi_plot.encoding.x['shorthand'] but incorrect case of letters\"\n",
    "\n",
    "assert sha1(str(type(bmi_plot.encoding.y['shorthand'])).encode(\"utf-8\")+b\"472b0\").hexdigest() == \"caedcdf77662a3f09655c358a0c07a6fb066b672\", \"type of bmi_plot.encoding.y['shorthand'] is not str. bmi_plot.encoding.y['shorthand'] should be an str\"\n",
    "assert sha1(str(len(bmi_plot.encoding.y['shorthand'])).encode(\"utf-8\")+b\"472b0\").hexdigest() == \"e2a65ce822ad139fb5a25263adfd107f04afb203\", \"length of bmi_plot.encoding.y['shorthand'] is not correct\"\n",
    "assert sha1(str(bmi_plot.encoding.y['shorthand'].lower()).encode(\"utf-8\")+b\"472b0\").hexdigest() == \"ee36fc007e7ab4f2f854a182b05520f886cd578c\", \"value of bmi_plot.encoding.y['shorthand'] is not correct\"\n",
    "assert sha1(str(bmi_plot.encoding.y['shorthand']).encode(\"utf-8\")+b\"472b0\").hexdigest() == \"ee36fc007e7ab4f2f854a182b05520f886cd578c\", \"correct string value of bmi_plot.encoding.y['shorthand'] but incorrect case of letters\"\n",
    "\n",
    "assert sha1(str(type(bmi_plot.mark)).encode(\"utf-8\")+b\"472b1\").hexdigest() == \"09badd2c8fc9cf48f407fcf156460d46ec6a1c6c\", \"type of bmi_plot.mark is not correct\"\n",
    "assert sha1(str(bmi_plot.mark).encode(\"utf-8\")+b\"472b1\").hexdigest() == \"741424a3397894fd12fdd3edfc3ca92c672928d8\", \"value of bmi_plot.mark is not correct\"\n",
    "\n",
    "assert sha1(str(type(isinstance(bmi_plot.encoding.x['title'], str))).encode(\"utf-8\")+b\"472b2\").hexdigest() == \"6722f5f88507506a4577baf96c2afb5c72cbd2fe\", \"type of isinstance(bmi_plot.encoding.x['title'], str) is not bool. isinstance(bmi_plot.encoding.x['title'], str) should be a bool\"\n",
    "assert sha1(str(isinstance(bmi_plot.encoding.x['title'], str)).encode(\"utf-8\")+b\"472b2\").hexdigest() == \"068b96cae34378e8badaa36a1cac0d2cb0fb89aa\", \"boolean value of isinstance(bmi_plot.encoding.x['title'], str) is not correct\"\n",
    "\n",
    "assert sha1(str(type(isinstance(bmi_plot.encoding.y['title'], str))).encode(\"utf-8\")+b\"472b3\").hexdigest() == \"97f0eefc70f11efea8f9fbcf91d1cc37a00069cc\", \"type of isinstance(bmi_plot.encoding.y['title'], str) is not bool. isinstance(bmi_plot.encoding.y['title'], str) should be a bool\"\n",
    "assert sha1(str(isinstance(bmi_plot.encoding.y['title'], str)).encode(\"utf-8\")+b\"472b3\").hexdigest() == \"e86548285752d265d3835ee5ddb44b2b7b68b976\", \"boolean value of isinstance(bmi_plot.encoding.y['title'], str) is not correct\"\n",
    "\n",
    "print('Success!')"
   ]
  },
  {
   "cell_type": "markdown",
   "metadata": {
    "deletable": false,
    "editable": false,
    "nbgrader": {
     "cell_type": "markdown",
     "checksum": "9af33bf4ee59c56bf62df4df44072a75",
     "grade": false,
     "grade_id": "cell-128a1023c3d0bc57",
     "locked": true,
     "schema_version": 3,
     "solution": false
    }
   },
   "source": [
    "**Question 1.6**\n",
    "<br> {points: 3}\n",
    "\n",
    "Analysis: Comment on the effectiveness of the plot. Take into consideration the rules of thumb discussed in lecture. Also comment on what could be improved for this plot and also what is done correctly. \n",
    "\n",
    "Answer in the cell below."
   ]
  },
  {
   "cell_type": "markdown",
   "metadata": {
    "deletable": false,
    "nbgrader": {
     "cell_type": "markdown",
     "checksum": "9b2daa8b91edbccdb89ea0adecd51245",
     "grade": true,
     "grade_id": "cell-a3673af9bcf8288b",
     "locked": false,
     "points": 3,
     "schema_version": 3,
     "solution": true
    }
   },
   "source": [
    "DOUBLE CLICK TO EDIT **THIS CELL** AND REPLACE THIS TEXT WITH YOUR ANSWER."
   ]
  },
  {
   "cell_type": "markdown",
   "metadata": {
    "deletable": false,
    "editable": false,
    "nbgrader": {
     "cell_type": "markdown",
     "checksum": "feb9a1519eb25c8c86cc1c324d16d22d",
     "grade": false,
     "grade_id": "cell-9a854e3ee84b2fe0",
     "locked": true,
     "schema_version": 3,
     "solution": false
    }
   },
   "source": [
    "**Question 1.7**\n",
    "<br> {points: 3}\n",
    "\n",
    "Analysis: What do you observe from the scatter plot? Do the data suggest that there might be evidence of a relationship between BMI and medical costs of individuals? \n",
    "From this plot alone, can we say higher BMI causes higher medical charges? Why or why not? \n",
    "\n",
    "Answer in the cell below. "
   ]
  },
  {
   "cell_type": "markdown",
   "metadata": {
    "deletable": false,
    "nbgrader": {
     "cell_type": "markdown",
     "checksum": "fe3c8775d82b1cccd32d0a856917600b",
     "grade": true,
     "grade_id": "cell-93c1d5cb7d1bcbea",
     "locked": false,
     "points": 3,
     "schema_version": 3,
     "solution": true
    }
   },
   "source": [
    "DOUBLE CLICK TO EDIT **THIS CELL** AND REPLACE THIS TEXT WITH YOUR ANSWER."
   ]
  },
  {
   "cell_type": "markdown",
   "metadata": {
    "deletable": false,
    "editable": false,
    "nbgrader": {
     "cell_type": "markdown",
     "checksum": "916d5d1fac7dab83f1e108fcf6ff2ede",
     "grade": false,
     "grade_id": "cell-8e216e802a268da5",
     "locked": true,
     "schema_version": 3,
     "solution": false
    }
   },
   "source": [
    "**Question 1.8**\n",
    "<br> {points: 3}\n",
    "\n",
    "Again, based on information from the National Heart, Lung and Blood Institute of the US, smoking cigarettes is said to be a risk factor for obesity. Create the same plot as you did in **Question 1.5** but this time add the `color` encoding to observe if smoking might affect the body mass of individuals. Keep `opacity = 0.4` to make the scatter points transparent.\n",
    "\n",
    "*Assign your answer to an object called `smoke_plot`. Make sure to label your axes and the legend appropriately.*"
   ]
  },
  {
   "cell_type": "code",
   "execution_count": null,
   "metadata": {
    "deletable": false,
    "nbgrader": {
     "cell_type": "code",
     "checksum": "053774fdc7324c213b192c42c6338730",
     "grade": false,
     "grade_id": "cell-2128ed1aa06e5391",
     "locked": false,
     "schema_version": 3,
     "solution": true,
     "task": false
    }
   },
   "outputs": [],
   "source": [
    "# your code here\n",
    "raise NotImplementedError\n",
    "smoke_plot"
   ]
  },
  {
   "cell_type": "code",
   "execution_count": null,
   "metadata": {
    "deletable": false,
    "editable": false,
    "nbgrader": {
     "cell_type": "code",
     "checksum": "838ec9da3c00e362acabfb10dfcd6ba5",
     "grade": true,
     "grade_id": "cell-a5dc720f9e5813bd",
     "locked": true,
     "points": 3,
     "schema_version": 3,
     "solution": false,
     "task": false
    }
   },
   "outputs": [],
   "source": [
    "from hashlib import sha1\n",
    "assert sha1(str(type(smoke_plot is None)).encode(\"utf-8\")+b\"a1d0e\").hexdigest() == \"5d2729256924d973ded6e6c1e1590736ca5f7c13\", \"type of smoke_plot is None is not bool. smoke_plot is None should be a bool\"\n",
    "assert sha1(str(smoke_plot is None).encode(\"utf-8\")+b\"a1d0e\").hexdigest() == \"3c602b9285a9b032e6f0799db94eee0318c5939c\", \"boolean value of smoke_plot is None is not correct\"\n",
    "\n",
    "assert sha1(str(type(smoke_plot.mark)).encode(\"utf-8\")+b\"a1d0f\").hexdigest() == \"632ec55be177ce1b1d81b8fa663a4d1a10eb29f0\", \"type of smoke_plot.mark is not correct\"\n",
    "assert sha1(str(smoke_plot.mark).encode(\"utf-8\")+b\"a1d0f\").hexdigest() == \"356c4d024752333c8f782e6f29ae4442d56a294a\", \"value of smoke_plot.mark is not correct\"\n",
    "\n",
    "assert sha1(str(type(smoke_plot.encoding.x['shorthand'])).encode(\"utf-8\")+b\"a1d10\").hexdigest() == \"cf2620faaaadb4567c45c64fd5d8926804584673\", \"type of smoke_plot.encoding.x['shorthand'] is not str. smoke_plot.encoding.x['shorthand'] should be an str\"\n",
    "assert sha1(str(len(smoke_plot.encoding.x['shorthand'])).encode(\"utf-8\")+b\"a1d10\").hexdigest() == \"243f3bd290a3cc0cf71c746a0a50f9a8a4680870\", \"length of smoke_plot.encoding.x['shorthand'] is not correct\"\n",
    "assert sha1(str(smoke_plot.encoding.x['shorthand'].lower()).encode(\"utf-8\")+b\"a1d10\").hexdigest() == \"2bf931ac6d652813c22ba6d7b709cfe96698d3ea\", \"value of smoke_plot.encoding.x['shorthand'] is not correct\"\n",
    "assert sha1(str(smoke_plot.encoding.x['shorthand']).encode(\"utf-8\")+b\"a1d10\").hexdigest() == \"2bf931ac6d652813c22ba6d7b709cfe96698d3ea\", \"correct string value of smoke_plot.encoding.x['shorthand'] but incorrect case of letters\"\n",
    "\n",
    "assert sha1(str(type(smoke_plot.encoding.y['shorthand'])).encode(\"utf-8\")+b\"a1d11\").hexdigest() == \"09572e6399428ff4183d0376bc008f3b135aa932\", \"type of smoke_plot.encoding.y['shorthand'] is not str. smoke_plot.encoding.y['shorthand'] should be an str\"\n",
    "assert sha1(str(len(smoke_plot.encoding.y['shorthand'])).encode(\"utf-8\")+b\"a1d11\").hexdigest() == \"71a5d754863484cc75c16b2b327025552e7726e1\", \"length of smoke_plot.encoding.y['shorthand'] is not correct\"\n",
    "assert sha1(str(smoke_plot.encoding.y['shorthand'].lower()).encode(\"utf-8\")+b\"a1d11\").hexdigest() == \"ac89f7221894bb7edf111d4bcdb15322ce667667\", \"value of smoke_plot.encoding.y['shorthand'] is not correct\"\n",
    "assert sha1(str(smoke_plot.encoding.y['shorthand']).encode(\"utf-8\")+b\"a1d11\").hexdigest() == \"ac89f7221894bb7edf111d4bcdb15322ce667667\", \"correct string value of smoke_plot.encoding.y['shorthand'] but incorrect case of letters\"\n",
    "\n",
    "assert sha1(str(type(smoke_plot.encoding.color['shorthand'])).encode(\"utf-8\")+b\"a1d12\").hexdigest() == \"5e146436c95c3be0c0b5891dba8fa3915c86ad72\", \"type of smoke_plot.encoding.color['shorthand'] is not str. smoke_plot.encoding.color['shorthand'] should be an str\"\n",
    "assert sha1(str(len(smoke_plot.encoding.color['shorthand'])).encode(\"utf-8\")+b\"a1d12\").hexdigest() == \"410d10639964c884ed8546f208184ca298f414df\", \"length of smoke_plot.encoding.color['shorthand'] is not correct\"\n",
    "assert sha1(str(smoke_plot.encoding.color['shorthand'].lower()).encode(\"utf-8\")+b\"a1d12\").hexdigest() == \"aaa8ea7f22cfe19d2d5c4963a7f1d43057ddac88\", \"value of smoke_plot.encoding.color['shorthand'] is not correct\"\n",
    "assert sha1(str(smoke_plot.encoding.color['shorthand']).encode(\"utf-8\")+b\"a1d12\").hexdigest() == \"aaa8ea7f22cfe19d2d5c4963a7f1d43057ddac88\", \"correct string value of smoke_plot.encoding.color['shorthand'] but incorrect case of letters\"\n",
    "\n",
    "assert sha1(str(type(isinstance(smoke_plot.encoding.x['title'], str))).encode(\"utf-8\")+b\"a1d13\").hexdigest() == \"e363de156d5cd8b7b23cf84c70fe0f89ca8d37a2\", \"type of isinstance(smoke_plot.encoding.x['title'], str) is not bool. isinstance(smoke_plot.encoding.x['title'], str) should be a bool\"\n",
    "assert sha1(str(isinstance(smoke_plot.encoding.x['title'], str)).encode(\"utf-8\")+b\"a1d13\").hexdigest() == \"9712a542b912cdffee876ae2cbcf02af75879895\", \"boolean value of isinstance(smoke_plot.encoding.x['title'], str) is not correct\"\n",
    "\n",
    "assert sha1(str(type(isinstance(smoke_plot.encoding.y['title'], str))).encode(\"utf-8\")+b\"a1d14\").hexdigest() == \"7a5fc118c48fa58af7a92e7988d8582121842046\", \"type of isinstance(smoke_plot.encoding.y['title'], str) is not bool. isinstance(smoke_plot.encoding.y['title'], str) should be a bool\"\n",
    "assert sha1(str(isinstance(smoke_plot.encoding.y['title'], str)).encode(\"utf-8\")+b\"a1d14\").hexdigest() == \"8bcc6e5b50c7796e4e6a65a604595a2f7fc94b24\", \"boolean value of isinstance(smoke_plot.encoding.y['title'], str) is not correct\"\n",
    "\n",
    "assert sha1(str(type(isinstance(smoke_plot.encoding.color['title'], str))).encode(\"utf-8\")+b\"a1d15\").hexdigest() == \"730fa2e1e008b8ef8497cebf60771335d691594f\", \"type of isinstance(smoke_plot.encoding.color['title'], str) is not bool. isinstance(smoke_plot.encoding.color['title'], str) should be a bool\"\n",
    "assert sha1(str(isinstance(smoke_plot.encoding.color['title'], str)).encode(\"utf-8\")+b\"a1d15\").hexdigest() == \"bb9d1e886cf70630ac5d04a05f8f4342256ebba7\", \"boolean value of isinstance(smoke_plot.encoding.color['title'], str) is not correct\"\n",
    "\n",
    "print('Success!')"
   ]
  },
  {
   "cell_type": "markdown",
   "metadata": {
    "deletable": false,
    "editable": false,
    "nbgrader": {
     "cell_type": "markdown",
     "checksum": "9687eb53e9e56831a6ca975b6ac3e2f9",
     "grade": false,
     "grade_id": "cell-4cbc5d12976da647",
     "locked": true,
     "schema_version": 3,
     "solution": false
    }
   },
   "source": [
    "**Question 1.9.0** (Analyzing the Graph) True or False: \n",
    "<br> {points: 1}\n",
    "\n",
    "Smokers generally have a lower BMI than non-smokers. \n",
    "\n",
    "*Assign your answer to an object called `answer1_9_0`. Make sure your answer is either `True` or `False`.*"
   ]
  },
  {
   "cell_type": "code",
   "execution_count": null,
   "metadata": {
    "deletable": false,
    "nbgrader": {
     "cell_type": "code",
     "checksum": "ca35652fff3cb5d09e46b0976b9c159f",
     "grade": false,
     "grade_id": "cell-4302d377b0fc06e3",
     "locked": false,
     "schema_version": 3,
     "solution": true
    }
   },
   "outputs": [],
   "source": [
    "# your code here\n",
    "raise NotImplementedError"
   ]
  },
  {
   "cell_type": "code",
   "execution_count": null,
   "metadata": {
    "deletable": false,
    "editable": false,
    "nbgrader": {
     "cell_type": "code",
     "checksum": "89cf7ab4ce629ace21c2d469320a11fd",
     "grade": true,
     "grade_id": "cell-9d85f368775a121b",
     "locked": true,
     "points": 1,
     "schema_version": 3,
     "solution": false
    }
   },
   "outputs": [],
   "source": [
    "from hashlib import sha1\n",
    "assert sha1(str(type(answer1_9_0)).encode(\"utf-8\")+b\"64932\").hexdigest() == \"cc281831448f8b8aa80cb5d7c3baf3b17172a353\", \"type of answer1_9_0 is not bool. answer1_9_0 should be a bool\"\n",
    "assert sha1(str(answer1_9_0).encode(\"utf-8\")+b\"64932\").hexdigest() == \"75278ad1e5b66059430b17d670a4b182671abf11\", \"boolean value of answer1_9_0 is not correct\"\n",
    "\n",
    "print('Success!')"
   ]
  },
  {
   "cell_type": "markdown",
   "metadata": {
    "deletable": false,
    "editable": false,
    "nbgrader": {
     "cell_type": "markdown",
     "checksum": "0a877743e5978eb5612392b81c6d74f2",
     "grade": false,
     "grade_id": "cell-9548b0b41e3b4700",
     "locked": true,
     "schema_version": 3,
     "solution": false
    }
   },
   "source": [
    "**Question 1.9.1** (Analyzing the Graph) True or False: \n",
    "<br> {points: 1}\n",
    "\n",
    "Smokers generally have higher medical charges than non-smokers.\n",
    "\n",
    "*Assign your answer to an object called `answer1_9_1`.Make sure your answer is either `True` or `False`.*"
   ]
  },
  {
   "cell_type": "code",
   "execution_count": null,
   "metadata": {
    "deletable": false,
    "nbgrader": {
     "cell_type": "code",
     "checksum": "bbc85d9bca6cf15a7aab41acbe32aeec",
     "grade": false,
     "grade_id": "cell-b9f9c54000889b5c",
     "locked": false,
     "schema_version": 3,
     "solution": true
    }
   },
   "outputs": [],
   "source": [
    "# your code here\n",
    "raise NotImplementedError"
   ]
  },
  {
   "cell_type": "code",
   "execution_count": null,
   "metadata": {
    "deletable": false,
    "editable": false,
    "nbgrader": {
     "cell_type": "code",
     "checksum": "1065412630fad3516bb07f4c2fb7c50c",
     "grade": true,
     "grade_id": "cell-b82577eedde24cb1",
     "locked": true,
     "points": 1,
     "schema_version": 3,
     "solution": false
    }
   },
   "outputs": [],
   "source": [
    "from hashlib import sha1\n",
    "assert sha1(str(type(answer1_9_1)).encode(\"utf-8\")+b\"726fb\").hexdigest() == \"62b91597814a3332ac196fa07917c9cdabeb6a4a\", \"type of answer1_9_1 is not bool. answer1_9_1 should be a bool\"\n",
    "assert sha1(str(answer1_9_1).encode(\"utf-8\")+b\"726fb\").hexdigest() == \"7ae8479f7e92390e97392ac647c12c397eb00174\", \"boolean value of answer1_9_1 is not correct\"\n",
    "\n",
    "print('Success!')"
   ]
  },
  {
   "cell_type": "markdown",
   "metadata": {
    "deletable": false,
    "editable": false,
    "nbgrader": {
     "cell_type": "markdown",
     "checksum": "7ecc4bc863be073a6df4d614d0afa04f",
     "grade": false,
     "grade_id": "cell-56d49ae191d3e93f",
     "locked": true,
     "schema_version": 3,
     "solution": false
    }
   },
   "source": [
    "**Question 1.10**\n",
    "<br> {points: 1}\n",
    "\n",
    "Finally, create a bar graph that displays the percentage of smokers for both females and males in the data set. Plot sex on the x-axis, and colour the bars to differentiate between smokers and nonsmokers. This could, for example, be used help us determine whether we should consider smoking behaviour when exploring whether there is a relationship between sex and medical costs.\n",
    "\n",
    "To count the number of observations in each bar, we are using the `count()` aggregation in `altair`, just as we did for histograms in the textbook. We then convert the count to a percentage with `stack('normalize')`.\n",
    "\n",
    "*Assign your answer to an object called `bar_plot`. Make sure to label your axes appropriately.*\n",
    "\n",
    ">*Note - many historical datasets treated sex as a variable where the possible values are only binary: male or female. This representation in this question reflects how the data were historically collected and is not meant to imply that we believe that sex is binary.*"
   ]
  },
  {
   "cell_type": "code",
   "execution_count": null,
   "metadata": {
    "deletable": false,
    "nbgrader": {
     "cell_type": "code",
     "checksum": "a47c40b79b2da5198493f0334d3b51bb",
     "grade": false,
     "grade_id": "cell-19a1b424460c544e",
     "locked": false,
     "schema_version": 3,
     "solution": true
    }
   },
   "outputs": [],
   "source": [
    "# ___ = alt.Chart(\n",
    "#     insurance,\n",
    "#     title=___\n",
    "# ).mark_bar().encode(\n",
    "#     x=alt.X(___)\n",
    "#         .title(___),\n",
    "#     y=alt.Y(\"count()\")\n",
    "#         .title(___)\n",
    "#         .stack('normalize'),\n",
    "#     color=alt.Color(___).title(___)\n",
    "# )\n",
    "\n",
    "# your code here\n",
    "raise NotImplementedError\n",
    "bar_plot"
   ]
  },
  {
   "cell_type": "code",
   "execution_count": null,
   "metadata": {
    "deletable": false,
    "editable": false,
    "nbgrader": {
     "cell_type": "code",
     "checksum": "632ad821e0a055a013c66dc92334cf57",
     "grade": true,
     "grade_id": "cell-37fe64d61b7366b4",
     "locked": true,
     "points": 1,
     "schema_version": 3,
     "solution": false
    }
   },
   "outputs": [],
   "source": [
    "from hashlib import sha1\n",
    "assert sha1(str(type(bar_plot is None)).encode(\"utf-8\")+b\"3557b\").hexdigest() == \"541db44201bb8811fa2a7aa74c60ad0d264bfe29\", \"type of bar_plot is None is not bool. bar_plot is None should be a bool\"\n",
    "assert sha1(str(bar_plot is None).encode(\"utf-8\")+b\"3557b\").hexdigest() == \"b4058927a4281f6f9931dd99d2de6b4a25eeb2fa\", \"boolean value of bar_plot is None is not correct\"\n",
    "\n",
    "assert sha1(str(type(bar_plot.encoding.x['shorthand'])).encode(\"utf-8\")+b\"3557c\").hexdigest() == \"860a4ea4b83906e827dfd927664e9c6d66aa5223\", \"type of bar_plot.encoding.x['shorthand'] is not str. bar_plot.encoding.x['shorthand'] should be an str\"\n",
    "assert sha1(str(len(bar_plot.encoding.x['shorthand'])).encode(\"utf-8\")+b\"3557c\").hexdigest() == \"a531be90ab5a5041830961e839554f0ca0e969a5\", \"length of bar_plot.encoding.x['shorthand'] is not correct\"\n",
    "assert sha1(str(bar_plot.encoding.x['shorthand'].lower()).encode(\"utf-8\")+b\"3557c\").hexdigest() == \"174af161e741636c604e8ca2d86d6eab37d8b941\", \"value of bar_plot.encoding.x['shorthand'] is not correct\"\n",
    "assert sha1(str(bar_plot.encoding.x['shorthand']).encode(\"utf-8\")+b\"3557c\").hexdigest() == \"174af161e741636c604e8ca2d86d6eab37d8b941\", \"correct string value of bar_plot.encoding.x['shorthand'] but incorrect case of letters\"\n",
    "\n",
    "assert sha1(str(type(bar_plot.encoding.y['shorthand'])).encode(\"utf-8\")+b\"3557d\").hexdigest() == \"c297b0c94630ad81f23fd483b4ebbaf02fb63315\", \"type of bar_plot.encoding.y['shorthand'] is not str. bar_plot.encoding.y['shorthand'] should be an str\"\n",
    "assert sha1(str(len(bar_plot.encoding.y['shorthand'])).encode(\"utf-8\")+b\"3557d\").hexdigest() == \"69a8c36209b542a7efd5c6610d54448c5b3cc31f\", \"length of bar_plot.encoding.y['shorthand'] is not correct\"\n",
    "assert sha1(str(bar_plot.encoding.y['shorthand'].lower()).encode(\"utf-8\")+b\"3557d\").hexdigest() == \"66eb23ea94a5c6921be83d0ed9bd406a9931ef10\", \"value of bar_plot.encoding.y['shorthand'] is not correct\"\n",
    "assert sha1(str(bar_plot.encoding.y['shorthand']).encode(\"utf-8\")+b\"3557d\").hexdigest() == \"66eb23ea94a5c6921be83d0ed9bd406a9931ef10\", \"correct string value of bar_plot.encoding.y['shorthand'] but incorrect case of letters\"\n",
    "\n",
    "assert sha1(str(type(bar_plot.encoding.color['shorthand'])).encode(\"utf-8\")+b\"3557e\").hexdigest() == \"10d352347a8302dc9d49c0ba84d4158f77b5ecc7\", \"type of bar_plot.encoding.color['shorthand'] is not str. bar_plot.encoding.color['shorthand'] should be an str\"\n",
    "assert sha1(str(len(bar_plot.encoding.color['shorthand'])).encode(\"utf-8\")+b\"3557e\").hexdigest() == \"302fd0bc1284fa3380e2957a3b7db48035c5167a\", \"length of bar_plot.encoding.color['shorthand'] is not correct\"\n",
    "assert sha1(str(bar_plot.encoding.color['shorthand'].lower()).encode(\"utf-8\")+b\"3557e\").hexdigest() == \"c1ac6ce335226621599f896444cac96a157a8608\", \"value of bar_plot.encoding.color['shorthand'] is not correct\"\n",
    "assert sha1(str(bar_plot.encoding.color['shorthand']).encode(\"utf-8\")+b\"3557e\").hexdigest() == \"c1ac6ce335226621599f896444cac96a157a8608\", \"correct string value of bar_plot.encoding.color['shorthand'] but incorrect case of letters\"\n",
    "\n",
    "assert sha1(str(type(bar_plot.encoding.y['stack'])).encode(\"utf-8\")+b\"3557f\").hexdigest() == \"b4767a6da9bfe81091957e989eb4e26fae7a4547\", \"type of bar_plot.encoding.y['stack'] is not str. bar_plot.encoding.y['stack'] should be an str\"\n",
    "assert sha1(str(len(bar_plot.encoding.y['stack'])).encode(\"utf-8\")+b\"3557f\").hexdigest() == \"c48ba5d795117a9ab8a3545869c89cc2f2134295\", \"length of bar_plot.encoding.y['stack'] is not correct\"\n",
    "assert sha1(str(bar_plot.encoding.y['stack'].lower()).encode(\"utf-8\")+b\"3557f\").hexdigest() == \"5bd1991c21f0f417a233d1f50b39f14774b03ff6\", \"value of bar_plot.encoding.y['stack'] is not correct\"\n",
    "assert sha1(str(bar_plot.encoding.y['stack']).encode(\"utf-8\")+b\"3557f\").hexdigest() == \"5bd1991c21f0f417a233d1f50b39f14774b03ff6\", \"correct string value of bar_plot.encoding.y['stack'] but incorrect case of letters\"\n",
    "\n",
    "assert sha1(str(type(bar_plot.mark)).encode(\"utf-8\")+b\"35580\").hexdigest() == \"d378a0f5e37a2dc87d87ae5dec254dbb09b6edc4\", \"type of bar_plot.mark is not str. bar_plot.mark should be an str\"\n",
    "assert sha1(str(len(bar_plot.mark)).encode(\"utf-8\")+b\"35580\").hexdigest() == \"37ce8e4f389f78734af7e7c089432bc68a916764\", \"length of bar_plot.mark is not correct\"\n",
    "assert sha1(str(bar_plot.mark.lower()).encode(\"utf-8\")+b\"35580\").hexdigest() == \"50c25729064f3a96875d0ffaec391091ef2786b0\", \"value of bar_plot.mark is not correct\"\n",
    "assert sha1(str(bar_plot.mark).encode(\"utf-8\")+b\"35580\").hexdigest() == \"50c25729064f3a96875d0ffaec391091ef2786b0\", \"correct string value of bar_plot.mark but incorrect case of letters\"\n",
    "\n",
    "assert sha1(str(type(isinstance(bar_plot.encoding.x['title'], str))).encode(\"utf-8\")+b\"35581\").hexdigest() == \"a89256fdb5ad5afc4c82d29996c49e1498fe07b1\", \"type of isinstance(bar_plot.encoding.x['title'], str) is not bool. isinstance(bar_plot.encoding.x['title'], str) should be a bool\"\n",
    "assert sha1(str(isinstance(bar_plot.encoding.x['title'], str)).encode(\"utf-8\")+b\"35581\").hexdigest() == \"669e84d4caa3f690df4c5a2c7473af6edc52cec0\", \"boolean value of isinstance(bar_plot.encoding.x['title'], str) is not correct\"\n",
    "\n",
    "assert sha1(str(type(isinstance(bar_plot.encoding.y['title'], str))).encode(\"utf-8\")+b\"35582\").hexdigest() == \"cab5bb99158a504e68be04da4d5ef8cf119b3608\", \"type of isinstance(bar_plot.encoding.y['title'], str) is not bool. isinstance(bar_plot.encoding.y['title'], str) should be a bool\"\n",
    "assert sha1(str(isinstance(bar_plot.encoding.y['title'], str)).encode(\"utf-8\")+b\"35582\").hexdigest() == \"ae8208c581f15219a0fd4f073290c3acb878f2bb\", \"boolean value of isinstance(bar_plot.encoding.y['title'], str) is not correct\"\n",
    "\n",
    "assert sha1(str(type(isinstance(bar_plot.encoding.color['title'], str))).encode(\"utf-8\")+b\"35583\").hexdigest() == \"10dfcca0e1b03f139dd45ebab8c22eef40f4b60a\", \"type of isinstance(bar_plot.encoding.color['title'], str) is not bool. isinstance(bar_plot.encoding.color['title'], str) should be a bool\"\n",
    "assert sha1(str(isinstance(bar_plot.encoding.color['title'], str)).encode(\"utf-8\")+b\"35583\").hexdigest() == \"0a3db160ba5ee9e844ce4bdd041a53f98083118b\", \"boolean value of isinstance(bar_plot.encoding.color['title'], str) is not correct\"\n",
    "\n",
    "print('Success!')"
   ]
  },
  {
   "cell_type": "markdown",
   "metadata": {
    "deletable": false,
    "editable": false,
    "nbgrader": {
     "cell_type": "markdown",
     "checksum": "9398bd3b0d68cf2679dfe3788643fb7a",
     "grade": false,
     "grade_id": "cell-426d75901920cc91",
     "locked": true,
     "schema_version": 3,
     "solution": false
    }
   },
   "source": [
    "**Question 1.11**\n",
    "<br> {points: 1}\n",
    "\n",
    "Based on the graph, is the percentage of smokers higher amongst men or women?\n",
    "\n",
    "*Assign your answer to an object called `answer1_11`. Make sure your answer is in lowercase and is surrounded by quotation marks (e.g. `\"male\"` or `\"female\"`).*"
   ]
  },
  {
   "cell_type": "code",
   "execution_count": null,
   "metadata": {
    "deletable": false,
    "nbgrader": {
     "cell_type": "code",
     "checksum": "bc74f0ac96dc35273b5125c40172bc84",
     "grade": false,
     "grade_id": "cell-123d8e2e2b0e9555",
     "locked": false,
     "schema_version": 3,
     "solution": true
    }
   },
   "outputs": [],
   "source": [
    "# your code here\n",
    "raise NotImplementedError"
   ]
  },
  {
   "cell_type": "code",
   "execution_count": null,
   "metadata": {
    "deletable": false,
    "editable": false,
    "nbgrader": {
     "cell_type": "code",
     "checksum": "c9e0b9a0933555c31247a4a421237b59",
     "grade": true,
     "grade_id": "cell-204b484044f109f1",
     "locked": true,
     "points": 1,
     "schema_version": 3,
     "solution": false
    }
   },
   "outputs": [],
   "source": [
    "from hashlib import sha1\n",
    "assert sha1(str(type(answer1_11)).encode(\"utf-8\")+b\"db30f\").hexdigest() == \"4253dbcf0b8a6c2e4856718e1c92fc9f0adc5c65\", \"type of answer1_11 is not str. answer1_11 should be an str\"\n",
    "assert sha1(str(len(answer1_11)).encode(\"utf-8\")+b\"db30f\").hexdigest() == \"1ee7f645315ff7e68a32c929cb43b2a4359015d5\", \"length of answer1_11 is not correct\"\n",
    "assert sha1(str(answer1_11.lower()).encode(\"utf-8\")+b\"db30f\").hexdigest() == \"13a93a5ed8eff6ef6bea42dad3f8b6da2940c917\", \"value of answer1_11 is not correct\"\n",
    "assert sha1(str(answer1_11).encode(\"utf-8\")+b\"db30f\").hexdigest() == \"13a93a5ed8eff6ef6bea42dad3f8b6da2940c917\", \"correct string value of answer1_11 but incorrect case of letters\"\n",
    "\n",
    "print('Success!')"
   ]
  },
  {
   "cell_type": "markdown",
   "metadata": {
    "deletable": false,
    "editable": false,
    "nbgrader": {
     "cell_type": "markdown",
     "checksum": "44ac69cf0dcf72d0229d1061e645261f",
     "grade": false,
     "grade_id": "cell-841e1fd7134bfd1c",
     "locked": true,
     "schema_version": 3,
     "solution": false
    }
   },
   "source": [
    "## 2. Color Schemes (beyond the defaults)\n",
    "{points: 1}\n",
    "\n",
    "In the worksheet and this tutorial, you have seen the same colours again and again. These are from the default `altair` color scheme, which is an effective choice in most cases. But what if you want different colors? There are other color palettes available in Altair and you can change the color scheme by specifying its name as a string inside `scale(scheme='...')`. \n",
    "\n",
    "The documentation lists [all the available color schemes](https://vega.github.io/vega/docs/schemes/) and describes what type of data each color scheme is useful for (categorical, sequential, diverging, cyclic). The default categorical colormap used in Altair is \"Tableau10\", which consists of 10 colors and starts with blue, orange, and red. You can also [create your own color scheme](https://altair-viz.github.io/user_guide/customization.html#color-domain-and-range) by supplying the names of the individual colors you want to use (there is [a lot of color names to choose from](https://stackoverflow.com/questions/22408237/named-colors-in-matplotlib/37232760#37232760)).\n",
    "\n",
    "Use the chart you created in Q1.10 and change the color scheme to your favourite from the documentation page linked above. Remember that instead of recreating the entire chart from scratch, you can use the `bar_plot` variable you already created and re-encode only the color channel using the same variable `smoker`, but a different color scheme (it is also fine if you prefer to copy all the code). Optionally, you can also use this [color blindness simulator](https://www.color-blindness.com/coblis-color-blindness-simulator/) to check if your visualization is color blind friendly.\n",
    "\n",
    "*Assign your answer to an object called `bar_plot_colorscheme`.*"
   ]
  },
  {
   "cell_type": "code",
   "execution_count": null,
   "metadata": {
    "deletable": false,
    "nbgrader": {
     "cell_type": "code",
     "checksum": "b63b4d8d5e46567735e03e9a524ab5e7",
     "grade": false,
     "grade_id": "cell-54bd5139136b22a6",
     "locked": false,
     "schema_version": 3,
     "solution": true,
     "task": false
    }
   },
   "outputs": [],
   "source": [
    "# bar_plot_colorscheme = bar_plot.encode(\n",
    "#     ___=alt.Color(___)\n",
    "#         .___(___=___)\n",
    "#         .___(___)\n",
    "# )\n",
    "\n",
    "# your code here\n",
    "raise NotImplementedError\n",
    "bar_plot_colorscheme"
   ]
  },
  {
   "cell_type": "code",
   "execution_count": null,
   "metadata": {
    "deletable": false,
    "editable": false,
    "nbgrader": {
     "cell_type": "code",
     "checksum": "56eec6ac529bc6769ad4968350246b68",
     "grade": true,
     "grade_id": "cell-f3beeed5587546b5",
     "locked": true,
     "points": 1,
     "schema_version": 3,
     "solution": false,
     "task": false
    }
   },
   "outputs": [],
   "source": [
    "from hashlib import sha1\n",
    "assert sha1(str(type(bar_plot_colorscheme is None)).encode(\"utf-8\")+b\"1e368\").hexdigest() == \"4c81312d5578e0635dab347e60912e32f3db1c24\", \"type of bar_plot_colorscheme is None is not bool. bar_plot_colorscheme is None should be a bool\"\n",
    "assert sha1(str(bar_plot_colorscheme is None).encode(\"utf-8\")+b\"1e368\").hexdigest() == \"e504b451562234b791acab34bcf5a681ea3ffd27\", \"boolean value of bar_plot_colorscheme is None is not correct\"\n",
    "\n",
    "assert sha1(str(type(bar_plot.encoding.color['shorthand'])).encode(\"utf-8\")+b\"1e369\").hexdigest() == \"b942f73655e3a64ab72eb825ec839ae572b809ce\", \"type of bar_plot.encoding.color['shorthand'] is not str. bar_plot.encoding.color['shorthand'] should be an str\"\n",
    "assert sha1(str(len(bar_plot.encoding.color['shorthand'])).encode(\"utf-8\")+b\"1e369\").hexdigest() == \"d656e3e7116d74847c779cad82de4598c956ee1a\", \"length of bar_plot.encoding.color['shorthand'] is not correct\"\n",
    "assert sha1(str(bar_plot.encoding.color['shorthand'].lower()).encode(\"utf-8\")+b\"1e369\").hexdigest() == \"6f6f987047b281444ce5ce2847b82310fd2586cb\", \"value of bar_plot.encoding.color['shorthand'] is not correct\"\n",
    "assert sha1(str(bar_plot.encoding.color['shorthand']).encode(\"utf-8\")+b\"1e369\").hexdigest() == \"6f6f987047b281444ce5ce2847b82310fd2586cb\", \"correct string value of bar_plot.encoding.color['shorthand'] but incorrect case of letters\"\n",
    "\n",
    "assert sha1(str(type(isinstance(bar_plot_colorscheme.encoding.color['scale']['scheme'], str))).encode(\"utf-8\")+b\"1e36a\").hexdigest() == \"e8e1e44b3e7e6391507e51d8c18b3ec33ab47eaa\", \"type of isinstance(bar_plot_colorscheme.encoding.color['scale']['scheme'], str) is not bool. isinstance(bar_plot_colorscheme.encoding.color['scale']['scheme'], str) should be a bool\"\n",
    "assert sha1(str(isinstance(bar_plot_colorscheme.encoding.color['scale']['scheme'], str)).encode(\"utf-8\")+b\"1e36a\").hexdigest() == \"0e2b36052678af9c24b4ff9a0f1c1f3e1ad500c5\", \"boolean value of isinstance(bar_plot_colorscheme.encoding.color['scale']['scheme'], str) is not correct\"\n",
    "\n",
    "assert sha1(str(type(isinstance(bar_plot.encoding.color['title'], str))).encode(\"utf-8\")+b\"1e36b\").hexdigest() == \"dde6f4be83013bb75e8d10a9ae819c8452e8107a\", \"type of isinstance(bar_plot.encoding.color['title'], str) is not bool. isinstance(bar_plot.encoding.color['title'], str) should be a bool\"\n",
    "assert sha1(str(isinstance(bar_plot.encoding.color['title'], str)).encode(\"utf-8\")+b\"1e36b\").hexdigest() == \"3ba949bbe46dcacbe99eed43d880e4176fc23e0f\", \"boolean value of isinstance(bar_plot.encoding.color['title'], str) is not correct\"\n",
    "\n",
    "print('Success!')"
   ]
  },
  {
   "cell_type": "markdown",
   "metadata": {
    "deletable": false,
    "editable": false,
    "nbgrader": {
     "cell_type": "markdown",
     "checksum": "bac1b5ab3d4399a4551ac75e67882acb",
     "grade": false,
     "grade_id": "cell-e9106361d22cb189",
     "locked": true,
     "schema_version": 3,
     "solution": false
    }
   },
   "source": [
    "## 3. Fast-Food Chains in the United States (Continued)\n",
    "<br> {points: 3}\n",
    "\n",
    "In `worksheet_viz`, we explored this data set together through some visualizations. Now, it is is all up to you. The goal of this assignment is to create **one** plot that can help you figure out which restaurant to open and where! Your goal is the same as in the worksheet: to figure out which fast food chain to open and figure out which state would be the least competitive.\n",
    "\n",
    "After creating your visualization you need to write a paragraph explaining your visualization and why you chose it. Also, explain your conclusion from the visualization and reasoning as to how you came to that conclusion. You can use properly-cited outside information here to help support your reasoning (but **do not** download and analyze any data from an outside source in this notebook -- our autograder will not be able to see it). Finally, if there is some way that you could improve your visualization, but don't yet know how to do it, please explain what you would do if you knew how.\n",
    "\n",
    "In answering this question, there is no need to restrict yourself to the west coast of the USA. Consider all states that you have data for. You have a variety of graphs to choose from, but before starting the assignment, discuss with a partner which plot would be the most optimal to answer this question.\n",
    "\n",
    "*Note that some restaurant names are spelled incorrectly in data. For the purpose of this exercise you can ignore this and only count the spelling with the most entries for each restaurant.*\n",
    "\n",
    "<img src=\"mcdonalds.jpg\" width = \"600\"/>"
   ]
  },
  {
   "cell_type": "code",
   "execution_count": null,
   "metadata": {
    "deletable": false,
    "nbgrader": {
     "cell_type": "code",
     "checksum": "9eadc7efa36e627b2f26bda8b2f6a0b9",
     "grade": true,
     "grade_id": "cell-86b3015872de2602",
     "locked": false,
     "points": 3,
     "schema_version": 3,
     "solution": true,
     "task": false
    }
   },
   "outputs": [],
   "source": [
    "# Write the code for your plot here\n",
    "# your code here\n",
    "raise NotImplementedError"
   ]
  },
  {
   "cell_type": "markdown",
   "metadata": {
    "deletable": false,
    "nbgrader": {
     "cell_type": "markdown",
     "checksum": "d6053f5cf05ede8a5198e92232e1b92e",
     "grade": true,
     "grade_id": "cell-6ac8b7c5b2701b78",
     "locked": false,
     "points": 3,
     "schema_version": 3,
     "solution": true
    }
   },
   "source": [
    "*Write a paragraph explaining your visualization and why you chose it. Also explain your conclusion from the visualization and reasoning as to how you came to that conclusion. If you need to bring in outside information to help you answer your question, please feel free to do so. Finally, if there is some way that you could improve your visualization, but don't yet know how to do it, please explain what you would do if you knew how.*\n",
    "\n",
    "DOUBLE CLICK TO EDIT **THIS CELL** AND REPLACE THIS TEXT WITH YOUR ANSWER."
   ]
  }
 ],
 "metadata": {
  "kernelspec": {
   "display_name": "Python 3 (ipykernel)",
   "language": "python",
   "name": "python3"
  },
  "language_info": {
   "codemirror_mode": {
    "name": "ipython",
    "version": 3
   },
   "file_extension": ".py",
   "mimetype": "text/x-python",
   "name": "python",
   "nbconvert_exporter": "python",
   "pygments_lexer": "ipython3",
   "version": "3.11.9"
  }
 },
 "nbformat": 4,
 "nbformat_minor": 4
}
