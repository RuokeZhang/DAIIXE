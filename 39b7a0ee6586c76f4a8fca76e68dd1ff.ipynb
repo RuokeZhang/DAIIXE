{
 "cells": [
  {
   "cell_type": "markdown",
   "metadata": {
    "deletable": false,
    "editable": false,
    "nbgrader": {
     "cell_type": "markdown",
     "checksum": "ac8aee11a3d67476b416e9ab4e4fb07e",
     "grade": false,
     "grade_id": "cell-f4ccfb3ce6b69253",
     "locked": true,
     "schema_version": 3,
     "solution": false,
     "task": false
    }
   },
   "source": [
    "# Tutorial 4: Effective Data Visualization \n",
    "\n",
    "### Lecture and Tutorial Learning Goals:\n",
    "\n",
    "Expand your data visualization knowledge and tool set beyond what we have seen and practiced so far. We will move beyond scatter plots and learn other effective ways to visualize data, as well as some general rules of thumb to follow when creating visualizations. All visualization tasks this week will be applied to real world data sets.\n",
    "\n",
    "After completing this week's lecture and tutorial work, you will be able to:\n",
    "\n",
    "- Describe when to use the following kinds of visualizations:\n",
    "    - scatter plots\n",
    "    - line plots\n",
    "    - bar plots\n",
    "- Given a dataset and a question, select from the above plot types to create a visualization that best answers the question\n",
    "- Given a visualization and a question, evaluate the effectiveness of the visualization and suggest improvements to better answer the question\n",
    "- Identify rules of thumb for creating effective visualizations\n",
    "- Define the two key aspects of altair objects:\n",
    "    - mark objects\n",
    "    - encodings\n",
    "- Use the `altair` library in Python to create and refine the above visualizations using:\n",
    "    - mark objects: `mark_point`, `mark_line`, `mark_bar`\n",
    "    - encodings : `x`, `y`, `color`, `shape`\n",
    "    - subplots: `facet`\n",
    "- Describe the difference in raster and vector output formats\n",
    "- Use `save` to save visualizations in `png` and `svg` formats\n",
    "\n",
    "This tutorial covers parts of [Chapter 4](https://python.datasciencebook.ca/viz.html) of the online textbook. You should read this chapter before attempting the worksheet.\n",
    "Any place you see `___`, you must fill in the function, variable, or data to complete the code. Substitute the `raise NotImplementedError` with your completed code and answers then proceed to run the cell!"
   ]
  },
  {
   "cell_type": "code",
   "execution_count": 2,
   "metadata": {
    "deletable": false,
    "editable": false,
    "nbgrader": {
     "cell_type": "code",
     "checksum": "23c70f444dd8804da08fbd3ad7e96639",
     "grade": false,
     "grade_id": "cell-483076aac3dc5fa7",
     "locked": true,
     "schema_version": 3,
     "solution": false,
     "task": false
    }
   },
   "outputs": [
    {
     "data": {
      "text/plain": [
       "DataTransformerRegistry.enable('vegafusion')"
      ]
     },
     "execution_count": 2,
     "metadata": {},
     "output_type": "execute_result"
    }
   ],
   "source": [
    "### Run this cell before continuing.\n",
    "import altair as alt\n",
    "import pandas as pd\n",
    "\n",
    "# Simplify working with large datasets in Altair\n",
    "alt.data_transformers.enable('vegafusion')"
   ]
  },
  {
   "cell_type": "markdown",
   "metadata": {
    "deletable": false,
    "editable": false,
    "nbgrader": {
     "cell_type": "markdown",
     "checksum": "008c2c5b93152a4143d9101af2c0adb4",
     "grade": false,
     "grade_id": "cell-d0104ab32afbab28",
     "locked": true,
     "schema_version": 3,
     "solution": false
    }
   },
   "source": [
    "**Question 0.1** \n",
    "<br> {points: 1}\n",
    "\n",
    "Match the following definitions with the corresponding encoding mapping or function used in Python:\n",
    "\n",
    "*Definitions*\n",
    "\n",
    "A. Creates multiple subplots (or \"facets\") according to a categorical variable in the data. \n",
    "\n",
    "B. Connects data points with a line which facilitates seeing trends over time.\n",
    "\n",
    "C. Colors graphical marks based on a particular variable in the data.\n",
    "\n",
    "D. This encoding varies data points by shape based on a variable in the data.\n",
    "\n",
    "E. Labels the y-axis. \n",
    "\n",
    "\n",
    "*Encodings and Functions*\n",
    "\n",
    "1. `color`\n",
    "2. `facet()`\n",
    "3. `mark_line()`\n",
    "4. `alt.Y().title(\"...\")`\n",
    "5. `shape`\n",
    "\n",
    "_For every description, create an object using the letter associated with the definition and assign it to the corresponding number from the list above. For example: `B = 1`_"
   ]
  },
  {
   "cell_type": "code",
   "execution_count": 3,
   "metadata": {
    "deletable": false,
    "nbgrader": {
     "cell_type": "code",
     "checksum": "66df83b9a94a2c87a321bf0bd3642c85",
     "grade": false,
     "grade_id": "cell-b22b3db664eb1abc",
     "locked": false,
     "schema_version": 3,
     "solution": true
    }
   },
   "outputs": [],
   "source": [
    "A=2\n",
    "B=3\n",
    "C=1\n",
    "D=5\n",
    "E=4\n"
   ]
  },
  {
   "cell_type": "code",
   "execution_count": 4,
   "metadata": {
    "deletable": false,
    "editable": false,
    "nbgrader": {
     "cell_type": "code",
     "checksum": "c24deb50b514e86e8fdf43e12627fbf2",
     "grade": true,
     "grade_id": "cell-471b37b1ecc45a3a",
     "locked": true,
     "points": 1,
     "schema_version": 3,
     "solution": false
    }
   },
   "outputs": [
    {
     "name": "stdout",
     "output_type": "stream",
     "text": [
      "Success!\n"
     ]
    }
   ],
   "source": [
    "from hashlib import sha1\n",
    "assert sha1(str(type(A)).encode(\"utf-8\")+b\"2fff8\").hexdigest() == \"3cf2797019a970975c0b9e78a8b07304d2a281fa\", \"type of A is not int. Please make sure it is int and not np.int64, etc. You can cast your value into an int using int()\"\n",
    "assert sha1(str(A).encode(\"utf-8\")+b\"2fff8\").hexdigest() == \"1ef96ff0480bd7ebc7252d1480959e4e8eda19e2\", \"value of A is not correct\"\n",
    "\n",
    "assert sha1(str(type(B)).encode(\"utf-8\")+b\"2fff9\").hexdigest() == \"c3fcdddf7b45274a27b7725a453ef3555d31a101\", \"type of B is not int. Please make sure it is int and not np.int64, etc. You can cast your value into an int using int()\"\n",
    "assert sha1(str(B).encode(\"utf-8\")+b\"2fff9\").hexdigest() == \"850b95741634320cfdc1cbc7b5e757a3b03e059c\", \"value of B is not correct\"\n",
    "\n",
    "assert sha1(str(type(C)).encode(\"utf-8\")+b\"2fffa\").hexdigest() == \"0f070d036896abeed24a95c2b15672a48bf7aa84\", \"type of C is not int. Please make sure it is int and not np.int64, etc. You can cast your value into an int using int()\"\n",
    "assert sha1(str(C).encode(\"utf-8\")+b\"2fffa\").hexdigest() == \"91f5c9f56d2ab4c91977c4db1ff6680228e07dbb\", \"value of C is not correct\"\n",
    "\n",
    "assert sha1(str(type(D)).encode(\"utf-8\")+b\"2fffb\").hexdigest() == \"3bed34b3560b6acf2e5b8819ae4645ad1975c4ab\", \"type of D is not int. Please make sure it is int and not np.int64, etc. You can cast your value into an int using int()\"\n",
    "assert sha1(str(D).encode(\"utf-8\")+b\"2fffb\").hexdigest() == \"021e49701a21de802937a347d5222ad0b28fab80\", \"value of D is not correct\"\n",
    "\n",
    "assert sha1(str(type(E)).encode(\"utf-8\")+b\"2fffc\").hexdigest() == \"5e7bdd36d327347b9eb0eb91f87b26bc6335c7eb\", \"type of E is not int. Please make sure it is int and not np.int64, etc. You can cast your value into an int using int()\"\n",
    "assert sha1(str(E).encode(\"utf-8\")+b\"2fffc\").hexdigest() == \"12d2115885fb3d25cf657a2008ec5df67aed749f\", \"value of E is not correct\"\n",
    "\n",
    "print('Success!')"
   ]
  },
  {
   "cell_type": "markdown",
   "metadata": {
    "deletable": false,
    "editable": false,
    "nbgrader": {
     "cell_type": "markdown",
     "checksum": "4240e4674c57aca003052d6ca7cbfcaa",
     "grade": false,
     "grade_id": "cell-7b8ea6ab55690b06",
     "locked": true,
     "schema_version": 3,
     "solution": false,
     "task": false
    }
   },
   "source": [
    "**Question 0.2** True or False:\n",
    "<br> {points: 1}\n",
    "\n",
    "We should save a plot as an `.svg` file if we want to be able to rescale it without losing quality.\n",
    "\n",
    "*Assign your answer to an object called `answer0_2`. Make sure your answer is either `True` or `False`.*"
   ]
  },
  {
   "cell_type": "code",
   "execution_count": 5,
   "metadata": {
    "deletable": false,
    "nbgrader": {
     "cell_type": "code",
     "checksum": "a4a72e07404123a05f2bd30510b4ef8c",
     "grade": false,
     "grade_id": "cell-8608b643ace9768c",
     "locked": false,
     "schema_version": 3,
     "solution": true,
     "task": false
    }
   },
   "outputs": [],
   "source": [
    "# your code here\n",
    "answer0_2=True"
   ]
  },
  {
   "cell_type": "code",
   "execution_count": 6,
   "metadata": {
    "deletable": false,
    "editable": false,
    "nbgrader": {
     "cell_type": "code",
     "checksum": "960e20b469b1255b435ecccd860904d1",
     "grade": true,
     "grade_id": "cell-dd04803a3b061830",
     "locked": true,
     "points": 1,
     "schema_version": 3,
     "solution": false,
     "task": false
    }
   },
   "outputs": [
    {
     "name": "stdout",
     "output_type": "stream",
     "text": [
      "Success!\n"
     ]
    }
   ],
   "source": [
    "from hashlib import sha1\n",
    "assert sha1(str(type(answer0_2)).encode(\"utf-8\")+b\"b9cdb\").hexdigest() == \"c1a14e26e0620ad97d9304575779d7160f258ef4\", \"type of answer0_2 is not bool. answer0_2 should be a bool\"\n",
    "assert sha1(str(answer0_2).encode(\"utf-8\")+b\"b9cdb\").hexdigest() == \"4fdc4832d144addb42fef1704c9dbccbe858e7ae\", \"boolean value of answer0_2 is not correct\"\n",
    "\n",
    "print('Success!')"
   ]
  },
  {
   "cell_type": "markdown",
   "metadata": {
    "deletable": false,
    "editable": false,
    "nbgrader": {
     "cell_type": "markdown",
     "checksum": "579d71c7c2f2db49357980fca0fd72aa",
     "grade": false,
     "grade_id": "cell-b38e048867240520",
     "locked": true,
     "schema_version": 3,
     "solution": false,
     "task": false
    }
   },
   "source": [
    "## 1. Data on Personal Medical Costs \n",
    "\n",
    "As we saw in the worksheet, data scientists work in all types of organizations and with all kinds of problems. One of these types of organizations are companies in the private sector that work with health data. Today we will be looking at data on personal medical costs. There are varying factors that affect health and consequently medical costs. Our goal for today is to determine how variables are related to the medical costs billed by health insurance companies. \n",
    "\n",
    "\n",
    "To analyze this, we will be looking at a dataset that includes the following columns:\n",
    "\n",
    "* `age`: age of primary beneficiary\n",
    "* `sex`: insurance contractor gender: female, male\n",
    "* `bmi`: body mass index, providing an understanding of body, weights that are relatively high or low relative to height, objective index of body weight (kg/$m^{2}$) using the ratio of height to weight, ideally 18.5 to 24.9\n",
    "* `children`: number of children covered by health insurance / number of dependents\n",
    "* `smoker`: smoking\n",
    "* `region`: the beneficiary's residential area in the US: northeast, southeast, southwest, northwest.\n",
    "* `charges`: individual medical costs billed by health insurance\n",
    "\n",
    "*This dataset, was taken from the [collection of Data Sets](https://github.com/stedy/Machine-Learning-with-R-datasets) created and curated for the [Machine Learning with R](https://www.packtpub.com/big-data-and-business-intelligence/machine-learning-r) book by Brett Lantz.*"
   ]
  },
  {
   "cell_type": "markdown",
   "metadata": {
    "deletable": false,
    "editable": false,
    "nbgrader": {
     "cell_type": "markdown",
     "checksum": "6ad9715d8961dac0770f6fd55f0fe141",
     "grade": false,
     "grade_id": "cell-c5c6d19c1567adf8",
     "locked": true,
     "schema_version": 3,
     "solution": false
    }
   },
   "source": [
    "**Question 1.1** Yes or No: \n",
    "<br> {points: 1}\n",
    "\n",
    "Based on the information given in the cell above, do you think the column `charges` includes quantitative/numerical data? \n",
    "\n",
    "*Assign your answer to an object called `answer1_1`. Make sure your answer is written in lowercase and is surrounded by quotation marks (e.g. `\"yes\"` or `\"no\"`).*"
   ]
  },
  {
   "cell_type": "code",
   "execution_count": 7,
   "metadata": {
    "deletable": false,
    "nbgrader": {
     "cell_type": "code",
     "checksum": "58b85af8c197667fb60613c43be41907",
     "grade": false,
     "grade_id": "cell-8da0d830fc8f8b0c",
     "locked": false,
     "schema_version": 3,
     "solution": true
    }
   },
   "outputs": [],
   "source": [
    "# your code here\n",
    "answer1_1='yes'"
   ]
  },
  {
   "cell_type": "code",
   "execution_count": 8,
   "metadata": {
    "deletable": false,
    "editable": false,
    "nbgrader": {
     "cell_type": "code",
     "checksum": "0abce67b55108187aa6c34611560ec8c",
     "grade": true,
     "grade_id": "cell-37a00841b56391ad",
     "locked": true,
     "points": 1,
     "schema_version": 3,
     "solution": false
    }
   },
   "outputs": [
    {
     "name": "stdout",
     "output_type": "stream",
     "text": [
      "Success!\n"
     ]
    }
   ],
   "source": [
    "from hashlib import sha1\n",
    "assert sha1(str(type(answer1_1)).encode(\"utf-8\")+b\"678f2\").hexdigest() == \"4959f65d861fe73fc28048598b050dd992dace50\", \"type of answer1_1 is not str. answer1_1 should be an str\"\n",
    "assert sha1(str(len(answer1_1)).encode(\"utf-8\")+b\"678f2\").hexdigest() == \"e6d6de58a5553dab314352e9039d6369703bf71d\", \"length of answer1_1 is not correct\"\n",
    "assert sha1(str(answer1_1.lower()).encode(\"utf-8\")+b\"678f2\").hexdigest() == \"fef55431241493e87811c5ab7d723fb48efe52e2\", \"value of answer1_1 is not correct\"\n",
    "assert sha1(str(answer1_1).encode(\"utf-8\")+b\"678f2\").hexdigest() == \"fef55431241493e87811c5ab7d723fb48efe52e2\", \"correct string value of answer1_1 but incorrect case of letters\"\n",
    "\n",
    "print('Success!')"
   ]
  },
  {
   "cell_type": "markdown",
   "metadata": {
    "deletable": false,
    "editable": false,
    "nbgrader": {
     "cell_type": "markdown",
     "checksum": "36137bffb0c9d1f4b6ca76b8ef09cb86",
     "grade": false,
     "grade_id": "cell-4325b0202bdfb877",
     "locked": true,
     "schema_version": 3,
     "solution": false
    }
   },
   "source": [
    "**Question 1.2** Multiple Choice:\n",
    "<br> {points: 1}\n",
    "\n",
    "Assuming overplotting is not an issue, which plot would be the most effective to compare the relationship of `age` and `charges`?\n",
    "\n",
    "A. Scatterplot \n",
    "\n",
    "B. Stacked Bar Plot \n",
    "\n",
    "C. Bar Plot \n",
    "\n",
    "*Assign your answer to an object called `answer1_2`. Make sure your answer is an uppercase letter and is surrounded by quotation marks (e.g. `\"F\"`).*"
   ]
  },
  {
   "cell_type": "code",
   "execution_count": 9,
   "metadata": {
    "deletable": false,
    "nbgrader": {
     "cell_type": "code",
     "checksum": "6eff534fb24cb70fe4edc042a41d3da1",
     "grade": false,
     "grade_id": "cell-776947ebfdd46a40",
     "locked": false,
     "schema_version": 3,
     "solution": true
    }
   },
   "outputs": [],
   "source": [
    "# scatter plots visualize the relationship between two quantitative variables\n",
    "answer1_2=\"A\""
   ]
  },
  {
   "cell_type": "code",
   "execution_count": 10,
   "metadata": {
    "deletable": false,
    "editable": false,
    "nbgrader": {
     "cell_type": "code",
     "checksum": "3e218acdad0274f4189e2891252dbb8e",
     "grade": true,
     "grade_id": "cell-d344b7c03dae8345",
     "locked": true,
     "points": 1,
     "schema_version": 3,
     "solution": false
    }
   },
   "outputs": [
    {
     "name": "stdout",
     "output_type": "stream",
     "text": [
      "Success!\n"
     ]
    }
   ],
   "source": [
    "from hashlib import sha1\n",
    "assert sha1(str(type(answer1_2)).encode(\"utf-8\")+b\"b01e4\").hexdigest() == \"3c9412f874ef42c2aa7fc1cfe82e83b791289e6d\", \"type of answer1_2 is not str. answer1_2 should be an str\"\n",
    "assert sha1(str(len(answer1_2)).encode(\"utf-8\")+b\"b01e4\").hexdigest() == \"cfb76c7e547605333d2af0aac4faea9a8f49ef06\", \"length of answer1_2 is not correct\"\n",
    "assert sha1(str(answer1_2.lower()).encode(\"utf-8\")+b\"b01e4\").hexdigest() == \"bd10f1af1d3d8938a93a8c525d3cc6ed24cf5184\", \"value of answer1_2 is not correct\"\n",
    "assert sha1(str(answer1_2).encode(\"utf-8\")+b\"b01e4\").hexdigest() == \"3e950333ccfb4011b417123c70daadf45728bb03\", \"correct string value of answer1_2 but incorrect case of letters\"\n",
    "\n",
    "print('Success!')"
   ]
  },
  {
   "cell_type": "markdown",
   "metadata": {
    "deletable": false,
    "editable": false,
    "nbgrader": {
     "cell_type": "markdown",
     "checksum": "b2d679fac78186cd8470312464230f75",
     "grade": false,
     "grade_id": "cell-ab7e6749d3d47397",
     "locked": true,
     "schema_version": 3,
     "solution": false
    }
   },
   "source": [
    "**Question 1.3**\n",
    "<br> {points: 1}\n",
    "\n",
    "Read the `insurance.csv` file in the `data` folder. \n",
    "\n",
    "*Assign your answer to an object called `insurance`.*"
   ]
  },
  {
   "cell_type": "code",
   "execution_count": 11,
   "metadata": {
    "deletable": false,
    "nbgrader": {
     "cell_type": "code",
     "checksum": "c40332d0db2098cedd6ce8bd0f2cf2c6",
     "grade": false,
     "grade_id": "cell-ace20e7d125da6cc",
     "locked": false,
     "schema_version": 3,
     "solution": true
    }
   },
   "outputs": [
    {
     "data": {
      "text/html": [
       "<div>\n",
       "<style scoped>\n",
       "    .dataframe tbody tr th:only-of-type {\n",
       "        vertical-align: middle;\n",
       "    }\n",
       "\n",
       "    .dataframe tbody tr th {\n",
       "        vertical-align: top;\n",
       "    }\n",
       "\n",
       "    .dataframe thead th {\n",
       "        text-align: right;\n",
       "    }\n",
       "</style>\n",
       "<table border=\"1\" class=\"dataframe\">\n",
       "  <thead>\n",
       "    <tr style=\"text-align: right;\">\n",
       "      <th></th>\n",
       "      <th>age</th>\n",
       "      <th>sex</th>\n",
       "      <th>bmi</th>\n",
       "      <th>children</th>\n",
       "      <th>smoker</th>\n",
       "      <th>region</th>\n",
       "      <th>charges</th>\n",
       "    </tr>\n",
       "  </thead>\n",
       "  <tbody>\n",
       "    <tr>\n",
       "      <th>0</th>\n",
       "      <td>19</td>\n",
       "      <td>female</td>\n",
       "      <td>27.900</td>\n",
       "      <td>0</td>\n",
       "      <td>yes</td>\n",
       "      <td>southwest</td>\n",
       "      <td>16884.92400</td>\n",
       "    </tr>\n",
       "    <tr>\n",
       "      <th>1</th>\n",
       "      <td>18</td>\n",
       "      <td>male</td>\n",
       "      <td>33.770</td>\n",
       "      <td>1</td>\n",
       "      <td>no</td>\n",
       "      <td>southeast</td>\n",
       "      <td>1725.55230</td>\n",
       "    </tr>\n",
       "    <tr>\n",
       "      <th>2</th>\n",
       "      <td>28</td>\n",
       "      <td>male</td>\n",
       "      <td>33.000</td>\n",
       "      <td>3</td>\n",
       "      <td>no</td>\n",
       "      <td>southeast</td>\n",
       "      <td>4449.46200</td>\n",
       "    </tr>\n",
       "    <tr>\n",
       "      <th>3</th>\n",
       "      <td>33</td>\n",
       "      <td>male</td>\n",
       "      <td>22.705</td>\n",
       "      <td>0</td>\n",
       "      <td>no</td>\n",
       "      <td>northwest</td>\n",
       "      <td>21984.47061</td>\n",
       "    </tr>\n",
       "    <tr>\n",
       "      <th>4</th>\n",
       "      <td>32</td>\n",
       "      <td>male</td>\n",
       "      <td>28.880</td>\n",
       "      <td>0</td>\n",
       "      <td>no</td>\n",
       "      <td>northwest</td>\n",
       "      <td>3866.85520</td>\n",
       "    </tr>\n",
       "    <tr>\n",
       "      <th>5</th>\n",
       "      <td>31</td>\n",
       "      <td>female</td>\n",
       "      <td>25.740</td>\n",
       "      <td>0</td>\n",
       "      <td>no</td>\n",
       "      <td>southeast</td>\n",
       "      <td>3756.62160</td>\n",
       "    </tr>\n",
       "    <tr>\n",
       "      <th>6</th>\n",
       "      <td>46</td>\n",
       "      <td>female</td>\n",
       "      <td>33.440</td>\n",
       "      <td>1</td>\n",
       "      <td>no</td>\n",
       "      <td>southeast</td>\n",
       "      <td>8240.58960</td>\n",
       "    </tr>\n",
       "    <tr>\n",
       "      <th>7</th>\n",
       "      <td>37</td>\n",
       "      <td>female</td>\n",
       "      <td>27.740</td>\n",
       "      <td>3</td>\n",
       "      <td>no</td>\n",
       "      <td>northwest</td>\n",
       "      <td>7281.50560</td>\n",
       "    </tr>\n",
       "    <tr>\n",
       "      <th>8</th>\n",
       "      <td>37</td>\n",
       "      <td>male</td>\n",
       "      <td>29.830</td>\n",
       "      <td>2</td>\n",
       "      <td>no</td>\n",
       "      <td>northeast</td>\n",
       "      <td>6406.41070</td>\n",
       "    </tr>\n",
       "    <tr>\n",
       "      <th>9</th>\n",
       "      <td>60</td>\n",
       "      <td>female</td>\n",
       "      <td>25.840</td>\n",
       "      <td>0</td>\n",
       "      <td>no</td>\n",
       "      <td>northwest</td>\n",
       "      <td>28923.13692</td>\n",
       "    </tr>\n",
       "    <tr>\n",
       "      <th>10</th>\n",
       "      <td>25</td>\n",
       "      <td>male</td>\n",
       "      <td>26.220</td>\n",
       "      <td>0</td>\n",
       "      <td>no</td>\n",
       "      <td>northeast</td>\n",
       "      <td>2721.32080</td>\n",
       "    </tr>\n",
       "    <tr>\n",
       "      <th>11</th>\n",
       "      <td>62</td>\n",
       "      <td>female</td>\n",
       "      <td>26.290</td>\n",
       "      <td>0</td>\n",
       "      <td>yes</td>\n",
       "      <td>southeast</td>\n",
       "      <td>27808.72510</td>\n",
       "    </tr>\n",
       "    <tr>\n",
       "      <th>12</th>\n",
       "      <td>23</td>\n",
       "      <td>male</td>\n",
       "      <td>34.400</td>\n",
       "      <td>0</td>\n",
       "      <td>no</td>\n",
       "      <td>southwest</td>\n",
       "      <td>1826.84300</td>\n",
       "    </tr>\n",
       "    <tr>\n",
       "      <th>13</th>\n",
       "      <td>56</td>\n",
       "      <td>female</td>\n",
       "      <td>39.820</td>\n",
       "      <td>0</td>\n",
       "      <td>no</td>\n",
       "      <td>southeast</td>\n",
       "      <td>11090.71780</td>\n",
       "    </tr>\n",
       "    <tr>\n",
       "      <th>14</th>\n",
       "      <td>27</td>\n",
       "      <td>male</td>\n",
       "      <td>42.130</td>\n",
       "      <td>0</td>\n",
       "      <td>yes</td>\n",
       "      <td>southeast</td>\n",
       "      <td>39611.75770</td>\n",
       "    </tr>\n",
       "    <tr>\n",
       "      <th>15</th>\n",
       "      <td>19</td>\n",
       "      <td>male</td>\n",
       "      <td>24.600</td>\n",
       "      <td>1</td>\n",
       "      <td>no</td>\n",
       "      <td>southwest</td>\n",
       "      <td>1837.23700</td>\n",
       "    </tr>\n",
       "    <tr>\n",
       "      <th>16</th>\n",
       "      <td>52</td>\n",
       "      <td>female</td>\n",
       "      <td>30.780</td>\n",
       "      <td>1</td>\n",
       "      <td>no</td>\n",
       "      <td>northeast</td>\n",
       "      <td>10797.33620</td>\n",
       "    </tr>\n",
       "    <tr>\n",
       "      <th>17</th>\n",
       "      <td>23</td>\n",
       "      <td>male</td>\n",
       "      <td>23.845</td>\n",
       "      <td>0</td>\n",
       "      <td>no</td>\n",
       "      <td>northeast</td>\n",
       "      <td>2395.17155</td>\n",
       "    </tr>\n",
       "    <tr>\n",
       "      <th>18</th>\n",
       "      <td>56</td>\n",
       "      <td>male</td>\n",
       "      <td>40.300</td>\n",
       "      <td>0</td>\n",
       "      <td>no</td>\n",
       "      <td>southwest</td>\n",
       "      <td>10602.38500</td>\n",
       "    </tr>\n",
       "    <tr>\n",
       "      <th>19</th>\n",
       "      <td>30</td>\n",
       "      <td>male</td>\n",
       "      <td>35.300</td>\n",
       "      <td>0</td>\n",
       "      <td>yes</td>\n",
       "      <td>southwest</td>\n",
       "      <td>36837.46700</td>\n",
       "    </tr>\n",
       "  </tbody>\n",
       "</table>\n",
       "</div>"
      ],
      "text/plain": [
       "    age     sex     bmi  children smoker     region      charges\n",
       "0    19  female  27.900         0    yes  southwest  16884.92400\n",
       "1    18    male  33.770         1     no  southeast   1725.55230\n",
       "2    28    male  33.000         3     no  southeast   4449.46200\n",
       "3    33    male  22.705         0     no  northwest  21984.47061\n",
       "4    32    male  28.880         0     no  northwest   3866.85520\n",
       "5    31  female  25.740         0     no  southeast   3756.62160\n",
       "6    46  female  33.440         1     no  southeast   8240.58960\n",
       "7    37  female  27.740         3     no  northwest   7281.50560\n",
       "8    37    male  29.830         2     no  northeast   6406.41070\n",
       "9    60  female  25.840         0     no  northwest  28923.13692\n",
       "10   25    male  26.220         0     no  northeast   2721.32080\n",
       "11   62  female  26.290         0    yes  southeast  27808.72510\n",
       "12   23    male  34.400         0     no  southwest   1826.84300\n",
       "13   56  female  39.820         0     no  southeast  11090.71780\n",
       "14   27    male  42.130         0    yes  southeast  39611.75770\n",
       "15   19    male  24.600         1     no  southwest   1837.23700\n",
       "16   52  female  30.780         1     no  northeast  10797.33620\n",
       "17   23    male  23.845         0     no  northeast   2395.17155\n",
       "18   56    male  40.300         0     no  southwest  10602.38500\n",
       "19   30    male  35.300         0    yes  southwest  36837.46700"
      ]
     },
     "execution_count": 11,
     "metadata": {},
     "output_type": "execute_result"
    }
   ],
   "source": [
    "# your code here\n",
    "import pandas as pd\n",
    "insurance=pd.read_csv(\"data/insurance.csv\")\n",
    "insurance\n",
    "#see the first 20 instances\n",
    "insurance.head(20)"
   ]
  },
  {
   "cell_type": "code",
   "execution_count": 12,
   "metadata": {
    "deletable": false,
    "editable": false,
    "nbgrader": {
     "cell_type": "code",
     "checksum": "55072590929c64ac6e4ee502e9e9cb17",
     "grade": true,
     "grade_id": "cell-662935f6d4ccb428",
     "locked": true,
     "points": 1,
     "schema_version": 3,
     "solution": false
    }
   },
   "outputs": [
    {
     "name": "stdout",
     "output_type": "stream",
     "text": [
      "Success!\n"
     ]
    }
   ],
   "source": [
    "from hashlib import sha1\n",
    "assert sha1(str(type(insurance is None)).encode(\"utf-8\")+b\"eaa92\").hexdigest() == \"a46bef20ff661b158c859b94b242bca573ec682b\", \"type of insurance is None is not bool. insurance is None should be a bool\"\n",
    "assert sha1(str(insurance is None).encode(\"utf-8\")+b\"eaa92\").hexdigest() == \"972b6069c86580fbdab49b0ea7de0db003f4d366\", \"boolean value of insurance is None is not correct\"\n",
    "\n",
    "assert sha1(str(type(insurance)).encode(\"utf-8\")+b\"eaa93\").hexdigest() == \"664ae69e7045a753c12a60b9e51bddf6ec16fc24\", \"type of type(insurance) is not correct\"\n",
    "\n",
    "assert sha1(str(type(insurance.shape)).encode(\"utf-8\")+b\"eaa94\").hexdigest() == \"1759998d95f71f1d3a8a5dfd1ffe605cd2cac10c\", \"type of insurance.shape is not tuple. insurance.shape should be a tuple\"\n",
    "assert sha1(str(len(insurance.shape)).encode(\"utf-8\")+b\"eaa94\").hexdigest() == \"386d1a62add2a10e46d65bfec4e4e5ef92252695\", \"length of insurance.shape is not correct\"\n",
    "assert sha1(str(sorted(map(str, insurance.shape))).encode(\"utf-8\")+b\"eaa94\").hexdigest() == \"891e50106b98456481fb4abae73fbc96b6832755\", \"values of insurance.shape are not correct\"\n",
    "assert sha1(str(insurance.shape).encode(\"utf-8\")+b\"eaa94\").hexdigest() == \"c14fb1b524d89f85e0d6a03a423569b726c075a4\", \"order of elements of insurance.shape is not correct\"\n",
    "\n",
    "assert sha1(str(type(round(sum(insurance.age), 2))).encode(\"utf-8\")+b\"eaa95\").hexdigest() == \"cfa6511142ce53277e326f529badbc4cd7a54df5\", \"type of round(sum(insurance.age), 2) is not int. Please make sure it is int and not np.int64, etc. You can cast your value into an int using int()\"\n",
    "assert sha1(str(round(sum(insurance.age), 2)).encode(\"utf-8\")+b\"eaa95\").hexdigest() == \"ec04bc8e7210856a9edc5596d6e71d4beb99fb60\", \"value of round(sum(insurance.age), 2) is not correct\"\n",
    "\n",
    "assert sha1(str(type(len(insurance.region.unique()))).encode(\"utf-8\")+b\"eaa96\").hexdigest() == \"33e908f193cf0a8b4a0cc2ef375bcebb381d1ad6\", \"type of len(insurance.region.unique()) is not int. Please make sure it is int and not np.int64, etc. You can cast your value into an int using int()\"\n",
    "assert sha1(str(len(insurance.region.unique())).encode(\"utf-8\")+b\"eaa96\").hexdigest() == \"63bd292673c1eef97acd9b1311d8ee1ff7a05985\", \"value of len(insurance.region.unique()) is not correct\"\n",
    "\n",
    "print('Success!')"
   ]
  },
  {
   "cell_type": "markdown",
   "metadata": {
    "deletable": false,
    "editable": false,
    "nbgrader": {
     "cell_type": "markdown",
     "checksum": "036066f2f490244427fddb8dddeb8565",
     "grade": false,
     "grade_id": "cell-8c60df934c35dd9a",
     "locked": true,
     "schema_version": 3,
     "solution": false
    }
   },
   "source": [
    "**Question 1.4** \n",
    "<br> {points: 3}\n",
    "\n",
    "Looking over the excerpt of loaded data shown above, what initial observations can you make about the relationship between medical charges and age? How about medical charges and BMI? Finally, what about medical charges and smoking? \n",
    "\n",
    "Also, comment on whether our observations might change if we visualize the data? And/or whether visualizing the data might allow us to more easily make observations about the relationships in the data as opposed to trying to make them directly from the data table?\n",
    "\n",
    "Answer in the cell below."
   ]
  },
  {
   "cell_type": "markdown",
   "metadata": {
    "deletable": false,
    "nbgrader": {
     "cell_type": "markdown",
     "checksum": "461e90160ad679e460221e1c3128100f",
     "grade": true,
     "grade_id": "cell-62d184813aadd4b3",
     "locked": false,
     "points": 3,
     "schema_version": 3,
     "solution": true
    }
   },
   "source": [
    "1. Medical charges seem to trend upward with age. Older women's medical costs approach $30,000, while younger people's medical charges are generally lower.\n",
    "2. People with higher BMIs sometimes have higher medical charges, but this trend is less pronounced.\n",
    "3. Smokers have significantly higher medical charges.\n",
    "4. If the data are visualized, we can observe the relationship and trend between different variables more clearly, and may also find some anomalies that do not fit the pattern. For identifying complex relationships, visualization is more intuitive than direct observation from data tables."
   ]
  },
  {
   "cell_type": "markdown",
   "metadata": {
    "deletable": false,
    "editable": false,
    "nbgrader": {
     "cell_type": "markdown",
     "checksum": "c7511fe4d832ad9f233619307f5a3dba",
     "grade": false,
     "grade_id": "cell-865d9fd68151c0a0",
     "locked": true,
     "schema_version": 3,
     "solution": false
    }
   },
   "source": [
    "**Question 1.5**\n",
    "<br> {points: 1}\n",
    "\n",
    "According to the National Heart, Lung and Blood Institute of the US: \"The higher your BMI, the higher your risk for certain diseases such as heart disease, high blood pressure, type 2 diabetes, gallstones, breathing problems, and certain cancers\". \n",
    "\n",
    "Based on this information, we can hypothesize that individuals with a higher BMI are likely to have more medical costs. Let's use our data and see if this holds true. Create a scatter plot of `charges` (y-axis) versus `bmi` (x-axis).\n",
    "\n",
    "In the scaffolding we provide below, ensure that you set `opacity` to 0.4. `opacity` sets the transparency of points on a scatter plot, and increasing transparency (reducing opacity) one strategy to deal with over-plotting issues.\n",
    "\n",
    "*Assign your answer to an object called `bmi_plot`. Make sure to label your axes appropriately.*"
   ]
  },
  {
   "cell_type": "code",
   "execution_count": 13,
   "metadata": {
    "deletable": false,
    "nbgrader": {
     "cell_type": "code",
     "checksum": "502ddda848451cd6ca63e0fd7cdcb532",
     "grade": false,
     "grade_id": "cell-fa480888e071a7ee",
     "locked": false,
     "schema_version": 3,
     "solution": true
    }
   },
   "outputs": [
    {
     "name": "stdout",
     "output_type": "stream",
     "text": [
      "Requirement already satisfied: vegafusion-python-embed in /Users/ruoke/Library/Python/3.11/lib/python/site-packages (1.6.9)\n",
      "Note: you may need to restart the kernel to use updated packages.\n",
      "Requirement already satisfied: vl-convert-python in /Users/ruoke/Library/Python/3.11/lib/python/site-packages (1.6.1)\n",
      "Note: you may need to restart the kernel to use updated packages.\n",
      "Requirement already satisfied: vegafusion in /Users/ruoke/Library/Python/3.11/lib/python/site-packages (1.6.9)\n",
      "Requirement already satisfied: altair>=5.2.0 in /Library/Frameworks/Python.framework/Versions/3.11/lib/python3.11/site-packages (from vegafusion) (5.4.1)\n",
      "Requirement already satisfied: pyarrow>=5 in /Library/Frameworks/Python.framework/Versions/3.11/lib/python3.11/site-packages (from vegafusion) (17.0.0)\n",
      "Requirement already satisfied: pandas in /Library/Frameworks/Python.framework/Versions/3.11/lib/python3.11/site-packages (from vegafusion) (2.1.1)\n",
      "Requirement already satisfied: psutil in /Library/Frameworks/Python.framework/Versions/3.11/lib/python3.11/site-packages (from vegafusion) (5.9.8)\n",
      "Requirement already satisfied: protobuf in /Library/Frameworks/Python.framework/Versions/3.11/lib/python3.11/site-packages (from vegafusion) (4.25.4)\n",
      "Requirement already satisfied: jinja2 in /Library/Frameworks/Python.framework/Versions/3.11/lib/python3.11/site-packages (from altair>=5.2.0->vegafusion) (3.1.4)\n",
      "Requirement already satisfied: jsonschema>=3.0 in /Library/Frameworks/Python.framework/Versions/3.11/lib/python3.11/site-packages (from altair>=5.2.0->vegafusion) (4.23.0)\n",
      "Requirement already satisfied: narwhals>=1.5.2 in /Library/Frameworks/Python.framework/Versions/3.11/lib/python3.11/site-packages (from altair>=5.2.0->vegafusion) (1.8.4)\n",
      "Requirement already satisfied: packaging in /Library/Frameworks/Python.framework/Versions/3.11/lib/python3.11/site-packages (from altair>=5.2.0->vegafusion) (23.2)\n",
      "Requirement already satisfied: typing-extensions>=4.10.0 in /Library/Frameworks/Python.framework/Versions/3.11/lib/python3.11/site-packages (from altair>=5.2.0->vegafusion) (4.12.2)\n",
      "Requirement already satisfied: numpy>=1.16.6 in /Library/Frameworks/Python.framework/Versions/3.11/lib/python3.11/site-packages (from pyarrow>=5->vegafusion) (1.26.4)\n",
      "Requirement already satisfied: python-dateutil>=2.8.2 in /Library/Frameworks/Python.framework/Versions/3.11/lib/python3.11/site-packages (from pandas->vegafusion) (2.9.0.post0)\n",
      "Requirement already satisfied: pytz>=2020.1 in /Library/Frameworks/Python.framework/Versions/3.11/lib/python3.11/site-packages (from pandas->vegafusion) (2024.1)\n",
      "Requirement already satisfied: tzdata>=2022.1 in /Library/Frameworks/Python.framework/Versions/3.11/lib/python3.11/site-packages (from pandas->vegafusion) (2024.1)\n",
      "Requirement already satisfied: attrs>=22.2.0 in /Library/Frameworks/Python.framework/Versions/3.11/lib/python3.11/site-packages (from jsonschema>=3.0->altair>=5.2.0->vegafusion) (24.2.0)\n",
      "Requirement already satisfied: jsonschema-specifications>=2023.03.6 in /Library/Frameworks/Python.framework/Versions/3.11/lib/python3.11/site-packages (from jsonschema>=3.0->altair>=5.2.0->vegafusion) (2023.7.1)\n",
      "Requirement already satisfied: referencing>=0.28.4 in /Library/Frameworks/Python.framework/Versions/3.11/lib/python3.11/site-packages (from jsonschema>=3.0->altair>=5.2.0->vegafusion) (0.30.2)\n",
      "Requirement already satisfied: rpds-py>=0.7.1 in /Library/Frameworks/Python.framework/Versions/3.11/lib/python3.11/site-packages (from jsonschema>=3.0->altair>=5.2.0->vegafusion) (0.20.0)\n",
      "Requirement already satisfied: six>=1.5 in /Library/Frameworks/Python.framework/Versions/3.11/lib/python3.11/site-packages (from python-dateutil>=2.8.2->pandas->vegafusion) (1.16.0)\n",
      "Requirement already satisfied: MarkupSafe>=2.0 in /Library/Frameworks/Python.framework/Versions/3.11/lib/python3.11/site-packages (from jinja2->altair>=5.2.0->vegafusion) (2.1.5)\n",
      "Note: you may need to restart the kernel to use updated packages.\n"
     ]
    },
    {
     "data": {
      "text/html": [
       "\n",
       "<style>\n",
       "  #altair-viz-d34e1c41c4a44e78a32935d89e4f7ed6.vega-embed {\n",
       "    width: 100%;\n",
       "    display: flex;\n",
       "  }\n",
       "\n",
       "  #altair-viz-d34e1c41c4a44e78a32935d89e4f7ed6.vega-embed details,\n",
       "  #altair-viz-d34e1c41c4a44e78a32935d89e4f7ed6.vega-embed details summary {\n",
       "    position: relative;\n",
       "  }\n",
       "</style>\n",
       "<div id=\"altair-viz-d34e1c41c4a44e78a32935d89e4f7ed6\"></div>\n",
       "<script type=\"text/javascript\">\n",
       "  var VEGA_DEBUG = (typeof VEGA_DEBUG == \"undefined\") ? {} : VEGA_DEBUG;\n",
       "  (function(spec, embedOpt){\n",
       "    let outputDiv = document.currentScript.previousElementSibling;\n",
       "    if (outputDiv.id !== \"altair-viz-d34e1c41c4a44e78a32935d89e4f7ed6\") {\n",
       "      outputDiv = document.getElementById(\"altair-viz-d34e1c41c4a44e78a32935d89e4f7ed6\");\n",
       "    }\n",
       "    const paths = {\n",
       "      \"vega\": \"https://cdn.jsdelivr.net/npm/vega@5?noext\",\n",
       "      \"vega-lib\": \"https://cdn.jsdelivr.net/npm/vega-lib?noext\",\n",
       "      \"vega-lite\": \"https://cdn.jsdelivr.net/npm/vega-lite@5.20.1?noext\",\n",
       "      \"vega-embed\": \"https://cdn.jsdelivr.net/npm/vega-embed@6?noext\",\n",
       "    };\n",
       "\n",
       "    function maybeLoadScript(lib, version) {\n",
       "      var key = `${lib.replace(\"-\", \"\")}_version`;\n",
       "      return (VEGA_DEBUG[key] == version) ?\n",
       "        Promise.resolve(paths[lib]) :\n",
       "        new Promise(function(resolve, reject) {\n",
       "          var s = document.createElement('script');\n",
       "          document.getElementsByTagName(\"head\")[0].appendChild(s);\n",
       "          s.async = true;\n",
       "          s.onload = () => {\n",
       "            VEGA_DEBUG[key] = version;\n",
       "            return resolve(paths[lib]);\n",
       "          };\n",
       "          s.onerror = () => reject(`Error loading script: ${paths[lib]}`);\n",
       "          s.src = paths[lib];\n",
       "        });\n",
       "    }\n",
       "\n",
       "    function showError(err) {\n",
       "      outputDiv.innerHTML = `<div class=\"error\" style=\"color:red;\">${err}</div>`;\n",
       "      throw err;\n",
       "    }\n",
       "\n",
       "    function displayChart(vegaEmbed) {\n",
       "      vegaEmbed(outputDiv, spec, embedOpt)\n",
       "        .catch(err => showError(`Javascript Error: ${err.message}<br>This usually means there's a typo in your chart specification. See the javascript console for the full traceback.`));\n",
       "    }\n",
       "\n",
       "    if(typeof define === \"function\" && define.amd) {\n",
       "      requirejs.config({paths});\n",
       "      require([\"vega-embed\"], displayChart, err => showError(`Error loading script: ${err.message}`));\n",
       "    } else {\n",
       "      maybeLoadScript(\"vega\", \"5\")\n",
       "        .then(() => maybeLoadScript(\"vega-lite\", \"5.20.1\"))\n",
       "        .then(() => maybeLoadScript(\"vega-embed\", \"6\"))\n",
       "        .catch(showError)\n",
       "        .then(() => displayChart(vegaEmbed));\n",
       "    }\n",
       "  })({\"$schema\": \"https://vega.github.io/schema/vega/v5.json\", \"data\": [{\"name\": \"source_0\", \"values\": [{\"bmi\": 27.9, \"charges\": 16884.924}, {\"bmi\": 33.77, \"charges\": 1725.5523}, {\"bmi\": 33.0, \"charges\": 4449.462}, {\"bmi\": 22.705, \"charges\": 21984.47061}, {\"bmi\": 28.88, \"charges\": 3866.8552}, {\"bmi\": 25.74, \"charges\": 3756.6216}, {\"bmi\": 33.44, \"charges\": 8240.5896}, {\"bmi\": 27.74, \"charges\": 7281.5056}, {\"bmi\": 29.83, \"charges\": 6406.4107}, {\"bmi\": 25.84, \"charges\": 28923.13692}, {\"bmi\": 26.22, \"charges\": 2721.3208}, {\"bmi\": 26.29, \"charges\": 27808.7251}, {\"bmi\": 34.4, \"charges\": 1826.843}, {\"bmi\": 39.82, \"charges\": 11090.7178}, {\"bmi\": 42.13, \"charges\": 39611.7577}, {\"bmi\": 24.6, \"charges\": 1837.237}, {\"bmi\": 30.78, \"charges\": 10797.3362}, {\"bmi\": 23.845, \"charges\": 2395.17155}, {\"bmi\": 40.3, \"charges\": 10602.385}, {\"bmi\": 35.3, \"charges\": 36837.467}, {\"bmi\": 36.005, \"charges\": 13228.84695}, {\"bmi\": 32.4, \"charges\": 4149.736}, {\"bmi\": 34.1, \"charges\": 1137.011}, {\"bmi\": 31.92, \"charges\": 37701.8768}, {\"bmi\": 28.025, \"charges\": 6203.90175}, {\"bmi\": 27.72, \"charges\": 14001.1338}, {\"bmi\": 23.085, \"charges\": 14451.83515}, {\"bmi\": 32.775, \"charges\": 12268.63225}, {\"bmi\": 17.385, \"charges\": 2775.19215}, {\"bmi\": 36.3, \"charges\": 38711.0}, {\"bmi\": 35.6, \"charges\": 35585.576}, {\"bmi\": 26.315, \"charges\": 2198.18985}, {\"bmi\": 28.6, \"charges\": 4687.797}, {\"bmi\": 28.31, \"charges\": 13770.0979}, {\"bmi\": 36.4, \"charges\": 51194.55914}, {\"bmi\": 20.425, \"charges\": 1625.43375}, {\"bmi\": 32.965, \"charges\": 15612.19335}, {\"bmi\": 20.8, \"charges\": 2302.3}, {\"bmi\": 36.67, \"charges\": 39774.2763}, {\"bmi\": 39.9, \"charges\": 48173.361}, {\"bmi\": 26.6, \"charges\": 3046.062}, {\"bmi\": 36.63, \"charges\": 4949.7587}, {\"bmi\": 21.78, \"charges\": 6272.4772}, {\"bmi\": 30.8, \"charges\": 6313.759}, {\"bmi\": 37.05, \"charges\": 6079.6715}, {\"bmi\": 37.3, \"charges\": 20630.28351}, {\"bmi\": 38.665, \"charges\": 3393.35635}, {\"bmi\": 34.77, \"charges\": 3556.9223}, {\"bmi\": 24.53, \"charges\": 12629.8967}, {\"bmi\": 35.2, \"charges\": 38709.176}, {\"bmi\": 35.625, \"charges\": 2211.13075}, {\"bmi\": 33.63, \"charges\": 3579.8287}, {\"bmi\": 28.0, \"charges\": 23568.272}, {\"bmi\": 34.43, \"charges\": 37742.5757}, {\"bmi\": 28.69, \"charges\": 8059.6791}, {\"bmi\": 36.955, \"charges\": 47496.49445}, {\"bmi\": 31.825, \"charges\": 13607.36875}, {\"bmi\": 31.68, \"charges\": 34303.1672}, {\"bmi\": 22.88, \"charges\": 23244.7902}, {\"bmi\": 37.335, \"charges\": 5989.52365}, {\"bmi\": 27.36, \"charges\": 8606.2174}, {\"bmi\": 33.66, \"charges\": 4504.6624}, {\"bmi\": 24.7, \"charges\": 30166.61817}, {\"bmi\": 25.935, \"charges\": 4133.64165}, {\"bmi\": 22.42, \"charges\": 14711.7438}, {\"bmi\": 28.9, \"charges\": 1743.214}, {\"bmi\": 39.1, \"charges\": 14235.072}, {\"bmi\": 26.315, \"charges\": 6389.37785}, {\"bmi\": 36.19, \"charges\": 5920.1041}, {\"bmi\": 23.98, \"charges\": 17663.1442}, {\"bmi\": 24.75, \"charges\": 16577.7795}, {\"bmi\": 28.5, \"charges\": 6799.458}, {\"bmi\": 28.1, \"charges\": 11741.726}, {\"bmi\": 32.01, \"charges\": 11946.6259}, {\"bmi\": 27.4, \"charges\": 7726.854}, {\"bmi\": 34.01, \"charges\": 11356.6609}, {\"bmi\": 29.59, \"charges\": 3947.4131}, {\"bmi\": 35.53, \"charges\": 1532.4697}, {\"bmi\": 39.805, \"charges\": 2755.02095}, {\"bmi\": 32.965, \"charges\": 6571.02435}, {\"bmi\": 26.885, \"charges\": 4441.21315}, {\"bmi\": 38.285, \"charges\": 7935.29115}, {\"bmi\": 37.62, \"charges\": 37165.1638}, {\"bmi\": 41.23, \"charges\": 11033.6617}, {\"bmi\": 34.8, \"charges\": 39836.519}, {\"bmi\": 22.895, \"charges\": 21098.55405}, {\"bmi\": 31.16, \"charges\": 43578.9394}, {\"bmi\": 27.2, \"charges\": 11073.176}, {\"bmi\": 27.74, \"charges\": 8026.6666}, {\"bmi\": 26.98, \"charges\": 11082.5772}, {\"bmi\": 39.49, \"charges\": 2026.9741}, {\"bmi\": 24.795, \"charges\": 10942.13205}, {\"bmi\": 29.83, \"charges\": 30184.9367}, {\"bmi\": 34.77, \"charges\": 5729.0053}, {\"bmi\": 31.3, \"charges\": 47291.055}, {\"bmi\": 37.62, \"charges\": 3766.8838}, {\"bmi\": 30.8, \"charges\": 12105.32}, {\"bmi\": 38.28, \"charges\": 10226.2842}, {\"bmi\": 19.95, \"charges\": 22412.6485}, {\"bmi\": 19.3, \"charges\": 15820.699}, {\"bmi\": 31.6, \"charges\": 6186.127}, {\"bmi\": 25.46, \"charges\": 3645.0894}, {\"bmi\": 30.115, \"charges\": 21344.8467}, {\"bmi\": 29.92, \"charges\": 30942.1918}, {\"bmi\": 27.5, \"charges\": 5003.853}, {\"bmi\": 28.025, \"charges\": 17560.37975}, {\"bmi\": 28.4, \"charges\": 2331.519}, {\"bmi\": 30.875, \"charges\": 3877.30425}, {\"bmi\": 27.94, \"charges\": 2867.1196}, {\"bmi\": 35.09, \"charges\": 47055.5321}, {\"bmi\": 33.63, \"charges\": 10825.2537}, {\"bmi\": 29.7, \"charges\": 11881.358}, {\"bmi\": 30.8, \"charges\": 4646.759}, {\"bmi\": 35.72, \"charges\": 2404.7338}, {\"bmi\": 32.205, \"charges\": 11488.31695}, {\"bmi\": 28.595, \"charges\": 30259.99556}, {\"bmi\": 49.06, \"charges\": 11381.3254}, {\"bmi\": 27.94, \"charges\": 19107.7796}, {\"bmi\": 27.17, \"charges\": 8601.3293}, {\"bmi\": 23.37, \"charges\": 6686.4313}, {\"bmi\": 37.1, \"charges\": 7740.337}, {\"bmi\": 23.75, \"charges\": 1705.6245}, {\"bmi\": 28.975, \"charges\": 2257.47525}, {\"bmi\": 31.35, \"charges\": 39556.4945}, {\"bmi\": 33.915, \"charges\": 10115.00885}, {\"bmi\": 28.785, \"charges\": 3385.39915}, {\"bmi\": 28.3, \"charges\": 17081.08}, {\"bmi\": 37.4, \"charges\": 9634.538}, {\"bmi\": 17.765, \"charges\": 32734.1863}, {\"bmi\": 34.7, \"charges\": 6082.405}, {\"bmi\": 26.505, \"charges\": 12815.44495}, {\"bmi\": 22.04, \"charges\": 13616.3586}, {\"bmi\": 35.9, \"charges\": 11163.568}, {\"bmi\": 25.555, \"charges\": 1632.56445}, {\"bmi\": 28.785, \"charges\": 2457.21115}, {\"bmi\": 28.05, \"charges\": 2155.6815}, {\"bmi\": 34.1, \"charges\": 1261.442}, {\"bmi\": 25.175, \"charges\": 2045.68525}, {\"bmi\": 31.9, \"charges\": 27322.73386}, {\"bmi\": 36.0, \"charges\": 2166.732}, {\"bmi\": 22.42, \"charges\": 27375.90478}, {\"bmi\": 32.49, \"charges\": 3490.5491}, {\"bmi\": 25.3, \"charges\": 18972.495}, {\"bmi\": 29.735, \"charges\": 18157.876}, {\"bmi\": 28.69, \"charges\": 20745.9891}, {\"bmi\": 38.83, \"charges\": 5138.2567}, {\"bmi\": 30.495, \"charges\": 40720.55105}, {\"bmi\": 37.73, \"charges\": 9877.6077}, {\"bmi\": 37.43, \"charges\": 10959.6947}, {\"bmi\": 28.4, \"charges\": 1842.519}, {\"bmi\": 24.13, \"charges\": 5125.2157}, {\"bmi\": 29.7, \"charges\": 7789.635}, {\"bmi\": 37.145, \"charges\": 6334.34355}, {\"bmi\": 23.37, \"charges\": 19964.7463}, {\"bmi\": 25.46, \"charges\": 7077.1894}, {\"bmi\": 39.52, \"charges\": 6948.7008}, {\"bmi\": 24.42, \"charges\": 21223.6758}, {\"bmi\": 25.175, \"charges\": 15518.18025}, {\"bmi\": 35.53, \"charges\": 36950.2567}, {\"bmi\": 27.83, \"charges\": 19749.38338}, {\"bmi\": 26.6, \"charges\": 21348.706}, {\"bmi\": 36.85, \"charges\": 36149.4835}, {\"bmi\": 39.6, \"charges\": 10450.552}, {\"bmi\": 29.8, \"charges\": 5152.134}, {\"bmi\": 29.64, \"charges\": 5028.1466}, {\"bmi\": 28.215, \"charges\": 10407.08585}, {\"bmi\": 37.0, \"charges\": 4830.63}, {\"bmi\": 33.155, \"charges\": 6128.79745}, {\"bmi\": 31.825, \"charges\": 2719.27975}, {\"bmi\": 18.905, \"charges\": 4827.90495}, {\"bmi\": 41.47, \"charges\": 13405.3903}, {\"bmi\": 30.3, \"charges\": 8116.68}, {\"bmi\": 15.96, \"charges\": 1694.7964}, {\"bmi\": 34.8, \"charges\": 5246.047}, {\"bmi\": 33.345, \"charges\": 2855.43755}, {\"bmi\": 37.7, \"charges\": 48824.45}, {\"bmi\": 27.835, \"charges\": 6455.86265}, {\"bmi\": 29.2, \"charges\": 10436.096}, {\"bmi\": 28.9, \"charges\": 8823.279}, {\"bmi\": 33.155, \"charges\": 8538.28845}, {\"bmi\": 28.595, \"charges\": 11735.87905}, {\"bmi\": 38.28, \"charges\": 1631.8212}, {\"bmi\": 19.95, \"charges\": 4005.4225}, {\"bmi\": 26.41, \"charges\": 7419.4779}, {\"bmi\": 30.69, \"charges\": 7731.4271}, {\"bmi\": 41.895, \"charges\": 43753.33705}, {\"bmi\": 29.92, \"charges\": 3981.9768}, {\"bmi\": 30.9, \"charges\": 5325.651}, {\"bmi\": 32.2, \"charges\": 6775.961}, {\"bmi\": 32.11, \"charges\": 4922.9159}, {\"bmi\": 31.57, \"charges\": 12557.6053}, {\"bmi\": 26.2, \"charges\": 4883.866}, {\"bmi\": 25.74, \"charges\": 2137.6536}, {\"bmi\": 26.6, \"charges\": 12044.342}, {\"bmi\": 34.43, \"charges\": 1137.4697}, {\"bmi\": 30.59, \"charges\": 1639.5631}, {\"bmi\": 32.8, \"charges\": 5649.715}, {\"bmi\": 28.6, \"charges\": 8516.829}, {\"bmi\": 18.05, \"charges\": 9644.2525}, {\"bmi\": 39.33, \"charges\": 14901.5167}, {\"bmi\": 32.11, \"charges\": 2130.6759}, {\"bmi\": 32.23, \"charges\": 8871.1517}, {\"bmi\": 24.035, \"charges\": 13012.20865}, {\"bmi\": 36.08, \"charges\": 37133.8982}, {\"bmi\": 22.3, \"charges\": 7147.105}, {\"bmi\": 28.88, \"charges\": 4337.7352}, {\"bmi\": 26.4, \"charges\": 11743.299}, {\"bmi\": 27.74, \"charges\": 20984.0936}, {\"bmi\": 31.8, \"charges\": 13880.949}, {\"bmi\": 41.23, \"charges\": 6610.1097}, {\"bmi\": 33.0, \"charges\": 1980.07}, {\"bmi\": 30.875, \"charges\": 8162.71625}, {\"bmi\": 28.5, \"charges\": 3537.703}, {\"bmi\": 26.73, \"charges\": 5002.7827}, {\"bmi\": 30.9, \"charges\": 8520.026}, {\"bmi\": 37.1, \"charges\": 7371.772}, {\"bmi\": 26.6, \"charges\": 10355.641}, {\"bmi\": 23.1, \"charges\": 2483.736}, {\"bmi\": 29.92, \"charges\": 3392.9768}, {\"bmi\": 23.21, \"charges\": 25081.76784}, {\"bmi\": 33.7, \"charges\": 5012.471}, {\"bmi\": 33.25, \"charges\": 10564.8845}, {\"bmi\": 30.8, \"charges\": 5253.524}, {\"bmi\": 34.8, \"charges\": 34779.615}, {\"bmi\": 24.64, \"charges\": 19515.5416}, {\"bmi\": 33.88, \"charges\": 11987.1682}, {\"bmi\": 38.06, \"charges\": 2689.4954}, {\"bmi\": 41.91, \"charges\": 24227.33724}, {\"bmi\": 31.635, \"charges\": 7358.17565}, {\"bmi\": 25.46, \"charges\": 9225.2564}, {\"bmi\": 36.195, \"charges\": 7443.64305}, {\"bmi\": 27.83, \"charges\": 14001.2867}, {\"bmi\": 17.8, \"charges\": 1727.785}, {\"bmi\": 27.5, \"charges\": 12333.828}, {\"bmi\": 24.51, \"charges\": 6710.1919}, {\"bmi\": 22.22, \"charges\": 19444.2658}, {\"bmi\": 26.73, \"charges\": 1615.7667}, {\"bmi\": 38.39, \"charges\": 4463.2051}, {\"bmi\": 29.07, \"charges\": 17352.6803}, {\"bmi\": 38.06, \"charges\": 7152.6714}, {\"bmi\": 36.67, \"charges\": 38511.6283}, {\"bmi\": 22.135, \"charges\": 5354.07465}, {\"bmi\": 26.8, \"charges\": 35160.13457}, {\"bmi\": 35.3, \"charges\": 7196.867}, {\"bmi\": 27.74, \"charges\": 29523.1656}, {\"bmi\": 30.02, \"charges\": 24476.47851}, {\"bmi\": 38.06, \"charges\": 12648.7034}, {\"bmi\": 35.86, \"charges\": 1986.9334}, {\"bmi\": 20.9, \"charges\": 1832.094}, {\"bmi\": 28.975, \"charges\": 4040.55825}, {\"bmi\": 17.29, \"charges\": 12829.4551}, {\"bmi\": 32.2, \"charges\": 47305.305}, {\"bmi\": 34.21, \"charges\": 44260.7499}, {\"bmi\": 30.3, \"charges\": 4260.744}, {\"bmi\": 31.825, \"charges\": 41097.16175}, {\"bmi\": 25.365, \"charges\": 13047.33235}, {\"bmi\": 33.63, \"charges\": 43921.1837}, {\"bmi\": 40.15, \"charges\": 5400.9805}, {\"bmi\": 24.415, \"charges\": 11520.09985}, {\"bmi\": 31.92, \"charges\": 33750.2918}, {\"bmi\": 25.2, \"charges\": 11837.16}, {\"bmi\": 26.84, \"charges\": 17085.2676}, {\"bmi\": 24.32, \"charges\": 24869.8368}, {\"bmi\": 36.955, \"charges\": 36219.40545}, {\"bmi\": 38.06, \"charges\": 20462.99766}, {\"bmi\": 42.35, \"charges\": 46151.1245}, {\"bmi\": 19.8, \"charges\": 17179.522}, {\"bmi\": 32.395, \"charges\": 14590.63205}, {\"bmi\": 30.2, \"charges\": 7441.053}, {\"bmi\": 25.84, \"charges\": 9282.4806}, {\"bmi\": 29.37, \"charges\": 1719.4363}, {\"bmi\": 34.2, \"charges\": 42856.838}, {\"bmi\": 37.05, \"charges\": 7265.7025}, {\"bmi\": 27.455, \"charges\": 9617.66245}, {\"bmi\": 27.55, \"charges\": 2523.1695}, {\"bmi\": 26.6, \"charges\": 9715.841}, {\"bmi\": 20.615, \"charges\": 2803.69785}, {\"bmi\": 24.3, \"charges\": 2150.469}, {\"bmi\": 31.79, \"charges\": 12928.7911}, {\"bmi\": 21.56, \"charges\": 9855.1314}, {\"bmi\": 28.12, \"charges\": 22331.5668}, {\"bmi\": 40.565, \"charges\": 48549.17835}, {\"bmi\": 27.645, \"charges\": 4237.12655}, {\"bmi\": 32.395, \"charges\": 11879.10405}, {\"bmi\": 31.2, \"charges\": 9625.92}, {\"bmi\": 26.62, \"charges\": 7742.1098}, {\"bmi\": 48.07, \"charges\": 9432.9253}, {\"bmi\": 26.22, \"charges\": 14256.1928}, {\"bmi\": 36.765, \"charges\": 47896.79135}, {\"bmi\": 26.4, \"charges\": 25992.82104}, {\"bmi\": 33.4, \"charges\": 3172.018}, {\"bmi\": 29.64, \"charges\": 20277.80751}, {\"bmi\": 45.54, \"charges\": 42112.2356}, {\"bmi\": 28.82, \"charges\": 2156.7518}, {\"bmi\": 26.8, \"charges\": 3906.127}, {\"bmi\": 22.99, \"charges\": 1704.5681}, {\"bmi\": 27.7, \"charges\": 16297.846}, {\"bmi\": 25.41, \"charges\": 21978.6769}, {\"bmi\": 34.39, \"charges\": 38746.3551}, {\"bmi\": 28.88, \"charges\": 9249.4952}, {\"bmi\": 27.55, \"charges\": 6746.7425}, {\"bmi\": 22.61, \"charges\": 24873.3849}, {\"bmi\": 37.51, \"charges\": 12265.5069}, {\"bmi\": 33.0, \"charges\": 4349.462}, {\"bmi\": 38.0, \"charges\": 12646.207}, {\"bmi\": 33.345, \"charges\": 19442.3535}, {\"bmi\": 27.5, \"charges\": 20177.67113}, {\"bmi\": 33.33, \"charges\": 4151.0287}, {\"bmi\": 34.865, \"charges\": 11944.59435}, {\"bmi\": 33.06, \"charges\": 7749.1564}, {\"bmi\": 26.6, \"charges\": 8444.474}, {\"bmi\": 24.7, \"charges\": 1737.376}, {\"bmi\": 35.97, \"charges\": 42124.5153}, {\"bmi\": 35.86, \"charges\": 8124.4084}, {\"bmi\": 31.4, \"charges\": 34838.873}, {\"bmi\": 33.25, \"charges\": 9722.7695}, {\"bmi\": 32.205, \"charges\": 8835.26495}, {\"bmi\": 32.775, \"charges\": 10435.06525}, {\"bmi\": 27.645, \"charges\": 7421.19455}, {\"bmi\": 37.335, \"charges\": 4667.60765}, {\"bmi\": 25.27, \"charges\": 4894.7533}, {\"bmi\": 29.64, \"charges\": 24671.66334}, {\"bmi\": 30.8, \"charges\": 35491.64}, {\"bmi\": 40.945, \"charges\": 11566.30055}, {\"bmi\": 27.2, \"charges\": 2866.091}, {\"bmi\": 34.105, \"charges\": 6600.20595}, {\"bmi\": 23.21, \"charges\": 3561.8889}, {\"bmi\": 36.48, \"charges\": 42760.5022}, {\"bmi\": 33.8, \"charges\": 47928.03}, {\"bmi\": 36.7, \"charges\": 9144.565}, {\"bmi\": 36.385, \"charges\": 48517.56315}, {\"bmi\": 27.36, \"charges\": 24393.6224}, {\"bmi\": 31.16, \"charges\": 13429.0354}, {\"bmi\": 28.785, \"charges\": 11658.37915}, {\"bmi\": 35.72, \"charges\": 19144.57652}, {\"bmi\": 34.5, \"charges\": 13822.803}, {\"bmi\": 25.74, \"charges\": 12142.5786}, {\"bmi\": 27.55, \"charges\": 13937.6665}, {\"bmi\": 32.3, \"charges\": 41919.097}, {\"bmi\": 27.72, \"charges\": 8232.6388}, {\"bmi\": 27.6, \"charges\": 18955.22017}, {\"bmi\": 30.02, \"charges\": 13352.0998}, {\"bmi\": 27.55, \"charges\": 13217.0945}, {\"bmi\": 36.765, \"charges\": 13981.85035}, {\"bmi\": 41.47, \"charges\": 10977.2063}, {\"bmi\": 29.26, \"charges\": 6184.2994}, {\"bmi\": 35.75, \"charges\": 4889.9995}, {\"bmi\": 33.345, \"charges\": 8334.45755}, {\"bmi\": 29.92, \"charges\": 5478.0368}, {\"bmi\": 27.835, \"charges\": 1635.73365}, {\"bmi\": 23.18, \"charges\": 11830.6072}, {\"bmi\": 25.6, \"charges\": 8932.084}, {\"bmi\": 27.7, \"charges\": 3554.203}, {\"bmi\": 35.245, \"charges\": 12404.8791}, {\"bmi\": 38.28, \"charges\": 14133.03775}, {\"bmi\": 27.6, \"charges\": 24603.04837}, {\"bmi\": 43.89, \"charges\": 8944.1151}, {\"bmi\": 29.83, \"charges\": 9620.3307}, {\"bmi\": 41.91, \"charges\": 1837.2819}, {\"bmi\": 20.79, \"charges\": 1607.5101}, {\"bmi\": 32.3, \"charges\": 10043.249}, {\"bmi\": 30.5, \"charges\": 4751.07}, {\"bmi\": 21.7, \"charges\": 13844.506}, {\"bmi\": 26.4, \"charges\": 2597.779}, {\"bmi\": 21.89, \"charges\": 3180.5101}, {\"bmi\": 30.78, \"charges\": 9778.3472}, {\"bmi\": 32.3, \"charges\": 13430.265}, {\"bmi\": 24.985, \"charges\": 8017.06115}, {\"bmi\": 32.015, \"charges\": 8116.26885}, {\"bmi\": 30.4, \"charges\": 3481.868}, {\"bmi\": 21.09, \"charges\": 13415.0381}, {\"bmi\": 22.23, \"charges\": 12029.2867}, {\"bmi\": 33.155, \"charges\": 7639.41745}, {\"bmi\": 32.9, \"charges\": 36085.219}, {\"bmi\": 33.33, \"charges\": 1391.5287}, {\"bmi\": 28.31, \"charges\": 18033.9679}, {\"bmi\": 24.89, \"charges\": 21659.9301}, {\"bmi\": 40.15, \"charges\": 38126.2465}, {\"bmi\": 30.115, \"charges\": 16455.70785}, {\"bmi\": 31.46, \"charges\": 27000.98473}, {\"bmi\": 17.955, \"charges\": 15006.57945}, {\"bmi\": 30.685, \"charges\": 42303.69215}, {\"bmi\": 33.0, \"charges\": 20781.48892}, {\"bmi\": 43.34, \"charges\": 5846.9176}, {\"bmi\": 22.135, \"charges\": 8302.53565}, {\"bmi\": 34.4, \"charges\": 1261.859}, {\"bmi\": 39.05, \"charges\": 11856.4115}, {\"bmi\": 25.365, \"charges\": 30284.64294}, {\"bmi\": 22.61, \"charges\": 3176.8159}, {\"bmi\": 30.21, \"charges\": 4618.0799}, {\"bmi\": 35.625, \"charges\": 10736.87075}, {\"bmi\": 37.43, \"charges\": 2138.0707}, {\"bmi\": 31.445, \"charges\": 8964.06055}, {\"bmi\": 31.35, \"charges\": 9290.1395}, {\"bmi\": 32.3, \"charges\": 9411.005}, {\"bmi\": 19.855, \"charges\": 7526.70645}, {\"bmi\": 34.4, \"charges\": 8522.003}, {\"bmi\": 31.02, \"charges\": 16586.49771}, {\"bmi\": 25.6, \"charges\": 14988.432}, {\"bmi\": 38.17, \"charges\": 1631.6683}, {\"bmi\": 20.6, \"charges\": 9264.797}, {\"bmi\": 47.52, \"charges\": 8083.9198}, {\"bmi\": 32.965, \"charges\": 14692.66935}, {\"bmi\": 32.3, \"charges\": 10269.46}, {\"bmi\": 20.4, \"charges\": 3260.199}, {\"bmi\": 38.38, \"charges\": 11396.9002}, {\"bmi\": 24.31, \"charges\": 4185.0979}, {\"bmi\": 23.6, \"charges\": 8539.671}, {\"bmi\": 21.12, \"charges\": 6652.5288}, {\"bmi\": 30.03, \"charges\": 4074.4537}, {\"bmi\": 17.48, \"charges\": 1621.3402}, {\"bmi\": 20.235, \"charges\": 19594.80965}, {\"bmi\": 17.195, \"charges\": 14455.64405}, {\"bmi\": 23.9, \"charges\": 5080.096}, {\"bmi\": 35.15, \"charges\": 2134.9015}, {\"bmi\": 35.64, \"charges\": 7345.7266}, {\"bmi\": 34.1, \"charges\": 9140.951}, {\"bmi\": 22.6, \"charges\": 18608.262}, {\"bmi\": 39.16, \"charges\": 14418.2804}, {\"bmi\": 26.98, \"charges\": 28950.4692}, {\"bmi\": 33.88, \"charges\": 46889.2612}, {\"bmi\": 35.86, \"charges\": 46599.1084}, {\"bmi\": 32.775, \"charges\": 39125.33225}, {\"bmi\": 30.59, \"charges\": 2727.3951}, {\"bmi\": 30.2, \"charges\": 8968.33}, {\"bmi\": 24.31, \"charges\": 9788.8659}, {\"bmi\": 27.265, \"charges\": 6555.07035}, {\"bmi\": 29.165, \"charges\": 7323.734819}, {\"bmi\": 16.815, \"charges\": 3167.45585}, {\"bmi\": 30.4, \"charges\": 18804.7524}, {\"bmi\": 33.1, \"charges\": 23082.95533}, {\"bmi\": 20.235, \"charges\": 4906.40965}, {\"bmi\": 26.9, \"charges\": 5969.723}, {\"bmi\": 30.5, \"charges\": 12638.195}, {\"bmi\": 28.595, \"charges\": 4243.59005}, {\"bmi\": 33.11, \"charges\": 13919.8229}, {\"bmi\": 31.73, \"charges\": 2254.7967}, {\"bmi\": 28.9, \"charges\": 5926.846}, {\"bmi\": 46.75, \"charges\": 12592.5345}, {\"bmi\": 29.45, \"charges\": 2897.3235}, {\"bmi\": 32.68, \"charges\": 4738.2682}, {\"bmi\": 33.5, \"charges\": 37079.372}, {\"bmi\": 43.01, \"charges\": 1149.3959}, {\"bmi\": 36.52, \"charges\": 28287.89766}, {\"bmi\": 26.695, \"charges\": 26109.32905}, {\"bmi\": 33.1, \"charges\": 7345.084}, {\"bmi\": 29.64, \"charges\": 12730.9996}, {\"bmi\": 25.65, \"charges\": 11454.0215}, {\"bmi\": 29.6, \"charges\": 5910.944}, {\"bmi\": 38.6, \"charges\": 4762.329}, {\"bmi\": 29.6, \"charges\": 7512.267}, {\"bmi\": 24.13, \"charges\": 4032.2407}, {\"bmi\": 23.4, \"charges\": 1969.614}, {\"bmi\": 29.735, \"charges\": 1769.53165}, {\"bmi\": 46.53, \"charges\": 4686.3887}, {\"bmi\": 37.4, \"charges\": 21797.0004}, {\"bmi\": 30.14, \"charges\": 11881.9696}, {\"bmi\": 30.495, \"charges\": 11840.77505}, {\"bmi\": 39.6, \"charges\": 10601.412}, {\"bmi\": 33.0, \"charges\": 7682.67}, {\"bmi\": 36.63, \"charges\": 10381.4787}, {\"bmi\": 30.0, \"charges\": 22144.032}, {\"bmi\": 38.095, \"charges\": 15230.32405}, {\"bmi\": 25.935, \"charges\": 11165.41765}, {\"bmi\": 25.175, \"charges\": 1632.03625}, {\"bmi\": 28.38, \"charges\": 19521.9682}, {\"bmi\": 28.7, \"charges\": 13224.693}, {\"bmi\": 33.82, \"charges\": 12643.3778}, {\"bmi\": 24.32, \"charges\": 23288.9284}, {\"bmi\": 24.09, \"charges\": 2201.0971}, {\"bmi\": 32.67, \"charges\": 2497.0383}, {\"bmi\": 30.115, \"charges\": 2203.47185}, {\"bmi\": 29.8, \"charges\": 1744.465}, {\"bmi\": 33.345, \"charges\": 20878.78443}, {\"bmi\": 25.1, \"charges\": 25382.297}, {\"bmi\": 28.31, \"charges\": 28868.6639}, {\"bmi\": 28.5, \"charges\": 35147.52848}, {\"bmi\": 35.625, \"charges\": 2534.39375}, {\"bmi\": 36.85, \"charges\": 1534.3045}, {\"bmi\": 32.56, \"charges\": 1824.2854}, {\"bmi\": 41.325, \"charges\": 15555.18875}, {\"bmi\": 37.51, \"charges\": 9304.7019}, {\"bmi\": 31.35, \"charges\": 1622.1885}, {\"bmi\": 39.5, \"charges\": 9880.068}, {\"bmi\": 34.3, \"charges\": 9563.029}, {\"bmi\": 31.065, \"charges\": 4347.02335}, {\"bmi\": 21.47, \"charges\": 12475.3513}, {\"bmi\": 28.7, \"charges\": 1253.936}, {\"bmi\": 38.06, \"charges\": 48885.13561}, {\"bmi\": 31.16, \"charges\": 10461.9794}, {\"bmi\": 32.9, \"charges\": 1748.774}, {\"bmi\": 25.08, \"charges\": 24513.09126}, {\"bmi\": 25.08, \"charges\": 2196.4732}, {\"bmi\": 43.4, \"charges\": 12574.049}, {\"bmi\": 25.7, \"charges\": 17942.106}, {\"bmi\": 27.93, \"charges\": 1967.0227}, {\"bmi\": 23.6, \"charges\": 4931.647}, {\"bmi\": 28.7, \"charges\": 8027.968}, {\"bmi\": 23.98, \"charges\": 8211.1002}, {\"bmi\": 39.2, \"charges\": 13470.86}, {\"bmi\": 34.4, \"charges\": 36197.699}, {\"bmi\": 26.03, \"charges\": 6837.3687}, {\"bmi\": 23.21, \"charges\": 22218.1149}, {\"bmi\": 30.25, \"charges\": 32548.3405}, {\"bmi\": 28.93, \"charges\": 5974.3847}, {\"bmi\": 30.875, \"charges\": 6796.86325}, {\"bmi\": 31.35, \"charges\": 2643.2685}, {\"bmi\": 23.75, \"charges\": 3077.0955}, {\"bmi\": 25.27, \"charges\": 3044.2133}, {\"bmi\": 28.7, \"charges\": 11455.28}, {\"bmi\": 32.11, \"charges\": 11763.0009}, {\"bmi\": 33.66, \"charges\": 2498.4144}, {\"bmi\": 22.42, \"charges\": 9361.3268}, {\"bmi\": 30.4, \"charges\": 1256.299}, {\"bmi\": 28.3, \"charges\": 21082.16}, {\"bmi\": 35.7, \"charges\": 11362.755}, {\"bmi\": 35.31, \"charges\": 27724.28875}, {\"bmi\": 30.495, \"charges\": 8413.46305}, {\"bmi\": 31.0, \"charges\": 5240.765}, {\"bmi\": 30.875, \"charges\": 3857.75925}, {\"bmi\": 27.36, \"charges\": 25656.57526}, {\"bmi\": 44.22, \"charges\": 3994.1778}, {\"bmi\": 33.915, \"charges\": 9866.30485}, {\"bmi\": 37.73, \"charges\": 5397.6167}, {\"bmi\": 26.07, \"charges\": 38245.59327}, {\"bmi\": 33.88, \"charges\": 11482.63485}, {\"bmi\": 30.59, \"charges\": 24059.68019}, {\"bmi\": 25.8, \"charges\": 9861.025}, {\"bmi\": 39.425, \"charges\": 8342.90875}, {\"bmi\": 25.46, \"charges\": 1708.0014}, {\"bmi\": 42.13, \"charges\": 48675.5177}, {\"bmi\": 31.73, \"charges\": 14043.4767}, {\"bmi\": 29.7, \"charges\": 12925.886}, {\"bmi\": 36.19, \"charges\": 19214.70553}, {\"bmi\": 40.48, \"charges\": 13831.1152}, {\"bmi\": 28.025, \"charges\": 6067.12675}, {\"bmi\": 38.9, \"charges\": 5972.378}, {\"bmi\": 30.2, \"charges\": 8825.086}, {\"bmi\": 28.05, \"charges\": 8233.0975}, {\"bmi\": 31.35, \"charges\": 27346.04207}, {\"bmi\": 38.0, \"charges\": 6196.448}, {\"bmi\": 31.79, \"charges\": 3056.3881}, {\"bmi\": 36.3, \"charges\": 13887.204}, {\"bmi\": 47.41, \"charges\": 63770.42801}, {\"bmi\": 30.21, \"charges\": 10231.4999}, {\"bmi\": 25.84, \"charges\": 23807.2406}, {\"bmi\": 35.435, \"charges\": 3268.84665}, {\"bmi\": 46.7, \"charges\": 11538.421}, {\"bmi\": 28.595, \"charges\": 3213.62205}, {\"bmi\": 46.2, \"charges\": 45863.205}, {\"bmi\": 30.8, \"charges\": 13390.559}, {\"bmi\": 28.93, \"charges\": 3972.9247}, {\"bmi\": 21.4, \"charges\": 12957.118}, {\"bmi\": 31.73, \"charges\": 11187.6567}, {\"bmi\": 41.325, \"charges\": 17878.90068}, {\"bmi\": 23.8, \"charges\": 3847.674}, {\"bmi\": 33.44, \"charges\": 8334.5896}, {\"bmi\": 34.21, \"charges\": 3935.1799}, {\"bmi\": 34.105, \"charges\": 39983.42595}, {\"bmi\": 35.53, \"charges\": 1646.4297}, {\"bmi\": 19.95, \"charges\": 9193.8385}, {\"bmi\": 32.68, \"charges\": 10923.9332}, {\"bmi\": 30.5, \"charges\": 2494.022}, {\"bmi\": 44.77, \"charges\": 9058.7303}, {\"bmi\": 32.12, \"charges\": 2801.2588}, {\"bmi\": 30.495, \"charges\": 2128.43105}, {\"bmi\": 40.565, \"charges\": 6373.55735}, {\"bmi\": 30.59, \"charges\": 7256.7231}, {\"bmi\": 31.9, \"charges\": 11552.904}, {\"bmi\": 40.565, \"charges\": 45702.02235}, {\"bmi\": 29.1, \"charges\": 3761.292}, {\"bmi\": 37.29, \"charges\": 2219.4451}, {\"bmi\": 43.12, \"charges\": 4753.6368}, {\"bmi\": 36.86, \"charges\": 31620.00106}, {\"bmi\": 34.295, \"charges\": 13224.05705}, {\"bmi\": 27.17, \"charges\": 12222.8983}, {\"bmi\": 26.84, \"charges\": 1664.9996}, {\"bmi\": 38.095, \"charges\": 58571.07448}, {\"bmi\": 30.2, \"charges\": 9724.53}, {\"bmi\": 23.465, \"charges\": 3206.49135}, {\"bmi\": 25.46, \"charges\": 12913.9924}, {\"bmi\": 30.59, \"charges\": 1639.5631}, {\"bmi\": 45.43, \"charges\": 6356.2707}, {\"bmi\": 23.65, \"charges\": 17626.23951}, {\"bmi\": 20.7, \"charges\": 1242.816}, {\"bmi\": 28.27, \"charges\": 4779.6023}, {\"bmi\": 20.235, \"charges\": 3861.20965}, {\"bmi\": 30.21, \"charges\": 43943.8761}, {\"bmi\": 35.91, \"charges\": 13635.6379}, {\"bmi\": 30.69, \"charges\": 5976.8311}, {\"bmi\": 29.0, \"charges\": 11842.442}, {\"bmi\": 19.57, \"charges\": 8428.0693}, {\"bmi\": 31.13, \"charges\": 2566.4707}, {\"bmi\": 21.85, \"charges\": 15359.1045}, {\"bmi\": 40.26, \"charges\": 5709.1644}, {\"bmi\": 33.725, \"charges\": 8823.98575}, {\"bmi\": 29.48, \"charges\": 7640.3092}, {\"bmi\": 33.25, \"charges\": 5594.8455}, {\"bmi\": 32.6, \"charges\": 7441.501}, {\"bmi\": 37.525, \"charges\": 33471.97189}, {\"bmi\": 39.16, \"charges\": 1633.0444}, {\"bmi\": 31.635, \"charges\": 9174.13565}, {\"bmi\": 25.3, \"charges\": 11070.535}, {\"bmi\": 39.05, \"charges\": 16085.1275}, {\"bmi\": 28.31, \"charges\": 17468.9839}, {\"bmi\": 34.1, \"charges\": 9283.562}, {\"bmi\": 25.175, \"charges\": 3558.62025}, {\"bmi\": 23.655, \"charges\": 25678.77845}, {\"bmi\": 26.98, \"charges\": 4435.0942}, {\"bmi\": 37.8, \"charges\": 39241.442}, {\"bmi\": 29.37, \"charges\": 8547.6913}, {\"bmi\": 34.8, \"charges\": 6571.544}, {\"bmi\": 33.155, \"charges\": 2207.69745}, {\"bmi\": 19.0, \"charges\": 6753.038}, {\"bmi\": 33.0, \"charges\": 1880.07}, {\"bmi\": 36.63, \"charges\": 42969.8527}, {\"bmi\": 28.595, \"charges\": 11658.11505}, {\"bmi\": 25.6, \"charges\": 23306.547}, {\"bmi\": 33.11, \"charges\": 34439.8559}, {\"bmi\": 37.1, \"charges\": 10713.644}, {\"bmi\": 31.4, \"charges\": 3659.346}, {\"bmi\": 34.1, \"charges\": 40182.246}, {\"bmi\": 21.3, \"charges\": 9182.17}, {\"bmi\": 33.535, \"charges\": 34617.84065}, {\"bmi\": 28.785, \"charges\": 12129.61415}, {\"bmi\": 26.03, \"charges\": 3736.4647}, {\"bmi\": 28.88, \"charges\": 6748.5912}, {\"bmi\": 42.46, \"charges\": 11326.71487}, {\"bmi\": 38.0, \"charges\": 11365.952}, {\"bmi\": 38.95, \"charges\": 42983.4585}, {\"bmi\": 36.1, \"charges\": 10085.846}, {\"bmi\": 29.3, \"charges\": 1977.815}, {\"bmi\": 35.53, \"charges\": 3366.6697}, {\"bmi\": 22.705, \"charges\": 7173.35995}, {\"bmi\": 39.7, \"charges\": 9391.346}, {\"bmi\": 38.19, \"charges\": 14410.9321}, {\"bmi\": 24.51, \"charges\": 2709.1119}, {\"bmi\": 38.095, \"charges\": 24915.04626}, {\"bmi\": 26.41, \"charges\": 20149.3229}, {\"bmi\": 33.66, \"charges\": 12949.1554}, {\"bmi\": 42.4, \"charges\": 6666.243}, {\"bmi\": 28.31, \"charges\": 32787.45859}, {\"bmi\": 33.915, \"charges\": 13143.86485}, {\"bmi\": 34.96, \"charges\": 4466.6214}, {\"bmi\": 35.31, \"charges\": 18806.14547}, {\"bmi\": 30.78, \"charges\": 10141.1362}, {\"bmi\": 26.22, \"charges\": 6123.5688}, {\"bmi\": 23.37, \"charges\": 8252.2843}, {\"bmi\": 28.5, \"charges\": 1712.227}, {\"bmi\": 32.965, \"charges\": 12430.95335}, {\"bmi\": 42.68, \"charges\": 9800.8882}, {\"bmi\": 39.6, \"charges\": 10579.711}, {\"bmi\": 31.13, \"charges\": 8280.6227}, {\"bmi\": 36.3, \"charges\": 8527.532}, {\"bmi\": 35.2, \"charges\": 12244.531}, {\"bmi\": 25.3, \"charges\": 24667.419}, {\"bmi\": 42.4, \"charges\": 3410.324}, {\"bmi\": 33.155, \"charges\": 4058.71245}, {\"bmi\": 35.91, \"charges\": 26392.26029}, {\"bmi\": 28.785, \"charges\": 14394.39815}, {\"bmi\": 46.53, \"charges\": 6435.6237}, {\"bmi\": 23.98, \"charges\": 22192.43711}, {\"bmi\": 31.54, \"charges\": 5148.5526}, {\"bmi\": 33.66, \"charges\": 1136.3994}, {\"bmi\": 22.99, \"charges\": 27037.9141}, {\"bmi\": 38.06, \"charges\": 42560.4304}, {\"bmi\": 28.7, \"charges\": 8703.456}, {\"bmi\": 32.775, \"charges\": 40003.33225}, {\"bmi\": 32.015, \"charges\": 45710.20785}, {\"bmi\": 29.81, \"charges\": 6500.2359}, {\"bmi\": 31.57, \"charges\": 4837.5823}, {\"bmi\": 31.16, \"charges\": 3943.5954}, {\"bmi\": 29.7, \"charges\": 4399.731}, {\"bmi\": 31.02, \"charges\": 6185.3208}, {\"bmi\": 43.89, \"charges\": 46200.9851}, {\"bmi\": 21.375, \"charges\": 7222.78625}, {\"bmi\": 40.81, \"charges\": 12485.8009}, {\"bmi\": 31.35, \"charges\": 46130.5265}, {\"bmi\": 36.1, \"charges\": 12363.547}, {\"bmi\": 23.18, \"charges\": 10156.7832}, {\"bmi\": 17.4, \"charges\": 2585.269}, {\"bmi\": 20.3, \"charges\": 1242.26}, {\"bmi\": 35.3, \"charges\": 40103.89}, {\"bmi\": 24.32, \"charges\": 9863.4718}, {\"bmi\": 18.5, \"charges\": 4766.022}, {\"bmi\": 26.41, \"charges\": 11244.3769}, {\"bmi\": 26.125, \"charges\": 7729.64575}, {\"bmi\": 41.69, \"charges\": 5438.7491}, {\"bmi\": 24.1, \"charges\": 26236.57997}, {\"bmi\": 31.13, \"charges\": 34806.4677}, {\"bmi\": 27.36, \"charges\": 2104.1134}, {\"bmi\": 36.2, \"charges\": 8068.185}, {\"bmi\": 32.395, \"charges\": 2362.22905}, {\"bmi\": 23.655, \"charges\": 2352.96845}, {\"bmi\": 34.8, \"charges\": 3577.999}, {\"bmi\": 40.185, \"charges\": 3201.24515}, {\"bmi\": 32.3, \"charges\": 29186.48236}, {\"bmi\": 35.75, \"charges\": 40273.6455}, {\"bmi\": 33.725, \"charges\": 10976.24575}, {\"bmi\": 39.27, \"charges\": 3500.6123}, {\"bmi\": 34.87, \"charges\": 2020.5523}, {\"bmi\": 44.745, \"charges\": 9541.69555}, {\"bmi\": 41.47, \"charges\": 9504.3103}, {\"bmi\": 26.41, \"charges\": 5385.3379}, {\"bmi\": 29.545, \"charges\": 8930.93455}, {\"bmi\": 32.9, \"charges\": 5375.038}, {\"bmi\": 38.06, \"charges\": 44400.4064}, {\"bmi\": 28.69, \"charges\": 10264.4421}, {\"bmi\": 30.495, \"charges\": 6113.23105}, {\"bmi\": 27.74, \"charges\": 5469.0066}, {\"bmi\": 35.2, \"charges\": 1727.54}, {\"bmi\": 23.54, \"charges\": 10107.2206}, {\"bmi\": 30.685, \"charges\": 8310.83915}, {\"bmi\": 40.47, \"charges\": 1984.4533}, {\"bmi\": 22.6, \"charges\": 2457.502}, {\"bmi\": 28.9, \"charges\": 12146.971}, {\"bmi\": 22.61, \"charges\": 9566.9909}, {\"bmi\": 24.32, \"charges\": 13112.6048}, {\"bmi\": 36.67, \"charges\": 10848.1343}, {\"bmi\": 33.44, \"charges\": 12231.6136}, {\"bmi\": 40.66, \"charges\": 9875.6804}, {\"bmi\": 36.6, \"charges\": 11264.541}, {\"bmi\": 37.4, \"charges\": 12979.358}, {\"bmi\": 35.4, \"charges\": 1263.249}, {\"bmi\": 27.075, \"charges\": 10106.13425}, {\"bmi\": 39.05, \"charges\": 40932.4295}, {\"bmi\": 28.405, \"charges\": 6664.68595}, {\"bmi\": 21.755, \"charges\": 16657.71745}, {\"bmi\": 40.28, \"charges\": 2217.6012}, {\"bmi\": 36.08, \"charges\": 6781.3542}, {\"bmi\": 24.42, \"charges\": 19361.9988}, {\"bmi\": 21.4, \"charges\": 10065.413}, {\"bmi\": 30.1, \"charges\": 4234.927}, {\"bmi\": 27.265, \"charges\": 9447.25035}, {\"bmi\": 32.1, \"charges\": 14007.222}, {\"bmi\": 34.77, \"charges\": 9583.8933}, {\"bmi\": 38.39, \"charges\": 40419.0191}, {\"bmi\": 23.7, \"charges\": 3484.331}, {\"bmi\": 31.73, \"charges\": 36189.1017}, {\"bmi\": 35.5, \"charges\": 44585.45587}, {\"bmi\": 24.035, \"charges\": 8604.48365}, {\"bmi\": 29.15, \"charges\": 18246.4955}, {\"bmi\": 34.105, \"charges\": 43254.41795}, {\"bmi\": 26.62, \"charges\": 3757.8448}, {\"bmi\": 26.41, \"charges\": 8827.2099}, {\"bmi\": 30.115, \"charges\": 9910.35985}, {\"bmi\": 27.0, \"charges\": 11737.84884}, {\"bmi\": 21.755, \"charges\": 1627.28245}, {\"bmi\": 36.0, \"charges\": 8556.907}, {\"bmi\": 30.875, \"charges\": 3062.50825}, {\"bmi\": 26.4, \"charges\": 19539.243}, {\"bmi\": 28.975, \"charges\": 1906.35825}, {\"bmi\": 37.905, \"charges\": 14210.53595}, {\"bmi\": 22.77, \"charges\": 11833.7823}, {\"bmi\": 33.63, \"charges\": 17128.42608}, {\"bmi\": 27.645, \"charges\": 5031.26955}, {\"bmi\": 22.8, \"charges\": 7985.815}, {\"bmi\": 27.83, \"charges\": 23065.4207}, {\"bmi\": 37.43, \"charges\": 5428.7277}, {\"bmi\": 38.17, \"charges\": 36307.7983}, {\"bmi\": 34.58, \"charges\": 3925.7582}, {\"bmi\": 35.2, \"charges\": 2416.955}, {\"bmi\": 27.1, \"charges\": 19040.876}, {\"bmi\": 26.03, \"charges\": 3070.8087}, {\"bmi\": 25.175, \"charges\": 9095.06825}, {\"bmi\": 31.825, \"charges\": 11842.62375}, {\"bmi\": 32.3, \"charges\": 8062.764}, {\"bmi\": 29.0, \"charges\": 7050.642}, {\"bmi\": 39.7, \"charges\": 14319.031}, {\"bmi\": 19.475, \"charges\": 6933.24225}, {\"bmi\": 36.1, \"charges\": 27941.28758}, {\"bmi\": 26.7, \"charges\": 11150.78}, {\"bmi\": 36.48, \"charges\": 12797.20962}, {\"bmi\": 28.88, \"charges\": 17748.5062}, {\"bmi\": 34.2, \"charges\": 7261.741}, {\"bmi\": 33.33, \"charges\": 10560.4917}, {\"bmi\": 32.3, \"charges\": 6986.697}, {\"bmi\": 39.805, \"charges\": 7448.40395}, {\"bmi\": 34.32, \"charges\": 5934.3798}, {\"bmi\": 28.88, \"charges\": 9869.8102}, {\"bmi\": 24.4, \"charges\": 18259.216}, {\"bmi\": 41.14, \"charges\": 1146.7966}, {\"bmi\": 35.97, \"charges\": 9386.1613}, {\"bmi\": 27.6, \"charges\": 24520.264}, {\"bmi\": 29.26, \"charges\": 4350.5144}, {\"bmi\": 27.7, \"charges\": 6414.178}, {\"bmi\": 36.955, \"charges\": 12741.16745}, {\"bmi\": 36.86, \"charges\": 1917.3184}, {\"bmi\": 22.515, \"charges\": 5209.57885}, {\"bmi\": 29.92, \"charges\": 13457.9608}, {\"bmi\": 41.8, \"charges\": 5662.225}, {\"bmi\": 27.6, \"charges\": 1252.407}, {\"bmi\": 23.18, \"charges\": 2731.9122}, {\"bmi\": 20.9, \"charges\": 21195.818}, {\"bmi\": 31.92, \"charges\": 7209.4918}, {\"bmi\": 28.5, \"charges\": 18310.742}, {\"bmi\": 44.22, \"charges\": 4266.1658}, {\"bmi\": 22.895, \"charges\": 4719.52405}, {\"bmi\": 33.1, \"charges\": 11848.141}, {\"bmi\": 24.795, \"charges\": 17904.52705}, {\"bmi\": 26.18, \"charges\": 7046.7222}, {\"bmi\": 35.97, \"charges\": 14313.8463}, {\"bmi\": 22.3, \"charges\": 2103.08}, {\"bmi\": 42.24, \"charges\": 38792.6856}, {\"bmi\": 26.51, \"charges\": 1815.8759}, {\"bmi\": 35.815, \"charges\": 7731.85785}, {\"bmi\": 41.42, \"charges\": 28476.73499}, {\"bmi\": 36.575, \"charges\": 2136.88225}, {\"bmi\": 30.14, \"charges\": 1131.5066}, {\"bmi\": 25.84, \"charges\": 3309.7926}, {\"bmi\": 30.8, \"charges\": 9414.92}, {\"bmi\": 42.94, \"charges\": 6360.9936}, {\"bmi\": 21.01, \"charges\": 11013.7119}, {\"bmi\": 22.515, \"charges\": 4428.88785}, {\"bmi\": 34.43, \"charges\": 5584.3057}, {\"bmi\": 31.46, \"charges\": 1877.9294}, {\"bmi\": 24.225, \"charges\": 2842.76075}, {\"bmi\": 37.1, \"charges\": 3597.596}, {\"bmi\": 26.125, \"charges\": 23401.30575}, {\"bmi\": 35.53, \"charges\": 55135.40209}, {\"bmi\": 33.7, \"charges\": 7445.918}, {\"bmi\": 17.67, \"charges\": 2680.9493}, {\"bmi\": 31.13, \"charges\": 1621.8827}, {\"bmi\": 29.81, \"charges\": 8219.2039}, {\"bmi\": 24.32, \"charges\": 12523.6048}, {\"bmi\": 31.825, \"charges\": 16069.08475}, {\"bmi\": 31.79, \"charges\": 43813.8661}, {\"bmi\": 28.025, \"charges\": 20773.62775}, {\"bmi\": 30.78, \"charges\": 39597.4072}, {\"bmi\": 21.85, \"charges\": 6117.4945}, {\"bmi\": 33.1, \"charges\": 13393.756}, {\"bmi\": 25.84, \"charges\": 5266.3656}, {\"bmi\": 23.845, \"charges\": 4719.73655}, {\"bmi\": 34.39, \"charges\": 11743.9341}, {\"bmi\": 33.82, \"charges\": 5377.4578}, {\"bmi\": 35.97, \"charges\": 7160.3303}, {\"bmi\": 31.5, \"charges\": 4402.233}, {\"bmi\": 28.31, \"charges\": 11657.7189}, {\"bmi\": 23.465, \"charges\": 6402.29135}, {\"bmi\": 31.35, \"charges\": 12622.1795}, {\"bmi\": 31.1, \"charges\": 1526.312}, {\"bmi\": 24.7, \"charges\": 12323.936}, {\"bmi\": 32.78, \"charges\": 36021.0112}, {\"bmi\": 29.81, \"charges\": 27533.9129}, {\"bmi\": 30.495, \"charges\": 10072.05505}, {\"bmi\": 32.45, \"charges\": 45008.9555}, {\"bmi\": 34.2, \"charges\": 9872.701}, {\"bmi\": 50.38, \"charges\": 2438.0552}, {\"bmi\": 24.1, \"charges\": 2974.126}, {\"bmi\": 32.775, \"charges\": 10601.63225}, {\"bmi\": 30.78, \"charges\": 37270.1512}, {\"bmi\": 32.3, \"charges\": 14119.62}, {\"bmi\": 35.53, \"charges\": 42111.6647}, {\"bmi\": 23.75, \"charges\": 11729.6795}, {\"bmi\": 23.845, \"charges\": 24106.91255}, {\"bmi\": 29.6, \"charges\": 1875.344}, {\"bmi\": 33.11, \"charges\": 40974.1649}, {\"bmi\": 24.13, \"charges\": 15817.9857}, {\"bmi\": 32.23, \"charges\": 18218.16139}, {\"bmi\": 28.1, \"charges\": 10965.446}, {\"bmi\": 47.6, \"charges\": 46113.511}, {\"bmi\": 28.0, \"charges\": 7151.092}, {\"bmi\": 33.535, \"charges\": 12269.68865}, {\"bmi\": 19.855, \"charges\": 5458.04645}, {\"bmi\": 25.4, \"charges\": 8782.469}, {\"bmi\": 29.9, \"charges\": 6600.361}, {\"bmi\": 37.29, \"charges\": 1141.4451}, {\"bmi\": 43.7, \"charges\": 11576.13}, {\"bmi\": 23.655, \"charges\": 13129.60345}, {\"bmi\": 24.3, \"charges\": 4391.652}, {\"bmi\": 36.2, \"charges\": 8457.818}, {\"bmi\": 29.48, \"charges\": 3392.3652}, {\"bmi\": 24.86, \"charges\": 5966.8874}, {\"bmi\": 30.1, \"charges\": 6849.026}, {\"bmi\": 21.85, \"charges\": 8891.1395}, {\"bmi\": 28.12, \"charges\": 2690.1138}, {\"bmi\": 27.1, \"charges\": 26140.3603}, {\"bmi\": 33.44, \"charges\": 6653.7886}, {\"bmi\": 28.8, \"charges\": 6282.235}, {\"bmi\": 29.5, \"charges\": 6311.952}, {\"bmi\": 34.8, \"charges\": 3443.064}, {\"bmi\": 27.36, \"charges\": 2789.0574}, {\"bmi\": 22.135, \"charges\": 2585.85065}, {\"bmi\": 37.05, \"charges\": 46255.1125}, {\"bmi\": 26.695, \"charges\": 4877.98105}, {\"bmi\": 28.93, \"charges\": 19719.6947}, {\"bmi\": 28.975, \"charges\": 27218.43725}, {\"bmi\": 30.02, \"charges\": 5272.1758}, {\"bmi\": 39.5, \"charges\": 1682.597}, {\"bmi\": 33.63, \"charges\": 11945.1327}, {\"bmi\": 26.885, \"charges\": 29330.98315}, {\"bmi\": 29.04, \"charges\": 7243.8136}, {\"bmi\": 24.035, \"charges\": 10422.91665}, {\"bmi\": 38.94, \"charges\": 44202.6536}, {\"bmi\": 32.11, \"charges\": 13555.0049}, {\"bmi\": 44.0, \"charges\": 13063.883}, {\"bmi\": 20.045, \"charges\": 19798.05455}, {\"bmi\": 25.555, \"charges\": 2221.56445}, {\"bmi\": 40.26, \"charges\": 1634.5734}, {\"bmi\": 22.515, \"charges\": 2117.33885}, {\"bmi\": 22.515, \"charges\": 8688.85885}, {\"bmi\": 40.92, \"charges\": 48673.5588}, {\"bmi\": 27.265, \"charges\": 4661.28635}, {\"bmi\": 36.85, \"charges\": 8125.7845}, {\"bmi\": 35.1, \"charges\": 12644.589}, {\"bmi\": 29.355, \"charges\": 4564.19145}, {\"bmi\": 32.585, \"charges\": 4846.92015}, {\"bmi\": 32.34, \"charges\": 7633.7206}, {\"bmi\": 39.8, \"charges\": 15170.069}, {\"bmi\": 24.6, \"charges\": 17496.306}, {\"bmi\": 28.31, \"charges\": 2639.0429}, {\"bmi\": 31.73, \"charges\": 33732.6867}, {\"bmi\": 26.695, \"charges\": 14382.70905}, {\"bmi\": 27.5, \"charges\": 7626.993}, {\"bmi\": 24.605, \"charges\": 5257.50795}, {\"bmi\": 33.99, \"charges\": 2473.3341}, {\"bmi\": 26.885, \"charges\": 21774.32215}, {\"bmi\": 22.895, \"charges\": 35069.37452}, {\"bmi\": 28.2, \"charges\": 13041.921}, {\"bmi\": 34.21, \"charges\": 5245.2269}, {\"bmi\": 25.0, \"charges\": 13451.122}, {\"bmi\": 33.2, \"charges\": 13462.52}, {\"bmi\": 31.0, \"charges\": 5488.262}, {\"bmi\": 35.815, \"charges\": 4320.41085}, {\"bmi\": 23.2, \"charges\": 6250.435}, {\"bmi\": 32.11, \"charges\": 25333.33284}, {\"bmi\": 23.4, \"charges\": 2913.569}, {\"bmi\": 20.1, \"charges\": 12032.326}, {\"bmi\": 39.16, \"charges\": 13470.8044}, {\"bmi\": 34.21, \"charges\": 6289.7549}, {\"bmi\": 46.53, \"charges\": 2927.0647}, {\"bmi\": 32.5, \"charges\": 6238.298}, {\"bmi\": 25.8, \"charges\": 10096.97}, {\"bmi\": 35.3, \"charges\": 7348.142}, {\"bmi\": 37.18, \"charges\": 4673.3922}, {\"bmi\": 27.5, \"charges\": 12233.828}, {\"bmi\": 29.735, \"charges\": 32108.66282}, {\"bmi\": 24.225, \"charges\": 8965.79575}, {\"bmi\": 26.18, \"charges\": 2304.0022}, {\"bmi\": 29.48, \"charges\": 9487.6442}, {\"bmi\": 23.21, \"charges\": 1121.8739}, {\"bmi\": 46.09, \"charges\": 9549.5651}, {\"bmi\": 40.185, \"charges\": 2217.46915}, {\"bmi\": 22.61, \"charges\": 1628.4709}, {\"bmi\": 39.93, \"charges\": 12982.8747}, {\"bmi\": 35.8, \"charges\": 11674.13}, {\"bmi\": 35.8, \"charges\": 7160.094}, {\"bmi\": 34.2, \"charges\": 39047.285}, {\"bmi\": 31.255, \"charges\": 6358.77645}, {\"bmi\": 29.7, \"charges\": 19933.458}, {\"bmi\": 18.335, \"charges\": 11534.87265}, {\"bmi\": 42.9, \"charges\": 47462.894}, {\"bmi\": 28.405, \"charges\": 4527.18295}, {\"bmi\": 30.2, \"charges\": 38998.546}, {\"bmi\": 27.835, \"charges\": 20009.63365}, {\"bmi\": 39.49, \"charges\": 3875.7341}, {\"bmi\": 30.8, \"charges\": 41999.52}, {\"bmi\": 26.79, \"charges\": 12609.88702}, {\"bmi\": 34.96, \"charges\": 41034.2214}, {\"bmi\": 36.67, \"charges\": 28468.91901}, {\"bmi\": 39.615, \"charges\": 2730.10785}, {\"bmi\": 25.9, \"charges\": 3353.284}, {\"bmi\": 35.2, \"charges\": 14474.675}, {\"bmi\": 24.795, \"charges\": 9500.57305}, {\"bmi\": 36.765, \"charges\": 26467.09737}, {\"bmi\": 27.1, \"charges\": 4746.344}, {\"bmi\": 24.795, \"charges\": 23967.38305}, {\"bmi\": 25.365, \"charges\": 7518.02535}, {\"bmi\": 25.745, \"charges\": 3279.86855}, {\"bmi\": 34.32, \"charges\": 8596.8278}, {\"bmi\": 28.16, \"charges\": 10702.6424}, {\"bmi\": 23.56, \"charges\": 4992.3764}, {\"bmi\": 20.235, \"charges\": 2527.81865}, {\"bmi\": 40.5, \"charges\": 1759.338}, {\"bmi\": 35.42, \"charges\": 2322.6218}, {\"bmi\": 22.895, \"charges\": 16138.76205}, {\"bmi\": 40.15, \"charges\": 7804.1605}, {\"bmi\": 29.15, \"charges\": 2902.9065}, {\"bmi\": 39.995, \"charges\": 9704.66805}, {\"bmi\": 29.92, \"charges\": 4889.0368}, {\"bmi\": 25.46, \"charges\": 25517.11363}, {\"bmi\": 21.375, \"charges\": 4500.33925}, {\"bmi\": 25.9, \"charges\": 19199.944}, {\"bmi\": 30.59, \"charges\": 16796.41194}, {\"bmi\": 30.115, \"charges\": 4915.05985}, {\"bmi\": 25.8, \"charges\": 7624.63}, {\"bmi\": 30.115, \"charges\": 8410.04685}, {\"bmi\": 27.645, \"charges\": 28340.18885}, {\"bmi\": 34.675, \"charges\": 4518.82625}, {\"bmi\": 20.52, \"charges\": 14571.8908}, {\"bmi\": 19.8, \"charges\": 3378.91}, {\"bmi\": 27.835, \"charges\": 7144.86265}, {\"bmi\": 31.6, \"charges\": 10118.424}, {\"bmi\": 28.27, \"charges\": 5484.4673}, {\"bmi\": 20.045, \"charges\": 16420.49455}, {\"bmi\": 23.275, \"charges\": 7986.47525}, {\"bmi\": 34.1, \"charges\": 7418.522}, {\"bmi\": 36.85, \"charges\": 13887.9685}, {\"bmi\": 36.29, \"charges\": 6551.7501}, {\"bmi\": 26.885, \"charges\": 5267.81815}, {\"bmi\": 22.99, \"charges\": 17361.7661}, {\"bmi\": 32.7, \"charges\": 34472.841}, {\"bmi\": 25.8, \"charges\": 1972.95}, {\"bmi\": 29.6, \"charges\": 21232.18226}, {\"bmi\": 19.19, \"charges\": 8627.5411}, {\"bmi\": 31.73, \"charges\": 4433.3877}, {\"bmi\": 29.26, \"charges\": 4438.2634}, {\"bmi\": 28.215, \"charges\": 24915.22085}, {\"bmi\": 24.985, \"charges\": 23241.47453}, {\"bmi\": 27.74, \"charges\": 9957.7216}, {\"bmi\": 22.8, \"charges\": 8269.044}, {\"bmi\": 20.13, \"charges\": 18767.7377}, {\"bmi\": 33.33, \"charges\": 36580.28216}, {\"bmi\": 32.3, \"charges\": 8765.249}, {\"bmi\": 27.6, \"charges\": 5383.536}, {\"bmi\": 25.46, \"charges\": 12124.9924}, {\"bmi\": 24.605, \"charges\": 2709.24395}, {\"bmi\": 34.2, \"charges\": 3987.926}, {\"bmi\": 35.815, \"charges\": 12495.29085}, {\"bmi\": 32.68, \"charges\": 26018.95052}, {\"bmi\": 37.0, \"charges\": 8798.593}, {\"bmi\": 31.02, \"charges\": 35595.5898}, {\"bmi\": 36.08, \"charges\": 42211.1382}, {\"bmi\": 23.32, \"charges\": 1711.0268}, {\"bmi\": 45.32, \"charges\": 8569.8618}, {\"bmi\": 34.6, \"charges\": 2020.177}, {\"bmi\": 26.03, \"charges\": 16450.8947}, {\"bmi\": 18.715, \"charges\": 21595.38229}, {\"bmi\": 31.6, \"charges\": 9850.432}, {\"bmi\": 17.29, \"charges\": 6877.9801}, {\"bmi\": 23.655, \"charges\": 21677.28345}, {\"bmi\": 35.2, \"charges\": 44423.803}, {\"bmi\": 27.93, \"charges\": 4137.5227}, {\"bmi\": 21.565, \"charges\": 13747.87235}, {\"bmi\": 38.38, \"charges\": 12950.0712}, {\"bmi\": 23.0, \"charges\": 12094.478}, {\"bmi\": 37.07, \"charges\": 37484.4493}, {\"bmi\": 30.495, \"charges\": 39725.51805}, {\"bmi\": 28.88, \"charges\": 2250.8352}, {\"bmi\": 27.265, \"charges\": 22493.65964}, {\"bmi\": 28.025, \"charges\": 20234.85475}, {\"bmi\": 23.085, \"charges\": 1704.70015}, {\"bmi\": 30.685, \"charges\": 33475.81715}, {\"bmi\": 25.8, \"charges\": 3161.454}, {\"bmi\": 35.245, \"charges\": 11394.06555}, {\"bmi\": 24.7, \"charges\": 21880.82}, {\"bmi\": 25.08, \"charges\": 7325.0482}, {\"bmi\": 52.58, \"charges\": 44501.3982}, {\"bmi\": 22.515, \"charges\": 3594.17085}, {\"bmi\": 30.9, \"charges\": 39727.614}, {\"bmi\": 36.955, \"charges\": 8023.13545}, {\"bmi\": 26.41, \"charges\": 14394.5579}, {\"bmi\": 29.83, \"charges\": 9288.0267}, {\"bmi\": 29.8, \"charges\": 25309.489}, {\"bmi\": 21.47, \"charges\": 3353.4703}, {\"bmi\": 27.645, \"charges\": 10594.50155}, {\"bmi\": 28.9, \"charges\": 8277.523}, {\"bmi\": 31.79, \"charges\": 17929.30337}, {\"bmi\": 39.49, \"charges\": 2480.9791}, {\"bmi\": 33.82, \"charges\": 4462.7218}, {\"bmi\": 32.01, \"charges\": 1981.5819}, {\"bmi\": 27.94, \"charges\": 11554.2236}, {\"bmi\": 41.14, \"charges\": 48970.2476}, {\"bmi\": 28.595, \"charges\": 6548.19505}, {\"bmi\": 25.6, \"charges\": 5708.867}, {\"bmi\": 25.3, \"charges\": 7045.499}, {\"bmi\": 37.29, \"charges\": 8978.1851}, {\"bmi\": 42.655, \"charges\": 5757.41345}, {\"bmi\": 21.66, \"charges\": 14349.8544}, {\"bmi\": 31.9, \"charges\": 10928.849}, {\"bmi\": 37.07, \"charges\": 39871.7043}, {\"bmi\": 31.445, \"charges\": 13974.45555}, {\"bmi\": 31.255, \"charges\": 1909.52745}, {\"bmi\": 28.88, \"charges\": 12096.6512}, {\"bmi\": 18.335, \"charges\": 13204.28565}, {\"bmi\": 29.59, \"charges\": 4562.8421}, {\"bmi\": 32.0, \"charges\": 8551.347}, {\"bmi\": 26.03, \"charges\": 2102.2647}, {\"bmi\": 31.68, \"charges\": 34672.1472}, {\"bmi\": 33.66, \"charges\": 15161.5344}, {\"bmi\": 21.78, \"charges\": 11884.04858}, {\"bmi\": 27.835, \"charges\": 4454.40265}, {\"bmi\": 19.95, \"charges\": 5855.9025}, {\"bmi\": 31.5, \"charges\": 4076.497}, {\"bmi\": 30.495, \"charges\": 15019.76005}, {\"bmi\": 18.3, \"charges\": 19023.26}, {\"bmi\": 28.975, \"charges\": 10796.35025}, {\"bmi\": 31.54, \"charges\": 11353.2276}, {\"bmi\": 47.74, \"charges\": 9748.9106}, {\"bmi\": 22.1, \"charges\": 10577.087}, {\"bmi\": 36.19, \"charges\": 41676.0811}, {\"bmi\": 29.83, \"charges\": 11286.5387}, {\"bmi\": 32.7, \"charges\": 3591.48}, {\"bmi\": 30.4, \"charges\": 33907.548}, {\"bmi\": 33.7, \"charges\": 11299.343}, {\"bmi\": 31.35, \"charges\": 4561.1885}, {\"bmi\": 34.96, \"charges\": 44641.1974}, {\"bmi\": 33.77, \"charges\": 1674.6323}, {\"bmi\": 30.875, \"charges\": 23045.56616}, {\"bmi\": 33.99, \"charges\": 3227.1211}, {\"bmi\": 19.095, \"charges\": 16776.30405}, {\"bmi\": 28.6, \"charges\": 11253.421}, {\"bmi\": 38.94, \"charges\": 3471.4096}, {\"bmi\": 36.08, \"charges\": 11363.2832}, {\"bmi\": 29.8, \"charges\": 20420.60465}, {\"bmi\": 31.24, \"charges\": 10338.9316}, {\"bmi\": 29.925, \"charges\": 8988.15875}, {\"bmi\": 26.22, \"charges\": 10493.9458}, {\"bmi\": 30.0, \"charges\": 2904.088}, {\"bmi\": 20.35, \"charges\": 8605.3615}, {\"bmi\": 32.3, \"charges\": 11512.405}, {\"bmi\": 38.39, \"charges\": 41949.2441}, {\"bmi\": 25.85, \"charges\": 24180.9335}, {\"bmi\": 26.315, \"charges\": 5312.16985}, {\"bmi\": 24.51, \"charges\": 2396.0959}, {\"bmi\": 32.67, \"charges\": 10807.4863}, {\"bmi\": 29.64, \"charges\": 9222.4026}, {\"bmi\": 33.33, \"charges\": 36124.5737}, {\"bmi\": 35.75, \"charges\": 38282.7495}, {\"bmi\": 19.95, \"charges\": 5693.4305}, {\"bmi\": 31.4, \"charges\": 34166.273}, {\"bmi\": 38.17, \"charges\": 8347.1643}, {\"bmi\": 36.86, \"charges\": 46661.4424}, {\"bmi\": 32.395, \"charges\": 18903.49141}, {\"bmi\": 42.75, \"charges\": 40904.1995}, {\"bmi\": 25.08, \"charges\": 14254.6082}, {\"bmi\": 29.9, \"charges\": 10214.636}, {\"bmi\": 35.86, \"charges\": 5836.5204}, {\"bmi\": 32.8, \"charges\": 14358.36437}, {\"bmi\": 18.6, \"charges\": 1728.897}, {\"bmi\": 23.87, \"charges\": 8582.3023}, {\"bmi\": 45.9, \"charges\": 3693.428}, {\"bmi\": 40.28, \"charges\": 20709.02034}, {\"bmi\": 18.335, \"charges\": 9991.03765}, {\"bmi\": 33.82, \"charges\": 19673.33573}, {\"bmi\": 28.12, \"charges\": 11085.5868}, {\"bmi\": 25.0, \"charges\": 7623.518}, {\"bmi\": 22.23, \"charges\": 3176.2877}, {\"bmi\": 30.25, \"charges\": 3704.3545}, {\"bmi\": 32.49, \"charges\": 36898.73308}, {\"bmi\": 37.07, \"charges\": 9048.0273}, {\"bmi\": 32.6, \"charges\": 7954.517}, {\"bmi\": 24.86, \"charges\": 27117.99378}, {\"bmi\": 32.34, \"charges\": 6338.0756}, {\"bmi\": 32.3, \"charges\": 9630.397}, {\"bmi\": 32.775, \"charges\": 11289.10925}, {\"bmi\": 32.8, \"charges\": 52590.82939}, {\"bmi\": 31.92, \"charges\": 2261.5688}, {\"bmi\": 21.5, \"charges\": 10791.96}, {\"bmi\": 34.1, \"charges\": 5979.731}, {\"bmi\": 30.305, \"charges\": 2203.73595}, {\"bmi\": 36.48, \"charges\": 12235.8392}, {\"bmi\": 32.56, \"charges\": 40941.2854}, {\"bmi\": 35.815, \"charges\": 5630.45785}, {\"bmi\": 27.93, \"charges\": 11015.1747}, {\"bmi\": 22.135, \"charges\": 7228.21565}, {\"bmi\": 44.88, \"charges\": 39722.7462}, {\"bmi\": 23.18, \"charges\": 14426.07385}, {\"bmi\": 30.59, \"charges\": 2459.7201}, {\"bmi\": 41.1, \"charges\": 3989.841}, {\"bmi\": 34.58, \"charges\": 7727.2532}, {\"bmi\": 42.13, \"charges\": 5124.1887}, {\"bmi\": 38.83, \"charges\": 18963.17192}, {\"bmi\": 28.215, \"charges\": 2200.83085}, {\"bmi\": 28.31, \"charges\": 7153.5539}, {\"bmi\": 26.125, \"charges\": 5227.98875}, {\"bmi\": 40.37, \"charges\": 10982.5013}, {\"bmi\": 24.6, \"charges\": 4529.477}, {\"bmi\": 35.2, \"charges\": 4670.64}, {\"bmi\": 34.105, \"charges\": 6112.35295}, {\"bmi\": 27.36, \"charges\": 17178.6824}, {\"bmi\": 26.7, \"charges\": 22478.6}, {\"bmi\": 41.91, \"charges\": 11093.6229}, {\"bmi\": 29.26, \"charges\": 6457.8434}, {\"bmi\": 32.11, \"charges\": 4433.9159}, {\"bmi\": 27.1, \"charges\": 2154.361}, {\"bmi\": 24.13, \"charges\": 23887.6627}, {\"bmi\": 27.4, \"charges\": 6496.886}, {\"bmi\": 34.865, \"charges\": 2899.48935}, {\"bmi\": 29.81, \"charges\": 19350.3689}, {\"bmi\": 41.325, \"charges\": 7650.77375}, {\"bmi\": 29.925, \"charges\": 2850.68375}, {\"bmi\": 30.3, \"charges\": 2632.992}, {\"bmi\": 27.36, \"charges\": 9447.3824}, {\"bmi\": 28.49, \"charges\": 18328.2381}, {\"bmi\": 23.56, \"charges\": 8603.8234}, {\"bmi\": 35.625, \"charges\": 37465.34375}, {\"bmi\": 32.68, \"charges\": 13844.7972}, {\"bmi\": 25.27, \"charges\": 21771.3423}, {\"bmi\": 28.0, \"charges\": 13126.67745}, {\"bmi\": 32.775, \"charges\": 5327.40025}, {\"bmi\": 21.755, \"charges\": 13725.47184}, {\"bmi\": 32.395, \"charges\": 13019.16105}, {\"bmi\": 36.575, \"charges\": 8671.19125}, {\"bmi\": 21.755, \"charges\": 4134.08245}, {\"bmi\": 27.93, \"charges\": 18838.70366}, {\"bmi\": 30.02, \"charges\": 33307.5508}, {\"bmi\": 33.55, \"charges\": 5699.8375}, {\"bmi\": 29.355, \"charges\": 6393.60345}, {\"bmi\": 25.8, \"charges\": 4934.705}, {\"bmi\": 24.32, \"charges\": 6198.7518}, {\"bmi\": 40.375, \"charges\": 8733.22925}, {\"bmi\": 32.11, \"charges\": 2055.3249}, {\"bmi\": 32.3, \"charges\": 9964.06}, {\"bmi\": 27.28, \"charges\": 18223.4512}, {\"bmi\": 17.86, \"charges\": 5116.5004}, {\"bmi\": 34.8, \"charges\": 36910.60803}, {\"bmi\": 33.4, \"charges\": 38415.474}, {\"bmi\": 25.555, \"charges\": 20296.86345}, {\"bmi\": 37.1, \"charges\": 12347.172}, {\"bmi\": 30.875, \"charges\": 5373.36425}, {\"bmi\": 34.1, \"charges\": 23563.01618}, {\"bmi\": 21.47, \"charges\": 1702.4553}, {\"bmi\": 33.3, \"charges\": 10806.839}, {\"bmi\": 31.255, \"charges\": 3956.07145}, {\"bmi\": 39.14, \"charges\": 12890.05765}, {\"bmi\": 25.08, \"charges\": 5415.6612}, {\"bmi\": 37.29, \"charges\": 4058.1161}, {\"bmi\": 34.6, \"charges\": 41661.602}, {\"bmi\": 30.21, \"charges\": 7537.1639}, {\"bmi\": 21.945, \"charges\": 4718.20355}, {\"bmi\": 24.97, \"charges\": 6593.5083}, {\"bmi\": 25.3, \"charges\": 8442.667}, {\"bmi\": 24.42, \"charges\": 26125.67477}, {\"bmi\": 23.94, \"charges\": 6858.4796}, {\"bmi\": 39.82, \"charges\": 4795.6568}, {\"bmi\": 16.815, \"charges\": 6640.54485}, {\"bmi\": 37.18, \"charges\": 7162.0122}, {\"bmi\": 34.43, \"charges\": 10594.2257}, {\"bmi\": 30.305, \"charges\": 11938.25595}, {\"bmi\": 34.485, \"charges\": 60021.39897}, {\"bmi\": 21.8, \"charges\": 20167.33603}, {\"bmi\": 24.605, \"charges\": 12479.70895}, {\"bmi\": 23.3, \"charges\": 11345.519}, {\"bmi\": 27.83, \"charges\": 8515.7587}, {\"bmi\": 31.065, \"charges\": 2699.56835}, {\"bmi\": 21.66, \"charges\": 14449.8544}, {\"bmi\": 28.215, \"charges\": 12224.35085}, {\"bmi\": 22.705, \"charges\": 6985.50695}, {\"bmi\": 42.13, \"charges\": 3238.4357}, {\"bmi\": 41.8, \"charges\": 47269.854}, {\"bmi\": 36.96, \"charges\": 49577.6624}, {\"bmi\": 21.28, \"charges\": 4296.2712}, {\"bmi\": 33.11, \"charges\": 3171.6149}, {\"bmi\": 33.33, \"charges\": 1135.9407}, {\"bmi\": 24.3, \"charges\": 5615.369}, {\"bmi\": 25.7, \"charges\": 9101.798}, {\"bmi\": 29.4, \"charges\": 6059.173}, {\"bmi\": 39.82, \"charges\": 1633.9618}, {\"bmi\": 33.63, \"charges\": 37607.5277}, {\"bmi\": 29.83, \"charges\": 18648.4217}, {\"bmi\": 19.8, \"charges\": 1241.565}, {\"bmi\": 27.3, \"charges\": 16232.847}, {\"bmi\": 29.3, \"charges\": 15828.82173}, {\"bmi\": 27.72, \"charges\": 4415.1588}, {\"bmi\": 37.9, \"charges\": 6474.013}, {\"bmi\": 36.385, \"charges\": 11436.73815}, {\"bmi\": 27.645, \"charges\": 11305.93455}, {\"bmi\": 37.715, \"charges\": 30063.58055}, {\"bmi\": 23.18, \"charges\": 10197.7722}, {\"bmi\": 20.52, \"charges\": 4544.2348}, {\"bmi\": 37.1, \"charges\": 3277.161}, {\"bmi\": 28.05, \"charges\": 6770.1925}, {\"bmi\": 29.9, \"charges\": 7337.748}, {\"bmi\": 33.345, \"charges\": 10370.91255}, {\"bmi\": 23.76, \"charges\": 26926.5144}, {\"bmi\": 30.5, \"charges\": 10704.47}, {\"bmi\": 31.065, \"charges\": 34254.05335}, {\"bmi\": 33.3, \"charges\": 1880.487}, {\"bmi\": 27.5, \"charges\": 8615.3}, {\"bmi\": 33.915, \"charges\": 3292.52985}, {\"bmi\": 34.485, \"charges\": 3021.80915}, {\"bmi\": 25.52, \"charges\": 14478.33015}, {\"bmi\": 27.61, \"charges\": 4747.0529}, {\"bmi\": 27.06, \"charges\": 17043.3414}, {\"bmi\": 23.7, \"charges\": 10959.33}, {\"bmi\": 30.4, \"charges\": 2741.948}, {\"bmi\": 29.735, \"charges\": 4357.04365}, {\"bmi\": 29.925, \"charges\": 22462.04375}, {\"bmi\": 26.79, \"charges\": 4189.1131}, {\"bmi\": 33.33, \"charges\": 8283.6807}, {\"bmi\": 27.645, \"charges\": 24535.69855}, {\"bmi\": 21.66, \"charges\": 14283.4594}, {\"bmi\": 30.03, \"charges\": 1720.3537}, {\"bmi\": 36.3, \"charges\": 47403.88}, {\"bmi\": 24.32, \"charges\": 8534.6718}, {\"bmi\": 17.29, \"charges\": 3732.6251}, {\"bmi\": 25.9, \"charges\": 5472.449}, {\"bmi\": 39.4, \"charges\": 38344.566}, {\"bmi\": 34.32, \"charges\": 7147.4728}, {\"bmi\": 19.95, \"charges\": 7133.9025}, {\"bmi\": 34.9, \"charges\": 34828.654}, {\"bmi\": 23.21, \"charges\": 1515.3449}, {\"bmi\": 25.745, \"charges\": 9301.89355}, {\"bmi\": 25.175, \"charges\": 11931.12525}, {\"bmi\": 22.0, \"charges\": 1964.78}, {\"bmi\": 26.125, \"charges\": 1708.92575}, {\"bmi\": 26.51, \"charges\": 4340.4409}, {\"bmi\": 27.455, \"charges\": 5261.46945}, {\"bmi\": 25.745, \"charges\": 2710.82855}, {\"bmi\": 30.36, \"charges\": 62592.87309}, {\"bmi\": 30.875, \"charges\": 46718.16325}, {\"bmi\": 20.8, \"charges\": 3208.787}, {\"bmi\": 27.8, \"charges\": 37829.7242}, {\"bmi\": 24.605, \"charges\": 21259.37795}, {\"bmi\": 27.72, \"charges\": 2464.6188}, {\"bmi\": 21.85, \"charges\": 16115.3045}, {\"bmi\": 28.12, \"charges\": 21472.4788}, {\"bmi\": 30.2, \"charges\": 33900.653}, {\"bmi\": 32.2, \"charges\": 6875.961}, {\"bmi\": 26.315, \"charges\": 6940.90985}, {\"bmi\": 26.695, \"charges\": 4571.41305}, {\"bmi\": 42.9, \"charges\": 4536.259}, {\"bmi\": 34.7, \"charges\": 36397.576}, {\"bmi\": 23.655, \"charges\": 18765.87545}, {\"bmi\": 28.31, \"charges\": 11272.33139}, {\"bmi\": 20.6, \"charges\": 1731.677}, {\"bmi\": 53.13, \"charges\": 1163.4627}, {\"bmi\": 39.71, \"charges\": 19496.71917}, {\"bmi\": 26.315, \"charges\": 7201.70085}, {\"bmi\": 31.065, \"charges\": 5425.02335}, {\"bmi\": 26.695, \"charges\": 28101.33305}, {\"bmi\": 38.83, \"charges\": 12981.3457}, {\"bmi\": 40.37, \"charges\": 43896.3763}, {\"bmi\": 25.935, \"charges\": 4239.89265}, {\"bmi\": 33.535, \"charges\": 13143.33665}, {\"bmi\": 32.87, \"charges\": 7050.0213}, {\"bmi\": 30.03, \"charges\": 9377.9047}, {\"bmi\": 24.225, \"charges\": 22395.74424}, {\"bmi\": 38.6, \"charges\": 10325.206}, {\"bmi\": 25.74, \"charges\": 12629.1656}, {\"bmi\": 33.4, \"charges\": 10795.93733}, {\"bmi\": 44.7, \"charges\": 11411.685}, {\"bmi\": 30.97, \"charges\": 10600.5483}, {\"bmi\": 31.92, \"charges\": 2205.9808}, {\"bmi\": 36.85, \"charges\": 1629.8335}, {\"bmi\": 25.8, \"charges\": 2007.945}, {\"bmi\": 29.07, \"charges\": 29141.3603}]}, {\"name\": \"source_0_x_domain_bmi\", \"values\": [{\"min\": 15.96, \"max\": 53.13}]}, {\"name\": \"source_0_y_domain_charges\", \"values\": [{\"min\": 1121.8739, \"max\": 63770.42801}]}], \"marks\": [{\"type\": \"symbol\", \"name\": \"marks\", \"from\": {\"data\": \"source_0\"}, \"encode\": {\"update\": {\"x\": {\"field\": \"bmi\", \"scale\": \"x\"}, \"y\": {\"field\": \"charges\", \"scale\": \"y\"}, \"stroke\": {\"value\": \"#4c78a8\"}, \"opacity\": {\"value\": 0.4}, \"fill\": {\"value\": \"transparent\"}}}, \"style\": [\"point\"]}], \"scales\": [{\"name\": \"x\", \"type\": \"linear\", \"domain\": [{\"signal\": \"(data(\\\"source_0_x_domain_bmi\\\")[0] || {}).min\"}, {\"signal\": \"(data(\\\"source_0_x_domain_bmi\\\")[0] || {}).max\"}], \"range\": [0, {\"signal\": \"width\"}], \"nice\": true, \"zero\": true}, {\"name\": \"y\", \"type\": \"linear\", \"domain\": [{\"signal\": \"(data(\\\"source_0_y_domain_charges\\\")[0] || {}).min\"}, {\"signal\": \"(data(\\\"source_0_y_domain_charges\\\")[0] || {}).max\"}], \"range\": [{\"signal\": \"height\"}, 0], \"nice\": true, \"zero\": true}], \"axes\": [{\"scale\": \"x\", \"tickCount\": {\"signal\": \"ceil(width/40)\"}, \"maxExtent\": 0, \"domain\": false, \"labels\": false, \"grid\": true, \"zindex\": 0, \"gridScale\": \"y\", \"minExtent\": 0, \"ticks\": false, \"orient\": \"bottom\", \"aria\": false}, {\"scale\": \"y\", \"domain\": false, \"orient\": \"left\", \"minExtent\": 0, \"labels\": false, \"aria\": false, \"maxExtent\": 0, \"ticks\": false, \"gridScale\": \"x\", \"zindex\": 0, \"grid\": true, \"tickCount\": {\"signal\": \"ceil(height/40)\"}}, {\"scale\": \"x\", \"grid\": false, \"labelFlush\": true, \"labelOverlap\": true, \"tickCount\": {\"signal\": \"ceil(width/40)\"}, \"zindex\": 0, \"orient\": \"bottom\", \"title\": \"BMI\"}, {\"scale\": \"y\", \"grid\": false, \"labelOverlap\": true, \"orient\": \"left\", \"tickCount\": {\"signal\": \"ceil(height/40)\"}, \"zindex\": 0, \"title\": \"Charges\"}], \"title\": {\"text\": \"Charges vs BMI\", \"frame\": \"group\"}, \"background\": \"white\", \"padding\": 5, \"height\": 300, \"width\": 300, \"style\": \"cell\"}, {\"mode\": \"vega\"});\n",
       "</script>"
      ],
      "text/plain": [
       "alt.Chart(...)"
      ]
     },
     "execution_count": 13,
     "metadata": {},
     "output_type": "execute_result"
    }
   ],
   "source": [
    "# ___ = alt.Chart(\n",
    "#     insurance,\n",
    "#     title=___  # Set the title for the entire plot\n",
    "# ).mark_point(opacity=___).encode(\n",
    "#     x=alt.X(___)\n",
    "#         .___(___)\n",
    "#         .scale(zero=False),\n",
    "#     y=alt.Y(___).___(___)\n",
    "# )\n",
    "%pip install --trusted-host=pypi.org --trusted-host=files.pythonhosted.org --user vegafusion-python-embed\n",
    "%pip install --trusted-host=pypi.org --trusted-host=files.pythonhosted.org --user vl-convert-python\n",
    "%pip install --trusted-host=pypi.org --trusted-host=files.pythonhosted.org --user vegafusion\n",
    "\n",
    "# your code here\n",
    "bmi_plot = alt.Chart(\n",
    "    insurance,  \n",
    "    title='Charges vs BMI' \n",
    ").mark_point(opacity=0.4).encode(\n",
    "    x=alt.X('bmi', title='BMI'), \n",
    "    y=alt.Y('charges', title='Charges')  \n",
    ")\n",
    "\n",
    "bmi_plot\n",
    "\n"
   ]
  },
  {
   "cell_type": "code",
   "execution_count": 14,
   "metadata": {
    "deletable": false,
    "editable": false,
    "nbgrader": {
     "cell_type": "code",
     "checksum": "88894aea20718f40011143494bbd2fc7",
     "grade": true,
     "grade_id": "cell-b6e79c0645925ade",
     "locked": true,
     "points": 1,
     "schema_version": 3,
     "solution": false
    }
   },
   "outputs": [
    {
     "name": "stdout",
     "output_type": "stream",
     "text": [
      "Success!\n"
     ]
    }
   ],
   "source": [
    "from hashlib import sha1\n",
    "assert sha1(str(type(bmi_plot is None)).encode(\"utf-8\")+b\"472ae\").hexdigest() == \"1193d6e28acd3d7bdd9fb79cf436b3202175c987\", \"type of bmi_plot is None is not bool. bmi_plot is None should be a bool\"\n",
    "assert sha1(str(bmi_plot is None).encode(\"utf-8\")+b\"472ae\").hexdigest() == \"bb865e5e89d954ce2bce84d8ca122a2500e2100f\", \"boolean value of bmi_plot is None is not correct\"\n",
    "\n",
    "assert sha1(str(type(bmi_plot.encoding.x['shorthand'])).encode(\"utf-8\")+b\"472af\").hexdigest() == \"033c9c378005e993b94d4b4d5ff83eaf5f0fb7b3\", \"type of bmi_plot.encoding.x['shorthand'] is not str. bmi_plot.encoding.x['shorthand'] should be an str\"\n",
    "assert sha1(str(len(bmi_plot.encoding.x['shorthand'])).encode(\"utf-8\")+b\"472af\").hexdigest() == \"4d5afa3748afb4c7d576a3bf25c6c8cd435e30a6\", \"length of bmi_plot.encoding.x['shorthand'] is not correct\"\n",
    "assert sha1(str(bmi_plot.encoding.x['shorthand'].lower()).encode(\"utf-8\")+b\"472af\").hexdigest() == \"ec9ee9185d778042fb3d534ffde57d6edd72909c\", \"value of bmi_plot.encoding.x['shorthand'] is not correct\"\n",
    "assert sha1(str(bmi_plot.encoding.x['shorthand']).encode(\"utf-8\")+b\"472af\").hexdigest() == \"ec9ee9185d778042fb3d534ffde57d6edd72909c\", \"correct string value of bmi_plot.encoding.x['shorthand'] but incorrect case of letters\"\n",
    "\n",
    "assert sha1(str(type(bmi_plot.encoding.y['shorthand'])).encode(\"utf-8\")+b\"472b0\").hexdigest() == \"caedcdf77662a3f09655c358a0c07a6fb066b672\", \"type of bmi_plot.encoding.y['shorthand'] is not str. bmi_plot.encoding.y['shorthand'] should be an str\"\n",
    "assert sha1(str(len(bmi_plot.encoding.y['shorthand'])).encode(\"utf-8\")+b\"472b0\").hexdigest() == \"e2a65ce822ad139fb5a25263adfd107f04afb203\", \"length of bmi_plot.encoding.y['shorthand'] is not correct\"\n",
    "assert sha1(str(bmi_plot.encoding.y['shorthand'].lower()).encode(\"utf-8\")+b\"472b0\").hexdigest() == \"ee36fc007e7ab4f2f854a182b05520f886cd578c\", \"value of bmi_plot.encoding.y['shorthand'] is not correct\"\n",
    "assert sha1(str(bmi_plot.encoding.y['shorthand']).encode(\"utf-8\")+b\"472b0\").hexdigest() == \"ee36fc007e7ab4f2f854a182b05520f886cd578c\", \"correct string value of bmi_plot.encoding.y['shorthand'] but incorrect case of letters\"\n",
    "\n",
    "assert sha1(str(type(bmi_plot.mark)).encode(\"utf-8\")+b\"472b1\").hexdigest() == \"09badd2c8fc9cf48f407fcf156460d46ec6a1c6c\", \"type of bmi_plot.mark is not correct\"\n",
    "assert sha1(str(bmi_plot.mark).encode(\"utf-8\")+b\"472b1\").hexdigest() == \"741424a3397894fd12fdd3edfc3ca92c672928d8\", \"value of bmi_plot.mark is not correct\"\n",
    "\n",
    "assert sha1(str(type(isinstance(bmi_plot.encoding.x['title'], str))).encode(\"utf-8\")+b\"472b2\").hexdigest() == \"6722f5f88507506a4577baf96c2afb5c72cbd2fe\", \"type of isinstance(bmi_plot.encoding.x['title'], str) is not bool. isinstance(bmi_plot.encoding.x['title'], str) should be a bool\"\n",
    "assert sha1(str(isinstance(bmi_plot.encoding.x['title'], str)).encode(\"utf-8\")+b\"472b2\").hexdigest() == \"068b96cae34378e8badaa36a1cac0d2cb0fb89aa\", \"boolean value of isinstance(bmi_plot.encoding.x['title'], str) is not correct\"\n",
    "\n",
    "assert sha1(str(type(isinstance(bmi_plot.encoding.y['title'], str))).encode(\"utf-8\")+b\"472b3\").hexdigest() == \"97f0eefc70f11efea8f9fbcf91d1cc37a00069cc\", \"type of isinstance(bmi_plot.encoding.y['title'], str) is not bool. isinstance(bmi_plot.encoding.y['title'], str) should be a bool\"\n",
    "assert sha1(str(isinstance(bmi_plot.encoding.y['title'], str)).encode(\"utf-8\")+b\"472b3\").hexdigest() == \"e86548285752d265d3835ee5ddb44b2b7b68b976\", \"boolean value of isinstance(bmi_plot.encoding.y['title'], str) is not correct\"\n",
    "\n",
    "print('Success!')"
   ]
  },
  {
   "cell_type": "markdown",
   "metadata": {
    "deletable": false,
    "editable": false,
    "nbgrader": {
     "cell_type": "markdown",
     "checksum": "9af33bf4ee59c56bf62df4df44072a75",
     "grade": false,
     "grade_id": "cell-128a1023c3d0bc57",
     "locked": true,
     "schema_version": 3,
     "solution": false
    }
   },
   "source": [
    "**Question 1.6**\n",
    "<br> {points: 3}\n",
    "\n",
    "Analysis: Comment on the effectiveness of the plot. Take into consideration the rules of thumb discussed in lecture. Also comment on what could be improved for this plot and also what is done correctly. \n",
    "\n",
    "Answer in the cell below."
   ]
  },
  {
   "cell_type": "markdown",
   "metadata": {
    "deletable": false,
    "nbgrader": {
     "cell_type": "markdown",
     "checksum": "9b2daa8b91edbccdb89ea0adecd51245",
     "grade": true,
     "grade_id": "cell-a3673af9bcf8288b",
     "locked": false,
     "points": 3,
     "schema_version": 3,
     "solution": true
    }
   },
   "source": [
    "DOUBLE CLICK TO EDIT **THIS CELL** AND REPLACE THIS TEXT WITH YOUR ANSWER."
   ]
  },
  {
   "cell_type": "markdown",
   "metadata": {
    "deletable": false,
    "editable": false,
    "nbgrader": {
     "cell_type": "markdown",
     "checksum": "feb9a1519eb25c8c86cc1c324d16d22d",
     "grade": false,
     "grade_id": "cell-9a854e3ee84b2fe0",
     "locked": true,
     "schema_version": 3,
     "solution": false
    }
   },
   "source": [
    "**Question 1.7**\n",
    "<br> {points: 3}\n",
    "\n",
    "Analysis: What do you observe from the scatter plot? Do the data suggest that there might be evidence of a relationship between BMI and medical costs of individuals? \n",
    "From this plot alone, can we say higher BMI causes higher medical charges? Why or why not? \n",
    "\n",
    "Answer in the cell below. "
   ]
  },
  {
   "cell_type": "markdown",
   "metadata": {
    "deletable": false,
    "nbgrader": {
     "cell_type": "markdown",
     "checksum": "fe3c8775d82b1cccd32d0a856917600b",
     "grade": true,
     "grade_id": "cell-93c1d5cb7d1bcbea",
     "locked": false,
     "points": 3,
     "schema_version": 3,
     "solution": true
    }
   },
   "source": [
    "DOUBLE CLICK TO EDIT **THIS CELL** AND REPLACE THIS TEXT WITH YOUR ANSWER."
   ]
  },
  {
   "cell_type": "markdown",
   "metadata": {
    "deletable": false,
    "editable": false,
    "nbgrader": {
     "cell_type": "markdown",
     "checksum": "916d5d1fac7dab83f1e108fcf6ff2ede",
     "grade": false,
     "grade_id": "cell-8e216e802a268da5",
     "locked": true,
     "schema_version": 3,
     "solution": false
    }
   },
   "source": [
    "**Question 1.8**\n",
    "<br> {points: 3}\n",
    "\n",
    "Again, based on information from the National Heart, Lung and Blood Institute of the US, smoking cigarettes is said to be a risk factor for obesity. Create the same plot as you did in **Question 1.5** but this time add the `color` encoding to observe if smoking might affect the body mass of individuals. Keep `opacity = 0.4` to make the scatter points transparent.\n",
    "\n",
    "*Assign your answer to an object called `smoke_plot`. Make sure to label your axes and the legend appropriately.*"
   ]
  },
  {
   "cell_type": "code",
   "execution_count": 17,
   "metadata": {
    "deletable": false,
    "nbgrader": {
     "cell_type": "code",
     "checksum": "053774fdc7324c213b192c42c6338730",
     "grade": false,
     "grade_id": "cell-2128ed1aa06e5391",
     "locked": false,
     "schema_version": 3,
     "solution": true,
     "task": false
    }
   },
   "outputs": [
    {
     "data": {
      "text/html": [
       "\n",
       "<style>\n",
       "  #altair-viz-fafd1271b58d476aabf9f6d48428d6f1.vega-embed {\n",
       "    width: 100%;\n",
       "    display: flex;\n",
       "  }\n",
       "\n",
       "  #altair-viz-fafd1271b58d476aabf9f6d48428d6f1.vega-embed details,\n",
       "  #altair-viz-fafd1271b58d476aabf9f6d48428d6f1.vega-embed details summary {\n",
       "    position: relative;\n",
       "  }\n",
       "</style>\n",
       "<div id=\"altair-viz-fafd1271b58d476aabf9f6d48428d6f1\"></div>\n",
       "<script type=\"text/javascript\">\n",
       "  var VEGA_DEBUG = (typeof VEGA_DEBUG == \"undefined\") ? {} : VEGA_DEBUG;\n",
       "  (function(spec, embedOpt){\n",
       "    let outputDiv = document.currentScript.previousElementSibling;\n",
       "    if (outputDiv.id !== \"altair-viz-fafd1271b58d476aabf9f6d48428d6f1\") {\n",
       "      outputDiv = document.getElementById(\"altair-viz-fafd1271b58d476aabf9f6d48428d6f1\");\n",
       "    }\n",
       "    const paths = {\n",
       "      \"vega\": \"https://cdn.jsdelivr.net/npm/vega@5?noext\",\n",
       "      \"vega-lib\": \"https://cdn.jsdelivr.net/npm/vega-lib?noext\",\n",
       "      \"vega-lite\": \"https://cdn.jsdelivr.net/npm/vega-lite@5.20.1?noext\",\n",
       "      \"vega-embed\": \"https://cdn.jsdelivr.net/npm/vega-embed@6?noext\",\n",
       "    };\n",
       "\n",
       "    function maybeLoadScript(lib, version) {\n",
       "      var key = `${lib.replace(\"-\", \"\")}_version`;\n",
       "      return (VEGA_DEBUG[key] == version) ?\n",
       "        Promise.resolve(paths[lib]) :\n",
       "        new Promise(function(resolve, reject) {\n",
       "          var s = document.createElement('script');\n",
       "          document.getElementsByTagName(\"head\")[0].appendChild(s);\n",
       "          s.async = true;\n",
       "          s.onload = () => {\n",
       "            VEGA_DEBUG[key] = version;\n",
       "            return resolve(paths[lib]);\n",
       "          };\n",
       "          s.onerror = () => reject(`Error loading script: ${paths[lib]}`);\n",
       "          s.src = paths[lib];\n",
       "        });\n",
       "    }\n",
       "\n",
       "    function showError(err) {\n",
       "      outputDiv.innerHTML = `<div class=\"error\" style=\"color:red;\">${err}</div>`;\n",
       "      throw err;\n",
       "    }\n",
       "\n",
       "    function displayChart(vegaEmbed) {\n",
       "      vegaEmbed(outputDiv, spec, embedOpt)\n",
       "        .catch(err => showError(`Javascript Error: ${err.message}<br>This usually means there's a typo in your chart specification. See the javascript console for the full traceback.`));\n",
       "    }\n",
       "\n",
       "    if(typeof define === \"function\" && define.amd) {\n",
       "      requirejs.config({paths});\n",
       "      require([\"vega-embed\"], displayChart, err => showError(`Error loading script: ${err.message}`));\n",
       "    } else {\n",
       "      maybeLoadScript(\"vega\", \"5\")\n",
       "        .then(() => maybeLoadScript(\"vega-lite\", \"5.20.1\"))\n",
       "        .then(() => maybeLoadScript(\"vega-embed\", \"6\"))\n",
       "        .catch(showError)\n",
       "        .then(() => displayChart(vegaEmbed));\n",
       "    }\n",
       "  })({\"$schema\": \"https://vega.github.io/schema/vega/v5.json\", \"data\": [{\"name\": \"source_0\", \"values\": [{\"bmi\": 27.9, \"charges\": 16884.924, \"smoker\": \"yes\"}, {\"bmi\": 33.77, \"charges\": 1725.5523, \"smoker\": \"no\"}, {\"bmi\": 33.0, \"charges\": 4449.462, \"smoker\": \"no\"}, {\"bmi\": 22.705, \"charges\": 21984.47061, \"smoker\": \"no\"}, {\"bmi\": 28.88, \"charges\": 3866.8552, \"smoker\": \"no\"}, {\"bmi\": 25.74, \"charges\": 3756.6216, \"smoker\": \"no\"}, {\"bmi\": 33.44, \"charges\": 8240.5896, \"smoker\": \"no\"}, {\"bmi\": 27.74, \"charges\": 7281.5056, \"smoker\": \"no\"}, {\"bmi\": 29.83, \"charges\": 6406.4107, \"smoker\": \"no\"}, {\"bmi\": 25.84, \"charges\": 28923.13692, \"smoker\": \"no\"}, {\"bmi\": 26.22, \"charges\": 2721.3208, \"smoker\": \"no\"}, {\"bmi\": 26.29, \"charges\": 27808.7251, \"smoker\": \"yes\"}, {\"bmi\": 34.4, \"charges\": 1826.843, \"smoker\": \"no\"}, {\"bmi\": 39.82, \"charges\": 11090.7178, \"smoker\": \"no\"}, {\"bmi\": 42.13, \"charges\": 39611.7577, \"smoker\": \"yes\"}, {\"bmi\": 24.6, \"charges\": 1837.237, \"smoker\": \"no\"}, {\"bmi\": 30.78, \"charges\": 10797.3362, \"smoker\": \"no\"}, {\"bmi\": 23.845, \"charges\": 2395.17155, \"smoker\": \"no\"}, {\"bmi\": 40.3, \"charges\": 10602.385, \"smoker\": \"no\"}, {\"bmi\": 35.3, \"charges\": 36837.467, \"smoker\": \"yes\"}, {\"bmi\": 36.005, \"charges\": 13228.84695, \"smoker\": \"no\"}, {\"bmi\": 32.4, \"charges\": 4149.736, \"smoker\": \"no\"}, {\"bmi\": 34.1, \"charges\": 1137.011, \"smoker\": \"no\"}, {\"bmi\": 31.92, \"charges\": 37701.8768, \"smoker\": \"yes\"}, {\"bmi\": 28.025, \"charges\": 6203.90175, \"smoker\": \"no\"}, {\"bmi\": 27.72, \"charges\": 14001.1338, \"smoker\": \"no\"}, {\"bmi\": 23.085, \"charges\": 14451.83515, \"smoker\": \"no\"}, {\"bmi\": 32.775, \"charges\": 12268.63225, \"smoker\": \"no\"}, {\"bmi\": 17.385, \"charges\": 2775.19215, \"smoker\": \"no\"}, {\"bmi\": 36.3, \"charges\": 38711.0, \"smoker\": \"yes\"}, {\"bmi\": 35.6, \"charges\": 35585.576, \"smoker\": \"yes\"}, {\"bmi\": 26.315, \"charges\": 2198.18985, \"smoker\": \"no\"}, {\"bmi\": 28.6, \"charges\": 4687.797, \"smoker\": \"no\"}, {\"bmi\": 28.31, \"charges\": 13770.0979, \"smoker\": \"no\"}, {\"bmi\": 36.4, \"charges\": 51194.55914, \"smoker\": \"yes\"}, {\"bmi\": 20.425, \"charges\": 1625.43375, \"smoker\": \"no\"}, {\"bmi\": 32.965, \"charges\": 15612.19335, \"smoker\": \"no\"}, {\"bmi\": 20.8, \"charges\": 2302.3, \"smoker\": \"no\"}, {\"bmi\": 36.67, \"charges\": 39774.2763, \"smoker\": \"yes\"}, {\"bmi\": 39.9, \"charges\": 48173.361, \"smoker\": \"yes\"}, {\"bmi\": 26.6, \"charges\": 3046.062, \"smoker\": \"no\"}, {\"bmi\": 36.63, \"charges\": 4949.7587, \"smoker\": \"no\"}, {\"bmi\": 21.78, \"charges\": 6272.4772, \"smoker\": \"no\"}, {\"bmi\": 30.8, \"charges\": 6313.759, \"smoker\": \"no\"}, {\"bmi\": 37.05, \"charges\": 6079.6715, \"smoker\": \"no\"}, {\"bmi\": 37.3, \"charges\": 20630.28351, \"smoker\": \"no\"}, {\"bmi\": 38.665, \"charges\": 3393.35635, \"smoker\": \"no\"}, {\"bmi\": 34.77, \"charges\": 3556.9223, \"smoker\": \"no\"}, {\"bmi\": 24.53, \"charges\": 12629.8967, \"smoker\": \"no\"}, {\"bmi\": 35.2, \"charges\": 38709.176, \"smoker\": \"yes\"}, {\"bmi\": 35.625, \"charges\": 2211.13075, \"smoker\": \"no\"}, {\"bmi\": 33.63, \"charges\": 3579.8287, \"smoker\": \"no\"}, {\"bmi\": 28.0, \"charges\": 23568.272, \"smoker\": \"yes\"}, {\"bmi\": 34.43, \"charges\": 37742.5757, \"smoker\": \"yes\"}, {\"bmi\": 28.69, \"charges\": 8059.6791, \"smoker\": \"no\"}, {\"bmi\": 36.955, \"charges\": 47496.49445, \"smoker\": \"yes\"}, {\"bmi\": 31.825, \"charges\": 13607.36875, \"smoker\": \"no\"}, {\"bmi\": 31.68, \"charges\": 34303.1672, \"smoker\": \"yes\"}, {\"bmi\": 22.88, \"charges\": 23244.7902, \"smoker\": \"yes\"}, {\"bmi\": 37.335, \"charges\": 5989.52365, \"smoker\": \"no\"}, {\"bmi\": 27.36, \"charges\": 8606.2174, \"smoker\": \"no\"}, {\"bmi\": 33.66, \"charges\": 4504.6624, \"smoker\": \"no\"}, {\"bmi\": 24.7, \"charges\": 30166.61817, \"smoker\": \"no\"}, {\"bmi\": 25.935, \"charges\": 4133.64165, \"smoker\": \"no\"}, {\"bmi\": 22.42, \"charges\": 14711.7438, \"smoker\": \"yes\"}, {\"bmi\": 28.9, \"charges\": 1743.214, \"smoker\": \"no\"}, {\"bmi\": 39.1, \"charges\": 14235.072, \"smoker\": \"no\"}, {\"bmi\": 26.315, \"charges\": 6389.37785, \"smoker\": \"no\"}, {\"bmi\": 36.19, \"charges\": 5920.1041, \"smoker\": \"no\"}, {\"bmi\": 23.98, \"charges\": 17663.1442, \"smoker\": \"yes\"}, {\"bmi\": 24.75, \"charges\": 16577.7795, \"smoker\": \"yes\"}, {\"bmi\": 28.5, \"charges\": 6799.458, \"smoker\": \"no\"}, {\"bmi\": 28.1, \"charges\": 11741.726, \"smoker\": \"no\"}, {\"bmi\": 32.01, \"charges\": 11946.6259, \"smoker\": \"no\"}, {\"bmi\": 27.4, \"charges\": 7726.854, \"smoker\": \"no\"}, {\"bmi\": 34.01, \"charges\": 11356.6609, \"smoker\": \"no\"}, {\"bmi\": 29.59, \"charges\": 3947.4131, \"smoker\": \"no\"}, {\"bmi\": 35.53, \"charges\": 1532.4697, \"smoker\": \"no\"}, {\"bmi\": 39.805, \"charges\": 2755.02095, \"smoker\": \"no\"}, {\"bmi\": 32.965, \"charges\": 6571.02435, \"smoker\": \"no\"}, {\"bmi\": 26.885, \"charges\": 4441.21315, \"smoker\": \"no\"}, {\"bmi\": 38.285, \"charges\": 7935.29115, \"smoker\": \"no\"}, {\"bmi\": 37.62, \"charges\": 37165.1638, \"smoker\": \"yes\"}, {\"bmi\": 41.23, \"charges\": 11033.6617, \"smoker\": \"no\"}, {\"bmi\": 34.8, \"charges\": 39836.519, \"smoker\": \"yes\"}, {\"bmi\": 22.895, \"charges\": 21098.55405, \"smoker\": \"yes\"}, {\"bmi\": 31.16, \"charges\": 43578.9394, \"smoker\": \"yes\"}, {\"bmi\": 27.2, \"charges\": 11073.176, \"smoker\": \"no\"}, {\"bmi\": 27.74, \"charges\": 8026.6666, \"smoker\": \"no\"}, {\"bmi\": 26.98, \"charges\": 11082.5772, \"smoker\": \"no\"}, {\"bmi\": 39.49, \"charges\": 2026.9741, \"smoker\": \"no\"}, {\"bmi\": 24.795, \"charges\": 10942.13205, \"smoker\": \"no\"}, {\"bmi\": 29.83, \"charges\": 30184.9367, \"smoker\": \"yes\"}, {\"bmi\": 34.77, \"charges\": 5729.0053, \"smoker\": \"no\"}, {\"bmi\": 31.3, \"charges\": 47291.055, \"smoker\": \"yes\"}, {\"bmi\": 37.62, \"charges\": 3766.8838, \"smoker\": \"no\"}, {\"bmi\": 30.8, \"charges\": 12105.32, \"smoker\": \"no\"}, {\"bmi\": 38.28, \"charges\": 10226.2842, \"smoker\": \"no\"}, {\"bmi\": 19.95, \"charges\": 22412.6485, \"smoker\": \"yes\"}, {\"bmi\": 19.3, \"charges\": 15820.699, \"smoker\": \"yes\"}, {\"bmi\": 31.6, \"charges\": 6186.127, \"smoker\": \"no\"}, {\"bmi\": 25.46, \"charges\": 3645.0894, \"smoker\": \"no\"}, {\"bmi\": 30.115, \"charges\": 21344.8467, \"smoker\": \"no\"}, {\"bmi\": 29.92, \"charges\": 30942.1918, \"smoker\": \"yes\"}, {\"bmi\": 27.5, \"charges\": 5003.853, \"smoker\": \"no\"}, {\"bmi\": 28.025, \"charges\": 17560.37975, \"smoker\": \"yes\"}, {\"bmi\": 28.4, \"charges\": 2331.519, \"smoker\": \"no\"}, {\"bmi\": 30.875, \"charges\": 3877.30425, \"smoker\": \"no\"}, {\"bmi\": 27.94, \"charges\": 2867.1196, \"smoker\": \"no\"}, {\"bmi\": 35.09, \"charges\": 47055.5321, \"smoker\": \"yes\"}, {\"bmi\": 33.63, \"charges\": 10825.2537, \"smoker\": \"no\"}, {\"bmi\": 29.7, \"charges\": 11881.358, \"smoker\": \"no\"}, {\"bmi\": 30.8, \"charges\": 4646.759, \"smoker\": \"no\"}, {\"bmi\": 35.72, \"charges\": 2404.7338, \"smoker\": \"no\"}, {\"bmi\": 32.205, \"charges\": 11488.31695, \"smoker\": \"no\"}, {\"bmi\": 28.595, \"charges\": 30259.99556, \"smoker\": \"no\"}, {\"bmi\": 49.06, \"charges\": 11381.3254, \"smoker\": \"no\"}, {\"bmi\": 27.94, \"charges\": 19107.7796, \"smoker\": \"yes\"}, {\"bmi\": 27.17, \"charges\": 8601.3293, \"smoker\": \"no\"}, {\"bmi\": 23.37, \"charges\": 6686.4313, \"smoker\": \"no\"}, {\"bmi\": 37.1, \"charges\": 7740.337, \"smoker\": \"no\"}, {\"bmi\": 23.75, \"charges\": 1705.6245, \"smoker\": \"no\"}, {\"bmi\": 28.975, \"charges\": 2257.47525, \"smoker\": \"no\"}, {\"bmi\": 31.35, \"charges\": 39556.4945, \"smoker\": \"yes\"}, {\"bmi\": 33.915, \"charges\": 10115.00885, \"smoker\": \"no\"}, {\"bmi\": 28.785, \"charges\": 3385.39915, \"smoker\": \"no\"}, {\"bmi\": 28.3, \"charges\": 17081.08, \"smoker\": \"yes\"}, {\"bmi\": 37.4, \"charges\": 9634.538, \"smoker\": \"no\"}, {\"bmi\": 17.765, \"charges\": 32734.1863, \"smoker\": \"yes\"}, {\"bmi\": 34.7, \"charges\": 6082.405, \"smoker\": \"no\"}, {\"bmi\": 26.505, \"charges\": 12815.44495, \"smoker\": \"no\"}, {\"bmi\": 22.04, \"charges\": 13616.3586, \"smoker\": \"no\"}, {\"bmi\": 35.9, \"charges\": 11163.568, \"smoker\": \"no\"}, {\"bmi\": 25.555, \"charges\": 1632.56445, \"smoker\": \"no\"}, {\"bmi\": 28.785, \"charges\": 2457.21115, \"smoker\": \"no\"}, {\"bmi\": 28.05, \"charges\": 2155.6815, \"smoker\": \"no\"}, {\"bmi\": 34.1, \"charges\": 1261.442, \"smoker\": \"no\"}, {\"bmi\": 25.175, \"charges\": 2045.68525, \"smoker\": \"no\"}, {\"bmi\": 31.9, \"charges\": 27322.73386, \"smoker\": \"no\"}, {\"bmi\": 36.0, \"charges\": 2166.732, \"smoker\": \"no\"}, {\"bmi\": 22.42, \"charges\": 27375.90478, \"smoker\": \"no\"}, {\"bmi\": 32.49, \"charges\": 3490.5491, \"smoker\": \"no\"}, {\"bmi\": 25.3, \"charges\": 18972.495, \"smoker\": \"yes\"}, {\"bmi\": 29.735, \"charges\": 18157.876, \"smoker\": \"no\"}, {\"bmi\": 28.69, \"charges\": 20745.9891, \"smoker\": \"yes\"}, {\"bmi\": 38.83, \"charges\": 5138.2567, \"smoker\": \"no\"}, {\"bmi\": 30.495, \"charges\": 40720.55105, \"smoker\": \"yes\"}, {\"bmi\": 37.73, \"charges\": 9877.6077, \"smoker\": \"no\"}, {\"bmi\": 37.43, \"charges\": 10959.6947, \"smoker\": \"no\"}, {\"bmi\": 28.4, \"charges\": 1842.519, \"smoker\": \"no\"}, {\"bmi\": 24.13, \"charges\": 5125.2157, \"smoker\": \"no\"}, {\"bmi\": 29.7, \"charges\": 7789.635, \"smoker\": \"no\"}, {\"bmi\": 37.145, \"charges\": 6334.34355, \"smoker\": \"no\"}, {\"bmi\": 23.37, \"charges\": 19964.7463, \"smoker\": \"yes\"}, {\"bmi\": 25.46, \"charges\": 7077.1894, \"smoker\": \"no\"}, {\"bmi\": 39.52, \"charges\": 6948.7008, \"smoker\": \"no\"}, {\"bmi\": 24.42, \"charges\": 21223.6758, \"smoker\": \"yes\"}, {\"bmi\": 25.175, \"charges\": 15518.18025, \"smoker\": \"yes\"}, {\"bmi\": 35.53, \"charges\": 36950.2567, \"smoker\": \"yes\"}, {\"bmi\": 27.83, \"charges\": 19749.38338, \"smoker\": \"no\"}, {\"bmi\": 26.6, \"charges\": 21348.706, \"smoker\": \"yes\"}, {\"bmi\": 36.85, \"charges\": 36149.4835, \"smoker\": \"yes\"}, {\"bmi\": 39.6, \"charges\": 10450.552, \"smoker\": \"no\"}, {\"bmi\": 29.8, \"charges\": 5152.134, \"smoker\": \"no\"}, {\"bmi\": 29.64, \"charges\": 5028.1466, \"smoker\": \"no\"}, {\"bmi\": 28.215, \"charges\": 10407.08585, \"smoker\": \"no\"}, {\"bmi\": 37.0, \"charges\": 4830.63, \"smoker\": \"no\"}, {\"bmi\": 33.155, \"charges\": 6128.79745, \"smoker\": \"no\"}, {\"bmi\": 31.825, \"charges\": 2719.27975, \"smoker\": \"no\"}, {\"bmi\": 18.905, \"charges\": 4827.90495, \"smoker\": \"no\"}, {\"bmi\": 41.47, \"charges\": 13405.3903, \"smoker\": \"no\"}, {\"bmi\": 30.3, \"charges\": 8116.68, \"smoker\": \"no\"}, {\"bmi\": 15.96, \"charges\": 1694.7964, \"smoker\": \"no\"}, {\"bmi\": 34.8, \"charges\": 5246.047, \"smoker\": \"no\"}, {\"bmi\": 33.345, \"charges\": 2855.43755, \"smoker\": \"no\"}, {\"bmi\": 37.7, \"charges\": 48824.45, \"smoker\": \"yes\"}, {\"bmi\": 27.835, \"charges\": 6455.86265, \"smoker\": \"no\"}, {\"bmi\": 29.2, \"charges\": 10436.096, \"smoker\": \"no\"}, {\"bmi\": 28.9, \"charges\": 8823.279, \"smoker\": \"no\"}, {\"bmi\": 33.155, \"charges\": 8538.28845, \"smoker\": \"no\"}, {\"bmi\": 28.595, \"charges\": 11735.87905, \"smoker\": \"no\"}, {\"bmi\": 38.28, \"charges\": 1631.8212, \"smoker\": \"no\"}, {\"bmi\": 19.95, \"charges\": 4005.4225, \"smoker\": \"no\"}, {\"bmi\": 26.41, \"charges\": 7419.4779, \"smoker\": \"no\"}, {\"bmi\": 30.69, \"charges\": 7731.4271, \"smoker\": \"no\"}, {\"bmi\": 41.895, \"charges\": 43753.33705, \"smoker\": \"yes\"}, {\"bmi\": 29.92, \"charges\": 3981.9768, \"smoker\": \"no\"}, {\"bmi\": 30.9, \"charges\": 5325.651, \"smoker\": \"no\"}, {\"bmi\": 32.2, \"charges\": 6775.961, \"smoker\": \"no\"}, {\"bmi\": 32.11, \"charges\": 4922.9159, \"smoker\": \"no\"}, {\"bmi\": 31.57, \"charges\": 12557.6053, \"smoker\": \"no\"}, {\"bmi\": 26.2, \"charges\": 4883.866, \"smoker\": \"no\"}, {\"bmi\": 25.74, \"charges\": 2137.6536, \"smoker\": \"no\"}, {\"bmi\": 26.6, \"charges\": 12044.342, \"smoker\": \"no\"}, {\"bmi\": 34.43, \"charges\": 1137.4697, \"smoker\": \"no\"}, {\"bmi\": 30.59, \"charges\": 1639.5631, \"smoker\": \"no\"}, {\"bmi\": 32.8, \"charges\": 5649.715, \"smoker\": \"no\"}, {\"bmi\": 28.6, \"charges\": 8516.829, \"smoker\": \"no\"}, {\"bmi\": 18.05, \"charges\": 9644.2525, \"smoker\": \"no\"}, {\"bmi\": 39.33, \"charges\": 14901.5167, \"smoker\": \"no\"}, {\"bmi\": 32.11, \"charges\": 2130.6759, \"smoker\": \"no\"}, {\"bmi\": 32.23, \"charges\": 8871.1517, \"smoker\": \"no\"}, {\"bmi\": 24.035, \"charges\": 13012.20865, \"smoker\": \"no\"}, {\"bmi\": 36.08, \"charges\": 37133.8982, \"smoker\": \"yes\"}, {\"bmi\": 22.3, \"charges\": 7147.105, \"smoker\": \"no\"}, {\"bmi\": 28.88, \"charges\": 4337.7352, \"smoker\": \"no\"}, {\"bmi\": 26.4, \"charges\": 11743.299, \"smoker\": \"no\"}, {\"bmi\": 27.74, \"charges\": 20984.0936, \"smoker\": \"yes\"}, {\"bmi\": 31.8, \"charges\": 13880.949, \"smoker\": \"no\"}, {\"bmi\": 41.23, \"charges\": 6610.1097, \"smoker\": \"no\"}, {\"bmi\": 33.0, \"charges\": 1980.07, \"smoker\": \"no\"}, {\"bmi\": 30.875, \"charges\": 8162.71625, \"smoker\": \"no\"}, {\"bmi\": 28.5, \"charges\": 3537.703, \"smoker\": \"no\"}, {\"bmi\": 26.73, \"charges\": 5002.7827, \"smoker\": \"no\"}, {\"bmi\": 30.9, \"charges\": 8520.026, \"smoker\": \"no\"}, {\"bmi\": 37.1, \"charges\": 7371.772, \"smoker\": \"no\"}, {\"bmi\": 26.6, \"charges\": 10355.641, \"smoker\": \"no\"}, {\"bmi\": 23.1, \"charges\": 2483.736, \"smoker\": \"no\"}, {\"bmi\": 29.92, \"charges\": 3392.9768, \"smoker\": \"no\"}, {\"bmi\": 23.21, \"charges\": 25081.76784, \"smoker\": \"no\"}, {\"bmi\": 33.7, \"charges\": 5012.471, \"smoker\": \"no\"}, {\"bmi\": 33.25, \"charges\": 10564.8845, \"smoker\": \"no\"}, {\"bmi\": 30.8, \"charges\": 5253.524, \"smoker\": \"no\"}, {\"bmi\": 34.8, \"charges\": 34779.615, \"smoker\": \"yes\"}, {\"bmi\": 24.64, \"charges\": 19515.5416, \"smoker\": \"yes\"}, {\"bmi\": 33.88, \"charges\": 11987.1682, \"smoker\": \"no\"}, {\"bmi\": 38.06, \"charges\": 2689.4954, \"smoker\": \"no\"}, {\"bmi\": 41.91, \"charges\": 24227.33724, \"smoker\": \"no\"}, {\"bmi\": 31.635, \"charges\": 7358.17565, \"smoker\": \"no\"}, {\"bmi\": 25.46, \"charges\": 9225.2564, \"smoker\": \"no\"}, {\"bmi\": 36.195, \"charges\": 7443.64305, \"smoker\": \"no\"}, {\"bmi\": 27.83, \"charges\": 14001.2867, \"smoker\": \"no\"}, {\"bmi\": 17.8, \"charges\": 1727.785, \"smoker\": \"no\"}, {\"bmi\": 27.5, \"charges\": 12333.828, \"smoker\": \"no\"}, {\"bmi\": 24.51, \"charges\": 6710.1919, \"smoker\": \"no\"}, {\"bmi\": 22.22, \"charges\": 19444.2658, \"smoker\": \"yes\"}, {\"bmi\": 26.73, \"charges\": 1615.7667, \"smoker\": \"no\"}, {\"bmi\": 38.39, \"charges\": 4463.2051, \"smoker\": \"no\"}, {\"bmi\": 29.07, \"charges\": 17352.6803, \"smoker\": \"yes\"}, {\"bmi\": 38.06, \"charges\": 7152.6714, \"smoker\": \"no\"}, {\"bmi\": 36.67, \"charges\": 38511.6283, \"smoker\": \"yes\"}, {\"bmi\": 22.135, \"charges\": 5354.07465, \"smoker\": \"no\"}, {\"bmi\": 26.8, \"charges\": 35160.13457, \"smoker\": \"no\"}, {\"bmi\": 35.3, \"charges\": 7196.867, \"smoker\": \"no\"}, {\"bmi\": 27.74, \"charges\": 29523.1656, \"smoker\": \"yes\"}, {\"bmi\": 30.02, \"charges\": 24476.47851, \"smoker\": \"no\"}, {\"bmi\": 38.06, \"charges\": 12648.7034, \"smoker\": \"no\"}, {\"bmi\": 35.86, \"charges\": 1986.9334, \"smoker\": \"no\"}, {\"bmi\": 20.9, \"charges\": 1832.094, \"smoker\": \"no\"}, {\"bmi\": 28.975, \"charges\": 4040.55825, \"smoker\": \"no\"}, {\"bmi\": 17.29, \"charges\": 12829.4551, \"smoker\": \"yes\"}, {\"bmi\": 32.2, \"charges\": 47305.305, \"smoker\": \"yes\"}, {\"bmi\": 34.21, \"charges\": 44260.7499, \"smoker\": \"yes\"}, {\"bmi\": 30.3, \"charges\": 4260.744, \"smoker\": \"no\"}, {\"bmi\": 31.825, \"charges\": 41097.16175, \"smoker\": \"yes\"}, {\"bmi\": 25.365, \"charges\": 13047.33235, \"smoker\": \"no\"}, {\"bmi\": 33.63, \"charges\": 43921.1837, \"smoker\": \"yes\"}, {\"bmi\": 40.15, \"charges\": 5400.9805, \"smoker\": \"no\"}, {\"bmi\": 24.415, \"charges\": 11520.09985, \"smoker\": \"no\"}, {\"bmi\": 31.92, \"charges\": 33750.2918, \"smoker\": \"yes\"}, {\"bmi\": 25.2, \"charges\": 11837.16, \"smoker\": \"no\"}, {\"bmi\": 26.84, \"charges\": 17085.2676, \"smoker\": \"yes\"}, {\"bmi\": 24.32, \"charges\": 24869.8368, \"smoker\": \"yes\"}, {\"bmi\": 36.955, \"charges\": 36219.40545, \"smoker\": \"yes\"}, {\"bmi\": 38.06, \"charges\": 20462.99766, \"smoker\": \"no\"}, {\"bmi\": 42.35, \"charges\": 46151.1245, \"smoker\": \"yes\"}, {\"bmi\": 19.8, \"charges\": 17179.522, \"smoker\": \"yes\"}, {\"bmi\": 32.395, \"charges\": 14590.63205, \"smoker\": \"no\"}, {\"bmi\": 30.2, \"charges\": 7441.053, \"smoker\": \"no\"}, {\"bmi\": 25.84, \"charges\": 9282.4806, \"smoker\": \"no\"}, {\"bmi\": 29.37, \"charges\": 1719.4363, \"smoker\": \"no\"}, {\"bmi\": 34.2, \"charges\": 42856.838, \"smoker\": \"yes\"}, {\"bmi\": 37.05, \"charges\": 7265.7025, \"smoker\": \"no\"}, {\"bmi\": 27.455, \"charges\": 9617.66245, \"smoker\": \"no\"}, {\"bmi\": 27.55, \"charges\": 2523.1695, \"smoker\": \"no\"}, {\"bmi\": 26.6, \"charges\": 9715.841, \"smoker\": \"no\"}, {\"bmi\": 20.615, \"charges\": 2803.69785, \"smoker\": \"no\"}, {\"bmi\": 24.3, \"charges\": 2150.469, \"smoker\": \"no\"}, {\"bmi\": 31.79, \"charges\": 12928.7911, \"smoker\": \"no\"}, {\"bmi\": 21.56, \"charges\": 9855.1314, \"smoker\": \"no\"}, {\"bmi\": 28.12, \"charges\": 22331.5668, \"smoker\": \"yes\"}, {\"bmi\": 40.565, \"charges\": 48549.17835, \"smoker\": \"yes\"}, {\"bmi\": 27.645, \"charges\": 4237.12655, \"smoker\": \"no\"}, {\"bmi\": 32.395, \"charges\": 11879.10405, \"smoker\": \"no\"}, {\"bmi\": 31.2, \"charges\": 9625.92, \"smoker\": \"no\"}, {\"bmi\": 26.62, \"charges\": 7742.1098, \"smoker\": \"no\"}, {\"bmi\": 48.07, \"charges\": 9432.9253, \"smoker\": \"no\"}, {\"bmi\": 26.22, \"charges\": 14256.1928, \"smoker\": \"no\"}, {\"bmi\": 36.765, \"charges\": 47896.79135, \"smoker\": \"yes\"}, {\"bmi\": 26.4, \"charges\": 25992.82104, \"smoker\": \"no\"}, {\"bmi\": 33.4, \"charges\": 3172.018, \"smoker\": \"no\"}, {\"bmi\": 29.64, \"charges\": 20277.80751, \"smoker\": \"no\"}, {\"bmi\": 45.54, \"charges\": 42112.2356, \"smoker\": \"yes\"}, {\"bmi\": 28.82, \"charges\": 2156.7518, \"smoker\": \"no\"}, {\"bmi\": 26.8, \"charges\": 3906.127, \"smoker\": \"no\"}, {\"bmi\": 22.99, \"charges\": 1704.5681, \"smoker\": \"no\"}, {\"bmi\": 27.7, \"charges\": 16297.846, \"smoker\": \"yes\"}, {\"bmi\": 25.41, \"charges\": 21978.6769, \"smoker\": \"yes\"}, {\"bmi\": 34.39, \"charges\": 38746.3551, \"smoker\": \"yes\"}, {\"bmi\": 28.88, \"charges\": 9249.4952, \"smoker\": \"no\"}, {\"bmi\": 27.55, \"charges\": 6746.7425, \"smoker\": \"no\"}, {\"bmi\": 22.61, \"charges\": 24873.3849, \"smoker\": \"yes\"}, {\"bmi\": 37.51, \"charges\": 12265.5069, \"smoker\": \"no\"}, {\"bmi\": 33.0, \"charges\": 4349.462, \"smoker\": \"no\"}, {\"bmi\": 38.0, \"charges\": 12646.207, \"smoker\": \"no\"}, {\"bmi\": 33.345, \"charges\": 19442.3535, \"smoker\": \"no\"}, {\"bmi\": 27.5, \"charges\": 20177.67113, \"smoker\": \"no\"}, {\"bmi\": 33.33, \"charges\": 4151.0287, \"smoker\": \"no\"}, {\"bmi\": 34.865, \"charges\": 11944.59435, \"smoker\": \"no\"}, {\"bmi\": 33.06, \"charges\": 7749.1564, \"smoker\": \"no\"}, {\"bmi\": 26.6, \"charges\": 8444.474, \"smoker\": \"no\"}, {\"bmi\": 24.7, \"charges\": 1737.376, \"smoker\": \"no\"}, {\"bmi\": 35.97, \"charges\": 42124.5153, \"smoker\": \"yes\"}, {\"bmi\": 35.86, \"charges\": 8124.4084, \"smoker\": \"no\"}, {\"bmi\": 31.4, \"charges\": 34838.873, \"smoker\": \"yes\"}, {\"bmi\": 33.25, \"charges\": 9722.7695, \"smoker\": \"no\"}, {\"bmi\": 32.205, \"charges\": 8835.26495, \"smoker\": \"no\"}, {\"bmi\": 32.775, \"charges\": 10435.06525, \"smoker\": \"no\"}, {\"bmi\": 27.645, \"charges\": 7421.19455, \"smoker\": \"no\"}, {\"bmi\": 37.335, \"charges\": 4667.60765, \"smoker\": \"no\"}, {\"bmi\": 25.27, \"charges\": 4894.7533, \"smoker\": \"no\"}, {\"bmi\": 29.64, \"charges\": 24671.66334, \"smoker\": \"no\"}, {\"bmi\": 30.8, \"charges\": 35491.64, \"smoker\": \"yes\"}, {\"bmi\": 40.945, \"charges\": 11566.30055, \"smoker\": \"no\"}, {\"bmi\": 27.2, \"charges\": 2866.091, \"smoker\": \"no\"}, {\"bmi\": 34.105, \"charges\": 6600.20595, \"smoker\": \"no\"}, {\"bmi\": 23.21, \"charges\": 3561.8889, \"smoker\": \"no\"}, {\"bmi\": 36.48, \"charges\": 42760.5022, \"smoker\": \"yes\"}, {\"bmi\": 33.8, \"charges\": 47928.03, \"smoker\": \"yes\"}, {\"bmi\": 36.7, \"charges\": 9144.565, \"smoker\": \"no\"}, {\"bmi\": 36.385, \"charges\": 48517.56315, \"smoker\": \"yes\"}, {\"bmi\": 27.36, \"charges\": 24393.6224, \"smoker\": \"yes\"}, {\"bmi\": 31.16, \"charges\": 13429.0354, \"smoker\": \"no\"}, {\"bmi\": 28.785, \"charges\": 11658.37915, \"smoker\": \"no\"}, {\"bmi\": 35.72, \"charges\": 19144.57652, \"smoker\": \"no\"}, {\"bmi\": 34.5, \"charges\": 13822.803, \"smoker\": \"no\"}, {\"bmi\": 25.74, \"charges\": 12142.5786, \"smoker\": \"no\"}, {\"bmi\": 27.55, \"charges\": 13937.6665, \"smoker\": \"no\"}, {\"bmi\": 32.3, \"charges\": 41919.097, \"smoker\": \"yes\"}, {\"bmi\": 27.72, \"charges\": 8232.6388, \"smoker\": \"no\"}, {\"bmi\": 27.6, \"charges\": 18955.22017, \"smoker\": \"no\"}, {\"bmi\": 30.02, \"charges\": 13352.0998, \"smoker\": \"no\"}, {\"bmi\": 27.55, \"charges\": 13217.0945, \"smoker\": \"no\"}, {\"bmi\": 36.765, \"charges\": 13981.85035, \"smoker\": \"no\"}, {\"bmi\": 41.47, \"charges\": 10977.2063, \"smoker\": \"no\"}, {\"bmi\": 29.26, \"charges\": 6184.2994, \"smoker\": \"no\"}, {\"bmi\": 35.75, \"charges\": 4889.9995, \"smoker\": \"no\"}, {\"bmi\": 33.345, \"charges\": 8334.45755, \"smoker\": \"no\"}, {\"bmi\": 29.92, \"charges\": 5478.0368, \"smoker\": \"no\"}, {\"bmi\": 27.835, \"charges\": 1635.73365, \"smoker\": \"no\"}, {\"bmi\": 23.18, \"charges\": 11830.6072, \"smoker\": \"no\"}, {\"bmi\": 25.6, \"charges\": 8932.084, \"smoker\": \"no\"}, {\"bmi\": 27.7, \"charges\": 3554.203, \"smoker\": \"no\"}, {\"bmi\": 35.245, \"charges\": 12404.8791, \"smoker\": \"no\"}, {\"bmi\": 38.28, \"charges\": 14133.03775, \"smoker\": \"no\"}, {\"bmi\": 27.6, \"charges\": 24603.04837, \"smoker\": \"no\"}, {\"bmi\": 43.89, \"charges\": 8944.1151, \"smoker\": \"no\"}, {\"bmi\": 29.83, \"charges\": 9620.3307, \"smoker\": \"no\"}, {\"bmi\": 41.91, \"charges\": 1837.2819, \"smoker\": \"no\"}, {\"bmi\": 20.79, \"charges\": 1607.5101, \"smoker\": \"no\"}, {\"bmi\": 32.3, \"charges\": 10043.249, \"smoker\": \"no\"}, {\"bmi\": 30.5, \"charges\": 4751.07, \"smoker\": \"no\"}, {\"bmi\": 21.7, \"charges\": 13844.506, \"smoker\": \"yes\"}, {\"bmi\": 26.4, \"charges\": 2597.779, \"smoker\": \"no\"}, {\"bmi\": 21.89, \"charges\": 3180.5101, \"smoker\": \"no\"}, {\"bmi\": 30.78, \"charges\": 9778.3472, \"smoker\": \"no\"}, {\"bmi\": 32.3, \"charges\": 13430.265, \"smoker\": \"no\"}, {\"bmi\": 24.985, \"charges\": 8017.06115, \"smoker\": \"no\"}, {\"bmi\": 32.015, \"charges\": 8116.26885, \"smoker\": \"no\"}, {\"bmi\": 30.4, \"charges\": 3481.868, \"smoker\": \"no\"}, {\"bmi\": 21.09, \"charges\": 13415.0381, \"smoker\": \"no\"}, {\"bmi\": 22.23, \"charges\": 12029.2867, \"smoker\": \"no\"}, {\"bmi\": 33.155, \"charges\": 7639.41745, \"smoker\": \"no\"}, {\"bmi\": 32.9, \"charges\": 36085.219, \"smoker\": \"yes\"}, {\"bmi\": 33.33, \"charges\": 1391.5287, \"smoker\": \"no\"}, {\"bmi\": 28.31, \"charges\": 18033.9679, \"smoker\": \"yes\"}, {\"bmi\": 24.89, \"charges\": 21659.9301, \"smoker\": \"yes\"}, {\"bmi\": 40.15, \"charges\": 38126.2465, \"smoker\": \"yes\"}, {\"bmi\": 30.115, \"charges\": 16455.70785, \"smoker\": \"no\"}, {\"bmi\": 31.46, \"charges\": 27000.98473, \"smoker\": \"no\"}, {\"bmi\": 17.955, \"charges\": 15006.57945, \"smoker\": \"yes\"}, {\"bmi\": 30.685, \"charges\": 42303.69215, \"smoker\": \"yes\"}, {\"bmi\": 33.0, \"charges\": 20781.48892, \"smoker\": \"no\"}, {\"bmi\": 43.34, \"charges\": 5846.9176, \"smoker\": \"no\"}, {\"bmi\": 22.135, \"charges\": 8302.53565, \"smoker\": \"no\"}, {\"bmi\": 34.4, \"charges\": 1261.859, \"smoker\": \"no\"}, {\"bmi\": 39.05, \"charges\": 11856.4115, \"smoker\": \"no\"}, {\"bmi\": 25.365, \"charges\": 30284.64294, \"smoker\": \"no\"}, {\"bmi\": 22.61, \"charges\": 3176.8159, \"smoker\": \"no\"}, {\"bmi\": 30.21, \"charges\": 4618.0799, \"smoker\": \"no\"}, {\"bmi\": 35.625, \"charges\": 10736.87075, \"smoker\": \"no\"}, {\"bmi\": 37.43, \"charges\": 2138.0707, \"smoker\": \"no\"}, {\"bmi\": 31.445, \"charges\": 8964.06055, \"smoker\": \"no\"}, {\"bmi\": 31.35, \"charges\": 9290.1395, \"smoker\": \"no\"}, {\"bmi\": 32.3, \"charges\": 9411.005, \"smoker\": \"no\"}, {\"bmi\": 19.855, \"charges\": 7526.70645, \"smoker\": \"no\"}, {\"bmi\": 34.4, \"charges\": 8522.003, \"smoker\": \"no\"}, {\"bmi\": 31.02, \"charges\": 16586.49771, \"smoker\": \"no\"}, {\"bmi\": 25.6, \"charges\": 14988.432, \"smoker\": \"no\"}, {\"bmi\": 38.17, \"charges\": 1631.6683, \"smoker\": \"no\"}, {\"bmi\": 20.6, \"charges\": 9264.797, \"smoker\": \"no\"}, {\"bmi\": 47.52, \"charges\": 8083.9198, \"smoker\": \"no\"}, {\"bmi\": 32.965, \"charges\": 14692.66935, \"smoker\": \"no\"}, {\"bmi\": 32.3, \"charges\": 10269.46, \"smoker\": \"no\"}, {\"bmi\": 20.4, \"charges\": 3260.199, \"smoker\": \"no\"}, {\"bmi\": 38.38, \"charges\": 11396.9002, \"smoker\": \"no\"}, {\"bmi\": 24.31, \"charges\": 4185.0979, \"smoker\": \"no\"}, {\"bmi\": 23.6, \"charges\": 8539.671, \"smoker\": \"no\"}, {\"bmi\": 21.12, \"charges\": 6652.5288, \"smoker\": \"no\"}, {\"bmi\": 30.03, \"charges\": 4074.4537, \"smoker\": \"no\"}, {\"bmi\": 17.48, \"charges\": 1621.3402, \"smoker\": \"no\"}, {\"bmi\": 20.235, \"charges\": 19594.80965, \"smoker\": \"yes\"}, {\"bmi\": 17.195, \"charges\": 14455.64405, \"smoker\": \"yes\"}, {\"bmi\": 23.9, \"charges\": 5080.096, \"smoker\": \"no\"}, {\"bmi\": 35.15, \"charges\": 2134.9015, \"smoker\": \"no\"}, {\"bmi\": 35.64, \"charges\": 7345.7266, \"smoker\": \"no\"}, {\"bmi\": 34.1, \"charges\": 9140.951, \"smoker\": \"no\"}, {\"bmi\": 22.6, \"charges\": 18608.262, \"smoker\": \"yes\"}, {\"bmi\": 39.16, \"charges\": 14418.2804, \"smoker\": \"no\"}, {\"bmi\": 26.98, \"charges\": 28950.4692, \"smoker\": \"yes\"}, {\"bmi\": 33.88, \"charges\": 46889.2612, \"smoker\": \"yes\"}, {\"bmi\": 35.86, \"charges\": 46599.1084, \"smoker\": \"yes\"}, {\"bmi\": 32.775, \"charges\": 39125.33225, \"smoker\": \"yes\"}, {\"bmi\": 30.59, \"charges\": 2727.3951, \"smoker\": \"no\"}, {\"bmi\": 30.2, \"charges\": 8968.33, \"smoker\": \"no\"}, {\"bmi\": 24.31, \"charges\": 9788.8659, \"smoker\": \"no\"}, {\"bmi\": 27.265, \"charges\": 6555.07035, \"smoker\": \"no\"}, {\"bmi\": 29.165, \"charges\": 7323.734819, \"smoker\": \"no\"}, {\"bmi\": 16.815, \"charges\": 3167.45585, \"smoker\": \"no\"}, {\"bmi\": 30.4, \"charges\": 18804.7524, \"smoker\": \"no\"}, {\"bmi\": 33.1, \"charges\": 23082.95533, \"smoker\": \"no\"}, {\"bmi\": 20.235, \"charges\": 4906.40965, \"smoker\": \"no\"}, {\"bmi\": 26.9, \"charges\": 5969.723, \"smoker\": \"no\"}, {\"bmi\": 30.5, \"charges\": 12638.195, \"smoker\": \"no\"}, {\"bmi\": 28.595, \"charges\": 4243.59005, \"smoker\": \"no\"}, {\"bmi\": 33.11, \"charges\": 13919.8229, \"smoker\": \"no\"}, {\"bmi\": 31.73, \"charges\": 2254.7967, \"smoker\": \"no\"}, {\"bmi\": 28.9, \"charges\": 5926.846, \"smoker\": \"no\"}, {\"bmi\": 46.75, \"charges\": 12592.5345, \"smoker\": \"no\"}, {\"bmi\": 29.45, \"charges\": 2897.3235, \"smoker\": \"no\"}, {\"bmi\": 32.68, \"charges\": 4738.2682, \"smoker\": \"no\"}, {\"bmi\": 33.5, \"charges\": 37079.372, \"smoker\": \"yes\"}, {\"bmi\": 43.01, \"charges\": 1149.3959, \"smoker\": \"no\"}, {\"bmi\": 36.52, \"charges\": 28287.89766, \"smoker\": \"no\"}, {\"bmi\": 26.695, \"charges\": 26109.32905, \"smoker\": \"yes\"}, {\"bmi\": 33.1, \"charges\": 7345.084, \"smoker\": \"no\"}, {\"bmi\": 29.64, \"charges\": 12730.9996, \"smoker\": \"no\"}, {\"bmi\": 25.65, \"charges\": 11454.0215, \"smoker\": \"no\"}, {\"bmi\": 29.6, \"charges\": 5910.944, \"smoker\": \"no\"}, {\"bmi\": 38.6, \"charges\": 4762.329, \"smoker\": \"no\"}, {\"bmi\": 29.6, \"charges\": 7512.267, \"smoker\": \"no\"}, {\"bmi\": 24.13, \"charges\": 4032.2407, \"smoker\": \"no\"}, {\"bmi\": 23.4, \"charges\": 1969.614, \"smoker\": \"no\"}, {\"bmi\": 29.735, \"charges\": 1769.53165, \"smoker\": \"no\"}, {\"bmi\": 46.53, \"charges\": 4686.3887, \"smoker\": \"no\"}, {\"bmi\": 37.4, \"charges\": 21797.0004, \"smoker\": \"no\"}, {\"bmi\": 30.14, \"charges\": 11881.9696, \"smoker\": \"no\"}, {\"bmi\": 30.495, \"charges\": 11840.77505, \"smoker\": \"no\"}, {\"bmi\": 39.6, \"charges\": 10601.412, \"smoker\": \"no\"}, {\"bmi\": 33.0, \"charges\": 7682.67, \"smoker\": \"no\"}, {\"bmi\": 36.63, \"charges\": 10381.4787, \"smoker\": \"no\"}, {\"bmi\": 30.0, \"charges\": 22144.032, \"smoker\": \"yes\"}, {\"bmi\": 38.095, \"charges\": 15230.32405, \"smoker\": \"no\"}, {\"bmi\": 25.935, \"charges\": 11165.41765, \"smoker\": \"no\"}, {\"bmi\": 25.175, \"charges\": 1632.03625, \"smoker\": \"no\"}, {\"bmi\": 28.38, \"charges\": 19521.9682, \"smoker\": \"yes\"}, {\"bmi\": 28.7, \"charges\": 13224.693, \"smoker\": \"no\"}, {\"bmi\": 33.82, \"charges\": 12643.3778, \"smoker\": \"no\"}, {\"bmi\": 24.32, \"charges\": 23288.9284, \"smoker\": \"no\"}, {\"bmi\": 24.09, \"charges\": 2201.0971, \"smoker\": \"no\"}, {\"bmi\": 32.67, \"charges\": 2497.0383, \"smoker\": \"no\"}, {\"bmi\": 30.115, \"charges\": 2203.47185, \"smoker\": \"no\"}, {\"bmi\": 29.8, \"charges\": 1744.465, \"smoker\": \"no\"}, {\"bmi\": 33.345, \"charges\": 20878.78443, \"smoker\": \"no\"}, {\"bmi\": 25.1, \"charges\": 25382.297, \"smoker\": \"yes\"}, {\"bmi\": 28.31, \"charges\": 28868.6639, \"smoker\": \"yes\"}, {\"bmi\": 28.5, \"charges\": 35147.52848, \"smoker\": \"yes\"}, {\"bmi\": 35.625, \"charges\": 2534.39375, \"smoker\": \"no\"}, {\"bmi\": 36.85, \"charges\": 1534.3045, \"smoker\": \"no\"}, {\"bmi\": 32.56, \"charges\": 1824.2854, \"smoker\": \"no\"}, {\"bmi\": 41.325, \"charges\": 15555.18875, \"smoker\": \"no\"}, {\"bmi\": 37.51, \"charges\": 9304.7019, \"smoker\": \"no\"}, {\"bmi\": 31.35, \"charges\": 1622.1885, \"smoker\": \"no\"}, {\"bmi\": 39.5, \"charges\": 9880.068, \"smoker\": \"no\"}, {\"bmi\": 34.3, \"charges\": 9563.029, \"smoker\": \"no\"}, {\"bmi\": 31.065, \"charges\": 4347.02335, \"smoker\": \"no\"}, {\"bmi\": 21.47, \"charges\": 12475.3513, \"smoker\": \"no\"}, {\"bmi\": 28.7, \"charges\": 1253.936, \"smoker\": \"no\"}, {\"bmi\": 38.06, \"charges\": 48885.13561, \"smoker\": \"yes\"}, {\"bmi\": 31.16, \"charges\": 10461.9794, \"smoker\": \"no\"}, {\"bmi\": 32.9, \"charges\": 1748.774, \"smoker\": \"no\"}, {\"bmi\": 25.08, \"charges\": 24513.09126, \"smoker\": \"no\"}, {\"bmi\": 25.08, \"charges\": 2196.4732, \"smoker\": \"no\"}, {\"bmi\": 43.4, \"charges\": 12574.049, \"smoker\": \"no\"}, {\"bmi\": 25.7, \"charges\": 17942.106, \"smoker\": \"yes\"}, {\"bmi\": 27.93, \"charges\": 1967.0227, \"smoker\": \"no\"}, {\"bmi\": 23.6, \"charges\": 4931.647, \"smoker\": \"no\"}, {\"bmi\": 28.7, \"charges\": 8027.968, \"smoker\": \"no\"}, {\"bmi\": 23.98, \"charges\": 8211.1002, \"smoker\": \"no\"}, {\"bmi\": 39.2, \"charges\": 13470.86, \"smoker\": \"no\"}, {\"bmi\": 34.4, \"charges\": 36197.699, \"smoker\": \"yes\"}, {\"bmi\": 26.03, \"charges\": 6837.3687, \"smoker\": \"no\"}, {\"bmi\": 23.21, \"charges\": 22218.1149, \"smoker\": \"yes\"}, {\"bmi\": 30.25, \"charges\": 32548.3405, \"smoker\": \"yes\"}, {\"bmi\": 28.93, \"charges\": 5974.3847, \"smoker\": \"no\"}, {\"bmi\": 30.875, \"charges\": 6796.86325, \"smoker\": \"no\"}, {\"bmi\": 31.35, \"charges\": 2643.2685, \"smoker\": \"no\"}, {\"bmi\": 23.75, \"charges\": 3077.0955, \"smoker\": \"no\"}, {\"bmi\": 25.27, \"charges\": 3044.2133, \"smoker\": \"no\"}, {\"bmi\": 28.7, \"charges\": 11455.28, \"smoker\": \"no\"}, {\"bmi\": 32.11, \"charges\": 11763.0009, \"smoker\": \"no\"}, {\"bmi\": 33.66, \"charges\": 2498.4144, \"smoker\": \"no\"}, {\"bmi\": 22.42, \"charges\": 9361.3268, \"smoker\": \"no\"}, {\"bmi\": 30.4, \"charges\": 1256.299, \"smoker\": \"no\"}, {\"bmi\": 28.3, \"charges\": 21082.16, \"smoker\": \"yes\"}, {\"bmi\": 35.7, \"charges\": 11362.755, \"smoker\": \"no\"}, {\"bmi\": 35.31, \"charges\": 27724.28875, \"smoker\": \"no\"}, {\"bmi\": 30.495, \"charges\": 8413.46305, \"smoker\": \"no\"}, {\"bmi\": 31.0, \"charges\": 5240.765, \"smoker\": \"no\"}, {\"bmi\": 30.875, \"charges\": 3857.75925, \"smoker\": \"no\"}, {\"bmi\": 27.36, \"charges\": 25656.57526, \"smoker\": \"no\"}, {\"bmi\": 44.22, \"charges\": 3994.1778, \"smoker\": \"no\"}, {\"bmi\": 33.915, \"charges\": 9866.30485, \"smoker\": \"no\"}, {\"bmi\": 37.73, \"charges\": 5397.6167, \"smoker\": \"no\"}, {\"bmi\": 26.07, \"charges\": 38245.59327, \"smoker\": \"yes\"}, {\"bmi\": 33.88, \"charges\": 11482.63485, \"smoker\": \"no\"}, {\"bmi\": 30.59, \"charges\": 24059.68019, \"smoker\": \"no\"}, {\"bmi\": 25.8, \"charges\": 9861.025, \"smoker\": \"no\"}, {\"bmi\": 39.425, \"charges\": 8342.90875, \"smoker\": \"no\"}, {\"bmi\": 25.46, \"charges\": 1708.0014, \"smoker\": \"no\"}, {\"bmi\": 42.13, \"charges\": 48675.5177, \"smoker\": \"yes\"}, {\"bmi\": 31.73, \"charges\": 14043.4767, \"smoker\": \"no\"}, {\"bmi\": 29.7, \"charges\": 12925.886, \"smoker\": \"no\"}, {\"bmi\": 36.19, \"charges\": 19214.70553, \"smoker\": \"no\"}, {\"bmi\": 40.48, \"charges\": 13831.1152, \"smoker\": \"no\"}, {\"bmi\": 28.025, \"charges\": 6067.12675, \"smoker\": \"no\"}, {\"bmi\": 38.9, \"charges\": 5972.378, \"smoker\": \"no\"}, {\"bmi\": 30.2, \"charges\": 8825.086, \"smoker\": \"no\"}, {\"bmi\": 28.05, \"charges\": 8233.0975, \"smoker\": \"no\"}, {\"bmi\": 31.35, \"charges\": 27346.04207, \"smoker\": \"no\"}, {\"bmi\": 38.0, \"charges\": 6196.448, \"smoker\": \"no\"}, {\"bmi\": 31.79, \"charges\": 3056.3881, \"smoker\": \"no\"}, {\"bmi\": 36.3, \"charges\": 13887.204, \"smoker\": \"no\"}, {\"bmi\": 47.41, \"charges\": 63770.42801, \"smoker\": \"yes\"}, {\"bmi\": 30.21, \"charges\": 10231.4999, \"smoker\": \"no\"}, {\"bmi\": 25.84, \"charges\": 23807.2406, \"smoker\": \"yes\"}, {\"bmi\": 35.435, \"charges\": 3268.84665, \"smoker\": \"no\"}, {\"bmi\": 46.7, \"charges\": 11538.421, \"smoker\": \"no\"}, {\"bmi\": 28.595, \"charges\": 3213.62205, \"smoker\": \"no\"}, {\"bmi\": 46.2, \"charges\": 45863.205, \"smoker\": \"yes\"}, {\"bmi\": 30.8, \"charges\": 13390.559, \"smoker\": \"no\"}, {\"bmi\": 28.93, \"charges\": 3972.9247, \"smoker\": \"no\"}, {\"bmi\": 21.4, \"charges\": 12957.118, \"smoker\": \"no\"}, {\"bmi\": 31.73, \"charges\": 11187.6567, \"smoker\": \"no\"}, {\"bmi\": 41.325, \"charges\": 17878.90068, \"smoker\": \"no\"}, {\"bmi\": 23.8, \"charges\": 3847.674, \"smoker\": \"no\"}, {\"bmi\": 33.44, \"charges\": 8334.5896, \"smoker\": \"no\"}, {\"bmi\": 34.21, \"charges\": 3935.1799, \"smoker\": \"no\"}, {\"bmi\": 34.105, \"charges\": 39983.42595, \"smoker\": \"yes\"}, {\"bmi\": 35.53, \"charges\": 1646.4297, \"smoker\": \"no\"}, {\"bmi\": 19.95, \"charges\": 9193.8385, \"smoker\": \"no\"}, {\"bmi\": 32.68, \"charges\": 10923.9332, \"smoker\": \"no\"}, {\"bmi\": 30.5, \"charges\": 2494.022, \"smoker\": \"no\"}, {\"bmi\": 44.77, \"charges\": 9058.7303, \"smoker\": \"no\"}, {\"bmi\": 32.12, \"charges\": 2801.2588, \"smoker\": \"no\"}, {\"bmi\": 30.495, \"charges\": 2128.43105, \"smoker\": \"no\"}, {\"bmi\": 40.565, \"charges\": 6373.55735, \"smoker\": \"no\"}, {\"bmi\": 30.59, \"charges\": 7256.7231, \"smoker\": \"no\"}, {\"bmi\": 31.9, \"charges\": 11552.904, \"smoker\": \"no\"}, {\"bmi\": 40.565, \"charges\": 45702.02235, \"smoker\": \"yes\"}, {\"bmi\": 29.1, \"charges\": 3761.292, \"smoker\": \"no\"}, {\"bmi\": 37.29, \"charges\": 2219.4451, \"smoker\": \"no\"}, {\"bmi\": 43.12, \"charges\": 4753.6368, \"smoker\": \"no\"}, {\"bmi\": 36.86, \"charges\": 31620.00106, \"smoker\": \"no\"}, {\"bmi\": 34.295, \"charges\": 13224.05705, \"smoker\": \"no\"}, {\"bmi\": 27.17, \"charges\": 12222.8983, \"smoker\": \"no\"}, {\"bmi\": 26.84, \"charges\": 1664.9996, \"smoker\": \"no\"}, {\"bmi\": 38.095, \"charges\": 58571.07448, \"smoker\": \"yes\"}, {\"bmi\": 30.2, \"charges\": 9724.53, \"smoker\": \"no\"}, {\"bmi\": 23.465, \"charges\": 3206.49135, \"smoker\": \"no\"}, {\"bmi\": 25.46, \"charges\": 12913.9924, \"smoker\": \"no\"}, {\"bmi\": 30.59, \"charges\": 1639.5631, \"smoker\": \"no\"}, {\"bmi\": 45.43, \"charges\": 6356.2707, \"smoker\": \"no\"}, {\"bmi\": 23.65, \"charges\": 17626.23951, \"smoker\": \"no\"}, {\"bmi\": 20.7, \"charges\": 1242.816, \"smoker\": \"no\"}, {\"bmi\": 28.27, \"charges\": 4779.6023, \"smoker\": \"no\"}, {\"bmi\": 20.235, \"charges\": 3861.20965, \"smoker\": \"no\"}, {\"bmi\": 30.21, \"charges\": 43943.8761, \"smoker\": \"yes\"}, {\"bmi\": 35.91, \"charges\": 13635.6379, \"smoker\": \"no\"}, {\"bmi\": 30.69, \"charges\": 5976.8311, \"smoker\": \"no\"}, {\"bmi\": 29.0, \"charges\": 11842.442, \"smoker\": \"no\"}, {\"bmi\": 19.57, \"charges\": 8428.0693, \"smoker\": \"no\"}, {\"bmi\": 31.13, \"charges\": 2566.4707, \"smoker\": \"no\"}, {\"bmi\": 21.85, \"charges\": 15359.1045, \"smoker\": \"yes\"}, {\"bmi\": 40.26, \"charges\": 5709.1644, \"smoker\": \"no\"}, {\"bmi\": 33.725, \"charges\": 8823.98575, \"smoker\": \"no\"}, {\"bmi\": 29.48, \"charges\": 7640.3092, \"smoker\": \"no\"}, {\"bmi\": 33.25, \"charges\": 5594.8455, \"smoker\": \"no\"}, {\"bmi\": 32.6, \"charges\": 7441.501, \"smoker\": \"no\"}, {\"bmi\": 37.525, \"charges\": 33471.97189, \"smoker\": \"no\"}, {\"bmi\": 39.16, \"charges\": 1633.0444, \"smoker\": \"no\"}, {\"bmi\": 31.635, \"charges\": 9174.13565, \"smoker\": \"no\"}, {\"bmi\": 25.3, \"charges\": 11070.535, \"smoker\": \"no\"}, {\"bmi\": 39.05, \"charges\": 16085.1275, \"smoker\": \"no\"}, {\"bmi\": 28.31, \"charges\": 17468.9839, \"smoker\": \"yes\"}, {\"bmi\": 34.1, \"charges\": 9283.562, \"smoker\": \"no\"}, {\"bmi\": 25.175, \"charges\": 3558.62025, \"smoker\": \"no\"}, {\"bmi\": 23.655, \"charges\": 25678.77845, \"smoker\": \"yes\"}, {\"bmi\": 26.98, \"charges\": 4435.0942, \"smoker\": \"no\"}, {\"bmi\": 37.8, \"charges\": 39241.442, \"smoker\": \"yes\"}, {\"bmi\": 29.37, \"charges\": 8547.6913, \"smoker\": \"no\"}, {\"bmi\": 34.8, \"charges\": 6571.544, \"smoker\": \"no\"}, {\"bmi\": 33.155, \"charges\": 2207.69745, \"smoker\": \"no\"}, {\"bmi\": 19.0, \"charges\": 6753.038, \"smoker\": \"no\"}, {\"bmi\": 33.0, \"charges\": 1880.07, \"smoker\": \"no\"}, {\"bmi\": 36.63, \"charges\": 42969.8527, \"smoker\": \"yes\"}, {\"bmi\": 28.595, \"charges\": 11658.11505, \"smoker\": \"no\"}, {\"bmi\": 25.6, \"charges\": 23306.547, \"smoker\": \"yes\"}, {\"bmi\": 33.11, \"charges\": 34439.8559, \"smoker\": \"yes\"}, {\"bmi\": 37.1, \"charges\": 10713.644, \"smoker\": \"no\"}, {\"bmi\": 31.4, \"charges\": 3659.346, \"smoker\": \"no\"}, {\"bmi\": 34.1, \"charges\": 40182.246, \"smoker\": \"yes\"}, {\"bmi\": 21.3, \"charges\": 9182.17, \"smoker\": \"no\"}, {\"bmi\": 33.535, \"charges\": 34617.84065, \"smoker\": \"yes\"}, {\"bmi\": 28.785, \"charges\": 12129.61415, \"smoker\": \"no\"}, {\"bmi\": 26.03, \"charges\": 3736.4647, \"smoker\": \"no\"}, {\"bmi\": 28.88, \"charges\": 6748.5912, \"smoker\": \"no\"}, {\"bmi\": 42.46, \"charges\": 11326.71487, \"smoker\": \"no\"}, {\"bmi\": 38.0, \"charges\": 11365.952, \"smoker\": \"no\"}, {\"bmi\": 38.95, \"charges\": 42983.4585, \"smoker\": \"yes\"}, {\"bmi\": 36.1, \"charges\": 10085.846, \"smoker\": \"no\"}, {\"bmi\": 29.3, \"charges\": 1977.815, \"smoker\": \"no\"}, {\"bmi\": 35.53, \"charges\": 3366.6697, \"smoker\": \"no\"}, {\"bmi\": 22.705, \"charges\": 7173.35995, \"smoker\": \"no\"}, {\"bmi\": 39.7, \"charges\": 9391.346, \"smoker\": \"no\"}, {\"bmi\": 38.19, \"charges\": 14410.9321, \"smoker\": \"no\"}, {\"bmi\": 24.51, \"charges\": 2709.1119, \"smoker\": \"no\"}, {\"bmi\": 38.095, \"charges\": 24915.04626, \"smoker\": \"no\"}, {\"bmi\": 26.41, \"charges\": 20149.3229, \"smoker\": \"yes\"}, {\"bmi\": 33.66, \"charges\": 12949.1554, \"smoker\": \"no\"}, {\"bmi\": 42.4, \"charges\": 6666.243, \"smoker\": \"no\"}, {\"bmi\": 28.31, \"charges\": 32787.45859, \"smoker\": \"yes\"}, {\"bmi\": 33.915, \"charges\": 13143.86485, \"smoker\": \"no\"}, {\"bmi\": 34.96, \"charges\": 4466.6214, \"smoker\": \"no\"}, {\"bmi\": 35.31, \"charges\": 18806.14547, \"smoker\": \"no\"}, {\"bmi\": 30.78, \"charges\": 10141.1362, \"smoker\": \"no\"}, {\"bmi\": 26.22, \"charges\": 6123.5688, \"smoker\": \"no\"}, {\"bmi\": 23.37, \"charges\": 8252.2843, \"smoker\": \"no\"}, {\"bmi\": 28.5, \"charges\": 1712.227, \"smoker\": \"no\"}, {\"bmi\": 32.965, \"charges\": 12430.95335, \"smoker\": \"no\"}, {\"bmi\": 42.68, \"charges\": 9800.8882, \"smoker\": \"no\"}, {\"bmi\": 39.6, \"charges\": 10579.711, \"smoker\": \"no\"}, {\"bmi\": 31.13, \"charges\": 8280.6227, \"smoker\": \"no\"}, {\"bmi\": 36.3, \"charges\": 8527.532, \"smoker\": \"no\"}, {\"bmi\": 35.2, \"charges\": 12244.531, \"smoker\": \"no\"}, {\"bmi\": 25.3, \"charges\": 24667.419, \"smoker\": \"yes\"}, {\"bmi\": 42.4, \"charges\": 3410.324, \"smoker\": \"no\"}, {\"bmi\": 33.155, \"charges\": 4058.71245, \"smoker\": \"no\"}, {\"bmi\": 35.91, \"charges\": 26392.26029, \"smoker\": \"no\"}, {\"bmi\": 28.785, \"charges\": 14394.39815, \"smoker\": \"no\"}, {\"bmi\": 46.53, \"charges\": 6435.6237, \"smoker\": \"no\"}, {\"bmi\": 23.98, \"charges\": 22192.43711, \"smoker\": \"no\"}, {\"bmi\": 31.54, \"charges\": 5148.5526, \"smoker\": \"no\"}, {\"bmi\": 33.66, \"charges\": 1136.3994, \"smoker\": \"no\"}, {\"bmi\": 22.99, \"charges\": 27037.9141, \"smoker\": \"yes\"}, {\"bmi\": 38.06, \"charges\": 42560.4304, \"smoker\": \"yes\"}, {\"bmi\": 28.7, \"charges\": 8703.456, \"smoker\": \"no\"}, {\"bmi\": 32.775, \"charges\": 40003.33225, \"smoker\": \"yes\"}, {\"bmi\": 32.015, \"charges\": 45710.20785, \"smoker\": \"yes\"}, {\"bmi\": 29.81, \"charges\": 6500.2359, \"smoker\": \"no\"}, {\"bmi\": 31.57, \"charges\": 4837.5823, \"smoker\": \"no\"}, {\"bmi\": 31.16, \"charges\": 3943.5954, \"smoker\": \"no\"}, {\"bmi\": 29.7, \"charges\": 4399.731, \"smoker\": \"no\"}, {\"bmi\": 31.02, \"charges\": 6185.3208, \"smoker\": \"no\"}, {\"bmi\": 43.89, \"charges\": 46200.9851, \"smoker\": \"yes\"}, {\"bmi\": 21.375, \"charges\": 7222.78625, \"smoker\": \"no\"}, {\"bmi\": 40.81, \"charges\": 12485.8009, \"smoker\": \"no\"}, {\"bmi\": 31.35, \"charges\": 46130.5265, \"smoker\": \"yes\"}, {\"bmi\": 36.1, \"charges\": 12363.547, \"smoker\": \"no\"}, {\"bmi\": 23.18, \"charges\": 10156.7832, \"smoker\": \"no\"}, {\"bmi\": 17.4, \"charges\": 2585.269, \"smoker\": \"no\"}, {\"bmi\": 20.3, \"charges\": 1242.26, \"smoker\": \"no\"}, {\"bmi\": 35.3, \"charges\": 40103.89, \"smoker\": \"yes\"}, {\"bmi\": 24.32, \"charges\": 9863.4718, \"smoker\": \"no\"}, {\"bmi\": 18.5, \"charges\": 4766.022, \"smoker\": \"no\"}, {\"bmi\": 26.41, \"charges\": 11244.3769, \"smoker\": \"no\"}, {\"bmi\": 26.125, \"charges\": 7729.64575, \"smoker\": \"no\"}, {\"bmi\": 41.69, \"charges\": 5438.7491, \"smoker\": \"no\"}, {\"bmi\": 24.1, \"charges\": 26236.57997, \"smoker\": \"no\"}, {\"bmi\": 31.13, \"charges\": 34806.4677, \"smoker\": \"yes\"}, {\"bmi\": 27.36, \"charges\": 2104.1134, \"smoker\": \"no\"}, {\"bmi\": 36.2, \"charges\": 8068.185, \"smoker\": \"no\"}, {\"bmi\": 32.395, \"charges\": 2362.22905, \"smoker\": \"no\"}, {\"bmi\": 23.655, \"charges\": 2352.96845, \"smoker\": \"no\"}, {\"bmi\": 34.8, \"charges\": 3577.999, \"smoker\": \"no\"}, {\"bmi\": 40.185, \"charges\": 3201.24515, \"smoker\": \"no\"}, {\"bmi\": 32.3, \"charges\": 29186.48236, \"smoker\": \"no\"}, {\"bmi\": 35.75, \"charges\": 40273.6455, \"smoker\": \"yes\"}, {\"bmi\": 33.725, \"charges\": 10976.24575, \"smoker\": \"no\"}, {\"bmi\": 39.27, \"charges\": 3500.6123, \"smoker\": \"no\"}, {\"bmi\": 34.87, \"charges\": 2020.5523, \"smoker\": \"no\"}, {\"bmi\": 44.745, \"charges\": 9541.69555, \"smoker\": \"no\"}, {\"bmi\": 41.47, \"charges\": 9504.3103, \"smoker\": \"no\"}, {\"bmi\": 26.41, \"charges\": 5385.3379, \"smoker\": \"no\"}, {\"bmi\": 29.545, \"charges\": 8930.93455, \"smoker\": \"no\"}, {\"bmi\": 32.9, \"charges\": 5375.038, \"smoker\": \"no\"}, {\"bmi\": 38.06, \"charges\": 44400.4064, \"smoker\": \"yes\"}, {\"bmi\": 28.69, \"charges\": 10264.4421, \"smoker\": \"no\"}, {\"bmi\": 30.495, \"charges\": 6113.23105, \"smoker\": \"no\"}, {\"bmi\": 27.74, \"charges\": 5469.0066, \"smoker\": \"no\"}, {\"bmi\": 35.2, \"charges\": 1727.54, \"smoker\": \"no\"}, {\"bmi\": 23.54, \"charges\": 10107.2206, \"smoker\": \"no\"}, {\"bmi\": 30.685, \"charges\": 8310.83915, \"smoker\": \"no\"}, {\"bmi\": 40.47, \"charges\": 1984.4533, \"smoker\": \"no\"}, {\"bmi\": 22.6, \"charges\": 2457.502, \"smoker\": \"no\"}, {\"bmi\": 28.9, \"charges\": 12146.971, \"smoker\": \"no\"}, {\"bmi\": 22.61, \"charges\": 9566.9909, \"smoker\": \"no\"}, {\"bmi\": 24.32, \"charges\": 13112.6048, \"smoker\": \"no\"}, {\"bmi\": 36.67, \"charges\": 10848.1343, \"smoker\": \"no\"}, {\"bmi\": 33.44, \"charges\": 12231.6136, \"smoker\": \"no\"}, {\"bmi\": 40.66, \"charges\": 9875.6804, \"smoker\": \"no\"}, {\"bmi\": 36.6, \"charges\": 11264.541, \"smoker\": \"no\"}, {\"bmi\": 37.4, \"charges\": 12979.358, \"smoker\": \"no\"}, {\"bmi\": 35.4, \"charges\": 1263.249, \"smoker\": \"no\"}, {\"bmi\": 27.075, \"charges\": 10106.13425, \"smoker\": \"no\"}, {\"bmi\": 39.05, \"charges\": 40932.4295, \"smoker\": \"yes\"}, {\"bmi\": 28.405, \"charges\": 6664.68595, \"smoker\": \"no\"}, {\"bmi\": 21.755, \"charges\": 16657.71745, \"smoker\": \"yes\"}, {\"bmi\": 40.28, \"charges\": 2217.6012, \"smoker\": \"no\"}, {\"bmi\": 36.08, \"charges\": 6781.3542, \"smoker\": \"no\"}, {\"bmi\": 24.42, \"charges\": 19361.9988, \"smoker\": \"yes\"}, {\"bmi\": 21.4, \"charges\": 10065.413, \"smoker\": \"no\"}, {\"bmi\": 30.1, \"charges\": 4234.927, \"smoker\": \"no\"}, {\"bmi\": 27.265, \"charges\": 9447.25035, \"smoker\": \"no\"}, {\"bmi\": 32.1, \"charges\": 14007.222, \"smoker\": \"no\"}, {\"bmi\": 34.77, \"charges\": 9583.8933, \"smoker\": \"no\"}, {\"bmi\": 38.39, \"charges\": 40419.0191, \"smoker\": \"yes\"}, {\"bmi\": 23.7, \"charges\": 3484.331, \"smoker\": \"no\"}, {\"bmi\": 31.73, \"charges\": 36189.1017, \"smoker\": \"yes\"}, {\"bmi\": 35.5, \"charges\": 44585.45587, \"smoker\": \"yes\"}, {\"bmi\": 24.035, \"charges\": 8604.48365, \"smoker\": \"no\"}, {\"bmi\": 29.15, \"charges\": 18246.4955, \"smoker\": \"yes\"}, {\"bmi\": 34.105, \"charges\": 43254.41795, \"smoker\": \"yes\"}, {\"bmi\": 26.62, \"charges\": 3757.8448, \"smoker\": \"no\"}, {\"bmi\": 26.41, \"charges\": 8827.2099, \"smoker\": \"no\"}, {\"bmi\": 30.115, \"charges\": 9910.35985, \"smoker\": \"no\"}, {\"bmi\": 27.0, \"charges\": 11737.84884, \"smoker\": \"no\"}, {\"bmi\": 21.755, \"charges\": 1627.28245, \"smoker\": \"no\"}, {\"bmi\": 36.0, \"charges\": 8556.907, \"smoker\": \"no\"}, {\"bmi\": 30.875, \"charges\": 3062.50825, \"smoker\": \"no\"}, {\"bmi\": 26.4, \"charges\": 19539.243, \"smoker\": \"yes\"}, {\"bmi\": 28.975, \"charges\": 1906.35825, \"smoker\": \"no\"}, {\"bmi\": 37.905, \"charges\": 14210.53595, \"smoker\": \"no\"}, {\"bmi\": 22.77, \"charges\": 11833.7823, \"smoker\": \"no\"}, {\"bmi\": 33.63, \"charges\": 17128.42608, \"smoker\": \"no\"}, {\"bmi\": 27.645, \"charges\": 5031.26955, \"smoker\": \"no\"}, {\"bmi\": 22.8, \"charges\": 7985.815, \"smoker\": \"no\"}, {\"bmi\": 27.83, \"charges\": 23065.4207, \"smoker\": \"yes\"}, {\"bmi\": 37.43, \"charges\": 5428.7277, \"smoker\": \"no\"}, {\"bmi\": 38.17, \"charges\": 36307.7983, \"smoker\": \"yes\"}, {\"bmi\": 34.58, \"charges\": 3925.7582, \"smoker\": \"no\"}, {\"bmi\": 35.2, \"charges\": 2416.955, \"smoker\": \"no\"}, {\"bmi\": 27.1, \"charges\": 19040.876, \"smoker\": \"yes\"}, {\"bmi\": 26.03, \"charges\": 3070.8087, \"smoker\": \"no\"}, {\"bmi\": 25.175, \"charges\": 9095.06825, \"smoker\": \"no\"}, {\"bmi\": 31.825, \"charges\": 11842.62375, \"smoker\": \"no\"}, {\"bmi\": 32.3, \"charges\": 8062.764, \"smoker\": \"no\"}, {\"bmi\": 29.0, \"charges\": 7050.642, \"smoker\": \"no\"}, {\"bmi\": 39.7, \"charges\": 14319.031, \"smoker\": \"no\"}, {\"bmi\": 19.475, \"charges\": 6933.24225, \"smoker\": \"no\"}, {\"bmi\": 36.1, \"charges\": 27941.28758, \"smoker\": \"no\"}, {\"bmi\": 26.7, \"charges\": 11150.78, \"smoker\": \"no\"}, {\"bmi\": 36.48, \"charges\": 12797.20962, \"smoker\": \"no\"}, {\"bmi\": 28.88, \"charges\": 17748.5062, \"smoker\": \"yes\"}, {\"bmi\": 34.2, \"charges\": 7261.741, \"smoker\": \"no\"}, {\"bmi\": 33.33, \"charges\": 10560.4917, \"smoker\": \"no\"}, {\"bmi\": 32.3, \"charges\": 6986.697, \"smoker\": \"no\"}, {\"bmi\": 39.805, \"charges\": 7448.40395, \"smoker\": \"no\"}, {\"bmi\": 34.32, \"charges\": 5934.3798, \"smoker\": \"no\"}, {\"bmi\": 28.88, \"charges\": 9869.8102, \"smoker\": \"no\"}, {\"bmi\": 24.4, \"charges\": 18259.216, \"smoker\": \"yes\"}, {\"bmi\": 41.14, \"charges\": 1146.7966, \"smoker\": \"no\"}, {\"bmi\": 35.97, \"charges\": 9386.1613, \"smoker\": \"no\"}, {\"bmi\": 27.6, \"charges\": 24520.264, \"smoker\": \"yes\"}, {\"bmi\": 29.26, \"charges\": 4350.5144, \"smoker\": \"no\"}, {\"bmi\": 27.7, \"charges\": 6414.178, \"smoker\": \"no\"}, {\"bmi\": 36.955, \"charges\": 12741.16745, \"smoker\": \"no\"}, {\"bmi\": 36.86, \"charges\": 1917.3184, \"smoker\": \"no\"}, {\"bmi\": 22.515, \"charges\": 5209.57885, \"smoker\": \"no\"}, {\"bmi\": 29.92, \"charges\": 13457.9608, \"smoker\": \"no\"}, {\"bmi\": 41.8, \"charges\": 5662.225, \"smoker\": \"no\"}, {\"bmi\": 27.6, \"charges\": 1252.407, \"smoker\": \"no\"}, {\"bmi\": 23.18, \"charges\": 2731.9122, \"smoker\": \"no\"}, {\"bmi\": 20.9, \"charges\": 21195.818, \"smoker\": \"yes\"}, {\"bmi\": 31.92, \"charges\": 7209.4918, \"smoker\": \"no\"}, {\"bmi\": 28.5, \"charges\": 18310.742, \"smoker\": \"yes\"}, {\"bmi\": 44.22, \"charges\": 4266.1658, \"smoker\": \"no\"}, {\"bmi\": 22.895, \"charges\": 4719.52405, \"smoker\": \"no\"}, {\"bmi\": 33.1, \"charges\": 11848.141, \"smoker\": \"no\"}, {\"bmi\": 24.795, \"charges\": 17904.52705, \"smoker\": \"yes\"}, {\"bmi\": 26.18, \"charges\": 7046.7222, \"smoker\": \"no\"}, {\"bmi\": 35.97, \"charges\": 14313.8463, \"smoker\": \"no\"}, {\"bmi\": 22.3, \"charges\": 2103.08, \"smoker\": \"no\"}, {\"bmi\": 42.24, \"charges\": 38792.6856, \"smoker\": \"yes\"}, {\"bmi\": 26.51, \"charges\": 1815.8759, \"smoker\": \"no\"}, {\"bmi\": 35.815, \"charges\": 7731.85785, \"smoker\": \"no\"}, {\"bmi\": 41.42, \"charges\": 28476.73499, \"smoker\": \"no\"}, {\"bmi\": 36.575, \"charges\": 2136.88225, \"smoker\": \"no\"}, {\"bmi\": 30.14, \"charges\": 1131.5066, \"smoker\": \"no\"}, {\"bmi\": 25.84, \"charges\": 3309.7926, \"smoker\": \"no\"}, {\"bmi\": 30.8, \"charges\": 9414.92, \"smoker\": \"no\"}, {\"bmi\": 42.94, \"charges\": 6360.9936, \"smoker\": \"no\"}, {\"bmi\": 21.01, \"charges\": 11013.7119, \"smoker\": \"no\"}, {\"bmi\": 22.515, \"charges\": 4428.88785, \"smoker\": \"no\"}, {\"bmi\": 34.43, \"charges\": 5584.3057, \"smoker\": \"no\"}, {\"bmi\": 31.46, \"charges\": 1877.9294, \"smoker\": \"no\"}, {\"bmi\": 24.225, \"charges\": 2842.76075, \"smoker\": \"no\"}, {\"bmi\": 37.1, \"charges\": 3597.596, \"smoker\": \"no\"}, {\"bmi\": 26.125, \"charges\": 23401.30575, \"smoker\": \"yes\"}, {\"bmi\": 35.53, \"charges\": 55135.40209, \"smoker\": \"yes\"}, {\"bmi\": 33.7, \"charges\": 7445.918, \"smoker\": \"no\"}, {\"bmi\": 17.67, \"charges\": 2680.9493, \"smoker\": \"no\"}, {\"bmi\": 31.13, \"charges\": 1621.8827, \"smoker\": \"no\"}, {\"bmi\": 29.81, \"charges\": 8219.2039, \"smoker\": \"no\"}, {\"bmi\": 24.32, \"charges\": 12523.6048, \"smoker\": \"no\"}, {\"bmi\": 31.825, \"charges\": 16069.08475, \"smoker\": \"no\"}, {\"bmi\": 31.79, \"charges\": 43813.8661, \"smoker\": \"yes\"}, {\"bmi\": 28.025, \"charges\": 20773.62775, \"smoker\": \"yes\"}, {\"bmi\": 30.78, \"charges\": 39597.4072, \"smoker\": \"yes\"}, {\"bmi\": 21.85, \"charges\": 6117.4945, \"smoker\": \"no\"}, {\"bmi\": 33.1, \"charges\": 13393.756, \"smoker\": \"no\"}, {\"bmi\": 25.84, \"charges\": 5266.3656, \"smoker\": \"no\"}, {\"bmi\": 23.845, \"charges\": 4719.73655, \"smoker\": \"no\"}, {\"bmi\": 34.39, \"charges\": 11743.9341, \"smoker\": \"no\"}, {\"bmi\": 33.82, \"charges\": 5377.4578, \"smoker\": \"no\"}, {\"bmi\": 35.97, \"charges\": 7160.3303, \"smoker\": \"no\"}, {\"bmi\": 31.5, \"charges\": 4402.233, \"smoker\": \"no\"}, {\"bmi\": 28.31, \"charges\": 11657.7189, \"smoker\": \"no\"}, {\"bmi\": 23.465, \"charges\": 6402.29135, \"smoker\": \"no\"}, {\"bmi\": 31.35, \"charges\": 12622.1795, \"smoker\": \"no\"}, {\"bmi\": 31.1, \"charges\": 1526.312, \"smoker\": \"no\"}, {\"bmi\": 24.7, \"charges\": 12323.936, \"smoker\": \"no\"}, {\"bmi\": 32.78, \"charges\": 36021.0112, \"smoker\": \"yes\"}, {\"bmi\": 29.81, \"charges\": 27533.9129, \"smoker\": \"yes\"}, {\"bmi\": 30.495, \"charges\": 10072.05505, \"smoker\": \"no\"}, {\"bmi\": 32.45, \"charges\": 45008.9555, \"smoker\": \"yes\"}, {\"bmi\": 34.2, \"charges\": 9872.701, \"smoker\": \"no\"}, {\"bmi\": 50.38, \"charges\": 2438.0552, \"smoker\": \"no\"}, {\"bmi\": 24.1, \"charges\": 2974.126, \"smoker\": \"no\"}, {\"bmi\": 32.775, \"charges\": 10601.63225, \"smoker\": \"no\"}, {\"bmi\": 30.78, \"charges\": 37270.1512, \"smoker\": \"yes\"}, {\"bmi\": 32.3, \"charges\": 14119.62, \"smoker\": \"no\"}, {\"bmi\": 35.53, \"charges\": 42111.6647, \"smoker\": \"yes\"}, {\"bmi\": 23.75, \"charges\": 11729.6795, \"smoker\": \"no\"}, {\"bmi\": 23.845, \"charges\": 24106.91255, \"smoker\": \"yes\"}, {\"bmi\": 29.6, \"charges\": 1875.344, \"smoker\": \"no\"}, {\"bmi\": 33.11, \"charges\": 40974.1649, \"smoker\": \"yes\"}, {\"bmi\": 24.13, \"charges\": 15817.9857, \"smoker\": \"yes\"}, {\"bmi\": 32.23, \"charges\": 18218.16139, \"smoker\": \"no\"}, {\"bmi\": 28.1, \"charges\": 10965.446, \"smoker\": \"no\"}, {\"bmi\": 47.6, \"charges\": 46113.511, \"smoker\": \"yes\"}, {\"bmi\": 28.0, \"charges\": 7151.092, \"smoker\": \"no\"}, {\"bmi\": 33.535, \"charges\": 12269.68865, \"smoker\": \"no\"}, {\"bmi\": 19.855, \"charges\": 5458.04645, \"smoker\": \"no\"}, {\"bmi\": 25.4, \"charges\": 8782.469, \"smoker\": \"no\"}, {\"bmi\": 29.9, \"charges\": 6600.361, \"smoker\": \"no\"}, {\"bmi\": 37.29, \"charges\": 1141.4451, \"smoker\": \"no\"}, {\"bmi\": 43.7, \"charges\": 11576.13, \"smoker\": \"no\"}, {\"bmi\": 23.655, \"charges\": 13129.60345, \"smoker\": \"no\"}, {\"bmi\": 24.3, \"charges\": 4391.652, \"smoker\": \"no\"}, {\"bmi\": 36.2, \"charges\": 8457.818, \"smoker\": \"no\"}, {\"bmi\": 29.48, \"charges\": 3392.3652, \"smoker\": \"no\"}, {\"bmi\": 24.86, \"charges\": 5966.8874, \"smoker\": \"no\"}, {\"bmi\": 30.1, \"charges\": 6849.026, \"smoker\": \"no\"}, {\"bmi\": 21.85, \"charges\": 8891.1395, \"smoker\": \"no\"}, {\"bmi\": 28.12, \"charges\": 2690.1138, \"smoker\": \"no\"}, {\"bmi\": 27.1, \"charges\": 26140.3603, \"smoker\": \"no\"}, {\"bmi\": 33.44, \"charges\": 6653.7886, \"smoker\": \"no\"}, {\"bmi\": 28.8, \"charges\": 6282.235, \"smoker\": \"no\"}, {\"bmi\": 29.5, \"charges\": 6311.952, \"smoker\": \"no\"}, {\"bmi\": 34.8, \"charges\": 3443.064, \"smoker\": \"no\"}, {\"bmi\": 27.36, \"charges\": 2789.0574, \"smoker\": \"no\"}, {\"bmi\": 22.135, \"charges\": 2585.85065, \"smoker\": \"no\"}, {\"bmi\": 37.05, \"charges\": 46255.1125, \"smoker\": \"yes\"}, {\"bmi\": 26.695, \"charges\": 4877.98105, \"smoker\": \"no\"}, {\"bmi\": 28.93, \"charges\": 19719.6947, \"smoker\": \"yes\"}, {\"bmi\": 28.975, \"charges\": 27218.43725, \"smoker\": \"yes\"}, {\"bmi\": 30.02, \"charges\": 5272.1758, \"smoker\": \"no\"}, {\"bmi\": 39.5, \"charges\": 1682.597, \"smoker\": \"no\"}, {\"bmi\": 33.63, \"charges\": 11945.1327, \"smoker\": \"no\"}, {\"bmi\": 26.885, \"charges\": 29330.98315, \"smoker\": \"yes\"}, {\"bmi\": 29.04, \"charges\": 7243.8136, \"smoker\": \"no\"}, {\"bmi\": 24.035, \"charges\": 10422.91665, \"smoker\": \"no\"}, {\"bmi\": 38.94, \"charges\": 44202.6536, \"smoker\": \"yes\"}, {\"bmi\": 32.11, \"charges\": 13555.0049, \"smoker\": \"no\"}, {\"bmi\": 44.0, \"charges\": 13063.883, \"smoker\": \"no\"}, {\"bmi\": 20.045, \"charges\": 19798.05455, \"smoker\": \"yes\"}, {\"bmi\": 25.555, \"charges\": 2221.56445, \"smoker\": \"no\"}, {\"bmi\": 40.26, \"charges\": 1634.5734, \"smoker\": \"no\"}, {\"bmi\": 22.515, \"charges\": 2117.33885, \"smoker\": \"no\"}, {\"bmi\": 22.515, \"charges\": 8688.85885, \"smoker\": \"no\"}, {\"bmi\": 40.92, \"charges\": 48673.5588, \"smoker\": \"yes\"}, {\"bmi\": 27.265, \"charges\": 4661.28635, \"smoker\": \"no\"}, {\"bmi\": 36.85, \"charges\": 8125.7845, \"smoker\": \"no\"}, {\"bmi\": 35.1, \"charges\": 12644.589, \"smoker\": \"no\"}, {\"bmi\": 29.355, \"charges\": 4564.19145, \"smoker\": \"no\"}, {\"bmi\": 32.585, \"charges\": 4846.92015, \"smoker\": \"no\"}, {\"bmi\": 32.34, \"charges\": 7633.7206, \"smoker\": \"no\"}, {\"bmi\": 39.8, \"charges\": 15170.069, \"smoker\": \"no\"}, {\"bmi\": 24.6, \"charges\": 17496.306, \"smoker\": \"yes\"}, {\"bmi\": 28.31, \"charges\": 2639.0429, \"smoker\": \"no\"}, {\"bmi\": 31.73, \"charges\": 33732.6867, \"smoker\": \"yes\"}, {\"bmi\": 26.695, \"charges\": 14382.70905, \"smoker\": \"no\"}, {\"bmi\": 27.5, \"charges\": 7626.993, \"smoker\": \"no\"}, {\"bmi\": 24.605, \"charges\": 5257.50795, \"smoker\": \"no\"}, {\"bmi\": 33.99, \"charges\": 2473.3341, \"smoker\": \"no\"}, {\"bmi\": 26.885, \"charges\": 21774.32215, \"smoker\": \"yes\"}, {\"bmi\": 22.895, \"charges\": 35069.37452, \"smoker\": \"yes\"}, {\"bmi\": 28.2, \"charges\": 13041.921, \"smoker\": \"no\"}, {\"bmi\": 34.21, \"charges\": 5245.2269, \"smoker\": \"no\"}, {\"bmi\": 25.0, \"charges\": 13451.122, \"smoker\": \"no\"}, {\"bmi\": 33.2, \"charges\": 13462.52, \"smoker\": \"no\"}, {\"bmi\": 31.0, \"charges\": 5488.262, \"smoker\": \"no\"}, {\"bmi\": 35.815, \"charges\": 4320.41085, \"smoker\": \"no\"}, {\"bmi\": 23.2, \"charges\": 6250.435, \"smoker\": \"no\"}, {\"bmi\": 32.11, \"charges\": 25333.33284, \"smoker\": \"no\"}, {\"bmi\": 23.4, \"charges\": 2913.569, \"smoker\": \"no\"}, {\"bmi\": 20.1, \"charges\": 12032.326, \"smoker\": \"no\"}, {\"bmi\": 39.16, \"charges\": 13470.8044, \"smoker\": \"no\"}, {\"bmi\": 34.21, \"charges\": 6289.7549, \"smoker\": \"no\"}, {\"bmi\": 46.53, \"charges\": 2927.0647, \"smoker\": \"no\"}, {\"bmi\": 32.5, \"charges\": 6238.298, \"smoker\": \"no\"}, {\"bmi\": 25.8, \"charges\": 10096.97, \"smoker\": \"no\"}, {\"bmi\": 35.3, \"charges\": 7348.142, \"smoker\": \"no\"}, {\"bmi\": 37.18, \"charges\": 4673.3922, \"smoker\": \"no\"}, {\"bmi\": 27.5, \"charges\": 12233.828, \"smoker\": \"no\"}, {\"bmi\": 29.735, \"charges\": 32108.66282, \"smoker\": \"no\"}, {\"bmi\": 24.225, \"charges\": 8965.79575, \"smoker\": \"no\"}, {\"bmi\": 26.18, \"charges\": 2304.0022, \"smoker\": \"no\"}, {\"bmi\": 29.48, \"charges\": 9487.6442, \"smoker\": \"no\"}, {\"bmi\": 23.21, \"charges\": 1121.8739, \"smoker\": \"no\"}, {\"bmi\": 46.09, \"charges\": 9549.5651, \"smoker\": \"no\"}, {\"bmi\": 40.185, \"charges\": 2217.46915, \"smoker\": \"no\"}, {\"bmi\": 22.61, \"charges\": 1628.4709, \"smoker\": \"no\"}, {\"bmi\": 39.93, \"charges\": 12982.8747, \"smoker\": \"no\"}, {\"bmi\": 35.8, \"charges\": 11674.13, \"smoker\": \"no\"}, {\"bmi\": 35.8, \"charges\": 7160.094, \"smoker\": \"no\"}, {\"bmi\": 34.2, \"charges\": 39047.285, \"smoker\": \"yes\"}, {\"bmi\": 31.255, \"charges\": 6358.77645, \"smoker\": \"no\"}, {\"bmi\": 29.7, \"charges\": 19933.458, \"smoker\": \"yes\"}, {\"bmi\": 18.335, \"charges\": 11534.87265, \"smoker\": \"no\"}, {\"bmi\": 42.9, \"charges\": 47462.894, \"smoker\": \"yes\"}, {\"bmi\": 28.405, \"charges\": 4527.18295, \"smoker\": \"no\"}, {\"bmi\": 30.2, \"charges\": 38998.546, \"smoker\": \"yes\"}, {\"bmi\": 27.835, \"charges\": 20009.63365, \"smoker\": \"yes\"}, {\"bmi\": 39.49, \"charges\": 3875.7341, \"smoker\": \"no\"}, {\"bmi\": 30.8, \"charges\": 41999.52, \"smoker\": \"yes\"}, {\"bmi\": 26.79, \"charges\": 12609.88702, \"smoker\": \"no\"}, {\"bmi\": 34.96, \"charges\": 41034.2214, \"smoker\": \"yes\"}, {\"bmi\": 36.67, \"charges\": 28468.91901, \"smoker\": \"no\"}, {\"bmi\": 39.615, \"charges\": 2730.10785, \"smoker\": \"no\"}, {\"bmi\": 25.9, \"charges\": 3353.284, \"smoker\": \"no\"}, {\"bmi\": 35.2, \"charges\": 14474.675, \"smoker\": \"no\"}, {\"bmi\": 24.795, \"charges\": 9500.57305, \"smoker\": \"no\"}, {\"bmi\": 36.765, \"charges\": 26467.09737, \"smoker\": \"no\"}, {\"bmi\": 27.1, \"charges\": 4746.344, \"smoker\": \"no\"}, {\"bmi\": 24.795, \"charges\": 23967.38305, \"smoker\": \"yes\"}, {\"bmi\": 25.365, \"charges\": 7518.02535, \"smoker\": \"no\"}, {\"bmi\": 25.745, \"charges\": 3279.86855, \"smoker\": \"no\"}, {\"bmi\": 34.32, \"charges\": 8596.8278, \"smoker\": \"no\"}, {\"bmi\": 28.16, \"charges\": 10702.6424, \"smoker\": \"no\"}, {\"bmi\": 23.56, \"charges\": 4992.3764, \"smoker\": \"no\"}, {\"bmi\": 20.235, \"charges\": 2527.81865, \"smoker\": \"no\"}, {\"bmi\": 40.5, \"charges\": 1759.338, \"smoker\": \"no\"}, {\"bmi\": 35.42, \"charges\": 2322.6218, \"smoker\": \"no\"}, {\"bmi\": 22.895, \"charges\": 16138.76205, \"smoker\": \"yes\"}, {\"bmi\": 40.15, \"charges\": 7804.1605, \"smoker\": \"no\"}, {\"bmi\": 29.15, \"charges\": 2902.9065, \"smoker\": \"no\"}, {\"bmi\": 39.995, \"charges\": 9704.66805, \"smoker\": \"no\"}, {\"bmi\": 29.92, \"charges\": 4889.0368, \"smoker\": \"no\"}, {\"bmi\": 25.46, \"charges\": 25517.11363, \"smoker\": \"no\"}, {\"bmi\": 21.375, \"charges\": 4500.33925, \"smoker\": \"no\"}, {\"bmi\": 25.9, \"charges\": 19199.944, \"smoker\": \"yes\"}, {\"bmi\": 30.59, \"charges\": 16796.41194, \"smoker\": \"no\"}, {\"bmi\": 30.115, \"charges\": 4915.05985, \"smoker\": \"no\"}, {\"bmi\": 25.8, \"charges\": 7624.63, \"smoker\": \"no\"}, {\"bmi\": 30.115, \"charges\": 8410.04685, \"smoker\": \"no\"}, {\"bmi\": 27.645, \"charges\": 28340.18885, \"smoker\": \"no\"}, {\"bmi\": 34.675, \"charges\": 4518.82625, \"smoker\": \"no\"}, {\"bmi\": 20.52, \"charges\": 14571.8908, \"smoker\": \"yes\"}, {\"bmi\": 19.8, \"charges\": 3378.91, \"smoker\": \"no\"}, {\"bmi\": 27.835, \"charges\": 7144.86265, \"smoker\": \"no\"}, {\"bmi\": 31.6, \"charges\": 10118.424, \"smoker\": \"no\"}, {\"bmi\": 28.27, \"charges\": 5484.4673, \"smoker\": \"no\"}, {\"bmi\": 20.045, \"charges\": 16420.49455, \"smoker\": \"yes\"}, {\"bmi\": 23.275, \"charges\": 7986.47525, \"smoker\": \"no\"}, {\"bmi\": 34.1, \"charges\": 7418.522, \"smoker\": \"no\"}, {\"bmi\": 36.85, \"charges\": 13887.9685, \"smoker\": \"no\"}, {\"bmi\": 36.29, \"charges\": 6551.7501, \"smoker\": \"no\"}, {\"bmi\": 26.885, \"charges\": 5267.81815, \"smoker\": \"no\"}, {\"bmi\": 22.99, \"charges\": 17361.7661, \"smoker\": \"yes\"}, {\"bmi\": 32.7, \"charges\": 34472.841, \"smoker\": \"yes\"}, {\"bmi\": 25.8, \"charges\": 1972.95, \"smoker\": \"no\"}, {\"bmi\": 29.6, \"charges\": 21232.18226, \"smoker\": \"no\"}, {\"bmi\": 19.19, \"charges\": 8627.5411, \"smoker\": \"no\"}, {\"bmi\": 31.73, \"charges\": 4433.3877, \"smoker\": \"no\"}, {\"bmi\": 29.26, \"charges\": 4438.2634, \"smoker\": \"no\"}, {\"bmi\": 28.215, \"charges\": 24915.22085, \"smoker\": \"yes\"}, {\"bmi\": 24.985, \"charges\": 23241.47453, \"smoker\": \"no\"}, {\"bmi\": 27.74, \"charges\": 9957.7216, \"smoker\": \"no\"}, {\"bmi\": 22.8, \"charges\": 8269.044, \"smoker\": \"no\"}, {\"bmi\": 20.13, \"charges\": 18767.7377, \"smoker\": \"yes\"}, {\"bmi\": 33.33, \"charges\": 36580.28216, \"smoker\": \"no\"}, {\"bmi\": 32.3, \"charges\": 8765.249, \"smoker\": \"no\"}, {\"bmi\": 27.6, \"charges\": 5383.536, \"smoker\": \"no\"}, {\"bmi\": 25.46, \"charges\": 12124.9924, \"smoker\": \"no\"}, {\"bmi\": 24.605, \"charges\": 2709.24395, \"smoker\": \"no\"}, {\"bmi\": 34.2, \"charges\": 3987.926, \"smoker\": \"no\"}, {\"bmi\": 35.815, \"charges\": 12495.29085, \"smoker\": \"no\"}, {\"bmi\": 32.68, \"charges\": 26018.95052, \"smoker\": \"no\"}, {\"bmi\": 37.0, \"charges\": 8798.593, \"smoker\": \"no\"}, {\"bmi\": 31.02, \"charges\": 35595.5898, \"smoker\": \"yes\"}, {\"bmi\": 36.08, \"charges\": 42211.1382, \"smoker\": \"yes\"}, {\"bmi\": 23.32, \"charges\": 1711.0268, \"smoker\": \"no\"}, {\"bmi\": 45.32, \"charges\": 8569.8618, \"smoker\": \"no\"}, {\"bmi\": 34.6, \"charges\": 2020.177, \"smoker\": \"no\"}, {\"bmi\": 26.03, \"charges\": 16450.8947, \"smoker\": \"yes\"}, {\"bmi\": 18.715, \"charges\": 21595.38229, \"smoker\": \"no\"}, {\"bmi\": 31.6, \"charges\": 9850.432, \"smoker\": \"no\"}, {\"bmi\": 17.29, \"charges\": 6877.9801, \"smoker\": \"no\"}, {\"bmi\": 23.655, \"charges\": 21677.28345, \"smoker\": \"yes\"}, {\"bmi\": 35.2, \"charges\": 44423.803, \"smoker\": \"yes\"}, {\"bmi\": 27.93, \"charges\": 4137.5227, \"smoker\": \"no\"}, {\"bmi\": 21.565, \"charges\": 13747.87235, \"smoker\": \"yes\"}, {\"bmi\": 38.38, \"charges\": 12950.0712, \"smoker\": \"no\"}, {\"bmi\": 23.0, \"charges\": 12094.478, \"smoker\": \"no\"}, {\"bmi\": 37.07, \"charges\": 37484.4493, \"smoker\": \"yes\"}, {\"bmi\": 30.495, \"charges\": 39725.51805, \"smoker\": \"yes\"}, {\"bmi\": 28.88, \"charges\": 2250.8352, \"smoker\": \"no\"}, {\"bmi\": 27.265, \"charges\": 22493.65964, \"smoker\": \"no\"}, {\"bmi\": 28.025, \"charges\": 20234.85475, \"smoker\": \"yes\"}, {\"bmi\": 23.085, \"charges\": 1704.70015, \"smoker\": \"no\"}, {\"bmi\": 30.685, \"charges\": 33475.81715, \"smoker\": \"yes\"}, {\"bmi\": 25.8, \"charges\": 3161.454, \"smoker\": \"no\"}, {\"bmi\": 35.245, \"charges\": 11394.06555, \"smoker\": \"no\"}, {\"bmi\": 24.7, \"charges\": 21880.82, \"smoker\": \"yes\"}, {\"bmi\": 25.08, \"charges\": 7325.0482, \"smoker\": \"no\"}, {\"bmi\": 52.58, \"charges\": 44501.3982, \"smoker\": \"yes\"}, {\"bmi\": 22.515, \"charges\": 3594.17085, \"smoker\": \"no\"}, {\"bmi\": 30.9, \"charges\": 39727.614, \"smoker\": \"yes\"}, {\"bmi\": 36.955, \"charges\": 8023.13545, \"smoker\": \"no\"}, {\"bmi\": 26.41, \"charges\": 14394.5579, \"smoker\": \"no\"}, {\"bmi\": 29.83, \"charges\": 9288.0267, \"smoker\": \"no\"}, {\"bmi\": 29.8, \"charges\": 25309.489, \"smoker\": \"yes\"}, {\"bmi\": 21.47, \"charges\": 3353.4703, \"smoker\": \"no\"}, {\"bmi\": 27.645, \"charges\": 10594.50155, \"smoker\": \"no\"}, {\"bmi\": 28.9, \"charges\": 8277.523, \"smoker\": \"no\"}, {\"bmi\": 31.79, \"charges\": 17929.30337, \"smoker\": \"no\"}, {\"bmi\": 39.49, \"charges\": 2480.9791, \"smoker\": \"no\"}, {\"bmi\": 33.82, \"charges\": 4462.7218, \"smoker\": \"no\"}, {\"bmi\": 32.01, \"charges\": 1981.5819, \"smoker\": \"no\"}, {\"bmi\": 27.94, \"charges\": 11554.2236, \"smoker\": \"no\"}, {\"bmi\": 41.14, \"charges\": 48970.2476, \"smoker\": \"yes\"}, {\"bmi\": 28.595, \"charges\": 6548.19505, \"smoker\": \"no\"}, {\"bmi\": 25.6, \"charges\": 5708.867, \"smoker\": \"no\"}, {\"bmi\": 25.3, \"charges\": 7045.499, \"smoker\": \"no\"}, {\"bmi\": 37.29, \"charges\": 8978.1851, \"smoker\": \"no\"}, {\"bmi\": 42.655, \"charges\": 5757.41345, \"smoker\": \"no\"}, {\"bmi\": 21.66, \"charges\": 14349.8544, \"smoker\": \"no\"}, {\"bmi\": 31.9, \"charges\": 10928.849, \"smoker\": \"no\"}, {\"bmi\": 37.07, \"charges\": 39871.7043, \"smoker\": \"yes\"}, {\"bmi\": 31.445, \"charges\": 13974.45555, \"smoker\": \"no\"}, {\"bmi\": 31.255, \"charges\": 1909.52745, \"smoker\": \"no\"}, {\"bmi\": 28.88, \"charges\": 12096.6512, \"smoker\": \"no\"}, {\"bmi\": 18.335, \"charges\": 13204.28565, \"smoker\": \"no\"}, {\"bmi\": 29.59, \"charges\": 4562.8421, \"smoker\": \"no\"}, {\"bmi\": 32.0, \"charges\": 8551.347, \"smoker\": \"no\"}, {\"bmi\": 26.03, \"charges\": 2102.2647, \"smoker\": \"no\"}, {\"bmi\": 31.68, \"charges\": 34672.1472, \"smoker\": \"yes\"}, {\"bmi\": 33.66, \"charges\": 15161.5344, \"smoker\": \"no\"}, {\"bmi\": 21.78, \"charges\": 11884.04858, \"smoker\": \"no\"}, {\"bmi\": 27.835, \"charges\": 4454.40265, \"smoker\": \"no\"}, {\"bmi\": 19.95, \"charges\": 5855.9025, \"smoker\": \"no\"}, {\"bmi\": 31.5, \"charges\": 4076.497, \"smoker\": \"no\"}, {\"bmi\": 30.495, \"charges\": 15019.76005, \"smoker\": \"no\"}, {\"bmi\": 18.3, \"charges\": 19023.26, \"smoker\": \"yes\"}, {\"bmi\": 28.975, \"charges\": 10796.35025, \"smoker\": \"no\"}, {\"bmi\": 31.54, \"charges\": 11353.2276, \"smoker\": \"no\"}, {\"bmi\": 47.74, \"charges\": 9748.9106, \"smoker\": \"no\"}, {\"bmi\": 22.1, \"charges\": 10577.087, \"smoker\": \"no\"}, {\"bmi\": 36.19, \"charges\": 41676.0811, \"smoker\": \"yes\"}, {\"bmi\": 29.83, \"charges\": 11286.5387, \"smoker\": \"no\"}, {\"bmi\": 32.7, \"charges\": 3591.48, \"smoker\": \"no\"}, {\"bmi\": 30.4, \"charges\": 33907.548, \"smoker\": \"yes\"}, {\"bmi\": 33.7, \"charges\": 11299.343, \"smoker\": \"no\"}, {\"bmi\": 31.35, \"charges\": 4561.1885, \"smoker\": \"no\"}, {\"bmi\": 34.96, \"charges\": 44641.1974, \"smoker\": \"yes\"}, {\"bmi\": 33.77, \"charges\": 1674.6323, \"smoker\": \"no\"}, {\"bmi\": 30.875, \"charges\": 23045.56616, \"smoker\": \"no\"}, {\"bmi\": 33.99, \"charges\": 3227.1211, \"smoker\": \"no\"}, {\"bmi\": 19.095, \"charges\": 16776.30405, \"smoker\": \"yes\"}, {\"bmi\": 28.6, \"charges\": 11253.421, \"smoker\": \"no\"}, {\"bmi\": 38.94, \"charges\": 3471.4096, \"smoker\": \"no\"}, {\"bmi\": 36.08, \"charges\": 11363.2832, \"smoker\": \"no\"}, {\"bmi\": 29.8, \"charges\": 20420.60465, \"smoker\": \"no\"}, {\"bmi\": 31.24, \"charges\": 10338.9316, \"smoker\": \"no\"}, {\"bmi\": 29.925, \"charges\": 8988.15875, \"smoker\": \"no\"}, {\"bmi\": 26.22, \"charges\": 10493.9458, \"smoker\": \"no\"}, {\"bmi\": 30.0, \"charges\": 2904.088, \"smoker\": \"no\"}, {\"bmi\": 20.35, \"charges\": 8605.3615, \"smoker\": \"no\"}, {\"bmi\": 32.3, \"charges\": 11512.405, \"smoker\": \"no\"}, {\"bmi\": 38.39, \"charges\": 41949.2441, \"smoker\": \"yes\"}, {\"bmi\": 25.85, \"charges\": 24180.9335, \"smoker\": \"yes\"}, {\"bmi\": 26.315, \"charges\": 5312.16985, \"smoker\": \"no\"}, {\"bmi\": 24.51, \"charges\": 2396.0959, \"smoker\": \"no\"}, {\"bmi\": 32.67, \"charges\": 10807.4863, \"smoker\": \"no\"}, {\"bmi\": 29.64, \"charges\": 9222.4026, \"smoker\": \"no\"}, {\"bmi\": 33.33, \"charges\": 36124.5737, \"smoker\": \"yes\"}, {\"bmi\": 35.75, \"charges\": 38282.7495, \"smoker\": \"yes\"}, {\"bmi\": 19.95, \"charges\": 5693.4305, \"smoker\": \"no\"}, {\"bmi\": 31.4, \"charges\": 34166.273, \"smoker\": \"yes\"}, {\"bmi\": 38.17, \"charges\": 8347.1643, \"smoker\": \"no\"}, {\"bmi\": 36.86, \"charges\": 46661.4424, \"smoker\": \"yes\"}, {\"bmi\": 32.395, \"charges\": 18903.49141, \"smoker\": \"no\"}, {\"bmi\": 42.75, \"charges\": 40904.1995, \"smoker\": \"yes\"}, {\"bmi\": 25.08, \"charges\": 14254.6082, \"smoker\": \"no\"}, {\"bmi\": 29.9, \"charges\": 10214.636, \"smoker\": \"no\"}, {\"bmi\": 35.86, \"charges\": 5836.5204, \"smoker\": \"no\"}, {\"bmi\": 32.8, \"charges\": 14358.36437, \"smoker\": \"no\"}, {\"bmi\": 18.6, \"charges\": 1728.897, \"smoker\": \"no\"}, {\"bmi\": 23.87, \"charges\": 8582.3023, \"smoker\": \"no\"}, {\"bmi\": 45.9, \"charges\": 3693.428, \"smoker\": \"no\"}, {\"bmi\": 40.28, \"charges\": 20709.02034, \"smoker\": \"no\"}, {\"bmi\": 18.335, \"charges\": 9991.03765, \"smoker\": \"no\"}, {\"bmi\": 33.82, \"charges\": 19673.33573, \"smoker\": \"no\"}, {\"bmi\": 28.12, \"charges\": 11085.5868, \"smoker\": \"no\"}, {\"bmi\": 25.0, \"charges\": 7623.518, \"smoker\": \"no\"}, {\"bmi\": 22.23, \"charges\": 3176.2877, \"smoker\": \"no\"}, {\"bmi\": 30.25, \"charges\": 3704.3545, \"smoker\": \"no\"}, {\"bmi\": 32.49, \"charges\": 36898.73308, \"smoker\": \"yes\"}, {\"bmi\": 37.07, \"charges\": 9048.0273, \"smoker\": \"no\"}, {\"bmi\": 32.6, \"charges\": 7954.517, \"smoker\": \"no\"}, {\"bmi\": 24.86, \"charges\": 27117.99378, \"smoker\": \"no\"}, {\"bmi\": 32.34, \"charges\": 6338.0756, \"smoker\": \"no\"}, {\"bmi\": 32.3, \"charges\": 9630.397, \"smoker\": \"no\"}, {\"bmi\": 32.775, \"charges\": 11289.10925, \"smoker\": \"no\"}, {\"bmi\": 32.8, \"charges\": 52590.82939, \"smoker\": \"yes\"}, {\"bmi\": 31.92, \"charges\": 2261.5688, \"smoker\": \"no\"}, {\"bmi\": 21.5, \"charges\": 10791.96, \"smoker\": \"no\"}, {\"bmi\": 34.1, \"charges\": 5979.731, \"smoker\": \"no\"}, {\"bmi\": 30.305, \"charges\": 2203.73595, \"smoker\": \"no\"}, {\"bmi\": 36.48, \"charges\": 12235.8392, \"smoker\": \"no\"}, {\"bmi\": 32.56, \"charges\": 40941.2854, \"smoker\": \"yes\"}, {\"bmi\": 35.815, \"charges\": 5630.45785, \"smoker\": \"no\"}, {\"bmi\": 27.93, \"charges\": 11015.1747, \"smoker\": \"no\"}, {\"bmi\": 22.135, \"charges\": 7228.21565, \"smoker\": \"no\"}, {\"bmi\": 44.88, \"charges\": 39722.7462, \"smoker\": \"yes\"}, {\"bmi\": 23.18, \"charges\": 14426.07385, \"smoker\": \"no\"}, {\"bmi\": 30.59, \"charges\": 2459.7201, \"smoker\": \"no\"}, {\"bmi\": 41.1, \"charges\": 3989.841, \"smoker\": \"no\"}, {\"bmi\": 34.58, \"charges\": 7727.2532, \"smoker\": \"no\"}, {\"bmi\": 42.13, \"charges\": 5124.1887, \"smoker\": \"no\"}, {\"bmi\": 38.83, \"charges\": 18963.17192, \"smoker\": \"no\"}, {\"bmi\": 28.215, \"charges\": 2200.83085, \"smoker\": \"no\"}, {\"bmi\": 28.31, \"charges\": 7153.5539, \"smoker\": \"no\"}, {\"bmi\": 26.125, \"charges\": 5227.98875, \"smoker\": \"no\"}, {\"bmi\": 40.37, \"charges\": 10982.5013, \"smoker\": \"no\"}, {\"bmi\": 24.6, \"charges\": 4529.477, \"smoker\": \"no\"}, {\"bmi\": 35.2, \"charges\": 4670.64, \"smoker\": \"no\"}, {\"bmi\": 34.105, \"charges\": 6112.35295, \"smoker\": \"no\"}, {\"bmi\": 27.36, \"charges\": 17178.6824, \"smoker\": \"yes\"}, {\"bmi\": 26.7, \"charges\": 22478.6, \"smoker\": \"yes\"}, {\"bmi\": 41.91, \"charges\": 11093.6229, \"smoker\": \"no\"}, {\"bmi\": 29.26, \"charges\": 6457.8434, \"smoker\": \"no\"}, {\"bmi\": 32.11, \"charges\": 4433.9159, \"smoker\": \"no\"}, {\"bmi\": 27.1, \"charges\": 2154.361, \"smoker\": \"no\"}, {\"bmi\": 24.13, \"charges\": 23887.6627, \"smoker\": \"yes\"}, {\"bmi\": 27.4, \"charges\": 6496.886, \"smoker\": \"no\"}, {\"bmi\": 34.865, \"charges\": 2899.48935, \"smoker\": \"no\"}, {\"bmi\": 29.81, \"charges\": 19350.3689, \"smoker\": \"yes\"}, {\"bmi\": 41.325, \"charges\": 7650.77375, \"smoker\": \"no\"}, {\"bmi\": 29.925, \"charges\": 2850.68375, \"smoker\": \"no\"}, {\"bmi\": 30.3, \"charges\": 2632.992, \"smoker\": \"no\"}, {\"bmi\": 27.36, \"charges\": 9447.3824, \"smoker\": \"no\"}, {\"bmi\": 28.49, \"charges\": 18328.2381, \"smoker\": \"yes\"}, {\"bmi\": 23.56, \"charges\": 8603.8234, \"smoker\": \"no\"}, {\"bmi\": 35.625, \"charges\": 37465.34375, \"smoker\": \"yes\"}, {\"bmi\": 32.68, \"charges\": 13844.7972, \"smoker\": \"no\"}, {\"bmi\": 25.27, \"charges\": 21771.3423, \"smoker\": \"yes\"}, {\"bmi\": 28.0, \"charges\": 13126.67745, \"smoker\": \"no\"}, {\"bmi\": 32.775, \"charges\": 5327.40025, \"smoker\": \"no\"}, {\"bmi\": 21.755, \"charges\": 13725.47184, \"smoker\": \"no\"}, {\"bmi\": 32.395, \"charges\": 13019.16105, \"smoker\": \"no\"}, {\"bmi\": 36.575, \"charges\": 8671.19125, \"smoker\": \"no\"}, {\"bmi\": 21.755, \"charges\": 4134.08245, \"smoker\": \"no\"}, {\"bmi\": 27.93, \"charges\": 18838.70366, \"smoker\": \"no\"}, {\"bmi\": 30.02, \"charges\": 33307.5508, \"smoker\": \"yes\"}, {\"bmi\": 33.55, \"charges\": 5699.8375, \"smoker\": \"no\"}, {\"bmi\": 29.355, \"charges\": 6393.60345, \"smoker\": \"no\"}, {\"bmi\": 25.8, \"charges\": 4934.705, \"smoker\": \"no\"}, {\"bmi\": 24.32, \"charges\": 6198.7518, \"smoker\": \"no\"}, {\"bmi\": 40.375, \"charges\": 8733.22925, \"smoker\": \"no\"}, {\"bmi\": 32.11, \"charges\": 2055.3249, \"smoker\": \"no\"}, {\"bmi\": 32.3, \"charges\": 9964.06, \"smoker\": \"no\"}, {\"bmi\": 27.28, \"charges\": 18223.4512, \"smoker\": \"yes\"}, {\"bmi\": 17.86, \"charges\": 5116.5004, \"smoker\": \"no\"}, {\"bmi\": 34.8, \"charges\": 36910.60803, \"smoker\": \"no\"}, {\"bmi\": 33.4, \"charges\": 38415.474, \"smoker\": \"yes\"}, {\"bmi\": 25.555, \"charges\": 20296.86345, \"smoker\": \"yes\"}, {\"bmi\": 37.1, \"charges\": 12347.172, \"smoker\": \"no\"}, {\"bmi\": 30.875, \"charges\": 5373.36425, \"smoker\": \"no\"}, {\"bmi\": 34.1, \"charges\": 23563.01618, \"smoker\": \"no\"}, {\"bmi\": 21.47, \"charges\": 1702.4553, \"smoker\": \"no\"}, {\"bmi\": 33.3, \"charges\": 10806.839, \"smoker\": \"no\"}, {\"bmi\": 31.255, \"charges\": 3956.07145, \"smoker\": \"no\"}, {\"bmi\": 39.14, \"charges\": 12890.05765, \"smoker\": \"no\"}, {\"bmi\": 25.08, \"charges\": 5415.6612, \"smoker\": \"no\"}, {\"bmi\": 37.29, \"charges\": 4058.1161, \"smoker\": \"no\"}, {\"bmi\": 34.6, \"charges\": 41661.602, \"smoker\": \"yes\"}, {\"bmi\": 30.21, \"charges\": 7537.1639, \"smoker\": \"no\"}, {\"bmi\": 21.945, \"charges\": 4718.20355, \"smoker\": \"no\"}, {\"bmi\": 24.97, \"charges\": 6593.5083, \"smoker\": \"no\"}, {\"bmi\": 25.3, \"charges\": 8442.667, \"smoker\": \"no\"}, {\"bmi\": 24.42, \"charges\": 26125.67477, \"smoker\": \"yes\"}, {\"bmi\": 23.94, \"charges\": 6858.4796, \"smoker\": \"no\"}, {\"bmi\": 39.82, \"charges\": 4795.6568, \"smoker\": \"no\"}, {\"bmi\": 16.815, \"charges\": 6640.54485, \"smoker\": \"no\"}, {\"bmi\": 37.18, \"charges\": 7162.0122, \"smoker\": \"no\"}, {\"bmi\": 34.43, \"charges\": 10594.2257, \"smoker\": \"no\"}, {\"bmi\": 30.305, \"charges\": 11938.25595, \"smoker\": \"no\"}, {\"bmi\": 34.485, \"charges\": 60021.39897, \"smoker\": \"yes\"}, {\"bmi\": 21.8, \"charges\": 20167.33603, \"smoker\": \"yes\"}, {\"bmi\": 24.605, \"charges\": 12479.70895, \"smoker\": \"no\"}, {\"bmi\": 23.3, \"charges\": 11345.519, \"smoker\": \"no\"}, {\"bmi\": 27.83, \"charges\": 8515.7587, \"smoker\": \"no\"}, {\"bmi\": 31.065, \"charges\": 2699.56835, \"smoker\": \"no\"}, {\"bmi\": 21.66, \"charges\": 14449.8544, \"smoker\": \"no\"}, {\"bmi\": 28.215, \"charges\": 12224.35085, \"smoker\": \"no\"}, {\"bmi\": 22.705, \"charges\": 6985.50695, \"smoker\": \"no\"}, {\"bmi\": 42.13, \"charges\": 3238.4357, \"smoker\": \"no\"}, {\"bmi\": 41.8, \"charges\": 47269.854, \"smoker\": \"yes\"}, {\"bmi\": 36.96, \"charges\": 49577.6624, \"smoker\": \"yes\"}, {\"bmi\": 21.28, \"charges\": 4296.2712, \"smoker\": \"no\"}, {\"bmi\": 33.11, \"charges\": 3171.6149, \"smoker\": \"no\"}, {\"bmi\": 33.33, \"charges\": 1135.9407, \"smoker\": \"no\"}, {\"bmi\": 24.3, \"charges\": 5615.369, \"smoker\": \"no\"}, {\"bmi\": 25.7, \"charges\": 9101.798, \"smoker\": \"no\"}, {\"bmi\": 29.4, \"charges\": 6059.173, \"smoker\": \"no\"}, {\"bmi\": 39.82, \"charges\": 1633.9618, \"smoker\": \"no\"}, {\"bmi\": 33.63, \"charges\": 37607.5277, \"smoker\": \"yes\"}, {\"bmi\": 29.83, \"charges\": 18648.4217, \"smoker\": \"yes\"}, {\"bmi\": 19.8, \"charges\": 1241.565, \"smoker\": \"no\"}, {\"bmi\": 27.3, \"charges\": 16232.847, \"smoker\": \"yes\"}, {\"bmi\": 29.3, \"charges\": 15828.82173, \"smoker\": \"no\"}, {\"bmi\": 27.72, \"charges\": 4415.1588, \"smoker\": \"no\"}, {\"bmi\": 37.9, \"charges\": 6474.013, \"smoker\": \"no\"}, {\"bmi\": 36.385, \"charges\": 11436.73815, \"smoker\": \"no\"}, {\"bmi\": 27.645, \"charges\": 11305.93455, \"smoker\": \"no\"}, {\"bmi\": 37.715, \"charges\": 30063.58055, \"smoker\": \"no\"}, {\"bmi\": 23.18, \"charges\": 10197.7722, \"smoker\": \"no\"}, {\"bmi\": 20.52, \"charges\": 4544.2348, \"smoker\": \"no\"}, {\"bmi\": 37.1, \"charges\": 3277.161, \"smoker\": \"no\"}, {\"bmi\": 28.05, \"charges\": 6770.1925, \"smoker\": \"no\"}, {\"bmi\": 29.9, \"charges\": 7337.748, \"smoker\": \"no\"}, {\"bmi\": 33.345, \"charges\": 10370.91255, \"smoker\": \"no\"}, {\"bmi\": 23.76, \"charges\": 26926.5144, \"smoker\": \"yes\"}, {\"bmi\": 30.5, \"charges\": 10704.47, \"smoker\": \"no\"}, {\"bmi\": 31.065, \"charges\": 34254.05335, \"smoker\": \"yes\"}, {\"bmi\": 33.3, \"charges\": 1880.487, \"smoker\": \"no\"}, {\"bmi\": 27.5, \"charges\": 8615.3, \"smoker\": \"no\"}, {\"bmi\": 33.915, \"charges\": 3292.52985, \"smoker\": \"no\"}, {\"bmi\": 34.485, \"charges\": 3021.80915, \"smoker\": \"no\"}, {\"bmi\": 25.52, \"charges\": 14478.33015, \"smoker\": \"no\"}, {\"bmi\": 27.61, \"charges\": 4747.0529, \"smoker\": \"no\"}, {\"bmi\": 27.06, \"charges\": 17043.3414, \"smoker\": \"yes\"}, {\"bmi\": 23.7, \"charges\": 10959.33, \"smoker\": \"no\"}, {\"bmi\": 30.4, \"charges\": 2741.948, \"smoker\": \"no\"}, {\"bmi\": 29.735, \"charges\": 4357.04365, \"smoker\": \"no\"}, {\"bmi\": 29.925, \"charges\": 22462.04375, \"smoker\": \"yes\"}, {\"bmi\": 26.79, \"charges\": 4189.1131, \"smoker\": \"no\"}, {\"bmi\": 33.33, \"charges\": 8283.6807, \"smoker\": \"no\"}, {\"bmi\": 27.645, \"charges\": 24535.69855, \"smoker\": \"yes\"}, {\"bmi\": 21.66, \"charges\": 14283.4594, \"smoker\": \"yes\"}, {\"bmi\": 30.03, \"charges\": 1720.3537, \"smoker\": \"no\"}, {\"bmi\": 36.3, \"charges\": 47403.88, \"smoker\": \"yes\"}, {\"bmi\": 24.32, \"charges\": 8534.6718, \"smoker\": \"no\"}, {\"bmi\": 17.29, \"charges\": 3732.6251, \"smoker\": \"no\"}, {\"bmi\": 25.9, \"charges\": 5472.449, \"smoker\": \"no\"}, {\"bmi\": 39.4, \"charges\": 38344.566, \"smoker\": \"yes\"}, {\"bmi\": 34.32, \"charges\": 7147.4728, \"smoker\": \"no\"}, {\"bmi\": 19.95, \"charges\": 7133.9025, \"smoker\": \"no\"}, {\"bmi\": 34.9, \"charges\": 34828.654, \"smoker\": \"yes\"}, {\"bmi\": 23.21, \"charges\": 1515.3449, \"smoker\": \"no\"}, {\"bmi\": 25.745, \"charges\": 9301.89355, \"smoker\": \"no\"}, {\"bmi\": 25.175, \"charges\": 11931.12525, \"smoker\": \"no\"}, {\"bmi\": 22.0, \"charges\": 1964.78, \"smoker\": \"no\"}, {\"bmi\": 26.125, \"charges\": 1708.92575, \"smoker\": \"no\"}, {\"bmi\": 26.51, \"charges\": 4340.4409, \"smoker\": \"no\"}, {\"bmi\": 27.455, \"charges\": 5261.46945, \"smoker\": \"no\"}, {\"bmi\": 25.745, \"charges\": 2710.82855, \"smoker\": \"no\"}, {\"bmi\": 30.36, \"charges\": 62592.87309, \"smoker\": \"yes\"}, {\"bmi\": 30.875, \"charges\": 46718.16325, \"smoker\": \"yes\"}, {\"bmi\": 20.8, \"charges\": 3208.787, \"smoker\": \"no\"}, {\"bmi\": 27.8, \"charges\": 37829.7242, \"smoker\": \"yes\"}, {\"bmi\": 24.605, \"charges\": 21259.37795, \"smoker\": \"yes\"}, {\"bmi\": 27.72, \"charges\": 2464.6188, \"smoker\": \"no\"}, {\"bmi\": 21.85, \"charges\": 16115.3045, \"smoker\": \"yes\"}, {\"bmi\": 28.12, \"charges\": 21472.4788, \"smoker\": \"yes\"}, {\"bmi\": 30.2, \"charges\": 33900.653, \"smoker\": \"yes\"}, {\"bmi\": 32.2, \"charges\": 6875.961, \"smoker\": \"no\"}, {\"bmi\": 26.315, \"charges\": 6940.90985, \"smoker\": \"no\"}, {\"bmi\": 26.695, \"charges\": 4571.41305, \"smoker\": \"no\"}, {\"bmi\": 42.9, \"charges\": 4536.259, \"smoker\": \"no\"}, {\"bmi\": 34.7, \"charges\": 36397.576, \"smoker\": \"yes\"}, {\"bmi\": 23.655, \"charges\": 18765.87545, \"smoker\": \"yes\"}, {\"bmi\": 28.31, \"charges\": 11272.33139, \"smoker\": \"no\"}, {\"bmi\": 20.6, \"charges\": 1731.677, \"smoker\": \"no\"}, {\"bmi\": 53.13, \"charges\": 1163.4627, \"smoker\": \"no\"}, {\"bmi\": 39.71, \"charges\": 19496.71917, \"smoker\": \"no\"}, {\"bmi\": 26.315, \"charges\": 7201.70085, \"smoker\": \"no\"}, {\"bmi\": 31.065, \"charges\": 5425.02335, \"smoker\": \"no\"}, {\"bmi\": 26.695, \"charges\": 28101.33305, \"smoker\": \"yes\"}, {\"bmi\": 38.83, \"charges\": 12981.3457, \"smoker\": \"no\"}, {\"bmi\": 40.37, \"charges\": 43896.3763, \"smoker\": \"yes\"}, {\"bmi\": 25.935, \"charges\": 4239.89265, \"smoker\": \"no\"}, {\"bmi\": 33.535, \"charges\": 13143.33665, \"smoker\": \"no\"}, {\"bmi\": 32.87, \"charges\": 7050.0213, \"smoker\": \"no\"}, {\"bmi\": 30.03, \"charges\": 9377.9047, \"smoker\": \"no\"}, {\"bmi\": 24.225, \"charges\": 22395.74424, \"smoker\": \"no\"}, {\"bmi\": 38.6, \"charges\": 10325.206, \"smoker\": \"no\"}, {\"bmi\": 25.74, \"charges\": 12629.1656, \"smoker\": \"no\"}, {\"bmi\": 33.4, \"charges\": 10795.93733, \"smoker\": \"no\"}, {\"bmi\": 44.7, \"charges\": 11411.685, \"smoker\": \"no\"}, {\"bmi\": 30.97, \"charges\": 10600.5483, \"smoker\": \"no\"}, {\"bmi\": 31.92, \"charges\": 2205.9808, \"smoker\": \"no\"}, {\"bmi\": 36.85, \"charges\": 1629.8335, \"smoker\": \"no\"}, {\"bmi\": 25.8, \"charges\": 2007.945, \"smoker\": \"no\"}, {\"bmi\": 29.07, \"charges\": 29141.3603, \"smoker\": \"yes\"}]}, {\"name\": \"source_0_x_domain_bmi\", \"values\": [{\"min\": 15.96, \"max\": 53.13}]}, {\"name\": \"source_0_y_domain_charges\", \"values\": [{\"min\": 1121.8739, \"max\": 63770.42801}]}, {\"name\": \"source_0_color_domain_smoker\", \"values\": [{\"smoker\": \"yes\"}, {\"smoker\": \"no\"}]}], \"marks\": [{\"type\": \"symbol\", \"name\": \"marks\", \"from\": {\"data\": \"source_0\"}, \"encode\": {\"update\": {\"fill\": {\"value\": \"transparent\"}, \"x\": {\"field\": \"bmi\", \"scale\": \"x\"}, \"stroke\": {\"field\": \"smoker\", \"scale\": \"color\"}, \"y\": {\"field\": \"charges\", \"scale\": \"y\"}, \"opacity\": {\"value\": 0.4}}}, \"style\": [\"point\"]}], \"scales\": [{\"name\": \"x\", \"type\": \"linear\", \"domain\": [{\"signal\": \"(data(\\\"source_0_x_domain_bmi\\\")[0] || {}).min\"}, {\"signal\": \"(data(\\\"source_0_x_domain_bmi\\\")[0] || {}).max\"}], \"range\": [0, {\"signal\": \"width\"}], \"nice\": true, \"zero\": true}, {\"name\": \"y\", \"type\": \"linear\", \"domain\": [{\"signal\": \"(data(\\\"source_0_y_domain_charges\\\")[0] || {}).min\"}, {\"signal\": \"(data(\\\"source_0_y_domain_charges\\\")[0] || {}).max\"}], \"range\": [{\"signal\": \"height\"}, 0], \"zero\": true, \"nice\": true}, {\"name\": \"color\", \"type\": \"ordinal\", \"domain\": {\"data\": \"source_0_color_domain_smoker\", \"field\": \"smoker\", \"sort\": true}, \"range\": \"category\"}], \"axes\": [{\"scale\": \"x\", \"zindex\": 0, \"minExtent\": 0, \"aria\": false, \"orient\": \"bottom\", \"domain\": false, \"tickCount\": {\"signal\": \"ceil(width/40)\"}, \"gridScale\": \"y\", \"maxExtent\": 0, \"labels\": false, \"grid\": true, \"ticks\": false}, {\"scale\": \"y\", \"tickCount\": {\"signal\": \"ceil(height/40)\"}, \"gridScale\": \"x\", \"aria\": false, \"minExtent\": 0, \"maxExtent\": 0, \"ticks\": false, \"grid\": true, \"orient\": \"left\", \"labels\": false, \"domain\": false, \"zindex\": 0}, {\"scale\": \"x\", \"orient\": \"bottom\", \"labelOverlap\": true, \"grid\": false, \"labelFlush\": true, \"tickCount\": {\"signal\": \"ceil(width/40)\"}, \"zindex\": 0, \"title\": \"BMI\"}, {\"scale\": \"y\", \"zindex\": 0, \"title\": \"Charges\", \"tickCount\": {\"signal\": \"ceil(height/40)\"}, \"labelOverlap\": true, \"orient\": \"left\", \"grid\": false}], \"title\": {\"text\": \"Charges vs BMI\", \"frame\": \"group\"}, \"style\": \"cell\", \"width\": 300, \"background\": \"white\", \"padding\": 5, \"height\": 300, \"legends\": [{\"title\": \"smoking\", \"stroke\": \"color\", \"symbolType\": \"circle\", \"encode\": {\"symbols\": {\"update\": {\"fill\": {\"value\": \"transparent\"}, \"opacity\": {\"value\": 0.4}}}}}]}, {\"mode\": \"vega\"});\n",
       "</script>"
      ],
      "text/plain": [
       "alt.Chart(...)"
      ]
     },
     "execution_count": 17,
     "metadata": {},
     "output_type": "execute_result"
    }
   ],
   "source": [
    "# your code here\n",
    "\n",
    "smoke_plot = alt.Chart(\n",
    "    insurance,  \n",
    "    title='Charges vs BMI' \n",
    ").mark_point(opacity=0.4).encode(\n",
    "    x=alt.X('bmi', title='BMI'), \n",
    "    y=alt.Y('charges', title='Charges'),\n",
    "    color=alt.Color('smoker', title='smoking'),  \n",
    ")\n",
    "\n",
    "\n",
    "smoke_plot"
   ]
  },
  {
   "cell_type": "code",
   "execution_count": 18,
   "metadata": {
    "deletable": false,
    "editable": false,
    "nbgrader": {
     "cell_type": "code",
     "checksum": "838ec9da3c00e362acabfb10dfcd6ba5",
     "grade": true,
     "grade_id": "cell-a5dc720f9e5813bd",
     "locked": true,
     "points": 3,
     "schema_version": 3,
     "solution": false,
     "task": false
    }
   },
   "outputs": [
    {
     "name": "stdout",
     "output_type": "stream",
     "text": [
      "Success!\n"
     ]
    }
   ],
   "source": [
    "from hashlib import sha1\n",
    "assert sha1(str(type(smoke_plot is None)).encode(\"utf-8\")+b\"a1d0e\").hexdigest() == \"5d2729256924d973ded6e6c1e1590736ca5f7c13\", \"type of smoke_plot is None is not bool. smoke_plot is None should be a bool\"\n",
    "assert sha1(str(smoke_plot is None).encode(\"utf-8\")+b\"a1d0e\").hexdigest() == \"3c602b9285a9b032e6f0799db94eee0318c5939c\", \"boolean value of smoke_plot is None is not correct\"\n",
    "\n",
    "assert sha1(str(type(smoke_plot.mark)).encode(\"utf-8\")+b\"a1d0f\").hexdigest() == \"632ec55be177ce1b1d81b8fa663a4d1a10eb29f0\", \"type of smoke_plot.mark is not correct\"\n",
    "assert sha1(str(smoke_plot.mark).encode(\"utf-8\")+b\"a1d0f\").hexdigest() == \"356c4d024752333c8f782e6f29ae4442d56a294a\", \"value of smoke_plot.mark is not correct\"\n",
    "\n",
    "assert sha1(str(type(smoke_plot.encoding.x['shorthand'])).encode(\"utf-8\")+b\"a1d10\").hexdigest() == \"cf2620faaaadb4567c45c64fd5d8926804584673\", \"type of smoke_plot.encoding.x['shorthand'] is not str. smoke_plot.encoding.x['shorthand'] should be an str\"\n",
    "assert sha1(str(len(smoke_plot.encoding.x['shorthand'])).encode(\"utf-8\")+b\"a1d10\").hexdigest() == \"243f3bd290a3cc0cf71c746a0a50f9a8a4680870\", \"length of smoke_plot.encoding.x['shorthand'] is not correct\"\n",
    "assert sha1(str(smoke_plot.encoding.x['shorthand'].lower()).encode(\"utf-8\")+b\"a1d10\").hexdigest() == \"2bf931ac6d652813c22ba6d7b709cfe96698d3ea\", \"value of smoke_plot.encoding.x['shorthand'] is not correct\"\n",
    "assert sha1(str(smoke_plot.encoding.x['shorthand']).encode(\"utf-8\")+b\"a1d10\").hexdigest() == \"2bf931ac6d652813c22ba6d7b709cfe96698d3ea\", \"correct string value of smoke_plot.encoding.x['shorthand'] but incorrect case of letters\"\n",
    "\n",
    "assert sha1(str(type(smoke_plot.encoding.y['shorthand'])).encode(\"utf-8\")+b\"a1d11\").hexdigest() == \"09572e6399428ff4183d0376bc008f3b135aa932\", \"type of smoke_plot.encoding.y['shorthand'] is not str. smoke_plot.encoding.y['shorthand'] should be an str\"\n",
    "assert sha1(str(len(smoke_plot.encoding.y['shorthand'])).encode(\"utf-8\")+b\"a1d11\").hexdigest() == \"71a5d754863484cc75c16b2b327025552e7726e1\", \"length of smoke_plot.encoding.y['shorthand'] is not correct\"\n",
    "assert sha1(str(smoke_plot.encoding.y['shorthand'].lower()).encode(\"utf-8\")+b\"a1d11\").hexdigest() == \"ac89f7221894bb7edf111d4bcdb15322ce667667\", \"value of smoke_plot.encoding.y['shorthand'] is not correct\"\n",
    "assert sha1(str(smoke_plot.encoding.y['shorthand']).encode(\"utf-8\")+b\"a1d11\").hexdigest() == \"ac89f7221894bb7edf111d4bcdb15322ce667667\", \"correct string value of smoke_plot.encoding.y['shorthand'] but incorrect case of letters\"\n",
    "\n",
    "assert sha1(str(type(smoke_plot.encoding.color['shorthand'])).encode(\"utf-8\")+b\"a1d12\").hexdigest() == \"5e146436c95c3be0c0b5891dba8fa3915c86ad72\", \"type of smoke_plot.encoding.color['shorthand'] is not str. smoke_plot.encoding.color['shorthand'] should be an str\"\n",
    "assert sha1(str(len(smoke_plot.encoding.color['shorthand'])).encode(\"utf-8\")+b\"a1d12\").hexdigest() == \"410d10639964c884ed8546f208184ca298f414df\", \"length of smoke_plot.encoding.color['shorthand'] is not correct\"\n",
    "assert sha1(str(smoke_plot.encoding.color['shorthand'].lower()).encode(\"utf-8\")+b\"a1d12\").hexdigest() == \"aaa8ea7f22cfe19d2d5c4963a7f1d43057ddac88\", \"value of smoke_plot.encoding.color['shorthand'] is not correct\"\n",
    "assert sha1(str(smoke_plot.encoding.color['shorthand']).encode(\"utf-8\")+b\"a1d12\").hexdigest() == \"aaa8ea7f22cfe19d2d5c4963a7f1d43057ddac88\", \"correct string value of smoke_plot.encoding.color['shorthand'] but incorrect case of letters\"\n",
    "\n",
    "assert sha1(str(type(isinstance(smoke_plot.encoding.x['title'], str))).encode(\"utf-8\")+b\"a1d13\").hexdigest() == \"e363de156d5cd8b7b23cf84c70fe0f89ca8d37a2\", \"type of isinstance(smoke_plot.encoding.x['title'], str) is not bool. isinstance(smoke_plot.encoding.x['title'], str) should be a bool\"\n",
    "assert sha1(str(isinstance(smoke_plot.encoding.x['title'], str)).encode(\"utf-8\")+b\"a1d13\").hexdigest() == \"9712a542b912cdffee876ae2cbcf02af75879895\", \"boolean value of isinstance(smoke_plot.encoding.x['title'], str) is not correct\"\n",
    "\n",
    "assert sha1(str(type(isinstance(smoke_plot.encoding.y['title'], str))).encode(\"utf-8\")+b\"a1d14\").hexdigest() == \"7a5fc118c48fa58af7a92e7988d8582121842046\", \"type of isinstance(smoke_plot.encoding.y['title'], str) is not bool. isinstance(smoke_plot.encoding.y['title'], str) should be a bool\"\n",
    "assert sha1(str(isinstance(smoke_plot.encoding.y['title'], str)).encode(\"utf-8\")+b\"a1d14\").hexdigest() == \"8bcc6e5b50c7796e4e6a65a604595a2f7fc94b24\", \"boolean value of isinstance(smoke_plot.encoding.y['title'], str) is not correct\"\n",
    "\n",
    "assert sha1(str(type(isinstance(smoke_plot.encoding.color['title'], str))).encode(\"utf-8\")+b\"a1d15\").hexdigest() == \"730fa2e1e008b8ef8497cebf60771335d691594f\", \"type of isinstance(smoke_plot.encoding.color['title'], str) is not bool. isinstance(smoke_plot.encoding.color['title'], str) should be a bool\"\n",
    "assert sha1(str(isinstance(smoke_plot.encoding.color['title'], str)).encode(\"utf-8\")+b\"a1d15\").hexdigest() == \"bb9d1e886cf70630ac5d04a05f8f4342256ebba7\", \"boolean value of isinstance(smoke_plot.encoding.color['title'], str) is not correct\"\n",
    "\n",
    "print('Success!')"
   ]
  },
  {
   "cell_type": "markdown",
   "metadata": {
    "deletable": false,
    "editable": false,
    "nbgrader": {
     "cell_type": "markdown",
     "checksum": "9687eb53e9e56831a6ca975b6ac3e2f9",
     "grade": false,
     "grade_id": "cell-4cbc5d12976da647",
     "locked": true,
     "schema_version": 3,
     "solution": false
    }
   },
   "source": [
    "**Question 1.9.0** (Analyzing the Graph) True or False: \n",
    "<br> {points: 1}\n",
    "\n",
    "Smokers generally have a lower BMI than non-smokers. \n",
    "\n",
    "*Assign your answer to an object called `answer1_9_0`. Make sure your answer is either `True` or `False`.*"
   ]
  },
  {
   "cell_type": "code",
   "execution_count": 21,
   "metadata": {
    "deletable": false,
    "nbgrader": {
     "cell_type": "code",
     "checksum": "ca35652fff3cb5d09e46b0976b9c159f",
     "grade": false,
     "grade_id": "cell-4302d377b0fc06e3",
     "locked": false,
     "schema_version": 3,
     "solution": true
    }
   },
   "outputs": [],
   "source": [
    "# your code here\n",
    "answer1_9_0=False"
   ]
  },
  {
   "cell_type": "code",
   "execution_count": 22,
   "metadata": {
    "deletable": false,
    "editable": false,
    "nbgrader": {
     "cell_type": "code",
     "checksum": "89cf7ab4ce629ace21c2d469320a11fd",
     "grade": true,
     "grade_id": "cell-9d85f368775a121b",
     "locked": true,
     "points": 1,
     "schema_version": 3,
     "solution": false
    }
   },
   "outputs": [
    {
     "name": "stdout",
     "output_type": "stream",
     "text": [
      "Success!\n"
     ]
    }
   ],
   "source": [
    "from hashlib import sha1\n",
    "assert sha1(str(type(answer1_9_0)).encode(\"utf-8\")+b\"64932\").hexdigest() == \"cc281831448f8b8aa80cb5d7c3baf3b17172a353\", \"type of answer1_9_0 is not bool. answer1_9_0 should be a bool\"\n",
    "assert sha1(str(answer1_9_0).encode(\"utf-8\")+b\"64932\").hexdigest() == \"75278ad1e5b66059430b17d670a4b182671abf11\", \"boolean value of answer1_9_0 is not correct\"\n",
    "\n",
    "print('Success!')"
   ]
  },
  {
   "cell_type": "markdown",
   "metadata": {
    "deletable": false,
    "editable": false,
    "nbgrader": {
     "cell_type": "markdown",
     "checksum": "0a877743e5978eb5612392b81c6d74f2",
     "grade": false,
     "grade_id": "cell-9548b0b41e3b4700",
     "locked": true,
     "schema_version": 3,
     "solution": false
    }
   },
   "source": [
    "**Question 1.9.1** (Analyzing the Graph) True or False: \n",
    "<br> {points: 1}\n",
    "\n",
    "Smokers generally have higher medical charges than non-smokers.\n",
    "\n",
    "*Assign your answer to an object called `answer1_9_1`.Make sure your answer is either `True` or `False`.*"
   ]
  },
  {
   "cell_type": "code",
   "execution_count": 23,
   "metadata": {
    "deletable": false,
    "nbgrader": {
     "cell_type": "code",
     "checksum": "bbc85d9bca6cf15a7aab41acbe32aeec",
     "grade": false,
     "grade_id": "cell-b9f9c54000889b5c",
     "locked": false,
     "schema_version": 3,
     "solution": true
    }
   },
   "outputs": [],
   "source": [
    "# your code here\n",
    "answer1_9_1=True"
   ]
  },
  {
   "cell_type": "code",
   "execution_count": 24,
   "metadata": {
    "deletable": false,
    "editable": false,
    "nbgrader": {
     "cell_type": "code",
     "checksum": "1065412630fad3516bb07f4c2fb7c50c",
     "grade": true,
     "grade_id": "cell-b82577eedde24cb1",
     "locked": true,
     "points": 1,
     "schema_version": 3,
     "solution": false
    }
   },
   "outputs": [
    {
     "name": "stdout",
     "output_type": "stream",
     "text": [
      "Success!\n"
     ]
    }
   ],
   "source": [
    "from hashlib import sha1\n",
    "assert sha1(str(type(answer1_9_1)).encode(\"utf-8\")+b\"726fb\").hexdigest() == \"62b91597814a3332ac196fa07917c9cdabeb6a4a\", \"type of answer1_9_1 is not bool. answer1_9_1 should be a bool\"\n",
    "assert sha1(str(answer1_9_1).encode(\"utf-8\")+b\"726fb\").hexdigest() == \"7ae8479f7e92390e97392ac647c12c397eb00174\", \"boolean value of answer1_9_1 is not correct\"\n",
    "\n",
    "print('Success!')"
   ]
  },
  {
   "cell_type": "markdown",
   "metadata": {
    "deletable": false,
    "editable": false,
    "nbgrader": {
     "cell_type": "markdown",
     "checksum": "7ecc4bc863be073a6df4d614d0afa04f",
     "grade": false,
     "grade_id": "cell-56d49ae191d3e93f",
     "locked": true,
     "schema_version": 3,
     "solution": false
    }
   },
   "source": [
    "**Question 1.10**\n",
    "<br> {points: 1}\n",
    "\n",
    "Finally, create a bar graph that displays the percentage of smokers for both females and males in the data set. Plot sex on the x-axis, and colour the bars to differentiate between smokers and nonsmokers. This could, for example, be used help us determine whether we should consider smoking behaviour when exploring whether there is a relationship between sex and medical costs.\n",
    "\n",
    "To count the number of observations in each bar, we are using the `count()` aggregation in `altair`, just as we did for histograms in the textbook. We then convert the count to a percentage with `stack('normalize')`.\n",
    "\n",
    "*Assign your answer to an object called `bar_plot`. Make sure to label your axes appropriately.*\n",
    "\n",
    ">*Note - many historical datasets treated sex as a variable where the possible values are only binary: male or female. This representation in this question reflects how the data were historically collected and is not meant to imply that we believe that sex is binary.*"
   ]
  },
  {
   "cell_type": "code",
   "execution_count": 27,
   "metadata": {
    "deletable": false,
    "nbgrader": {
     "cell_type": "code",
     "checksum": "a47c40b79b2da5198493f0334d3b51bb",
     "grade": false,
     "grade_id": "cell-19a1b424460c544e",
     "locked": false,
     "schema_version": 3,
     "solution": true
    }
   },
   "outputs": [
    {
     "data": {
      "text/html": [
       "\n",
       "<style>\n",
       "  #altair-viz-d74d9109989441dd9ef271b428112d39.vega-embed {\n",
       "    width: 100%;\n",
       "    display: flex;\n",
       "  }\n",
       "\n",
       "  #altair-viz-d74d9109989441dd9ef271b428112d39.vega-embed details,\n",
       "  #altair-viz-d74d9109989441dd9ef271b428112d39.vega-embed details summary {\n",
       "    position: relative;\n",
       "  }\n",
       "</style>\n",
       "<div id=\"altair-viz-d74d9109989441dd9ef271b428112d39\"></div>\n",
       "<script type=\"text/javascript\">\n",
       "  var VEGA_DEBUG = (typeof VEGA_DEBUG == \"undefined\") ? {} : VEGA_DEBUG;\n",
       "  (function(spec, embedOpt){\n",
       "    let outputDiv = document.currentScript.previousElementSibling;\n",
       "    if (outputDiv.id !== \"altair-viz-d74d9109989441dd9ef271b428112d39\") {\n",
       "      outputDiv = document.getElementById(\"altair-viz-d74d9109989441dd9ef271b428112d39\");\n",
       "    }\n",
       "    const paths = {\n",
       "      \"vega\": \"https://cdn.jsdelivr.net/npm/vega@5?noext\",\n",
       "      \"vega-lib\": \"https://cdn.jsdelivr.net/npm/vega-lib?noext\",\n",
       "      \"vega-lite\": \"https://cdn.jsdelivr.net/npm/vega-lite@5.20.1?noext\",\n",
       "      \"vega-embed\": \"https://cdn.jsdelivr.net/npm/vega-embed@6?noext\",\n",
       "    };\n",
       "\n",
       "    function maybeLoadScript(lib, version) {\n",
       "      var key = `${lib.replace(\"-\", \"\")}_version`;\n",
       "      return (VEGA_DEBUG[key] == version) ?\n",
       "        Promise.resolve(paths[lib]) :\n",
       "        new Promise(function(resolve, reject) {\n",
       "          var s = document.createElement('script');\n",
       "          document.getElementsByTagName(\"head\")[0].appendChild(s);\n",
       "          s.async = true;\n",
       "          s.onload = () => {\n",
       "            VEGA_DEBUG[key] = version;\n",
       "            return resolve(paths[lib]);\n",
       "          };\n",
       "          s.onerror = () => reject(`Error loading script: ${paths[lib]}`);\n",
       "          s.src = paths[lib];\n",
       "        });\n",
       "    }\n",
       "\n",
       "    function showError(err) {\n",
       "      outputDiv.innerHTML = `<div class=\"error\" style=\"color:red;\">${err}</div>`;\n",
       "      throw err;\n",
       "    }\n",
       "\n",
       "    function displayChart(vegaEmbed) {\n",
       "      vegaEmbed(outputDiv, spec, embedOpt)\n",
       "        .catch(err => showError(`Javascript Error: ${err.message}<br>This usually means there's a typo in your chart specification. See the javascript console for the full traceback.`));\n",
       "    }\n",
       "\n",
       "    if(typeof define === \"function\" && define.amd) {\n",
       "      requirejs.config({paths});\n",
       "      require([\"vega-embed\"], displayChart, err => showError(`Error loading script: ${err.message}`));\n",
       "    } else {\n",
       "      maybeLoadScript(\"vega\", \"5\")\n",
       "        .then(() => maybeLoadScript(\"vega-lite\", \"5.20.1\"))\n",
       "        .then(() => maybeLoadScript(\"vega-embed\", \"6\"))\n",
       "        .catch(showError)\n",
       "        .then(() => displayChart(vegaEmbed));\n",
       "    }\n",
       "  })({\"$schema\": \"https://vega.github.io/schema/vega/v5.json\", \"data\": [{\"name\": \"source_0\", \"values\": [{\"__count_end\": 0.17371601208459214, \"__count_start\": 0.0, \"sex\": \"female\", \"smoker\": \"yes\"}, {\"__count_end\": 1.0, \"__count_start\": 0.23520710059171598, \"sex\": \"male\", \"smoker\": \"no\"}, {\"__count_end\": 1.0, \"__count_start\": 0.17371601208459214, \"sex\": \"female\", \"smoker\": \"no\"}, {\"__count_end\": 0.23520710059171598, \"__count_start\": 0.0, \"sex\": \"male\", \"smoker\": \"yes\"}]}, {\"name\": \"source_0_x_domain_sex\", \"values\": [{\"sex\": \"female\"}, {\"sex\": \"male\"}]}, {\"name\": \"source_0_color_domain_smoker\", \"values\": [{\"smoker\": \"yes\"}, {\"smoker\": \"no\"}]}], \"signals\": [{\"name\": \"x_step\", \"value\": 20}, {\"name\": \"width\", \"update\": \"bandspace(domain('x').length, 0.1, 0.05) * x_step\"}], \"marks\": [{\"type\": \"rect\", \"name\": \"marks\", \"from\": {\"data\": \"source_0\"}, \"encode\": {\"update\": {\"y\": {\"field\": \"__count_end\", \"scale\": \"y\"}, \"y2\": {\"field\": \"__count_start\", \"scale\": \"y\"}, \"x\": {\"field\": \"sex\", \"scale\": \"x\"}, \"width\": {\"signal\": \"max(0.25, bandwidth('x'))\"}, \"fill\": {\"field\": \"smoker\", \"scale\": \"color\"}}}, \"style\": [\"bar\"]}], \"scales\": [{\"name\": \"x\", \"type\": \"band\", \"domain\": {\"data\": \"source_0_x_domain_sex\", \"field\": \"sex\", \"sort\": true}, \"range\": {\"step\": {\"signal\": \"x_step\"}}, \"paddingOuter\": 0.05, \"paddingInner\": 0.1}, {\"name\": \"y\", \"type\": \"linear\", \"domain\": [0, 1], \"range\": [{\"signal\": \"height\"}, 0], \"nice\": true, \"zero\": true}, {\"name\": \"color\", \"type\": \"ordinal\", \"domain\": {\"data\": \"source_0_color_domain_smoker\", \"field\": \"smoker\", \"sort\": true}, \"range\": \"category\"}], \"axes\": [{\"scale\": \"y\", \"gridScale\": \"x\", \"maxExtent\": 0, \"grid\": true, \"minExtent\": 0, \"tickCount\": {\"signal\": \"ceil(height/40)\"}, \"orient\": \"left\", \"ticks\": false, \"domain\": false, \"labels\": false, \"zindex\": 0, \"aria\": false}, {\"scale\": \"x\", \"grid\": false, \"orient\": \"bottom\", \"labelBaseline\": \"middle\", \"labelAlign\": \"right\", \"labelAngle\": 270, \"zindex\": 0, \"title\": \"Gender\"}, {\"scale\": \"y\", \"grid\": false, \"format\": \".0%\", \"zindex\": 0, \"orient\": \"left\", \"labelOverlap\": true, \"tickCount\": {\"signal\": \"ceil(height/40)\"}, \"title\": \"Percentage\"}], \"title\": {\"text\": \"Percentage of Smoker by Gender\", \"frame\": \"group\"}, \"background\": \"white\", \"height\": 300, \"padding\": 5, \"style\": \"cell\", \"legends\": [{\"title\": \"Smoker Status\", \"fill\": \"color\", \"symbolType\": \"square\"}]}, {\"mode\": \"vega\"});\n",
       "</script>"
      ],
      "text/plain": [
       "alt.Chart(...)"
      ]
     },
     "execution_count": 27,
     "metadata": {},
     "output_type": "execute_result"
    }
   ],
   "source": [
    "# ___ = alt.Chart(\n",
    "#     insurance,\n",
    "#     title=___\n",
    "# ).mark_bar().encode(\n",
    "#     x=alt.X(___)\n",
    "#         .title(___),\n",
    "#     y=alt.Y(\"count()\")\n",
    "#         .title(___)\n",
    "#         .stack('normalize'),\n",
    "#     color=alt.Color(___).title(___)\n",
    "# )\n",
    "\n",
    "# your code here\n",
    "bar_plot = alt.Chart(\n",
    "    insurance,  \n",
    "    title=\"Percentage of Smoker by Gender\"  \n",
    ").mark_bar().encode(\n",
    "    x=alt.X('sex', title='Gender'), \n",
    "    y=alt.Y('count()', title='Percentage').stack('normalize'),  \n",
    "    color=alt.Color('smoker', title='Smoker Status') \n",
    ")\n",
    "\n",
    "\n",
    "bar_plot"
   ]
  },
  {
   "cell_type": "code",
   "execution_count": 28,
   "metadata": {
    "deletable": false,
    "editable": false,
    "nbgrader": {
     "cell_type": "code",
     "checksum": "632ad821e0a055a013c66dc92334cf57",
     "grade": true,
     "grade_id": "cell-37fe64d61b7366b4",
     "locked": true,
     "points": 1,
     "schema_version": 3,
     "solution": false
    }
   },
   "outputs": [
    {
     "name": "stdout",
     "output_type": "stream",
     "text": [
      "Success!\n"
     ]
    }
   ],
   "source": [
    "from hashlib import sha1\n",
    "assert sha1(str(type(bar_plot is None)).encode(\"utf-8\")+b\"3557b\").hexdigest() == \"541db44201bb8811fa2a7aa74c60ad0d264bfe29\", \"type of bar_plot is None is not bool. bar_plot is None should be a bool\"\n",
    "assert sha1(str(bar_plot is None).encode(\"utf-8\")+b\"3557b\").hexdigest() == \"b4058927a4281f6f9931dd99d2de6b4a25eeb2fa\", \"boolean value of bar_plot is None is not correct\"\n",
    "\n",
    "assert sha1(str(type(bar_plot.encoding.x['shorthand'])).encode(\"utf-8\")+b\"3557c\").hexdigest() == \"860a4ea4b83906e827dfd927664e9c6d66aa5223\", \"type of bar_plot.encoding.x['shorthand'] is not str. bar_plot.encoding.x['shorthand'] should be an str\"\n",
    "assert sha1(str(len(bar_plot.encoding.x['shorthand'])).encode(\"utf-8\")+b\"3557c\").hexdigest() == \"a531be90ab5a5041830961e839554f0ca0e969a5\", \"length of bar_plot.encoding.x['shorthand'] is not correct\"\n",
    "assert sha1(str(bar_plot.encoding.x['shorthand'].lower()).encode(\"utf-8\")+b\"3557c\").hexdigest() == \"174af161e741636c604e8ca2d86d6eab37d8b941\", \"value of bar_plot.encoding.x['shorthand'] is not correct\"\n",
    "assert sha1(str(bar_plot.encoding.x['shorthand']).encode(\"utf-8\")+b\"3557c\").hexdigest() == \"174af161e741636c604e8ca2d86d6eab37d8b941\", \"correct string value of bar_plot.encoding.x['shorthand'] but incorrect case of letters\"\n",
    "\n",
    "assert sha1(str(type(bar_plot.encoding.y['shorthand'])).encode(\"utf-8\")+b\"3557d\").hexdigest() == \"c297b0c94630ad81f23fd483b4ebbaf02fb63315\", \"type of bar_plot.encoding.y['shorthand'] is not str. bar_plot.encoding.y['shorthand'] should be an str\"\n",
    "assert sha1(str(len(bar_plot.encoding.y['shorthand'])).encode(\"utf-8\")+b\"3557d\").hexdigest() == \"69a8c36209b542a7efd5c6610d54448c5b3cc31f\", \"length of bar_plot.encoding.y['shorthand'] is not correct\"\n",
    "assert sha1(str(bar_plot.encoding.y['shorthand'].lower()).encode(\"utf-8\")+b\"3557d\").hexdigest() == \"66eb23ea94a5c6921be83d0ed9bd406a9931ef10\", \"value of bar_plot.encoding.y['shorthand'] is not correct\"\n",
    "assert sha1(str(bar_plot.encoding.y['shorthand']).encode(\"utf-8\")+b\"3557d\").hexdigest() == \"66eb23ea94a5c6921be83d0ed9bd406a9931ef10\", \"correct string value of bar_plot.encoding.y['shorthand'] but incorrect case of letters\"\n",
    "\n",
    "assert sha1(str(type(bar_plot.encoding.color['shorthand'])).encode(\"utf-8\")+b\"3557e\").hexdigest() == \"10d352347a8302dc9d49c0ba84d4158f77b5ecc7\", \"type of bar_plot.encoding.color['shorthand'] is not str. bar_plot.encoding.color['shorthand'] should be an str\"\n",
    "assert sha1(str(len(bar_plot.encoding.color['shorthand'])).encode(\"utf-8\")+b\"3557e\").hexdigest() == \"302fd0bc1284fa3380e2957a3b7db48035c5167a\", \"length of bar_plot.encoding.color['shorthand'] is not correct\"\n",
    "assert sha1(str(bar_plot.encoding.color['shorthand'].lower()).encode(\"utf-8\")+b\"3557e\").hexdigest() == \"c1ac6ce335226621599f896444cac96a157a8608\", \"value of bar_plot.encoding.color['shorthand'] is not correct\"\n",
    "assert sha1(str(bar_plot.encoding.color['shorthand']).encode(\"utf-8\")+b\"3557e\").hexdigest() == \"c1ac6ce335226621599f896444cac96a157a8608\", \"correct string value of bar_plot.encoding.color['shorthand'] but incorrect case of letters\"\n",
    "\n",
    "assert sha1(str(type(bar_plot.encoding.y['stack'])).encode(\"utf-8\")+b\"3557f\").hexdigest() == \"b4767a6da9bfe81091957e989eb4e26fae7a4547\", \"type of bar_plot.encoding.y['stack'] is not str. bar_plot.encoding.y['stack'] should be an str\"\n",
    "assert sha1(str(len(bar_plot.encoding.y['stack'])).encode(\"utf-8\")+b\"3557f\").hexdigest() == \"c48ba5d795117a9ab8a3545869c89cc2f2134295\", \"length of bar_plot.encoding.y['stack'] is not correct\"\n",
    "assert sha1(str(bar_plot.encoding.y['stack'].lower()).encode(\"utf-8\")+b\"3557f\").hexdigest() == \"5bd1991c21f0f417a233d1f50b39f14774b03ff6\", \"value of bar_plot.encoding.y['stack'] is not correct\"\n",
    "assert sha1(str(bar_plot.encoding.y['stack']).encode(\"utf-8\")+b\"3557f\").hexdigest() == \"5bd1991c21f0f417a233d1f50b39f14774b03ff6\", \"correct string value of bar_plot.encoding.y['stack'] but incorrect case of letters\"\n",
    "\n",
    "assert sha1(str(type(bar_plot.mark)).encode(\"utf-8\")+b\"35580\").hexdigest() == \"d378a0f5e37a2dc87d87ae5dec254dbb09b6edc4\", \"type of bar_plot.mark is not str. bar_plot.mark should be an str\"\n",
    "assert sha1(str(len(bar_plot.mark)).encode(\"utf-8\")+b\"35580\").hexdigest() == \"37ce8e4f389f78734af7e7c089432bc68a916764\", \"length of bar_plot.mark is not correct\"\n",
    "assert sha1(str(bar_plot.mark.lower()).encode(\"utf-8\")+b\"35580\").hexdigest() == \"50c25729064f3a96875d0ffaec391091ef2786b0\", \"value of bar_plot.mark is not correct\"\n",
    "assert sha1(str(bar_plot.mark).encode(\"utf-8\")+b\"35580\").hexdigest() == \"50c25729064f3a96875d0ffaec391091ef2786b0\", \"correct string value of bar_plot.mark but incorrect case of letters\"\n",
    "\n",
    "assert sha1(str(type(isinstance(bar_plot.encoding.x['title'], str))).encode(\"utf-8\")+b\"35581\").hexdigest() == \"a89256fdb5ad5afc4c82d29996c49e1498fe07b1\", \"type of isinstance(bar_plot.encoding.x['title'], str) is not bool. isinstance(bar_plot.encoding.x['title'], str) should be a bool\"\n",
    "assert sha1(str(isinstance(bar_plot.encoding.x['title'], str)).encode(\"utf-8\")+b\"35581\").hexdigest() == \"669e84d4caa3f690df4c5a2c7473af6edc52cec0\", \"boolean value of isinstance(bar_plot.encoding.x['title'], str) is not correct\"\n",
    "\n",
    "assert sha1(str(type(isinstance(bar_plot.encoding.y['title'], str))).encode(\"utf-8\")+b\"35582\").hexdigest() == \"cab5bb99158a504e68be04da4d5ef8cf119b3608\", \"type of isinstance(bar_plot.encoding.y['title'], str) is not bool. isinstance(bar_plot.encoding.y['title'], str) should be a bool\"\n",
    "assert sha1(str(isinstance(bar_plot.encoding.y['title'], str)).encode(\"utf-8\")+b\"35582\").hexdigest() == \"ae8208c581f15219a0fd4f073290c3acb878f2bb\", \"boolean value of isinstance(bar_plot.encoding.y['title'], str) is not correct\"\n",
    "\n",
    "assert sha1(str(type(isinstance(bar_plot.encoding.color['title'], str))).encode(\"utf-8\")+b\"35583\").hexdigest() == \"10dfcca0e1b03f139dd45ebab8c22eef40f4b60a\", \"type of isinstance(bar_plot.encoding.color['title'], str) is not bool. isinstance(bar_plot.encoding.color['title'], str) should be a bool\"\n",
    "assert sha1(str(isinstance(bar_plot.encoding.color['title'], str)).encode(\"utf-8\")+b\"35583\").hexdigest() == \"0a3db160ba5ee9e844ce4bdd041a53f98083118b\", \"boolean value of isinstance(bar_plot.encoding.color['title'], str) is not correct\"\n",
    "\n",
    "print('Success!')"
   ]
  },
  {
   "cell_type": "markdown",
   "metadata": {
    "deletable": false,
    "editable": false,
    "nbgrader": {
     "cell_type": "markdown",
     "checksum": "9398bd3b0d68cf2679dfe3788643fb7a",
     "grade": false,
     "grade_id": "cell-426d75901920cc91",
     "locked": true,
     "schema_version": 3,
     "solution": false
    }
   },
   "source": [
    "**Question 1.11**\n",
    "<br> {points: 1}\n",
    "\n",
    "Based on the graph, is the percentage of smokers higher amongst men or women?\n",
    "\n",
    "*Assign your answer to an object called `answer1_11`. Make sure your answer is in lowercase and is surrounded by quotation marks (e.g. `\"male\"` or `\"female\"`).*"
   ]
  },
  {
   "cell_type": "code",
   "execution_count": 29,
   "metadata": {
    "deletable": false,
    "nbgrader": {
     "cell_type": "code",
     "checksum": "bc74f0ac96dc35273b5125c40172bc84",
     "grade": false,
     "grade_id": "cell-123d8e2e2b0e9555",
     "locked": false,
     "schema_version": 3,
     "solution": true
    }
   },
   "outputs": [],
   "source": [
    "# your code here\n",
    "answer1_11=\"male\""
   ]
  },
  {
   "cell_type": "code",
   "execution_count": 30,
   "metadata": {
    "deletable": false,
    "editable": false,
    "nbgrader": {
     "cell_type": "code",
     "checksum": "c9e0b9a0933555c31247a4a421237b59",
     "grade": true,
     "grade_id": "cell-204b484044f109f1",
     "locked": true,
     "points": 1,
     "schema_version": 3,
     "solution": false
    }
   },
   "outputs": [
    {
     "name": "stdout",
     "output_type": "stream",
     "text": [
      "Success!\n"
     ]
    }
   ],
   "source": [
    "from hashlib import sha1\n",
    "assert sha1(str(type(answer1_11)).encode(\"utf-8\")+b\"db30f\").hexdigest() == \"4253dbcf0b8a6c2e4856718e1c92fc9f0adc5c65\", \"type of answer1_11 is not str. answer1_11 should be an str\"\n",
    "assert sha1(str(len(answer1_11)).encode(\"utf-8\")+b\"db30f\").hexdigest() == \"1ee7f645315ff7e68a32c929cb43b2a4359015d5\", \"length of answer1_11 is not correct\"\n",
    "assert sha1(str(answer1_11.lower()).encode(\"utf-8\")+b\"db30f\").hexdigest() == \"13a93a5ed8eff6ef6bea42dad3f8b6da2940c917\", \"value of answer1_11 is not correct\"\n",
    "assert sha1(str(answer1_11).encode(\"utf-8\")+b\"db30f\").hexdigest() == \"13a93a5ed8eff6ef6bea42dad3f8b6da2940c917\", \"correct string value of answer1_11 but incorrect case of letters\"\n",
    "\n",
    "print('Success!')"
   ]
  },
  {
   "cell_type": "markdown",
   "metadata": {
    "deletable": false,
    "editable": false,
    "nbgrader": {
     "cell_type": "markdown",
     "checksum": "44ac69cf0dcf72d0229d1061e645261f",
     "grade": false,
     "grade_id": "cell-841e1fd7134bfd1c",
     "locked": true,
     "schema_version": 3,
     "solution": false
    }
   },
   "source": [
    "## 2. Color Schemes (beyond the defaults)\n",
    "{points: 1}\n",
    "\n",
    "In the worksheet and this tutorial, you have seen the same colours again and again. These are from the default `altair` color scheme, which is an effective choice in most cases. But what if you want different colors? There are other color palettes available in Altair and you can change the color scheme by specifying its name as a string inside `scale(scheme='...')`. \n",
    "\n",
    "The documentation lists [all the available color schemes](https://vega.github.io/vega/docs/schemes/) and describes what type of data each color scheme is useful for (categorical, sequential, diverging, cyclic). The default categorical colormap used in Altair is \"Tableau10\", which consists of 10 colors and starts with blue, orange, and red. You can also [create your own color scheme](https://altair-viz.github.io/user_guide/customization.html#color-domain-and-range) by supplying the names of the individual colors you want to use (there is [a lot of color names to choose from](https://stackoverflow.com/questions/22408237/named-colors-in-matplotlib/37232760#37232760)).\n",
    "\n",
    "Use the chart you created in Q1.10 and change the color scheme to your favourite from the documentation page linked above. Remember that instead of recreating the entire chart from scratch, you can use the `bar_plot` variable you already created and re-encode only the color channel using the same variable `smoker`, but a different color scheme (it is also fine if you prefer to copy all the code). Optionally, you can also use this [color blindness simulator](https://www.color-blindness.com/coblis-color-blindness-simulator/) to check if your visualization is color blind friendly.\n",
    "\n",
    "*Assign your answer to an object called `bar_plot_colorscheme`.*"
   ]
  },
  {
   "cell_type": "code",
   "execution_count": 32,
   "metadata": {
    "deletable": false,
    "nbgrader": {
     "cell_type": "code",
     "checksum": "b63b4d8d5e46567735e03e9a524ab5e7",
     "grade": false,
     "grade_id": "cell-54bd5139136b22a6",
     "locked": false,
     "schema_version": 3,
     "solution": true,
     "task": false
    }
   },
   "outputs": [
    {
     "data": {
      "text/html": [
       "\n",
       "<style>\n",
       "  #altair-viz-0631924d990e465e98a6ec4523c1a0cc.vega-embed {\n",
       "    width: 100%;\n",
       "    display: flex;\n",
       "  }\n",
       "\n",
       "  #altair-viz-0631924d990e465e98a6ec4523c1a0cc.vega-embed details,\n",
       "  #altair-viz-0631924d990e465e98a6ec4523c1a0cc.vega-embed details summary {\n",
       "    position: relative;\n",
       "  }\n",
       "</style>\n",
       "<div id=\"altair-viz-0631924d990e465e98a6ec4523c1a0cc\"></div>\n",
       "<script type=\"text/javascript\">\n",
       "  var VEGA_DEBUG = (typeof VEGA_DEBUG == \"undefined\") ? {} : VEGA_DEBUG;\n",
       "  (function(spec, embedOpt){\n",
       "    let outputDiv = document.currentScript.previousElementSibling;\n",
       "    if (outputDiv.id !== \"altair-viz-0631924d990e465e98a6ec4523c1a0cc\") {\n",
       "      outputDiv = document.getElementById(\"altair-viz-0631924d990e465e98a6ec4523c1a0cc\");\n",
       "    }\n",
       "    const paths = {\n",
       "      \"vega\": \"https://cdn.jsdelivr.net/npm/vega@5?noext\",\n",
       "      \"vega-lib\": \"https://cdn.jsdelivr.net/npm/vega-lib?noext\",\n",
       "      \"vega-lite\": \"https://cdn.jsdelivr.net/npm/vega-lite@5.20.1?noext\",\n",
       "      \"vega-embed\": \"https://cdn.jsdelivr.net/npm/vega-embed@6?noext\",\n",
       "    };\n",
       "\n",
       "    function maybeLoadScript(lib, version) {\n",
       "      var key = `${lib.replace(\"-\", \"\")}_version`;\n",
       "      return (VEGA_DEBUG[key] == version) ?\n",
       "        Promise.resolve(paths[lib]) :\n",
       "        new Promise(function(resolve, reject) {\n",
       "          var s = document.createElement('script');\n",
       "          document.getElementsByTagName(\"head\")[0].appendChild(s);\n",
       "          s.async = true;\n",
       "          s.onload = () => {\n",
       "            VEGA_DEBUG[key] = version;\n",
       "            return resolve(paths[lib]);\n",
       "          };\n",
       "          s.onerror = () => reject(`Error loading script: ${paths[lib]}`);\n",
       "          s.src = paths[lib];\n",
       "        });\n",
       "    }\n",
       "\n",
       "    function showError(err) {\n",
       "      outputDiv.innerHTML = `<div class=\"error\" style=\"color:red;\">${err}</div>`;\n",
       "      throw err;\n",
       "    }\n",
       "\n",
       "    function displayChart(vegaEmbed) {\n",
       "      vegaEmbed(outputDiv, spec, embedOpt)\n",
       "        .catch(err => showError(`Javascript Error: ${err.message}<br>This usually means there's a typo in your chart specification. See the javascript console for the full traceback.`));\n",
       "    }\n",
       "\n",
       "    if(typeof define === \"function\" && define.amd) {\n",
       "      requirejs.config({paths});\n",
       "      require([\"vega-embed\"], displayChart, err => showError(`Error loading script: ${err.message}`));\n",
       "    } else {\n",
       "      maybeLoadScript(\"vega\", \"5\")\n",
       "        .then(() => maybeLoadScript(\"vega-lite\", \"5.20.1\"))\n",
       "        .then(() => maybeLoadScript(\"vega-embed\", \"6\"))\n",
       "        .catch(showError)\n",
       "        .then(() => displayChart(vegaEmbed));\n",
       "    }\n",
       "  })({\"$schema\": \"https://vega.github.io/schema/vega/v5.json\", \"data\": [{\"name\": \"source_0\", \"values\": [{\"__count_end\": 0.17371601208459214, \"__count_start\": 0.0, \"sex\": \"female\", \"smoker\": \"yes\"}, {\"__count_end\": 1.0, \"__count_start\": 0.23520710059171598, \"sex\": \"male\", \"smoker\": \"no\"}, {\"__count_end\": 1.0, \"__count_start\": 0.17371601208459214, \"sex\": \"female\", \"smoker\": \"no\"}, {\"__count_end\": 0.23520710059171598, \"__count_start\": 0.0, \"sex\": \"male\", \"smoker\": \"yes\"}]}, {\"name\": \"source_0_x_domain_sex\", \"values\": [{\"sex\": \"female\"}, {\"sex\": \"male\"}]}, {\"name\": \"source_0_color_domain_smoker\", \"values\": [{\"smoker\": \"yes\"}, {\"smoker\": \"no\"}]}], \"signals\": [{\"name\": \"x_step\", \"value\": 20}, {\"name\": \"width\", \"update\": \"bandspace(domain('x').length, 0.1, 0.05) * x_step\"}], \"marks\": [{\"type\": \"rect\", \"name\": \"marks\", \"from\": {\"data\": \"source_0\"}, \"encode\": {\"update\": {\"y2\": {\"field\": \"__count_start\", \"scale\": \"y\"}, \"x\": {\"field\": \"sex\", \"scale\": \"x\"}, \"fill\": {\"field\": \"smoker\", \"scale\": \"color\"}, \"y\": {\"field\": \"__count_end\", \"scale\": \"y\"}, \"width\": {\"signal\": \"max(0.25, bandwidth('x'))\"}}}, \"style\": [\"bar\"]}], \"scales\": [{\"name\": \"x\", \"type\": \"band\", \"domain\": {\"data\": \"source_0_x_domain_sex\", \"field\": \"sex\", \"sort\": true}, \"range\": {\"step\": {\"signal\": \"x_step\"}}, \"paddingInner\": 0.1, \"paddingOuter\": 0.05}, {\"name\": \"y\", \"type\": \"linear\", \"domain\": [0, 1], \"range\": [{\"signal\": \"height\"}, 0], \"zero\": true, \"nice\": true}, {\"name\": \"color\", \"type\": \"ordinal\", \"domain\": {\"data\": \"source_0_color_domain_smoker\", \"field\": \"smoker\", \"sort\": true}, \"range\": {\"scheme\": \"set3\"}}], \"axes\": [{\"scale\": \"y\", \"gridScale\": \"x\", \"ticks\": false, \"domain\": false, \"minExtent\": 0, \"tickCount\": {\"signal\": \"ceil(height/40)\"}, \"zindex\": 0, \"orient\": \"left\", \"aria\": false, \"maxExtent\": 0, \"grid\": true, \"labels\": false}, {\"scale\": \"x\", \"title\": \"Gender\", \"labelBaseline\": \"middle\", \"orient\": \"bottom\", \"grid\": false, \"labelAlign\": \"right\", \"labelAngle\": 270, \"zindex\": 0}, {\"scale\": \"y\", \"zindex\": 0, \"grid\": false, \"title\": \"Percentage\", \"format\": \".0%\", \"labelOverlap\": true, \"orient\": \"left\", \"tickCount\": {\"signal\": \"ceil(height/40)\"}}], \"title\": {\"text\": \"Percentage of Smoker by Gender\", \"frame\": \"group\"}, \"style\": \"cell\", \"padding\": 5, \"legends\": [{\"title\": \"Smoker Status\", \"fill\": \"color\", \"symbolType\": \"square\"}], \"background\": \"white\", \"height\": 300}, {\"mode\": \"vega\"});\n",
       "</script>"
      ],
      "text/plain": [
       "alt.Chart(...)"
      ]
     },
     "execution_count": 32,
     "metadata": {},
     "output_type": "execute_result"
    }
   ],
   "source": [
    "# bar_plot_colorscheme = bar_plot.encode(\n",
    "#     ___=alt.Color(___)\n",
    "#         .___(___=___)\n",
    "#         .___(___)\n",
    "# )\n",
    "\n",
    "# your code here\n",
    "\n",
    "bar_plot_colorscheme = bar_plot.encode(\n",
    "    color=alt.Color(\n",
    "        'smoker',  \n",
    "        scale=alt.Scale(scheme='set3'),  \n",
    "        title='Smoker Status' \n",
    "    )\n",
    ")\n",
    "\n",
    "bar_plot_colorscheme\n"
   ]
  },
  {
   "cell_type": "code",
   "execution_count": 33,
   "metadata": {
    "deletable": false,
    "editable": false,
    "nbgrader": {
     "cell_type": "code",
     "checksum": "56eec6ac529bc6769ad4968350246b68",
     "grade": true,
     "grade_id": "cell-f3beeed5587546b5",
     "locked": true,
     "points": 1,
     "schema_version": 3,
     "solution": false,
     "task": false
    }
   },
   "outputs": [
    {
     "name": "stdout",
     "output_type": "stream",
     "text": [
      "Success!\n"
     ]
    }
   ],
   "source": [
    "from hashlib import sha1\n",
    "assert sha1(str(type(bar_plot_colorscheme is None)).encode(\"utf-8\")+b\"1e368\").hexdigest() == \"4c81312d5578e0635dab347e60912e32f3db1c24\", \"type of bar_plot_colorscheme is None is not bool. bar_plot_colorscheme is None should be a bool\"\n",
    "assert sha1(str(bar_plot_colorscheme is None).encode(\"utf-8\")+b\"1e368\").hexdigest() == \"e504b451562234b791acab34bcf5a681ea3ffd27\", \"boolean value of bar_plot_colorscheme is None is not correct\"\n",
    "\n",
    "assert sha1(str(type(bar_plot.encoding.color['shorthand'])).encode(\"utf-8\")+b\"1e369\").hexdigest() == \"b942f73655e3a64ab72eb825ec839ae572b809ce\", \"type of bar_plot.encoding.color['shorthand'] is not str. bar_plot.encoding.color['shorthand'] should be an str\"\n",
    "assert sha1(str(len(bar_plot.encoding.color['shorthand'])).encode(\"utf-8\")+b\"1e369\").hexdigest() == \"d656e3e7116d74847c779cad82de4598c956ee1a\", \"length of bar_plot.encoding.color['shorthand'] is not correct\"\n",
    "assert sha1(str(bar_plot.encoding.color['shorthand'].lower()).encode(\"utf-8\")+b\"1e369\").hexdigest() == \"6f6f987047b281444ce5ce2847b82310fd2586cb\", \"value of bar_plot.encoding.color['shorthand'] is not correct\"\n",
    "assert sha1(str(bar_plot.encoding.color['shorthand']).encode(\"utf-8\")+b\"1e369\").hexdigest() == \"6f6f987047b281444ce5ce2847b82310fd2586cb\", \"correct string value of bar_plot.encoding.color['shorthand'] but incorrect case of letters\"\n",
    "\n",
    "assert sha1(str(type(isinstance(bar_plot_colorscheme.encoding.color['scale']['scheme'], str))).encode(\"utf-8\")+b\"1e36a\").hexdigest() == \"e8e1e44b3e7e6391507e51d8c18b3ec33ab47eaa\", \"type of isinstance(bar_plot_colorscheme.encoding.color['scale']['scheme'], str) is not bool. isinstance(bar_plot_colorscheme.encoding.color['scale']['scheme'], str) should be a bool\"\n",
    "assert sha1(str(isinstance(bar_plot_colorscheme.encoding.color['scale']['scheme'], str)).encode(\"utf-8\")+b\"1e36a\").hexdigest() == \"0e2b36052678af9c24b4ff9a0f1c1f3e1ad500c5\", \"boolean value of isinstance(bar_plot_colorscheme.encoding.color['scale']['scheme'], str) is not correct\"\n",
    "\n",
    "assert sha1(str(type(isinstance(bar_plot.encoding.color['title'], str))).encode(\"utf-8\")+b\"1e36b\").hexdigest() == \"dde6f4be83013bb75e8d10a9ae819c8452e8107a\", \"type of isinstance(bar_plot.encoding.color['title'], str) is not bool. isinstance(bar_plot.encoding.color['title'], str) should be a bool\"\n",
    "assert sha1(str(isinstance(bar_plot.encoding.color['title'], str)).encode(\"utf-8\")+b\"1e36b\").hexdigest() == \"3ba949bbe46dcacbe99eed43d880e4176fc23e0f\", \"boolean value of isinstance(bar_plot.encoding.color['title'], str) is not correct\"\n",
    "\n",
    "print('Success!')"
   ]
  },
  {
   "cell_type": "markdown",
   "metadata": {
    "deletable": false,
    "editable": false,
    "nbgrader": {
     "cell_type": "markdown",
     "checksum": "bac1b5ab3d4399a4551ac75e67882acb",
     "grade": false,
     "grade_id": "cell-e9106361d22cb189",
     "locked": true,
     "schema_version": 3,
     "solution": false
    }
   },
   "source": [
    "## 3. Fast-Food Chains in the United States (Continued)\n",
    "<br> {points: 3}\n",
    "\n",
    "In `worksheet_viz`, we explored this data set together through some visualizations. Now, it is is all up to you. The goal of this assignment is to create **one** plot that can help you figure out which restaurant to open and where! Your goal is the same as in the worksheet: to figure out which fast food chain to open and figure out which state would be the least competitive.\n",
    "\n",
    "After creating your visualization you need to write a paragraph explaining your visualization and why you chose it. Also, explain your conclusion from the visualization and reasoning as to how you came to that conclusion. You can use properly-cited outside information here to help support your reasoning (but **do not** download and analyze any data from an outside source in this notebook -- our autograder will not be able to see it). Finally, if there is some way that you could improve your visualization, but don't yet know how to do it, please explain what you would do if you knew how.\n",
    "\n",
    "In answering this question, there is no need to restrict yourself to the west coast of the USA. Consider all states that you have data for. You have a variety of graphs to choose from, but before starting the assignment, discuss with a partner which plot would be the most optimal to answer this question.\n",
    "\n",
    "*Note that some restaurant names are spelled incorrectly in data. For the purpose of this exercise you can ignore this and only count the spelling with the most entries for each restaurant.*\n",
    "\n",
    "<img src=\"mcdonalds.jpg\" width = \"600\"/>"
   ]
  },
  {
   "cell_type": "code",
   "execution_count": 39,
   "metadata": {
    "deletable": false,
    "nbgrader": {
     "cell_type": "code",
     "checksum": "9eadc7efa36e627b2f26bda8b2f6a0b9",
     "grade": true,
     "grade_id": "cell-86b3015872de2602",
     "locked": false,
     "points": 3,
     "schema_version": 3,
     "solution": true,
     "task": false
    }
   },
   "outputs": [
    {
     "ename": "ValueError",
     "evalue": "DataFusion error: Schema error: No field named count. Valid fields are _vf_order, name, st.\n    Context[0]: Failed to infer datatype of expression: Column(Column { relation: None, name: \"count\" })\nschema: DFSchema { fields: [DFField { qualifier: None, field: Field { name: \"_vf_order\", data_type: UInt64, nullable: true, dict_id: 0, dict_is_ordered: false, metadata: {} } }, DFField { qualifier: None, field: Field { name: \"name\", data_type: Utf8, nullable: true, dict_id: 0, dict_is_ordered: false, metadata: {} } }, DFField { qualifier: None, field: Field { name: \"st\", data_type: Utf8, nullable: true, dict_id: 0, dict_is_ordered: false, metadata: {} } }], metadata: {}, functional_dependencies: FunctionalDependencies { deps: [] } }\n    Context[1]: Failed to get node value\n",
     "output_type": "error",
     "traceback": [
      "\u001b[0;31m---------------------------------------------------------------------------\u001b[0m",
      "\u001b[0;31mValueError\u001b[0m                                Traceback (most recent call last)",
      "File \u001b[0;32m/Library/Frameworks/Python.framework/Versions/3.11/lib/python3.11/site-packages/IPython/core/formatters.py:974\u001b[0m, in \u001b[0;36mMimeBundleFormatter.__call__\u001b[0;34m(self, obj, include, exclude)\u001b[0m\n\u001b[1;32m    971\u001b[0m     method \u001b[38;5;241m=\u001b[39m get_real_method(obj, \u001b[38;5;28mself\u001b[39m\u001b[38;5;241m.\u001b[39mprint_method)\n\u001b[1;32m    973\u001b[0m     \u001b[38;5;28;01mif\u001b[39;00m method \u001b[38;5;129;01mis\u001b[39;00m \u001b[38;5;129;01mnot\u001b[39;00m \u001b[38;5;28;01mNone\u001b[39;00m:\n\u001b[0;32m--> 974\u001b[0m         \u001b[38;5;28;01mreturn\u001b[39;00m \u001b[43mmethod\u001b[49m\u001b[43m(\u001b[49m\u001b[43minclude\u001b[49m\u001b[38;5;241;43m=\u001b[39;49m\u001b[43minclude\u001b[49m\u001b[43m,\u001b[49m\u001b[43m \u001b[49m\u001b[43mexclude\u001b[49m\u001b[38;5;241;43m=\u001b[39;49m\u001b[43mexclude\u001b[49m\u001b[43m)\u001b[49m\n\u001b[1;32m    975\u001b[0m     \u001b[38;5;28;01mreturn\u001b[39;00m \u001b[38;5;28;01mNone\u001b[39;00m\n\u001b[1;32m    976\u001b[0m \u001b[38;5;28;01melse\u001b[39;00m:\n",
      "File \u001b[0;32m/Library/Frameworks/Python.framework/Versions/3.11/lib/python3.11/site-packages/altair/vegalite/v5/api.py:3417\u001b[0m, in \u001b[0;36mTopLevelMixin._repr_mimebundle_\u001b[0;34m(self, *args, **kwds)\u001b[0m\n\u001b[1;32m   3415\u001b[0m \u001b[38;5;28;01melse\u001b[39;00m:\n\u001b[1;32m   3416\u001b[0m     \u001b[38;5;28;01mif\u001b[39;00m renderer \u001b[38;5;241m:=\u001b[39m renderers\u001b[38;5;241m.\u001b[39mget():\n\u001b[0;32m-> 3417\u001b[0m         \u001b[38;5;28;01mreturn\u001b[39;00m \u001b[43mrenderer\u001b[49m\u001b[43m(\u001b[49m\u001b[43mdct\u001b[49m\u001b[43m)\u001b[49m\n",
      "File \u001b[0;32m/Library/Frameworks/Python.framework/Versions/3.11/lib/python3.11/site-packages/altair/utils/display.py:225\u001b[0m, in \u001b[0;36mHTMLRenderer.__call__\u001b[0;34m(self, spec, **metadata)\u001b[0m\n\u001b[1;32m    223\u001b[0m kwargs \u001b[38;5;241m=\u001b[39m \u001b[38;5;28mself\u001b[39m\u001b[38;5;241m.\u001b[39mkwargs\u001b[38;5;241m.\u001b[39mcopy()\n\u001b[1;32m    224\u001b[0m kwargs\u001b[38;5;241m.\u001b[39mupdate(\u001b[38;5;241m*\u001b[39m\u001b[38;5;241m*\u001b[39mmetadata, output_div\u001b[38;5;241m=\u001b[39m\u001b[38;5;28mself\u001b[39m\u001b[38;5;241m.\u001b[39moutput_div)\n\u001b[0;32m--> 225\u001b[0m \u001b[38;5;28;01mreturn\u001b[39;00m \u001b[43mspec_to_mimebundle\u001b[49m\u001b[43m(\u001b[49m\u001b[43mspec\u001b[49m\u001b[43m,\u001b[49m\u001b[43m \u001b[49m\u001b[38;5;28;43mformat\u001b[39;49m\u001b[38;5;241;43m=\u001b[39;49m\u001b[38;5;124;43m\"\u001b[39;49m\u001b[38;5;124;43mhtml\u001b[39;49m\u001b[38;5;124;43m\"\u001b[39;49m\u001b[43m,\u001b[49m\u001b[43m \u001b[49m\u001b[38;5;241;43m*\u001b[39;49m\u001b[38;5;241;43m*\u001b[39;49m\u001b[43mkwargs\u001b[49m\u001b[43m)\u001b[49m\n",
      "File \u001b[0;32m/Library/Frameworks/Python.framework/Versions/3.11/lib/python3.11/site-packages/altair/utils/mimebundle.py:122\u001b[0m, in \u001b[0;36mspec_to_mimebundle\u001b[0;34m(spec, format, mode, vega_version, vegaembed_version, vegalite_version, embed_options, engine, **kwargs)\u001b[0m\n\u001b[1;32m    120\u001b[0m internal_mode: Literal[\u001b[38;5;124m\"\u001b[39m\u001b[38;5;124mvega-lite\u001b[39m\u001b[38;5;124m\"\u001b[39m, \u001b[38;5;124m\"\u001b[39m\u001b[38;5;124mvega\u001b[39m\u001b[38;5;124m\"\u001b[39m] \u001b[38;5;241m=\u001b[39m mode\n\u001b[1;32m    121\u001b[0m \u001b[38;5;28;01mif\u001b[39;00m using_vegafusion():\n\u001b[0;32m--> 122\u001b[0m     spec \u001b[38;5;241m=\u001b[39m \u001b[43mcompile_with_vegafusion\u001b[49m\u001b[43m(\u001b[49m\u001b[43mspec\u001b[49m\u001b[43m)\u001b[49m\n\u001b[1;32m    123\u001b[0m     internal_mode \u001b[38;5;241m=\u001b[39m \u001b[38;5;124m\"\u001b[39m\u001b[38;5;124mvega\u001b[39m\u001b[38;5;124m\"\u001b[39m\n\u001b[1;32m    125\u001b[0m \u001b[38;5;66;03m# Default to the embed options set by alt.renderers.set_embed_options\u001b[39;00m\n",
      "File \u001b[0;32m/Library/Frameworks/Python.framework/Versions/3.11/lib/python3.11/site-packages/altair/utils/_vegafusion_data.py:250\u001b[0m, in \u001b[0;36mcompile_with_vegafusion\u001b[0;34m(vegalite_spec)\u001b[0m\n\u001b[1;32m    248\u001b[0m \u001b[38;5;66;03m# Pre-evaluate transforms in vega spec with vegafusion\u001b[39;00m\n\u001b[1;32m    249\u001b[0m row_limit \u001b[38;5;241m=\u001b[39m data_transformers\u001b[38;5;241m.\u001b[39moptions\u001b[38;5;241m.\u001b[39mget(\u001b[38;5;124m\"\u001b[39m\u001b[38;5;124mmax_rows\u001b[39m\u001b[38;5;124m\"\u001b[39m, \u001b[38;5;28;01mNone\u001b[39;00m)\n\u001b[0;32m--> 250\u001b[0m transformed_vega_spec, warnings \u001b[38;5;241m=\u001b[39m \u001b[43mvf\u001b[49m\u001b[38;5;241;43m.\u001b[39;49m\u001b[43mruntime\u001b[49m\u001b[38;5;241;43m.\u001b[39;49m\u001b[43mpre_transform_spec\u001b[49m\u001b[43m(\u001b[49m\n\u001b[1;32m    251\u001b[0m \u001b[43m    \u001b[49m\u001b[43mvega_spec\u001b[49m\u001b[43m,\u001b[49m\n\u001b[1;32m    252\u001b[0m \u001b[43m    \u001b[49m\u001b[43mvf\u001b[49m\u001b[38;5;241;43m.\u001b[39;49m\u001b[43mget_local_tz\u001b[49m\u001b[43m(\u001b[49m\u001b[43m)\u001b[49m\u001b[43m,\u001b[49m\n\u001b[1;32m    253\u001b[0m \u001b[43m    \u001b[49m\u001b[43minline_datasets\u001b[49m\u001b[38;5;241;43m=\u001b[39;49m\u001b[43minline_tables\u001b[49m\u001b[43m,\u001b[49m\n\u001b[1;32m    254\u001b[0m \u001b[43m    \u001b[49m\u001b[43mrow_limit\u001b[49m\u001b[38;5;241;43m=\u001b[39;49m\u001b[43mrow_limit\u001b[49m\u001b[43m,\u001b[49m\n\u001b[1;32m    255\u001b[0m \u001b[43m\u001b[49m\u001b[43m)\u001b[49m\n\u001b[1;32m    257\u001b[0m \u001b[38;5;66;03m# Check from row limit warning and convert to MaxRowsError\u001b[39;00m\n\u001b[1;32m    258\u001b[0m handle_row_limit_exceeded(row_limit, warnings)\n",
      "File \u001b[0;32m~/Library/Python/3.11/lib/python/site-packages/vegafusion/runtime.py:371\u001b[0m, in \u001b[0;36mVegaFusionRuntime.pre_transform_spec\u001b[0;34m(self, spec, local_tz, default_input_tz, row_limit, preserve_interactivity, inline_datasets, keep_signals, keep_datasets, data_encoding_threshold, data_encoding_format)\u001b[0m\n\u001b[1;32m    369\u001b[0m \u001b[38;5;28;01mtry\u001b[39;00m:\n\u001b[1;32m    370\u001b[0m     \u001b[38;5;28;01mif\u001b[39;00m data_encoding_threshold \u001b[38;5;129;01mis\u001b[39;00m \u001b[38;5;28;01mNone\u001b[39;00m:\n\u001b[0;32m--> 371\u001b[0m         new_spec, warnings \u001b[38;5;241m=\u001b[39m \u001b[38;5;28;43mself\u001b[39;49m\u001b[38;5;241;43m.\u001b[39;49m\u001b[43membedded_runtime\u001b[49m\u001b[38;5;241;43m.\u001b[39;49m\u001b[43mpre_transform_spec\u001b[49m\u001b[43m(\u001b[49m\n\u001b[1;32m    372\u001b[0m \u001b[43m            \u001b[49m\u001b[43mspec\u001b[49m\u001b[43m,\u001b[49m\n\u001b[1;32m    373\u001b[0m \u001b[43m            \u001b[49m\u001b[43mlocal_tz\u001b[49m\u001b[38;5;241;43m=\u001b[39;49m\u001b[43mlocal_tz\u001b[49m\u001b[43m,\u001b[49m\n\u001b[1;32m    374\u001b[0m \u001b[43m            \u001b[49m\u001b[43mdefault_input_tz\u001b[49m\u001b[38;5;241;43m=\u001b[39;49m\u001b[43mdefault_input_tz\u001b[49m\u001b[43m,\u001b[49m\n\u001b[1;32m    375\u001b[0m \u001b[43m            \u001b[49m\u001b[43mrow_limit\u001b[49m\u001b[38;5;241;43m=\u001b[39;49m\u001b[43mrow_limit\u001b[49m\u001b[43m,\u001b[49m\n\u001b[1;32m    376\u001b[0m \u001b[43m            \u001b[49m\u001b[43mpreserve_interactivity\u001b[49m\u001b[38;5;241;43m=\u001b[39;49m\u001b[43mpreserve_interactivity\u001b[49m\u001b[43m,\u001b[49m\n\u001b[1;32m    377\u001b[0m \u001b[43m            \u001b[49m\u001b[43minline_datasets\u001b[49m\u001b[38;5;241;43m=\u001b[39;49m\u001b[43mimported_inline_dataset\u001b[49m\u001b[43m,\u001b[49m\n\u001b[1;32m    378\u001b[0m \u001b[43m            \u001b[49m\u001b[43mkeep_signals\u001b[49m\u001b[38;5;241;43m=\u001b[39;49m\u001b[43mkeep_signals\u001b[49m\u001b[43m,\u001b[49m\n\u001b[1;32m    379\u001b[0m \u001b[43m            \u001b[49m\u001b[43mkeep_datasets\u001b[49m\u001b[38;5;241;43m=\u001b[39;49m\u001b[43mkeep_datasets\u001b[49m\u001b[43m,\u001b[49m\n\u001b[1;32m    380\u001b[0m \u001b[43m        \u001b[49m\u001b[43m)\u001b[49m\n\u001b[1;32m    381\u001b[0m     \u001b[38;5;28;01melse\u001b[39;00m:\n\u001b[1;32m    382\u001b[0m         \u001b[38;5;66;03m# Use pre_transform_extract to extract large datasets\u001b[39;00m\n\u001b[1;32m    383\u001b[0m         new_spec, datasets, warnings \u001b[38;5;241m=\u001b[39m \u001b[38;5;28mself\u001b[39m\u001b[38;5;241m.\u001b[39membedded_runtime\u001b[38;5;241m.\u001b[39mpre_transform_extract(\n\u001b[1;32m    384\u001b[0m             spec,\n\u001b[1;32m    385\u001b[0m             local_tz\u001b[38;5;241m=\u001b[39mlocal_tz,\n\u001b[0;32m   (...)\u001b[0m\n\u001b[1;32m    392\u001b[0m             keep_datasets\u001b[38;5;241m=\u001b[39mkeep_datasets,\n\u001b[1;32m    393\u001b[0m         )\n",
      "\u001b[0;31mValueError\u001b[0m: DataFusion error: Schema error: No field named count. Valid fields are _vf_order, name, st.\n    Context[0]: Failed to infer datatype of expression: Column(Column { relation: None, name: \"count\" })\nschema: DFSchema { fields: [DFField { qualifier: None, field: Field { name: \"_vf_order\", data_type: UInt64, nullable: true, dict_id: 0, dict_is_ordered: false, metadata: {} } }, DFField { qualifier: None, field: Field { name: \"name\", data_type: Utf8, nullable: true, dict_id: 0, dict_is_ordered: false, metadata: {} } }, DFField { qualifier: None, field: Field { name: \"st\", data_type: Utf8, nullable: true, dict_id: 0, dict_is_ordered: false, metadata: {} } }], metadata: {}, functional_dependencies: FunctionalDependencies { deps: [] } }\n    Context[1]: Failed to get node value\n"
     ]
    },
    {
     "data": {
      "text/plain": [
       "alt.Chart(...)"
      ]
     },
     "execution_count": 39,
     "metadata": {},
     "output_type": "execute_result"
    }
   ],
   "source": [
    "# Write the code for your plot here\n",
    "# your code here\n",
    "fast_food=pd.read_csv(\"data/fast_food.csv\")\n",
    "stacked_bar_chart = alt.Chart(fast_food).mark_bar().encode(\n",
    "    y=alt.Y('count:Q', stack='normalize', title='Percentage of Restaurants'),\n",
    "    x=alt.X('st', title='State'),\n",
    "    color=alt.Color('name', title='Restaurant')\n",
    ").properties(\n",
    "    title='Percentage of Different Fast Food Restaurants in Each State',\n",
    "    width=500,\n",
    "    height=300\n",
    ")\n",
    "stacked_bar_chart"
   ]
  },
  {
   "cell_type": "markdown",
   "metadata": {
    "deletable": false,
    "nbgrader": {
     "cell_type": "markdown",
     "checksum": "d6053f5cf05ede8a5198e92232e1b92e",
     "grade": true,
     "grade_id": "cell-6ac8b7c5b2701b78",
     "locked": false,
     "points": 3,
     "schema_version": 3,
     "solution": true
    }
   },
   "source": [
    "*Write a paragraph explaining your visualization and why you chose it. Also explain your conclusion from the visualization and reasoning as to how you came to that conclusion. If you need to bring in outside information to help you answer your question, please feel free to do so. Finally, if there is some way that you could improve your visualization, but don't yet know how to do it, please explain what you would do if you knew how.*\n",
    "\n",
    "DOUBLE CLICK TO EDIT **THIS CELL** AND REPLACE THIS TEXT WITH YOUR ANSWER."
   ]
  }
 ],
 "metadata": {
  "kernelspec": {
   "display_name": "Python 3 (ipykernel)",
   "language": "python",
   "name": "python3"
  },
  "language_info": {
   "codemirror_mode": {
    "name": "ipython",
    "version": 3
   },
   "file_extension": ".py",
   "mimetype": "text/x-python",
   "name": "python",
   "nbconvert_exporter": "python",
   "pygments_lexer": "ipython3",
   "version": "3.11.9"
  }
 },
 "nbformat": 4,
 "nbformat_minor": 4
}
